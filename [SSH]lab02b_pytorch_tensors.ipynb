{
  "nbformat": 4,
  "nbformat_minor": 0,
  "metadata": {
    "colab": {
      "name": "[SSH]lab02b-pytorch-tensors.ipynb",
      "provenance": [],
      "collapsed_sections": [],
      "include_colab_link": true
    },
    "kernelspec": {
      "name": "python3",
      "display_name": "Python 3"
    },
    "language_info": {
      "name": "python"
    }
  },
  "cells": [
    {
      "cell_type": "markdown",
      "metadata": {
        "id": "view-in-github",
        "colab_type": "text"
      },
      "source": [
        "<a href=\"https://colab.research.google.com/github/SophieShin/DeepLearning/blob/main/%5BSSH%5Dlab02b_pytorch_tensors.ipynb\" target=\"_parent\"><img src=\"https://colab.research.google.com/assets/colab-badge.svg\" alt=\"Open In Colab\"/></a>"
      ]
    },
    {
      "cell_type": "markdown",
      "metadata": {
        "id": "FEH-hBlqcKa1"
      },
      "source": [
        "# Lab 2b – Tensors"
      ]
    },
    {
      "cell_type": "code",
      "metadata": {
        "id": "uWjkXtKltY_K"
      },
      "source": [
        "import torch"
      ],
      "execution_count": 1,
      "outputs": []
    },
    {
      "cell_type": "markdown",
      "metadata": {
        "id": "D3yBh-vOv3WH"
      },
      "source": [
        "## Create empty tensors\n",
        "- Uninitialised tensors"
      ]
    },
    {
      "cell_type": "code",
      "source": [
        "x = torch.empty(1)\n",
        "x"
      ],
      "metadata": {
        "colab": {
          "base_uri": "https://localhost:8080/"
        },
        "id": "JEVEwfvnPUDx",
        "outputId": "ed5abafd-e300-4273-b510-e2faebb4870e"
      },
      "execution_count": 2,
      "outputs": [
        {
          "output_type": "execute_result",
          "data": {
            "text/plain": [
              "tensor([14045.7500])"
            ]
          },
          "metadata": {},
          "execution_count": 2
        }
      ]
    },
    {
      "cell_type": "code",
      "source": [
        "x = torch.empty(2)\n",
        "print(x)\n",
        "print(f'1-D tensor{x}')"
      ],
      "metadata": {
        "colab": {
          "base_uri": "https://localhost:8080/"
        },
        "id": "QEfu9axkPY7D",
        "outputId": "d6389dd5-a409-451a-ef5e-657be9a4ee64"
      },
      "execution_count": 3,
      "outputs": [
        {
          "output_type": "stream",
          "name": "stdout",
          "text": [
            "tensor([1.4046e+04, 3.0742e-41])\n",
            "1-D tensortensor([1.4046e+04, 3.0742e-41])\n"
          ]
        }
      ]
    },
    {
      "cell_type": "code",
      "source": [
        "x = torch.empty(2)\n",
        "print(x)\n",
        "print(f\"\\n1-D tensor\\n{x}\\n\")"
      ],
      "metadata": {
        "colab": {
          "base_uri": "https://localhost:8080/"
        },
        "id": "O64SkmPvOqWW",
        "outputId": "587ab7a4-cc02-4c45-caeb-fdaf012af8a2"
      },
      "execution_count": 4,
      "outputs": [
        {
          "output_type": "stream",
          "name": "stdout",
          "text": [
            "tensor([1.4046e+04, 3.0742e-41])\n",
            "\n",
            "1-D tensor\n",
            "tensor([1.4046e+04, 3.0742e-41])\n",
            "\n"
          ]
        }
      ]
    },
    {
      "cell_type": "code",
      "source": [
        "x= torch.empty(2,3)\n",
        "print(x)\n",
        "\n",
        "print(f\"2-D tensor\\n{x}\\n\")"
      ],
      "metadata": {
        "colab": {
          "base_uri": "https://localhost:8080/"
        },
        "id": "-8jWOvAOOu5y",
        "outputId": "56b21334-81c8-4bf9-b5c9-0ab7340634fc"
      },
      "execution_count": 5,
      "outputs": [
        {
          "output_type": "stream",
          "name": "stdout",
          "text": [
            "tensor([[1.4046e+04, 3.0742e-41, 5.0447e-44],\n",
            "        [0.0000e+00,        nan, 0.0000e+00]])\n",
            "2-D tensor\n",
            "tensor([[1.4046e+04, 3.0742e-41, 5.0447e-44],\n",
            "        [0.0000e+00,        nan, 0.0000e+00]])\n",
            "\n"
          ]
        }
      ]
    },
    {
      "cell_type": "code",
      "source": [
        "x = torch.empty(2,3,1)\n",
        "print(x)"
      ],
      "metadata": {
        "colab": {
          "base_uri": "https://localhost:8080/"
        },
        "id": "V-VYscxTPFZj",
        "outputId": "94f8cf2b-1f66-431c-c04b-f09e1dbcece9"
      },
      "execution_count": 6,
      "outputs": [
        {
          "output_type": "stream",
          "name": "stdout",
          "text": [
            "tensor([[[1.4046e+04],\n",
            "         [3.0742e-41],\n",
            "         [5.0447e-44]],\n",
            "\n",
            "        [[0.0000e+00],\n",
            "         [       nan],\n",
            "         [0.0000e+00]]])\n"
          ]
        }
      ]
    },
    {
      "cell_type": "code",
      "metadata": {
        "id": "ERfCA-Fntg2w",
        "colab": {
          "base_uri": "https://localhost:8080/"
        },
        "outputId": "0f2ff7f4-bf50-406b-b37c-800de11db155"
      },
      "source": [
        "# 1-D\n",
        "x = torch.empty(1)\n",
        "print(x)\n",
        "\n",
        "# 1-D with two elements\n",
        "x = torch.empty(2)\n",
        "print(f\"\\n1-D tensor\\n{x}\\n\")\n",
        "\n",
        "# 2-D\n",
        "x = torch.empty(2,3)\n",
        "print(f\"2-D tensor\\n{x}\\n\")\n",
        "\n",
        "# 3-D\n",
        "x = torch.empty(2,3,1)\n",
        "print(\"3-D tensor\\n\",x)\n"
      ],
      "execution_count": 7,
      "outputs": [
        {
          "output_type": "stream",
          "name": "stdout",
          "text": [
            "tensor([14046.2500])\n",
            "\n",
            "1-D tensor\n",
            "tensor([1.4046e+04, 3.0742e-41])\n",
            "\n",
            "2-D tensor\n",
            "tensor([[1.4046e+04, 3.0742e-41, 5.0447e-44],\n",
            "        [0.0000e+00,        nan, 0.0000e+00]])\n",
            "\n",
            "3-D tensor\n",
            " tensor([[[1.4046e+04],\n",
            "         [3.0742e-41],\n",
            "         [5.0447e-44]],\n",
            "\n",
            "        [[0.0000e+00],\n",
            "         [       nan],\n",
            "         [0.0000e+00]]])\n"
          ]
        }
      ]
    },
    {
      "cell_type": "markdown",
      "metadata": {
        "id": "xO6cW7hlwAsO"
      },
      "source": [
        "## Initialise tensors to scalar, random values, zeros or ones"
      ]
    },
    {
      "cell_type": "code",
      "source": [
        "x = torch.tensor(3)\n",
        "# print(x)\n",
        "print(f'Scalar: {x} has shape {x.shape} and {x.ndim} dimensions\\n')\n",
        "\n",
        "# scalar인 경우에는  []를 쓰지 않는다\n",
        "# torch.Size([])로 표현된다(0차원이라는 뜻)"
      ],
      "metadata": {
        "colab": {
          "base_uri": "https://localhost:8080/"
        },
        "id": "lRiYQvdIPx-W",
        "outputId": "4e67ea0c-79ab-4e8f-c34e-66375b478db4"
      },
      "execution_count": 8,
      "outputs": [
        {
          "output_type": "stream",
          "name": "stdout",
          "text": [
            "Scalar: 3 has shape torch.Size([]) and 0 dimensions\n",
            "\n"
          ]
        }
      ]
    },
    {
      "cell_type": "code",
      "source": [
        "x = torch.rand(2,3)\n",
        "print(f\"Random values:\\n{x}\")\n",
        "print(x.dtype)\n",
        "print(x.shape)"
      ],
      "metadata": {
        "colab": {
          "base_uri": "https://localhost:8080/"
        },
        "id": "VA6NDVbFQFFV",
        "outputId": "4faa8939-24e2-459d-ef6a-6de1b412100b"
      },
      "execution_count": 9,
      "outputs": [
        {
          "output_type": "stream",
          "name": "stdout",
          "text": [
            "Random values:\n",
            "tensor([[0.5887, 0.9449, 0.4531],\n",
            "        [0.3582, 0.6151, 0.5076]])\n",
            "torch.float32\n",
            "torch.Size([2, 3])\n"
          ]
        }
      ]
    },
    {
      "cell_type": "code",
      "source": [
        "x = torch.zeros(2,3)\n",
        "print(f\"\\nZeros:\\n{x}\")\n",
        "print(x.dtype)"
      ],
      "metadata": {
        "colab": {
          "base_uri": "https://localhost:8080/"
        },
        "id": "EPUExaRpQaVu",
        "outputId": "6eff5cf2-4d1e-43a1-f756-c27ccdfceef6"
      },
      "execution_count": 10,
      "outputs": [
        {
          "output_type": "stream",
          "name": "stdout",
          "text": [
            "\n",
            "Zeros:\n",
            "tensor([[0., 0., 0.],\n",
            "        [0., 0., 0.]])\n",
            "torch.float32\n"
          ]
        }
      ]
    },
    {
      "cell_type": "code",
      "source": [
        "x = torch.zeros(2,3, dtype=torch.int)\n",
        "print(f\"\\nZeros:\\n{x}\\n\")\n"
      ],
      "metadata": {
        "colab": {
          "base_uri": "https://localhost:8080/"
        },
        "id": "hvv4EM23QgyJ",
        "outputId": "f43d686d-6039-4b1b-de69-e52bdfee3a96"
      },
      "execution_count": 12,
      "outputs": [
        {
          "output_type": "stream",
          "name": "stdout",
          "text": [
            "\n",
            "Zeros:\n",
            "tensor([[0, 0, 0],\n",
            "        [0, 0, 0]], dtype=torch.int32)\n",
            "\n",
            "tensor([[0, 0, 0],\n",
            "        [0, 0, 0]], dtype=torch.int32)\n"
          ]
        }
      ]
    },
    {
      "cell_type": "code",
      "source": [
        "x = torch.ones(2,3)\n",
        "print(f\"Ones:\\n{x}\")\n",
        "print(f\"Type: {x.dtype}\\n\")\n",
        "print(x)"
      ],
      "metadata": {
        "colab": {
          "base_uri": "https://localhost:8080/"
        },
        "id": "4OzG7zxeQmou",
        "outputId": "10ed90a7-69c3-41ae-d871-a5af4db7f88e"
      },
      "execution_count": 13,
      "outputs": [
        {
          "output_type": "stream",
          "name": "stdout",
          "text": [
            "Ones:\n",
            "tensor([[1., 1., 1.],\n",
            "        [1., 1., 1.]])\n",
            "Type: torch.float32\n",
            "\n",
            "tensor([[1., 1., 1.],\n",
            "        [1., 1., 1.]])\n"
          ]
        }
      ]
    },
    {
      "cell_type": "code",
      "source": [
        "x = torch.ones(2,3, dtype=torch.double) #torch.double은 float64를 의미. 기본은 float32\n",
        "print(f\"Ones:\\n{x}\")"
      ],
      "metadata": {
        "colab": {
          "base_uri": "https://localhost:8080/"
        },
        "id": "I_qxFB6kQp3L",
        "outputId": "391997ee-a2ce-4e15-e675-63abe526d710"
      },
      "execution_count": 14,
      "outputs": [
        {
          "output_type": "stream",
          "name": "stdout",
          "text": [
            "Ones:\n",
            "tensor([[1., 1., 1.],\n",
            "        [1., 1., 1.]], dtype=torch.float64)\n"
          ]
        }
      ]
    },
    {
      "cell_type": "code",
      "source": [
        "x = torch.tensor(3)\n",
        "# print(x)\n",
        "print(f'Scalar: {x} has shape {x.shape} and {x.ndim} dimensions\\n')"
      ],
      "metadata": {
        "colab": {
          "base_uri": "https://localhost:8080/"
        },
        "id": "0fKzH_mLSnnH",
        "outputId": "ee32fa8c-d921-4189-838f-712c362bff50"
      },
      "execution_count": 15,
      "outputs": [
        {
          "output_type": "stream",
          "name": "stdout",
          "text": [
            "Scalar: 3 has shape torch.Size([]) and 0 dimensions\n",
            "\n"
          ]
        }
      ]
    },
    {
      "cell_type": "code",
      "metadata": {
        "id": "3nyX0btVwD6J",
        "colab": {
          "base_uri": "https://localhost:8080/"
        },
        "outputId": "f08f08f3-6a30-4405-91cf-a3e4b2c56925"
      },
      "source": [
        "# 0-D tensor (just containing scalar value 3)\n",
        "x = torch.tensor(3)\n",
        "# print(x)\n",
        "print(f'Scalar: {x} has shape {x.shape} and {x.ndim} dimensions\\n')\n",
        "\n",
        "# Random values in the interval [0,1]\n",
        "x = torch.rand(2,3)\n",
        "print(f\"Random values:\\n{x}\")\n",
        "print(x.dtype)\n",
        "\n",
        "# Zeros\n",
        "x = torch.zeros(2,3)\n",
        "print(f\"\\nZeros:\\n{x}\")\n",
        "print(x.dtype)\n",
        "\n",
        "x = torch.zeros(2,3, dtype=torch.int)\n",
        "print(f\"\\nZeros:\\n{x}\\n\")\n",
        "\n",
        "# Ones\n",
        "x = torch.ones(2,3)\n",
        "print(f\"Ones:\\n{x}\")\n",
        "print(f\"Type: {x.dtype}\\n\")\n",
        "\n",
        "x = torch.ones(2,3, dtype=torch.double)\n",
        "print(f\"Ones:\\n{x}\")"
      ],
      "execution_count": null,
      "outputs": [
        {
          "output_type": "stream",
          "name": "stdout",
          "text": [
            "Scalar: 3 has shape torch.Size([]) and 0 dimensions\n",
            "\n",
            "Random values:\n",
            "tensor([[0.2386, 0.1133, 0.4724],\n",
            "        [0.7101, 0.8022, 0.0432]])\n",
            "torch.float32\n",
            "\n",
            "Zeros:\n",
            "tensor([[0., 0., 0.],\n",
            "        [0., 0., 0.]])\n",
            "torch.float32\n",
            "\n",
            "Zeros:\n",
            "tensor([[0, 0, 0],\n",
            "        [0, 0, 0]], dtype=torch.int32)\n",
            "\n",
            "Ones:\n",
            "tensor([[1., 1., 1.],\n",
            "        [1., 1., 1.]])\n",
            "Type: torch.float32\n",
            "\n",
            "Ones:\n",
            "tensor([[1., 1., 1.],\n",
            "        [1., 1., 1.]], dtype=torch.float64)\n"
          ]
        }
      ]
    },
    {
      "cell_type": "markdown",
      "metadata": {
        "id": "BEAEHoY1xAzC"
      },
      "source": [
        "## Construct tensor from data"
      ]
    },
    {
      "cell_type": "code",
      "metadata": {
        "id": "6Vd7iHsaxFh0",
        "colab": {
          "base_uri": "https://localhost:8080/"
        },
        "outputId": "59cbf3f5-d8c3-4182-8cc2-4941aefa59ed"
      },
      "source": [
        "# Change a list to a tensor\n",
        "x = torch.tensor([0.5, 2.7])\n",
        "print(x)\n",
        "print(x.dtype)"
      ],
      "execution_count": 16,
      "outputs": [
        {
          "output_type": "stream",
          "name": "stdout",
          "text": [
            "tensor([0.5000, 2.7000])\n",
            "torch.float32\n"
          ]
        }
      ]
    },
    {
      "cell_type": "markdown",
      "metadata": {
        "id": "SwIelnjsiTus"
      },
      "source": [
        "### Changing tensor data type\n"
      ]
    },
    {
      "cell_type": "code",
      "source": [
        "x = torch.rand(2,3)\n",
        "x"
      ],
      "metadata": {
        "colab": {
          "base_uri": "https://localhost:8080/"
        },
        "id": "irKlMpkNROhe",
        "outputId": "8405b366-a41d-4640-f51e-f9f0bec0d57f"
      },
      "execution_count": 17,
      "outputs": [
        {
          "output_type": "execute_result",
          "data": {
            "text/plain": [
              "tensor([[0.7670, 0.1996, 0.5613],\n",
              "        [0.5686, 0.6774, 0.7897]])"
            ]
          },
          "metadata": {},
          "execution_count": 17
        }
      ]
    },
    {
      "cell_type": "code",
      "source": [
        "x*20"
      ],
      "metadata": {
        "colab": {
          "base_uri": "https://localhost:8080/"
        },
        "id": "mygBqFDnRR5c",
        "outputId": "7042248f-dfcc-495c-81b6-267ea8cc9a58"
      },
      "execution_count": 18,
      "outputs": [
        {
          "output_type": "execute_result",
          "data": {
            "text/plain": [
              "tensor([[15.3401,  3.9923, 11.2259],\n",
              "        [11.3716, 13.5487, 15.7936]])"
            ]
          },
          "metadata": {},
          "execution_count": 18
        }
      ]
    },
    {
      "cell_type": "code",
      "source": [
        "y = x.to(torch.int32) # 간단하게 x.to(바꿀타입)으로 하면 됨\n",
        "print(y)"
      ],
      "metadata": {
        "colab": {
          "base_uri": "https://localhost:8080/"
        },
        "id": "nZX0J9q9RUTc",
        "outputId": "63a3d196-cb7e-4859-ed9d-f19b4f5ad855"
      },
      "execution_count": 19,
      "outputs": [
        {
          "output_type": "stream",
          "name": "stdout",
          "text": [
            "tensor([[0, 0, 0],\n",
            "        [0, 0, 0]], dtype=torch.int32)\n"
          ]
        }
      ]
    },
    {
      "cell_type": "code",
      "metadata": {
        "id": "JZxbB4-XiXCp",
        "colab": {
          "base_uri": "https://localhost:8080/"
        },
        "outputId": "d7325b11-f0ec-4084-ce8f-f2812f076483"
      },
      "source": [
        "x = torch.rand(2,3) * 20\n",
        "print(x)\n",
        "\n",
        "# Change to integer\n",
        "y = x.to(torch.int32)\n",
        "print(y)"
      ],
      "execution_count": 20,
      "outputs": [
        {
          "output_type": "stream",
          "name": "stdout",
          "text": [
            "tensor([[10.3654,  3.7738, 13.4046],\n",
            "        [18.9772, 19.9274, 18.3959]])\n",
            "tensor([[10,  3, 13],\n",
            "        [18, 19, 18]], dtype=torch.int32)\n"
          ]
        }
      ]
    },
    {
      "cell_type": "markdown",
      "metadata": {
        "id": "eWuSDswYm3wo"
      },
      "source": [
        "### Create a separate copy\n",
        "\n"
      ]
    },
    {
      "cell_type": "code",
      "source": [
        "a = torch.ones(2,2)\n",
        "a"
      ],
      "metadata": {
        "colab": {
          "base_uri": "https://localhost:8080/"
        },
        "id": "njLfZptuRlJS",
        "outputId": "da684142-cb41-47fe-aff6-34fbc94f2f51"
      },
      "execution_count": 21,
      "outputs": [
        {
          "output_type": "execute_result",
          "data": {
            "text/plain": [
              "tensor([[1., 1.],\n",
              "        [1., 1.]])"
            ]
          },
          "metadata": {},
          "execution_count": 21
        }
      ]
    },
    {
      "cell_type": "code",
      "source": [
        "b = a.clone() # numpy의 copy랑 비슷!\n",
        "b"
      ],
      "metadata": {
        "colab": {
          "base_uri": "https://localhost:8080/"
        },
        "id": "EIHrM2OzRoL3",
        "outputId": "b1058bc9-fb95-4030-ef56-22972ce6b4aa"
      },
      "execution_count": 22,
      "outputs": [
        {
          "output_type": "execute_result",
          "data": {
            "text/plain": [
              "tensor([[1., 1.],\n",
              "        [1., 1.]])"
            ]
          },
          "metadata": {},
          "execution_count": 22
        }
      ]
    },
    {
      "cell_type": "code",
      "source": [
        "c= a.copy() # copy function은 안되고 clone으로 해야됨\n",
        "c"
      ],
      "metadata": {
        "colab": {
          "base_uri": "https://localhost:8080/",
          "height": 190
        },
        "id": "x-wvwncfSK8I",
        "outputId": "d0cca32f-3bcc-45cd-e442-4b84503f41f5"
      },
      "execution_count": 23,
      "outputs": [
        {
          "output_type": "error",
          "ename": "AttributeError",
          "evalue": "ignored",
          "traceback": [
            "\u001b[0;31m---------------------------------------------------------------------------\u001b[0m",
            "\u001b[0;31mAttributeError\u001b[0m                            Traceback (most recent call last)",
            "\u001b[0;32m<ipython-input-23-8319af8d55c4>\u001b[0m in \u001b[0;36m<module>\u001b[0;34m()\u001b[0m\n\u001b[0;32m----> 1\u001b[0;31m \u001b[0mc\u001b[0m\u001b[0;34m=\u001b[0m \u001b[0ma\u001b[0m\u001b[0;34m.\u001b[0m\u001b[0mcopy\u001b[0m\u001b[0;34m(\u001b[0m\u001b[0;34m)\u001b[0m\u001b[0;34m\u001b[0m\u001b[0;34m\u001b[0m\u001b[0m\n\u001b[0m\u001b[1;32m      2\u001b[0m \u001b[0mc\u001b[0m\u001b[0;34m\u001b[0m\u001b[0;34m\u001b[0m\u001b[0m\n",
            "\u001b[0;31mAttributeError\u001b[0m: 'Tensor' object has no attribute 'copy'"
          ]
        }
      ]
    },
    {
      "cell_type": "code",
      "source": [
        "a[0][1] = 561\n",
        "print(a)\n",
        "print(b) # b는 a를 가리키고 있는게 아니고 별개의 copy/clone을 만든 것이므로 a를 변경해도 b는 영향을 받지 않는다."
      ],
      "metadata": {
        "colab": {
          "base_uri": "https://localhost:8080/"
        },
        "id": "DKvh7EZlRrHP",
        "outputId": "ee451a80-0510-42d3-ce10-bc50c1a1dd8f"
      },
      "execution_count": 25,
      "outputs": [
        {
          "output_type": "stream",
          "name": "stdout",
          "text": [
            "tensor([[  1., 561.],\n",
            "        [  1.,   1.]])\n",
            "tensor([[1., 1.],\n",
            "        [1., 1.]])\n"
          ]
        }
      ]
    },
    {
      "cell_type": "code",
      "metadata": {
        "id": "g76w-tQSm62P",
        "colab": {
          "base_uri": "https://localhost:8080/"
        },
        "outputId": "8ef0fc6a-7381-481f-c504-e1cb3bcca47b"
      },
      "source": [
        "a = torch.ones(2, 2)\n",
        "b = a.clone()\n",
        "\n",
        "a[0][1] = 561          # a changes...\n",
        "print(b)               # ...but b is still all ones"
      ],
      "execution_count": 26,
      "outputs": [
        {
          "output_type": "stream",
          "name": "stdout",
          "text": [
            "tensor([[1., 1.],\n",
            "        [1., 1.]])\n"
          ]
        }
      ]
    },
    {
      "cell_type": "markdown",
      "metadata": {
        "id": "gPoj6eMq0Mgg"
      },
      "source": [
        "## Basic tensor operations\n",
        "\n",
        "- addition, subtraction, multiplication, division"
      ]
    },
    {
      "cell_type": "code",
      "metadata": {
        "id": "hJ6zOX9k0Ouw",
        "colab": {
          "base_uri": "https://localhost:8080/"
        },
        "outputId": "71f88c06-4e3c-41e4-a61f-b664c1cc335b"
      },
      "source": [
        "x = torch.rand(2,2)\n",
        "print(f\"x = \\n{x}\\n\")\n",
        "\n",
        "y = torch.rand(2,2)\n",
        "print(f\"y = \\n{y}\\n\")\n",
        "\n",
        "z = torch.add(x,y) # same as z = x + y\n",
        "print(\"x + y = \")\n",
        "print(z)\n",
        "\n",
        "z = torch.sub(x,y) # same as z = x - y\n",
        "print(\"x - y = \")\n",
        "print(z)\n",
        "\n",
        "z = torch.mul(x,y) # same as z = x * y\n",
        "print(\"x * y = \")\n",
        "print(z)\n",
        "\n",
        "z = torch.div(x,y) # same as z = x / y\n",
        "print(\"x / y = \")\n",
        "print(z)\n"
      ],
      "execution_count": 27,
      "outputs": [
        {
          "output_type": "stream",
          "name": "stdout",
          "text": [
            "x = \n",
            "tensor([[0.9592, 0.7378],\n",
            "        [0.8525, 0.3566]])\n",
            "\n",
            "y = \n",
            "tensor([[0.6207, 0.5823],\n",
            "        [0.5331, 0.4858]])\n",
            "\n",
            "x + y = \n",
            "tensor([[1.5799, 1.3201],\n",
            "        [1.3855, 0.8424]])\n",
            "x - y = \n",
            "tensor([[ 0.3385,  0.1556],\n",
            "        [ 0.3194, -0.1292]])\n",
            "x * y = \n",
            "tensor([[0.5953, 0.4296],\n",
            "        [0.4544, 0.1732]])\n",
            "x / y = \n",
            "tensor([[1.5454, 1.2672],\n",
            "        [1.5992, 0.7341]])\n"
          ]
        }
      ]
    },
    {
      "cell_type": "markdown",
      "metadata": {
        "id": "Yt2iZ5Wr4qTk"
      },
      "source": [
        "### Inplace operations\n",
        "\n",
        "- any function with a trailing underscore (e.g. ``add_``) will modify the value of the variable in question, in place"
      ]
    },
    {
      "cell_type": "code",
      "metadata": {
        "id": "1xvGeIBw4wM5",
        "colab": {
          "base_uri": "https://localhost:8080/"
        },
        "outputId": "156292e4-738c-4d1a-c295-1c45b1f1ab19"
      },
      "source": [
        "# 이렇게 하면 위의 결과와 달리 y 값이 바뀐다는것!!\n",
        "\n",
        "x = torch.rand(2,2)\n",
        "print(f\"x = \\n{x}\\n\")\n",
        "\n",
        "y = torch.rand(2,2)\n",
        "print(f\"y = \\n{y}\\n\")\n",
        "\n",
        "# Inplace operations\n",
        "y.add_(x) # modify y by adding x to it\n",
        "print(f\"y + x = {y}\")\n",
        "\n",
        "y.sub_(x) # modify y by subtracting x from it\n",
        "print(f\"y - x = {y}\")\n",
        "\n",
        "y.mul_(x) # modify y by multiplying x to it\n",
        "print(f\"y * x = {y}\")\n",
        "\n",
        "y.div_(x) # modify y by dividing it by x\n",
        "print(f\"y / x = {y}\")\n"
      ],
      "execution_count": 28,
      "outputs": [
        {
          "output_type": "stream",
          "name": "stdout",
          "text": [
            "x = \n",
            "tensor([[0.8344, 0.9839],\n",
            "        [0.8017, 0.0533]])\n",
            "\n",
            "y = \n",
            "tensor([[0.7538, 0.7146],\n",
            "        [0.5836, 0.9747]])\n",
            "\n",
            "y + x = tensor([[1.5882, 1.6985],\n",
            "        [1.3854, 1.0280]])\n",
            "y - x = tensor([[0.7538, 0.7146],\n",
            "        [0.5836, 0.9747]])\n",
            "y * x = tensor([[0.6289, 0.7031],\n",
            "        [0.4679, 0.0520]])\n",
            "y / x = tensor([[0.7538, 0.7146],\n",
            "        [0.5836, 0.9747]])\n"
          ]
        }
      ]
    },
    {
      "cell_type": "markdown",
      "metadata": {
        "id": "51KxaSwqO5Xf"
      },
      "source": [
        "## Accessing tensors"
      ]
    },
    {
      "cell_type": "code",
      "metadata": {
        "id": "pIN1M0FxPB6m",
        "colab": {
          "base_uri": "https://localhost:8080/"
        },
        "outputId": "4f15eefd-acc5-48ef-e903-1ee58fa82bab"
      },
      "source": [
        "# Slicing\n",
        "x = torch.rand(5,3)\n",
        "print(x)\n",
        "\n",
        "# Get all rows but only first column\n",
        "print(x[:, 0])\n",
        "\n",
        "# Get all columns but only the second row\n",
        "print(x[1, :])\n",
        "\n",
        "# Get a specific element\n",
        "print(x[2,2])\n",
        "\n",
        "# When the tensor returns only ONE element, use item() to get the actual value of that element\n",
        "# 이 경우에는 tensor로 표현이 안됨\n",
        "# data type이 어떻게 달라지는건지?\n",
        "print(x[2,2].item())\n",
        "\n",
        "\n",
        "y = torch.tensor([2.0])\n",
        "print(y.item())"
      ],
      "execution_count": null,
      "outputs": [
        {
          "output_type": "stream",
          "name": "stdout",
          "text": [
            "tensor([[0.4472, 0.5956, 0.1357],\n",
            "        [0.7330, 0.3692, 0.4429],\n",
            "        [0.5104, 0.5344, 0.9710],\n",
            "        [0.8358, 0.2809, 0.1880],\n",
            "        [0.8678, 0.5615, 0.5915]])\n",
            "tensor([0.4472, 0.7330, 0.5104, 0.8358, 0.8678])\n",
            "tensor([0.7330, 0.3692, 0.4429])\n",
            "tensor(0.9710)\n",
            "0.9710344076156616\n",
            "2.0\n"
          ]
        }
      ]
    },
    {
      "cell_type": "markdown",
      "metadata": {
        "id": "oRirOVqNYodz"
      },
      "source": [
        "## Tensor Shape & Dimensions\n",
        "- The number of dimensions a tensor has is called its rank and the length in each dimension describes its ``shape``.\n",
        "- To determine the length of each dimension, call ``.shape``\n",
        "- To determine the number of dimensions it has, call ``.ndim``\n"
      ]
    },
    {
      "cell_type": "code",
      "metadata": {
        "id": "OsWYSWvkY19a",
        "colab": {
          "base_uri": "https://localhost:8080/"
        },
        "outputId": "2c310a10-c49f-437f-ae8d-c66746fa80dd"
      },
      "source": [
        "x = torch.rand(5,3)\n",
        "print(f'{x} \\nhas shape {x.shape} and {x.ndim} dimensions\\n')"
      ],
      "execution_count": 36,
      "outputs": [
        {
          "output_type": "stream",
          "name": "stdout",
          "text": [
            "tensor([[0.9087, 0.6912, 0.0228],\n",
            "        [0.9275, 0.7184, 0.4499],\n",
            "        [0.4989, 0.0556, 0.2944],\n",
            "        [0.6629, 0.6873, 0.2757],\n",
            "        [0.9535, 0.5490, 0.8192]]) \n",
            "has shape torch.Size([5, 3]) and 2 dimensions\n",
            "\n"
          ]
        }
      ]
    },
    {
      "cell_type": "markdown",
      "metadata": {
        "id": "B2q-gFywUWUh"
      },
      "source": [
        "## More on Shapes\n",
        "\n",
        "- `[1,5,2,6]` has shape (4,) to indicate it has 4 elements and the missing element after the comma means it is a 1-D tensor or array (vector)\n",
        "- `[[1,5,2,6], [1,2,3,1]]` has shape (2,4) to indicate it has 2 elements (rows) and each of these have 4 elements (columns). This is a 2-D tensor or array (matrix or a list of vectors)\n",
        "- `[[[1,5,2,6], [1,2,3,1]], [[5,2,1,2], [6,4,3,2]], [[7,8,5,3], [2,2,9,6]]]` has shape (3, 2, 4) to indicate it has 3 elements in the first dimension, and each of these contain 2 elements and each of these contain 4 elements. This is a 3-D tensor or array\n"
      ]
    },
    {
      "cell_type": "markdown",
      "metadata": {
        "id": "pw4hm1KndIrY"
      },
      "source": [
        "## Operations on tensor dimensions\n",
        "- A tensor dimension is akin to an array's axis. The number of dimensions is called rank.\n",
        "- A scalar has rank 0, a vector has rank 1, a matrix has rank 2, a cuboid has rank 3, etc.\n",
        "- Sometimes one wants to do an operation only on a particular dimension, e.g. on the rows only\n",
        "- Across ``dim=X`` means we do the operation w.r.t to the dimension given and the rest of the dimensions of the tensor stays as they are\n",
        "- in 2-D tensors, ``dim=0`` refers to the columns while ``dim=1`` refers to the rows\n"
      ]
    },
    {
      "cell_type": "code",
      "metadata": {
        "id": "zPATRKKYFWqm",
        "colab": {
          "base_uri": "https://localhost:8080/"
        },
        "outputId": "971f1b90-884e-4729-b931-e9dbad5d5269"
      },
      "source": [
        "x = torch.tensor([[1,2,3],\n",
        "                 [4,5,6]])\n",
        "\n",
        "print(x.shape)\n",
        "print(f'Summing across dim=0 (columns) gives: {torch.sum(x,dim=0)}')\n",
        "# column-wise\n",
        "\n",
        "print(f'Summing across dim=1 (rows) gives: {torch.sum(x,dim=1)}')\n",
        "# row-wise\n"
      ],
      "execution_count": 37,
      "outputs": [
        {
          "output_type": "stream",
          "name": "stdout",
          "text": [
            "torch.Size([2, 3])\n",
            "Summing across dim=0 (columns) gives: tensor([5, 7, 9])\n",
            "Summing across dim=1 (rows) gives: tensor([ 6, 15])\n"
          ]
        }
      ]
    },
    {
      "cell_type": "markdown",
      "metadata": {
        "id": "JVqsBwKrTYiC"
      },
      "source": [
        "## Reshaping tensors\n",
        "- There are several ways to do this but using ``torch.reshape()`` is the most common\n",
        "- Also look up ``torch.squeeze(), torch.unsqueeze()`` and ``torch.view()``\n",
        "- the number of elements should be same\n"
      ]
    },
    {
      "cell_type": "code",
      "source": [
        "x = torch.rand(4,4)\n",
        "print(\"Original:\")\n",
        "print(x)\n",
        "print(x.shape)"
      ],
      "metadata": {
        "colab": {
          "base_uri": "https://localhost:8080/"
        },
        "id": "r_Rhe3CwTuj-",
        "outputId": "373174fe-7679-4e7f-c90b-0978c50e6147"
      },
      "execution_count": 39,
      "outputs": [
        {
          "output_type": "stream",
          "name": "stdout",
          "text": [
            "Original:\n",
            "tensor([[0.3215, 0.6616, 0.8614, 0.7058],\n",
            "        [0.7694, 0.6489, 0.2028, 0.9677],\n",
            "        [0.4560, 0.9048, 0.7932, 0.8094],\n",
            "        [0.9760, 0.0124, 0.5274, 0.1713]])\n",
            "torch.Size([4, 4])\n"
          ]
        }
      ]
    },
    {
      "cell_type": "code",
      "source": [
        "# Reshape (flatten) to 1-D(implicitly mean)\n",
        "y = x.reshape(16) # number of elements must be the same as original, error otherwise\n",
        "print(\"Reshaped to 1-D:\")\n",
        "print(y)"
      ],
      "metadata": {
        "colab": {
          "base_uri": "https://localhost:8080/"
        },
        "id": "mMfZe4BOTxOP",
        "outputId": "3a1cd778-7f17-48f9-9e16-58705f902c9a"
      },
      "execution_count": 40,
      "outputs": [
        {
          "output_type": "stream",
          "name": "stdout",
          "text": [
            "Reshaped to 1-D:\n",
            "tensor([0.3215, 0.6616, 0.8614, 0.7058, 0.7694, 0.6489, 0.2028, 0.9677, 0.4560,\n",
            "        0.9048, 0.7932, 0.8094, 0.9760, 0.0124, 0.5274, 0.1713])\n"
          ]
        }
      ]
    },
    {
      "cell_type": "code",
      "source": [
        "# Reshape to 2-D # 순서는 첫째 row 읽고, 둘째 row 읽고 이런 식으로\n",
        "y = x.reshape(8,2)\n",
        "print(\"Reshaped to 2-D:\")\n",
        "print(y)"
      ],
      "metadata": {
        "colab": {
          "base_uri": "https://localhost:8080/"
        },
        "id": "oQyod7QlT1F2",
        "outputId": "8c89fba9-57db-4db8-fa79-66beb3dc1376"
      },
      "execution_count": 42,
      "outputs": [
        {
          "output_type": "stream",
          "name": "stdout",
          "text": [
            "Reshaped to 2-D:\n",
            "tensor([[0.3215, 0.6616],\n",
            "        [0.8614, 0.7058],\n",
            "        [0.7694, 0.6489],\n",
            "        [0.2028, 0.9677],\n",
            "        [0.4560, 0.9048],\n",
            "        [0.7932, 0.8094],\n",
            "        [0.9760, 0.0124],\n",
            "        [0.5274, 0.1713]])\n"
          ]
        }
      ]
    },
    {
      "cell_type": "code",
      "source": [
        "y = x.reshape(8, -1)\n",
        "print(y)"
      ],
      "metadata": {
        "colab": {
          "base_uri": "https://localhost:8080/"
        },
        "id": "CmbpJg4WU1wD",
        "outputId": "8d36dbe7-6060-49d5-9305-4859e2a12b09"
      },
      "execution_count": 43,
      "outputs": [
        {
          "output_type": "stream",
          "name": "stdout",
          "text": [
            "tensor([[0.3215, 0.6616],\n",
            "        [0.8614, 0.7058],\n",
            "        [0.7694, 0.6489],\n",
            "        [0.2028, 0.9677],\n",
            "        [0.4560, 0.9048],\n",
            "        [0.7932, 0.8094],\n",
            "        [0.9760, 0.0124],\n",
            "        [0.5274, 0.1713]])\n"
          ]
        }
      ]
    },
    {
      "cell_type": "code",
      "source": [
        "y = x.reshape(2, -1)\n",
        "print(\"Reshaped to 2 x Unspecified 2-D:\")\n",
        "print(y)\n",
        "print(y.shape)"
      ],
      "metadata": {
        "colab": {
          "base_uri": "https://localhost:8080/"
        },
        "id": "s2FMapQET6LI",
        "outputId": "6a4146b6-bf64-4cdd-ea39-167b3038e4a5"
      },
      "execution_count": 44,
      "outputs": [
        {
          "output_type": "stream",
          "name": "stdout",
          "text": [
            "Reshaped to 2 x Unspecified 2-D:\n",
            "tensor([[0.3215, 0.6616, 0.8614, 0.7058, 0.7694, 0.6489, 0.2028, 0.9677],\n",
            "        [0.4560, 0.9048, 0.7932, 0.8094, 0.9760, 0.0124, 0.5274, 0.1713]])\n",
            "torch.Size([2, 8])\n"
          ]
        }
      ]
    },
    {
      "cell_type": "markdown",
      "source": [
        "## squeeze, unsqueeze 다시 해보기\n",
        "- squeeze() :  괄호 안에 안써도 됨, 1인 차원을 없애줌\n",
        "- unsqueeze() : 괄호 안의 parameter는 어떤 dimension인지 나타냄. 그 위치에 1차원을 추가하는 것"
      ],
      "metadata": {
        "id": "h_fl4or9UMDo"
      }
    },
    {
      "cell_type": "code",
      "source": [
        "print(x)\n",
        "print(x.shape)"
      ],
      "metadata": {
        "colab": {
          "base_uri": "https://localhost:8080/"
        },
        "id": "RX8gwJ1WXxk5",
        "outputId": "d5bda2ac-2f39-46b8-8fa5-6d83069f25ff"
      },
      "execution_count": 47,
      "outputs": [
        {
          "output_type": "stream",
          "name": "stdout",
          "text": [
            "tensor([[0.3215, 0.6616, 0.8614, 0.7058],\n",
            "        [0.7694, 0.6489, 0.2028, 0.9677],\n",
            "        [0.4560, 0.9048, 0.7932, 0.8094],\n",
            "        [0.9760, 0.0124, 0.5274, 0.1713]])\n",
            "torch.Size([4, 4])\n"
          ]
        }
      ]
    },
    {
      "cell_type": "code",
      "source": [
        "# \n",
        "y = x.unsqueeze(1)\n",
        "print(y)\n",
        "print(y.shape)\n",
        "print(f'Using unsqueeze(0) to add dimension from original shape {x.shape} to {y.shape}')\n"
      ],
      "metadata": {
        "colab": {
          "base_uri": "https://localhost:8080/"
        },
        "id": "LiUnAVzJUAJp",
        "outputId": "ae96e537-19b5-45e4-a9ae-9664c1132777"
      },
      "execution_count": 49,
      "outputs": [
        {
          "output_type": "stream",
          "name": "stdout",
          "text": [
            "tensor([[[0.3215, 0.6616, 0.8614, 0.7058]],\n",
            "\n",
            "        [[0.7694, 0.6489, 0.2028, 0.9677]],\n",
            "\n",
            "        [[0.4560, 0.9048, 0.7932, 0.8094]],\n",
            "\n",
            "        [[0.9760, 0.0124, 0.5274, 0.1713]]])\n",
            "torch.Size([4, 1, 4])\n",
            "Using unsqueeze(0) to add dimension from original shape torch.Size([4, 4]) to torch.Size([4, 1, 4])\n"
          ]
        }
      ]
    },
    {
      "cell_type": "code",
      "source": [
        "y = x.unsqueeze(0)\n",
        "print(y)\n",
        "print(y.shape)\n"
      ],
      "metadata": {
        "colab": {
          "base_uri": "https://localhost:8080/"
        },
        "id": "XNTcDYBEXrsN",
        "outputId": "cec7a188-21c3-40c1-b593-4d18a9029ffb"
      },
      "execution_count": 52,
      "outputs": [
        {
          "output_type": "stream",
          "name": "stdout",
          "text": [
            "tensor([[[0.3215, 0.6616, 0.8614, 0.7058],\n",
            "         [0.7694, 0.6489, 0.2028, 0.9677],\n",
            "         [0.4560, 0.9048, 0.7932, 0.8094],\n",
            "         [0.9760, 0.0124, 0.5274, 0.1713]]])\n",
            "torch.Size([1, 4, 4])\n"
          ]
        }
      ]
    },
    {
      "cell_type": "code",
      "source": [
        "z = torch.squeeze(x)\n",
        "print(x.shape)\n",
        "print(z.shape)"
      ],
      "metadata": {
        "colab": {
          "base_uri": "https://localhost:8080/"
        },
        "id": "avwHtitzVYRB",
        "outputId": "090c16f9-2000-4445-f975-8442c94d9f7a"
      },
      "execution_count": 56,
      "outputs": [
        {
          "output_type": "stream",
          "name": "stdout",
          "text": [
            "torch.Size([4, 4])\n",
            "torch.Size([4, 4])\n"
          ]
        }
      ]
    },
    {
      "cell_type": "code",
      "source": [
        "x = torch.rand(4,3,1)\n",
        "x"
      ],
      "metadata": {
        "colab": {
          "base_uri": "https://localhost:8080/"
        },
        "id": "zbVLO8F1ki_5",
        "outputId": "263a4ef4-8094-4843-dc83-02e25caff0b3"
      },
      "execution_count": 57,
      "outputs": [
        {
          "output_type": "execute_result",
          "data": {
            "text/plain": [
              "tensor([[[2.7583e-01],\n",
              "         [8.6277e-02],\n",
              "         [1.7219e-01]],\n",
              "\n",
              "        [[2.9095e-01],\n",
              "         [4.4447e-01],\n",
              "         [6.5969e-01]],\n",
              "\n",
              "        [[5.1042e-01],\n",
              "         [7.8735e-01],\n",
              "         [1.0641e-01]],\n",
              "\n",
              "        [[5.3445e-01],\n",
              "         [7.3940e-04],\n",
              "         [3.1674e-01]]])"
            ]
          },
          "metadata": {},
          "execution_count": 57
        }
      ]
    },
    {
      "cell_type": "code",
      "source": [
        "z = x.squeeze()\n",
        "z"
      ],
      "metadata": {
        "colab": {
          "base_uri": "https://localhost:8080/"
        },
        "id": "gqO65iESkrhY",
        "outputId": "1089831d-8dfb-4a72-edfa-4e73f9b25c51"
      },
      "execution_count": 58,
      "outputs": [
        {
          "output_type": "execute_result",
          "data": {
            "text/plain": [
              "tensor([[2.7583e-01, 8.6277e-02, 1.7219e-01],\n",
              "        [2.9095e-01, 4.4447e-01, 6.5969e-01],\n",
              "        [5.1042e-01, 7.8735e-01, 1.0641e-01],\n",
              "        [5.3445e-01, 7.3940e-04, 3.1674e-01]])"
            ]
          },
          "metadata": {},
          "execution_count": 58
        }
      ]
    },
    {
      "cell_type": "code",
      "source": [
        "print(x.ndim)\n",
        "print(z.ndim)"
      ],
      "metadata": {
        "colab": {
          "base_uri": "https://localhost:8080/"
        },
        "id": "XU7MYUF5kvY-",
        "outputId": "77d4fa1c-0351-4d21-81be-26bc5d2545fa"
      },
      "execution_count": 59,
      "outputs": [
        {
          "output_type": "stream",
          "name": "stdout",
          "text": [
            "3\n",
            "2\n"
          ]
        }
      ]
    },
    {
      "cell_type": "code",
      "source": [
        "print(x.shape)\n",
        "print(z.shape)"
      ],
      "metadata": {
        "colab": {
          "base_uri": "https://localhost:8080/"
        },
        "id": "rPyH0HWlky-3",
        "outputId": "c3f24fe8-9510-4129-ba4c-318eb5f16992"
      },
      "execution_count": 61,
      "outputs": [
        {
          "output_type": "stream",
          "name": "stdout",
          "text": [
            "torch.Size([4, 3, 1])\n",
            "torch.Size([4, 3])\n"
          ]
        }
      ]
    },
    {
      "cell_type": "code",
      "metadata": {
        "id": "hxJhXnj9Tbu7",
        "colab": {
          "base_uri": "https://localhost:8080/"
        },
        "outputId": "7cc0d82a-ef56-400e-daf9-853478921ee7"
      },
      "source": [
        "  \n",
        "x = torch.rand(4,4)\n",
        "print(\"Original:\")\n",
        "print(x)\n",
        "print(x.shape)\n",
        "\n",
        "# Reshape (flatten) to 1-D\n",
        "y = x.reshape(16) # number of elements must be the same as original, error otherwise\n",
        "print(\"Reshaped to 1-D:\")\n",
        "print(y)\n",
        "\n",
        "# Reshape to 2-D\n",
        "y = x.reshape(8,2)\n",
        "print(\"Reshaped to 2-D:\")\n",
        "print(y)\n",
        "\n",
        "# Could leave out one of the dimensions by specifying -1\n",
        "y = x.reshape(2, -1)\n",
        "print(\"Reshaped to 2 x Unspecified 2-D:\")\n",
        "print(y)\n",
        "print(y.shape)\n",
        "\n",
        "# Could use unsqueeze(0) to add a dimension at position 0\n",
        "y = x.unsqueeze(0)\n",
        "print(f'Using unsqueeze(0) to add dimension from original shape {x.shape} to {y.shape}')"
      ],
      "execution_count": null,
      "outputs": [
        {
          "output_type": "stream",
          "name": "stdout",
          "text": [
            "Original:\n",
            "tensor([[0.6845, 0.9159, 0.0661, 0.6028],\n",
            "        [0.2597, 0.6588, 0.5732, 0.2809],\n",
            "        [0.5372, 0.2705, 0.6606, 0.1182],\n",
            "        [0.7645, 0.1008, 0.2942, 0.6459]])\n",
            "torch.Size([4, 4])\n",
            "Reshaped to 1-D:\n",
            "tensor([0.6845, 0.9159, 0.0661, 0.6028, 0.2597, 0.6588, 0.5732, 0.2809, 0.5372,\n",
            "        0.2705, 0.6606, 0.1182, 0.7645, 0.1008, 0.2942, 0.6459])\n",
            "Reshaped to 2-D:\n",
            "tensor([[0.6845, 0.9159],\n",
            "        [0.0661, 0.6028],\n",
            "        [0.2597, 0.6588],\n",
            "        [0.5732, 0.2809],\n",
            "        [0.5372, 0.2705],\n",
            "        [0.6606, 0.1182],\n",
            "        [0.7645, 0.1008],\n",
            "        [0.2942, 0.6459]])\n",
            "Reshaped to 2 x Unspecified 2-D:\n",
            "tensor([[0.6845, 0.9159, 0.0661, 0.6028, 0.2597, 0.6588, 0.5732, 0.2809],\n",
            "        [0.5372, 0.2705, 0.6606, 0.1182, 0.7645, 0.1008, 0.2942, 0.6459]])\n",
            "torch.Size([2, 8])\n",
            "Using unsqueeze(0) to add dimension from original shape torch.Size([4, 4]) to torch.Size([1, 4, 4])\n"
          ]
        }
      ]
    },
    {
      "cell_type": "markdown",
      "metadata": {
        "id": "-I4TqJ0gWPmP"
      },
      "source": [
        "## Convert between NumPy and PyTorch tensors\n",
        "\n",
        "- Tensors can work on CPUs and GPUs\n",
        "- NumPy arrays can only work on CPUs"
      ]
    },
    {
      "cell_type": "code",
      "metadata": {
        "id": "w_8klvVsWZ7t",
        "colab": {
          "base_uri": "https://localhost:8080/"
        },
        "outputId": "102b9087-df95-4d11-c14b-490afa27aa93"
      },
      "source": [
        "import torch\n",
        "import numpy as np\n",
        "\n",
        "# Tensor to NumPy\n",
        "a = torch.ones(5)\n",
        "print(a)\n",
        "\n",
        "b = a.numpy()\n",
        "print(b)\n",
        "print(type(b))\n",
        "\n",
        "# b changes when a is modified because they share the same memory space!\n",
        "a.add_(1)\n",
        "print(a)\n",
        "print(b)"
      ],
      "execution_count": 62,
      "outputs": [
        {
          "output_type": "stream",
          "name": "stdout",
          "text": [
            "tensor([1., 1., 1., 1., 1.])\n",
            "[1. 1. 1. 1. 1.]\n",
            "<class 'numpy.ndarray'>\n",
            "tensor([2., 2., 2., 2., 2.])\n",
            "[2. 2. 2. 2. 2.]\n"
          ]
        }
      ]
    },
    {
      "cell_type": "code",
      "metadata": {
        "id": "w5WaMa1aXyfb",
        "colab": {
          "base_uri": "https://localhost:8080/"
        },
        "outputId": "63356123-3549-45bf-8a9e-2a777b8f0a0e"
      },
      "source": [
        "import torch\n",
        "import numpy as np\n",
        "\n",
        "a = np.ones(5)\n",
        "print(a)\n",
        "\n",
        "b = torch.from_numpy(a)\n",
        "print(b)\n",
        "\n",
        "# Modifying array will modify the tensor as well\n",
        "a += 2\n",
        "print(a)\n",
        "print(b)"
      ],
      "execution_count": 63,
      "outputs": [
        {
          "output_type": "stream",
          "name": "stdout",
          "text": [
            "[1. 1. 1. 1. 1.]\n",
            "tensor([1., 1., 1., 1., 1.], dtype=torch.float64)\n",
            "[3. 3. 3. 3. 3.]\n",
            "tensor([3., 3., 3., 3., 3.], dtype=torch.float64)\n"
          ]
        }
      ]
    },
    {
      "cell_type": "markdown",
      "metadata": {
        "id": "UFesCS2x7aWa"
      },
      "source": [
        "# Exercise"
      ]
    },
    {
      "cell_type": "code",
      "metadata": {
        "id": "shmdcMiB7cKz",
        "colab": {
          "base_uri": "https://localhost:8080/"
        },
        "outputId": "5f44e172-ab1b-45f1-9bf7-9209b831f52f"
      },
      "source": [
        "# 1. Create a tensor of 100 equally spaced numbers from 0 to 2.\n",
        "# Assign the tensor to x (Hint: use torch.linspace() )\n",
        "\n",
        "# Print x\n",
        "x = torch.linspace(2, 200,100)\n",
        "print(x)\n"
      ],
      "execution_count": 93,
      "outputs": [
        {
          "output_type": "stream",
          "name": "stdout",
          "text": [
            "tensor([  2.,   4.,   6.,   8.,  10.,  12.,  14.,  16.,  18.,  20.,  22.,  24.,\n",
            "         26.,  28.,  30.,  32.,  34.,  36.,  38.,  40.,  42.,  44.,  46.,  48.,\n",
            "         50.,  52.,  54.,  56.,  58.,  60.,  62.,  64.,  66.,  68.,  70.,  72.,\n",
            "         74.,  76.,  78.,  80.,  82.,  84.,  86.,  88.,  90.,  92.,  94.,  96.,\n",
            "         98., 100., 102., 104., 106., 108., 110., 112., 114., 116., 118., 120.,\n",
            "        122., 124., 126., 128., 130., 132., 134., 136., 138., 140., 142., 144.,\n",
            "        146., 148., 150., 152., 154., 156., 158., 160., 162., 164., 166., 168.,\n",
            "        170., 172., 174., 176., 178., 180., 182., 184., 186., 188., 190., 192.,\n",
            "        194., 196., 198., 200.])\n"
          ]
        }
      ]
    },
    {
      "cell_type": "code",
      "metadata": {
        "colab": {
          "base_uri": "https://localhost:8080/"
        },
        "id": "dlRtFyBZu7Bz",
        "outputId": "17c4d4a7-80fa-4924-b788-f7efebc03964"
      },
      "source": [
        "# 2. Print the first 5 numbers in x.\n",
        "print(x[:5])\n",
        "\n",
        "# 3. Print the last 5 numbers in x\n",
        "print(x[-5:])"
      ],
      "execution_count": 94,
      "outputs": [
        {
          "output_type": "stream",
          "name": "stdout",
          "text": [
            "tensor([ 2.,  4.,  6.,  8., 10.])\n",
            "tensor([192., 194., 196., 198., 200.])\n"
          ]
        }
      ]
    },
    {
      "cell_type": "code",
      "metadata": {
        "colab": {
          "base_uri": "https://localhost:8080/"
        },
        "id": "ZSEv3tCsu7B0",
        "outputId": "5eb45b13-76df-4539-b801-9bb6e9d76681"
      },
      "source": [
        "# 4. Create another tensor of 100 random values between 0 and 1.\n",
        "# Assign the tensor to y (Hint: use torch.rand() )\n",
        "y = torch.rand(100)\n",
        "# Print y\n",
        "print(y)"
      ],
      "execution_count": 95,
      "outputs": [
        {
          "output_type": "stream",
          "name": "stdout",
          "text": [
            "tensor([0.0793, 0.9924, 0.9953, 0.5343, 0.9058, 0.6955, 0.8302, 0.6304, 0.5180,\n",
            "        0.4471, 0.0091, 0.3217, 0.5287, 0.4050, 0.4572, 0.5319, 0.0340, 0.7972,\n",
            "        0.2932, 0.6643, 0.9251, 0.4565, 0.3749, 0.9208, 0.9309, 0.2145, 0.6194,\n",
            "        0.5246, 0.7954, 0.9232, 0.5399, 0.8035, 0.1672, 0.4571, 0.4250, 0.9886,\n",
            "        0.1056, 0.7105, 0.7786, 0.1278, 0.3948, 0.8539, 0.3978, 0.2838, 0.0344,\n",
            "        0.0765, 0.5820, 0.4457, 0.4763, 0.8032, 0.5808, 0.8981, 0.2169, 0.7047,\n",
            "        0.4531, 0.4620, 0.6838, 0.8320, 0.5999, 0.8361, 0.9356, 0.0593, 0.3750,\n",
            "        0.9715, 0.5181, 0.4519, 0.2821, 0.6554, 0.1046, 0.1623, 0.8679, 0.3893,\n",
            "        0.0332, 0.4045, 0.3555, 0.2440, 0.4842, 0.1589, 0.4713, 0.6301, 0.4700,\n",
            "        0.9911, 0.2599, 0.5831, 0.6647, 0.1772, 0.9260, 0.3736, 0.4442, 0.4132,\n",
            "        0.2806, 0.0856, 0.2347, 0.8274, 0.4096, 0.5844, 0.7283, 0.0221, 0.4833,\n",
            "        0.2914])\n"
          ]
        }
      ]
    },
    {
      "cell_type": "code",
      "metadata": {
        "colab": {
          "base_uri": "https://localhost:8080/"
        },
        "id": "RybHa1Mou7B1",
        "outputId": "c453db66-e284-47aa-b440-790b42034c32"
      },
      "source": [
        "# 5. Multiply x and y, store the result in z\n",
        "z = torch.mul(x, y)\n",
        "\n",
        "# Print z\n",
        "print(z)\n"
      ],
      "execution_count": 96,
      "outputs": [
        {
          "output_type": "stream",
          "name": "stdout",
          "text": [
            "tensor([1.5851e-01, 3.9695e+00, 5.9719e+00, 4.2746e+00, 9.0581e+00, 8.3460e+00,\n",
            "        1.1623e+01, 1.0086e+01, 9.3240e+00, 8.9421e+00, 2.0066e-01, 7.7218e+00,\n",
            "        1.3745e+01, 1.1339e+01, 1.3717e+01, 1.7022e+01, 1.1573e+00, 2.8700e+01,\n",
            "        1.1142e+01, 2.6574e+01, 3.8854e+01, 2.0087e+01, 1.7248e+01, 4.4198e+01,\n",
            "        4.6544e+01, 1.1155e+01, 3.3446e+01, 2.9376e+01, 4.6131e+01, 5.5394e+01,\n",
            "        3.3476e+01, 5.1422e+01, 1.1036e+01, 3.1080e+01, 2.9747e+01, 7.1180e+01,\n",
            "        7.8112e+00, 5.4001e+01, 6.0734e+01, 1.0227e+01, 3.2375e+01, 7.1729e+01,\n",
            "        3.4210e+01, 2.4976e+01, 3.0932e+00, 7.0406e+00, 5.4712e+01, 4.2790e+01,\n",
            "        4.6682e+01, 8.0315e+01, 5.9237e+01, 9.3400e+01, 2.2987e+01, 7.6110e+01,\n",
            "        4.9845e+01, 5.1739e+01, 7.7957e+01, 9.6511e+01, 7.0791e+01, 1.0034e+02,\n",
            "        1.1414e+02, 7.3491e+00, 4.7253e+01, 1.2435e+02, 6.7357e+01, 5.9647e+01,\n",
            "        3.7795e+01, 8.9134e+01, 1.4440e+01, 2.2720e+01, 1.2324e+02, 5.6057e+01,\n",
            "        4.8459e+00, 5.9865e+01, 5.3323e+01, 3.7089e+01, 7.4564e+01, 2.4783e+01,\n",
            "        7.4461e+01, 1.0082e+02, 7.6144e+01, 1.6255e+02, 4.3138e+01, 9.7960e+01,\n",
            "        1.1300e+02, 3.0483e+01, 1.6112e+02, 6.5752e+01, 7.9070e+01, 7.4372e+01,\n",
            "        5.1076e+01, 1.5755e+01, 4.3663e+01, 1.5555e+02, 7.7821e+01, 1.1221e+02,\n",
            "        1.4128e+02, 4.3335e+00, 9.5697e+01, 5.8272e+01])\n"
          ]
        }
      ]
    },
    {
      "cell_type": "code",
      "metadata": {
        "colab": {
          "base_uri": "https://localhost:8080/"
        },
        "id": "FWoSywZ9u7B1",
        "outputId": "2ff76ebd-a693-476a-9d28-c35c1ff5faf4"
      },
      "source": [
        "# 6. Reshape z to a tensor with 5 rows and 20 columns\n",
        "# Store reshaped tensor to z2\n",
        "z2 = z.reshape(5, 20)\n",
        "\n",
        "# Print z2\n",
        "print(z2)"
      ],
      "execution_count": 97,
      "outputs": [
        {
          "output_type": "stream",
          "name": "stdout",
          "text": [
            "tensor([[1.5851e-01, 3.9695e+00, 5.9719e+00, 4.2746e+00, 9.0581e+00, 8.3460e+00,\n",
            "         1.1623e+01, 1.0086e+01, 9.3240e+00, 8.9421e+00, 2.0066e-01, 7.7218e+00,\n",
            "         1.3745e+01, 1.1339e+01, 1.3717e+01, 1.7022e+01, 1.1573e+00, 2.8700e+01,\n",
            "         1.1142e+01, 2.6574e+01],\n",
            "        [3.8854e+01, 2.0087e+01, 1.7248e+01, 4.4198e+01, 4.6544e+01, 1.1155e+01,\n",
            "         3.3446e+01, 2.9376e+01, 4.6131e+01, 5.5394e+01, 3.3476e+01, 5.1422e+01,\n",
            "         1.1036e+01, 3.1080e+01, 2.9747e+01, 7.1180e+01, 7.8112e+00, 5.4001e+01,\n",
            "         6.0734e+01, 1.0227e+01],\n",
            "        [3.2375e+01, 7.1729e+01, 3.4210e+01, 2.4976e+01, 3.0932e+00, 7.0406e+00,\n",
            "         5.4712e+01, 4.2790e+01, 4.6682e+01, 8.0315e+01, 5.9237e+01, 9.3400e+01,\n",
            "         2.2987e+01, 7.6110e+01, 4.9845e+01, 5.1739e+01, 7.7957e+01, 9.6511e+01,\n",
            "         7.0791e+01, 1.0034e+02],\n",
            "        [1.1414e+02, 7.3491e+00, 4.7253e+01, 1.2435e+02, 6.7357e+01, 5.9647e+01,\n",
            "         3.7795e+01, 8.9134e+01, 1.4440e+01, 2.2720e+01, 1.2324e+02, 5.6057e+01,\n",
            "         4.8459e+00, 5.9865e+01, 5.3323e+01, 3.7089e+01, 7.4564e+01, 2.4783e+01,\n",
            "         7.4461e+01, 1.0082e+02],\n",
            "        [7.6144e+01, 1.6255e+02, 4.3138e+01, 9.7960e+01, 1.1300e+02, 3.0483e+01,\n",
            "         1.6112e+02, 6.5752e+01, 7.9070e+01, 7.4372e+01, 5.1076e+01, 1.5755e+01,\n",
            "         4.3663e+01, 1.5555e+02, 7.7821e+01, 1.1221e+02, 1.4128e+02, 4.3335e+00,\n",
            "         9.5697e+01, 5.8272e+01]])\n"
          ]
        }
      ]
    },
    {
      "cell_type": "code",
      "metadata": {
        "colab": {
          "base_uri": "https://localhost:8080/"
        },
        "id": "vWm-o1lHu7B1",
        "outputId": "0bd0008e-436f-47a3-b9da-7ca5ba98a1cf"
      },
      "source": [
        "# 7. Get the sum of each row in z2\n",
        "torch.sum(z2, dim = 1)\n"
      ],
      "execution_count": 102,
      "outputs": [
        {
          "output_type": "execute_result",
          "data": {
            "text/plain": [
              "tensor([ 203.0725,  703.1472, 1096.8367, 1193.2310, 1659.2432])"
            ]
          },
          "metadata": {},
          "execution_count": 102
        }
      ]
    },
    {
      "cell_type": "code",
      "source": [
        "# 8. Get the mean of each column in z2\n",
        "torch.mean(z2, dim = 0)"
      ],
      "metadata": {
        "colab": {
          "base_uri": "https://localhost:8080/"
        },
        "id": "8yKklcr9xCGe",
        "outputId": "3c48a3e8-0252-4b44-fc53-1e26f310d955"
      },
      "execution_count": 103,
      "outputs": [
        {
          "output_type": "execute_result",
          "data": {
            "text/plain": [
              "tensor([52.3343, 53.1363, 29.5641, 59.1508, 47.8096, 23.3346, 59.7400, 47.4276,\n",
              "        39.1295, 48.3486, 53.4462, 44.8711, 19.2555, 66.7886, 44.8906, 57.8471,\n",
              "        60.5548, 41.6658, 62.5650, 59.2462])"
            ]
          },
          "metadata": {},
          "execution_count": 103
        }
      ]
    },
    {
      "cell_type": "code",
      "metadata": {
        "colab": {
          "base_uri": "https://localhost:8080/"
        },
        "id": "2MP35_ECu7B2",
        "outputId": "e0988a66-0f68-4687-fd5d-235908bf617c"
      },
      "source": [
        "# 9. Reshape z to a 3D tensor (keep all the elements)\n",
        "# Store reshaped tensor to z3\n",
        "z3 = z.reshape(2, 2, 25)\n",
        "# Print z3\n",
        "print(z3)\n",
        "print(z3.ndim)"
      ],
      "execution_count": 105,
      "outputs": [
        {
          "output_type": "stream",
          "name": "stdout",
          "text": [
            "tensor([[[1.5851e-01, 3.9695e+00, 5.9719e+00, 4.2746e+00, 9.0581e+00,\n",
            "          8.3460e+00, 1.1623e+01, 1.0086e+01, 9.3240e+00, 8.9421e+00,\n",
            "          2.0066e-01, 7.7218e+00, 1.3745e+01, 1.1339e+01, 1.3717e+01,\n",
            "          1.7022e+01, 1.1573e+00, 2.8700e+01, 1.1142e+01, 2.6574e+01,\n",
            "          3.8854e+01, 2.0087e+01, 1.7248e+01, 4.4198e+01, 4.6544e+01],\n",
            "         [1.1155e+01, 3.3446e+01, 2.9376e+01, 4.6131e+01, 5.5394e+01,\n",
            "          3.3476e+01, 5.1422e+01, 1.1036e+01, 3.1080e+01, 2.9747e+01,\n",
            "          7.1180e+01, 7.8112e+00, 5.4001e+01, 6.0734e+01, 1.0227e+01,\n",
            "          3.2375e+01, 7.1729e+01, 3.4210e+01, 2.4976e+01, 3.0932e+00,\n",
            "          7.0406e+00, 5.4712e+01, 4.2790e+01, 4.6682e+01, 8.0315e+01]],\n",
            "\n",
            "        [[5.9237e+01, 9.3400e+01, 2.2987e+01, 7.6110e+01, 4.9845e+01,\n",
            "          5.1739e+01, 7.7957e+01, 9.6511e+01, 7.0791e+01, 1.0034e+02,\n",
            "          1.1414e+02, 7.3491e+00, 4.7253e+01, 1.2435e+02, 6.7357e+01,\n",
            "          5.9647e+01, 3.7795e+01, 8.9134e+01, 1.4440e+01, 2.2720e+01,\n",
            "          1.2324e+02, 5.6057e+01, 4.8459e+00, 5.9865e+01, 5.3323e+01],\n",
            "         [3.7089e+01, 7.4564e+01, 2.4783e+01, 7.4461e+01, 1.0082e+02,\n",
            "          7.6144e+01, 1.6255e+02, 4.3138e+01, 9.7960e+01, 1.1300e+02,\n",
            "          3.0483e+01, 1.6112e+02, 6.5752e+01, 7.9070e+01, 7.4372e+01,\n",
            "          5.1076e+01, 1.5755e+01, 4.3663e+01, 1.5555e+02, 7.7821e+01,\n",
            "          1.1221e+02, 1.4128e+02, 4.3335e+00, 9.5697e+01, 5.8272e+01]]])\n",
            "3\n"
          ]
        }
      ]
    },
    {
      "cell_type": "code",
      "source": [
        ""
      ],
      "metadata": {
        "id": "ZucxsPumxs2R"
      },
      "execution_count": null,
      "outputs": []
    }
  ]
}