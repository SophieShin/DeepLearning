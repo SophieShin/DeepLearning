{
  "nbformat": 4,
  "nbformat_minor": 0,
  "metadata": {
    "colab": {
      "name": "[SSH]lab03-nn-linear-reg.ipynb",
      "provenance": [],
      "collapsed_sections": [],
      "include_colab_link": true
    },
    "kernelspec": {
      "name": "python3",
      "display_name": "Python 3"
    }
  },
  "cells": [
    {
      "cell_type": "markdown",
      "metadata": {
        "id": "view-in-github",
        "colab_type": "text"
      },
      "source": [
        "<a href=\"https://colab.research.google.com/github/SophieShin/DeepLearning/blob/main/%5BSSH%5Dlab03_nn_linear_reg.ipynb\" target=\"_parent\"><img src=\"https://colab.research.google.com/assets/colab-badge.svg\" alt=\"Open In Colab\"/></a>"
      ]
    },
    {
      "cell_type": "markdown",
      "source": [
        "## Lecture Practice(Self Study)"
      ],
      "metadata": {
        "id": "D9V76L8e5CwP"
      }
    },
    {
      "cell_type": "code",
      "source": [
        "import numpy as np\n",
        "import torch"
      ],
      "metadata": {
        "id": "nHm6T8QIyDZ5"
      },
      "execution_count": null,
      "outputs": []
    },
    {
      "cell_type": "code",
      "source": [
        "inputs = np.array([0.8,  1.3, 2.5, 2.0])\n",
        "weight = np.array([2.5, 1.7, -0.5, 1.0])\n",
        "bias = 2\n",
        "\n",
        "output = np.dot(weight, inputs) + bias\n",
        "print(output)"
      ],
      "metadata": {
        "colab": {
          "base_uri": "https://localhost:8080/"
        },
        "id": "3tYx-3YayHQe",
        "outputId": "cf390744-fb75-4b10-9fec-2d25b9d658ca"
      },
      "execution_count": null,
      "outputs": [
        {
          "output_type": "stream",
          "name": "stdout",
          "text": [
            "6.96\n"
          ]
        }
      ]
    },
    {
      "cell_type": "code",
      "source": [
        "a = torch.tensor([1,2])\n",
        "b = torch.tensor([3,2])\n",
        "torch.dot(a,b)\n"
      ],
      "metadata": {
        "colab": {
          "base_uri": "https://localhost:8080/"
        },
        "id": "2Sy74-bUyzJS",
        "outputId": "91410c86-2d32-4a2f-bff9-aca44f009130"
      },
      "execution_count": null,
      "outputs": [
        {
          "output_type": "execute_result",
          "data": {
            "text/plain": [
              "tensor(7)"
            ]
          },
          "metadata": {},
          "execution_count": 10
        }
      ]
    },
    {
      "cell_type": "code",
      "source": [
        "a = 2*1 + 3*1\n",
        "a"
      ],
      "metadata": {
        "colab": {
          "base_uri": "https://localhost:8080/"
        },
        "id": "zJz6GLX92WxJ",
        "outputId": "3349bd09-c350-4a14-926f-0ff40d4b23b9"
      },
      "execution_count": null,
      "outputs": [
        {
          "output_type": "execute_result",
          "data": {
            "text/plain": [
              "5"
            ]
          },
          "metadata": {},
          "execution_count": 11
        }
      ]
    },
    {
      "cell_type": "code",
      "source": [
        "b= 2*(-1) + 3*1\n",
        "b"
      ],
      "metadata": {
        "colab": {
          "base_uri": "https://localhost:8080/"
        },
        "id": "3-gB3WGO2dgi",
        "outputId": "0ceab876-752e-4f82-ac7c-fce8f7b9f13c"
      },
      "execution_count": null,
      "outputs": [
        {
          "output_type": "execute_result",
          "data": {
            "text/plain": [
              "1"
            ]
          },
          "metadata": {},
          "execution_count": 12
        }
      ]
    },
    {
      "cell_type": "code",
      "source": [
        "c= 5*2 + 1*(-1)\n",
        "c"
      ],
      "metadata": {
        "colab": {
          "base_uri": "https://localhost:8080/"
        },
        "id": "woico-Sl2lH9",
        "outputId": "d76cd9a3-8f8c-4e07-cb3e-9d602fda2786"
      },
      "execution_count": null,
      "outputs": [
        {
          "output_type": "execute_result",
          "data": {
            "text/plain": [
              "9"
            ]
          },
          "metadata": {},
          "execution_count": 13
        }
      ]
    },
    {
      "cell_type": "code",
      "source": [
        "# import Pytorch\n",
        "import trace\n",
        "\n",
        "# import vision datasets, architectures and transform tools\n",
        "from torchvision import datasets, transforms\n",
        "\n",
        "# Neural network functions\n",
        "import torch.nn as nn\n",
        "import torch.nn.functional as F\n",
        "\n",
        "#optimizer functions\n",
        "import torch.optim as optim\n"
      ],
      "metadata": {
        "id": "IvNH02215B8a"
      },
      "execution_count": null,
      "outputs": []
    },
    {
      "cell_type": "markdown",
      "metadata": {
        "id": "dpLdkiC81rw_"
      },
      "source": [
        "# Lab 3 – First Neural Network\n",
        "- Work on saved a copy on your Drive, name your file appropriately, e.g. `GN-lab03.ipynb` (Korean students, please put the initial of your **family name first** because that's how you appear in the register, e.g. Kim Gyeong Min should be `KGM`)\n",
        "- Run ALL the code cells and answer the questions (code or text) before submitting the notebook. Code cell output should be visible in your submission.\n",
        "- Save your notebook (`Ctrl+S`) before downloading and submitting on iCampus. ONLY ipynb files will be accepted.\n",
        "\n",
        "## A. Implementing a basic \"forward\" pass\n",
        "Try to visualise what each neural network model looks like in terms of neurons, weights and biases.\n"
      ]
    },
    {
      "cell_type": "code",
      "source": [
        "import sys\n",
        "import matplotlib.pyplot as plt\n",
        "import numpy as np\n",
        "import torch"
      ],
      "metadata": {
        "id": "IQT81dJfhGOg"
      },
      "execution_count": null,
      "outputs": []
    },
    {
      "cell_type": "markdown",
      "metadata": {
        "id": "iWvkX4ap2WfO"
      },
      "source": [
        "## The Perceptron (Single Neuron)\n",
        "- Every non-input NEURON has a bias, not every weight, so the bias is added for a single output neuron\n",
        "- 1 output neuron with 3 inputs"
      ]
    },
    {
      "cell_type": "code",
      "metadata": {
        "id": "rq_kLhOr_QqD"
      },
      "source": [
        "# I try to type all the lines by myself, so I won't run this cell, instead I will do all the line below!\n",
        "\n",
        "# Initialise some values\n",
        "input = [0.8, 1.3, 2.5]\n",
        "weights = [2.5, 1.7, -0.5]\n",
        "bias = 2\n",
        "\n",
        "# Get the weigthed sum of the inputs and add the bias\n",
        "output = input[0]*weights[0] + input[1]*weights[1] + input[2]*weights[2] + bias\n",
        "print(output)\n",
        "\n",
        "# Add a step function; output is 1 if it is 0 or more, 0 otherwise\n",
        "output = 1 if output >= 0 else 0\n",
        "\n",
        "# Print perceptron's final output\n",
        "print(f'Final perceptron output = {output}') \n",
        "\n",
        "# TODO\n",
        "# Q1. Think of a ML problem or task where a neural network would have a final output to be 0 or 1.\n",
        "\n"
      ],
      "execution_count": null,
      "outputs": []
    },
    {
      "cell_type": "code",
      "source": [
        "input = [0.8, 1.3, 2.5]\n",
        "weights = [2.5, 1.7, -0.5]\n",
        "bias = 2\n",
        "\n",
        "output = input[0]*weights[0] + input[1]*weights[1] + input[2]*weights[2] + bias\n",
        "print(output)"
      ],
      "metadata": {
        "colab": {
          "base_uri": "https://localhost:8080/"
        },
        "id": "glJbLG1thOIB",
        "outputId": "f5a24761-3069-48d0-dd6f-1d72dad36f50"
      },
      "execution_count": null,
      "outputs": [
        {
          "output_type": "stream",
          "name": "stdout",
          "text": [
            "4.96\n"
          ]
        }
      ]
    },
    {
      "cell_type": "code",
      "source": [
        "# add a step function\n",
        "output = 1 if output >=0 else 0\n",
        "print(f'Final perceptron output = {output}')"
      ],
      "metadata": {
        "colab": {
          "base_uri": "https://localhost:8080/"
        },
        "id": "8Z_GW5Owhhdz",
        "outputId": "02166f69-e248-4435-b357-5bc6452bb9bb"
      },
      "execution_count": null,
      "outputs": [
        {
          "output_type": "stream",
          "name": "stdout",
          "text": [
            "Final perceptron output = 1\n"
          ]
        }
      ]
    },
    {
      "cell_type": "code",
      "source": [
        "# TODO\n",
        "# Q1. Think of a ML problem or task where a neural network would have a final output to be 0 or 1.\n",
        "\n",
        "# A1. Researcher would get the results consisting only 0 and 1. It would be suitable for binary classification,\n",
        "# however, it the problem is regression, then it would be not appropriate to interprete the result since the estimated value should be continuous."
      ],
      "metadata": {
        "id": "H6KC56rxhsdK"
      },
      "execution_count": null,
      "outputs": []
    },
    {
      "cell_type": "markdown",
      "source": [
        "##### TODO\n",
        "###### Q1. Think of a ML problem or task where a neural network would have a final output to be 0 or 1.\n",
        "\n",
        "###### A1. Researcher would get the results consisting only 0 and 1. It would be suitable for binary classification, however, it the problem is regression, then it would be not appropriate to interprete the result since the estimated value should be continuous."
      ],
      "metadata": {
        "id": "rI7wsMcKkRct"
      }
    },
    {
      "cell_type": "markdown",
      "metadata": {
        "id": "7w-UJYm5MTsZ"
      },
      "source": [
        "### Example 2: Multiple neurons\n",
        "- Each neuron will have its own WEIGHT associated to each input\n",
        "- As before, each NEURON will have its own BIAS"
      ]
    },
    {
      "cell_type": "code",
      "metadata": {
        "id": "Zxqlna_eMqpj"
      },
      "source": [
        "# I try to type all the lines by myself, so I won't run this cell, instead I will do all the line below!\n",
        "\n",
        "\n",
        "#inputs = [0.8, 1.3, 2.5, 2.0] # A sample of 4 features, e.g. temperature, humidity, wind, pressure\n",
        "\n",
        "input = [0.8, 1.3, 2.5, 2.0]\n",
        "\n",
        "weights1 = [2.5, 1.7, -0.5, 1.0]\n",
        "weights2 = [0.5, -0.91, 0.26, -0.5]\n",
        "weights3 = [-0.26, -0.27, 0.17, 0.87]\n",
        "\n",
        "bias1 = 2\n",
        "bias2 = 3\n",
        "bias3 = 0.5\n",
        "\n",
        "output = [input[0]*weights1[0] + input[1]*weights1[1] + input[2]*weights1[2] + input[3]*weights1[3] + bias1,\n",
        "          input[0]*weights2[0] + input[1]*weights2[1] + input[2]*weights2[2] + input[3]*weights2[3] + bias2,\n",
        "          input[0]*weights3[0] + input[1]*weights3[1] + input[2]*weights3[2] + input[3]*weights3[3] + bias3]\n",
        "\n",
        "print(output)\n",
        "\n",
        "# TODO\n",
        "# Q2. How many output neurons does this network contain?\n"
      ],
      "execution_count": null,
      "outputs": []
    },
    {
      "cell_type": "code",
      "source": [
        "input = [0.8, 1.3, 2.5, 2.0]\n",
        "\n",
        "weights1 = [2.5, 1.7, -0.5, 1.0]\n",
        "weights2 = [0.5, -0.91, 0.26, -0.5]\n",
        "weights3 = [-0.26, -0.27, 0.17, 0.87]\n",
        "\n",
        "bias = [2, 3, 0.5]\n",
        "\n",
        "output = [input[0]*weights1[0] + input[1]*weights1[1] + input[2]*weights1[2] + input[3]*weights1[3] + bias1,\n",
        "          input[0]*weights2[0] + input[1]*weights2[1] + input[2]*weights2[2] + input[3]*weights2[3] + bias2,\n",
        "          input[0]*weights3[0] + input[1]*weights3[1] + input[2]*weights3[2] + input[3]*weights3[3] + bias3]\n",
        "\n",
        "print(output)\n"
      ],
      "metadata": {
        "colab": {
          "base_uri": "https://localhost:8080/"
        },
        "id": "Rf4xPYT2i1dp",
        "outputId": "4bab5c1f-899c-447f-ce04-6e439e9bd37a"
      },
      "execution_count": null,
      "outputs": [
        {
          "output_type": "stream",
          "name": "stdout",
          "text": [
            "[6.96, 1.867, 2.106]\n"
          ]
        }
      ]
    },
    {
      "cell_type": "markdown",
      "source": [
        "\n",
        "#### TODO\n",
        "##### Q2. How many output neurons does this network contain?\n",
        "##### A2. The network contains 3 output neurons. "
      ],
      "metadata": {
        "id": "LNpDwiS2j-rQ"
      }
    },
    {
      "cell_type": "markdown",
      "metadata": {
        "id": "T9KdBdw1PzAO"
      },
      "source": [
        "### Use Loops and Matrices!\n",
        "\n",
        "\n"
      ]
    },
    {
      "cell_type": "code",
      "metadata": {
        "id": "cDrkbsgzQtPZ"
      },
      "source": [
        "# I try to type all the lines by myself, so I won't run this cell, instead I will do all the line below!\n",
        "# This is actually what I was trying to do in the previous cells. I ended up failing to successfully writing codes.\n",
        "# This is really helpful and I learned many grammar! Thanks a lot!!\n",
        "\n",
        "inputs = [0.8, 1.3, 2.5, 2.0]\n",
        "\n",
        "weights = [[2.5, 1.7, -0.5, 1.0], \n",
        "           [0.5, -0.91, 0.26, -0.5],\n",
        "           [-0.26, -0.27, 0.17, 0.87]]\n",
        "\n",
        "biases = [2, 3, 0.5]\n",
        "\n",
        "layer_outputs = [] # Outputs of current layer\n",
        "for weight, bias in zip(weights, biases):\n",
        "    output = 0 # Reset current neuron output to 0\n",
        "    for input, w in zip(inputs, weight):\n",
        "        output += input*w\n",
        "    output += bias\n",
        "    layer_outputs.append(output)\n",
        "\n",
        "print(zip(weights, biases))\n",
        "print(layer_outputs)"
      ],
      "execution_count": null,
      "outputs": []
    },
    {
      "cell_type": "code",
      "source": [
        "inputs = [0.8, 1.3, 2.5, 2.0]\n",
        "\n",
        "weights = [[2.5, 1.7, -0.5, 1.0], \n",
        "           [0.5, -0.91, 0.26, -0.5],\n",
        "           [-0.26, -0.27, 0.17, 0.87]]\n",
        "\n",
        "biases = [2, 3, 0.5]\n",
        "\n",
        "layer_outputs = []\n",
        "\n",
        "for weight, bias in zip(weights, biases): # if there are more than 2 groups that I want run iteratively, then it should be fori, j in zip(A,B): for k, i in zip(C,i)\n",
        "  output = 0\n",
        "  for input, w in zip(inputs, weight):\n",
        "    output += input*w\n",
        "  output += bias\n",
        "  layer_outputs.append(output)\n",
        "\n",
        "print(zip(weights, biases))  # it shows the type of the object\n",
        "print(layer_outputs)"
      ],
      "metadata": {
        "colab": {
          "base_uri": "https://localhost:8080/"
        },
        "id": "Lj1FQN0RkbWh",
        "outputId": "35df6cd4-6af4-4f2c-c019-23ddff502974"
      },
      "execution_count": null,
      "outputs": [
        {
          "output_type": "stream",
          "name": "stdout",
          "text": [
            "<zip object at 0x7f381230f4b0>\n",
            "[6.96, 1.867, 2.106]\n"
          ]
        }
      ]
    },
    {
      "cell_type": "code",
      "source": [
        "# to make sure if I understood correctly\n",
        "\n",
        "output_practice = 0\n",
        "for i, w in zip(inputs, [2.5, 1.7, -0.5, 1.0]):\n",
        "  output_practice += i*w\n",
        "\n",
        "print(output_practice + biases[0])"
      ],
      "metadata": {
        "colab": {
          "base_uri": "https://localhost:8080/"
        },
        "id": "gc9sx2w1mBEy",
        "outputId": "b2ad31cc-8028-4fbc-9705-b1560b9684b8"
      },
      "execution_count": null,
      "outputs": [
        {
          "output_type": "stream",
          "name": "stdout",
          "text": [
            "6.96\n"
          ]
        }
      ]
    },
    {
      "cell_type": "markdown",
      "metadata": {
        "id": "ikyggUJxXtPr"
      },
      "source": [
        "## Let's use NumPy & Dot Products!\n",
        "- Multiply elements wise the corresponding values in two arrays and add them up\n",
        "- Dot product between two vectors results in a single scalar value\n"
      ]
    },
    {
      "cell_type": "code",
      "metadata": {
        "id": "MJekSFlcXwM8",
        "colab": {
          "base_uri": "https://localhost:8080/"
        },
        "outputId": "98261c92-adb2-450c-f91e-a3abe67b7b02"
      },
      "source": [
        "import numpy as np\n",
        "\n",
        "inputs = np.array([0.8, 1.3, 2.5, 2.0])\n",
        "weights = np.array([2.5, 1.7, -0.5, 1.0])\n",
        "bias = 2\n",
        "\n",
        "output = np.dot(weights, inputs) + bias  # array*array = element wise multiplication, so in this case, use either np.dot or @\n",
        "print(output)"
      ],
      "execution_count": null,
      "outputs": [
        {
          "output_type": "stream",
          "name": "stdout",
          "text": [
            "6.96\n"
          ]
        }
      ]
    },
    {
      "cell_type": "code",
      "source": [
        "inputs.T"
      ],
      "metadata": {
        "colab": {
          "base_uri": "https://localhost:8080/"
        },
        "id": "UI09vq3snLaL",
        "outputId": "06d48755-55b9-4d4d-c6fa-4f501067cd31"
      },
      "execution_count": null,
      "outputs": [
        {
          "output_type": "execute_result",
          "data": {
            "text/plain": [
              "array([0.8, 1.3, 2.5, 2. ])"
            ]
          },
          "metadata": {},
          "execution_count": 40
        }
      ]
    },
    {
      "cell_type": "code",
      "source": [
        "inputs.T*weights"
      ],
      "metadata": {
        "colab": {
          "base_uri": "https://localhost:8080/"
        },
        "id": "LmZTLbTBnNUr",
        "outputId": "fdd0042d-1f4c-4d54-c887-30af464e398e"
      },
      "execution_count": null,
      "outputs": [
        {
          "output_type": "execute_result",
          "data": {
            "text/plain": [
              "array([ 2.  ,  2.21, -1.25,  2.  ])"
            ]
          },
          "metadata": {},
          "execution_count": 41
        }
      ]
    },
    {
      "cell_type": "code",
      "source": [
        "inputs @ weights"
      ],
      "metadata": {
        "colab": {
          "base_uri": "https://localhost:8080/"
        },
        "id": "y2xrD33vnSA2",
        "outputId": "5691d0b5-ed2f-483b-9ca6-60e7f328e1c6"
      },
      "execution_count": null,
      "outputs": [
        {
          "output_type": "execute_result",
          "data": {
            "text/plain": [
              "4.96"
            ]
          },
          "metadata": {},
          "execution_count": 44
        }
      ]
    },
    {
      "cell_type": "code",
      "source": [
        "np.dot(weights, inputs)"
      ],
      "metadata": {
        "colab": {
          "base_uri": "https://localhost:8080/"
        },
        "id": "R8_JhAHOnlLw",
        "outputId": "52763004-e1e7-4a10-af45-090785d61dd2"
      },
      "execution_count": null,
      "outputs": [
        {
          "output_type": "execute_result",
          "data": {
            "text/plain": [
              "4.96"
            ]
          },
          "metadata": {},
          "execution_count": 45
        }
      ]
    },
    {
      "cell_type": "code",
      "source": [
        "np.dot(weights, inputs) == inputs @ weights"
      ],
      "metadata": {
        "colab": {
          "base_uri": "https://localhost:8080/"
        },
        "id": "nknhW_dinpI7",
        "outputId": "75fc6f4e-69f5-44e2-d3cf-09baad7697d5"
      },
      "execution_count": null,
      "outputs": [
        {
          "output_type": "execute_result",
          "data": {
            "text/plain": [
              "True"
            ]
          },
          "metadata": {},
          "execution_count": 48
        }
      ]
    },
    {
      "cell_type": "markdown",
      "metadata": {
        "id": "D2L-U4yRaCXu"
      },
      "source": [
        "When performing a dot product between a vector (input) and a matrix (weights)\n",
        "  - Weights have to be first parameter of ``np.dot()``, otherwise an error will be thrown\n",
        "  - Column size of ``weights`` = row size of ``inputs``\n"
      ]
    },
    {
      "cell_type": "code",
      "metadata": {
        "id": "r9AoCO93aL6B"
      },
      "source": [
        "# I try to type all the lines by myself, so I won't run this cell, instead I will do all the line below!\n",
        "\n",
        "\n",
        "inputs = np.array([0.8, 1.3, 2.5, 2.0])\n",
        "\n",
        "weights = np.array([[2.5, 1.7, -0.5, 1.0], \n",
        "           [0.5, -0.91, 0.26, -0.5],\n",
        "           [-0.26, -0.27, 0.17, 0.87]])\n",
        "\n",
        "biases = np.array([2, 3, 0.5])\n",
        "\n",
        "output = np.dot(weights, inputs) + biases # dot product of a vector and a matrix\n",
        "\n",
        "print(output)\n",
        "\n",
        "# TODO\n",
        "# Q3. What else can we do to perform the dot product between the inputs and weights?\n"
      ],
      "execution_count": null,
      "outputs": []
    },
    {
      "cell_type": "code",
      "source": [
        "inputs = np.array([0.8, 1.3, 2.5, 2.0])\n",
        "\n",
        "weights = np.array([ [2.5, 1.7, -0.5, 1.0],\n",
        "                     [0.5, -0.91, 0.26, -0.5],\n",
        "                     [-0.26, -0.27, 0.17, 0.87]                    \n",
        "                                                ])\n",
        "\n",
        "biases = np.array([2,3,0.5])\n",
        "\n",
        "output = np.dot(weights, inputs) + biases # elements of each row should be the same\n",
        "\n",
        "print(output)\n"
      ],
      "metadata": {
        "colab": {
          "base_uri": "https://localhost:8080/"
        },
        "id": "Uf0Wd2Vqoh6b",
        "outputId": "e57c71f6-f1d1-4d1f-9f8c-4071bcea62ee"
      },
      "execution_count": null,
      "outputs": [
        {
          "output_type": "stream",
          "name": "stdout",
          "text": [
            "[6.96  1.867 2.106]\n"
          ]
        }
      ]
    },
    {
      "cell_type": "code",
      "source": [
        "# TODO\n",
        "# Q3. What else can we do to perform the dot product between the inputs and weights?\n",
        "\n",
        "# A3. @ can be used to do inner product calculation\n",
        "\n",
        "output2 = (weights @ inputs) + biases\n",
        "print(output2)\n",
        "print(output == output2)"
      ],
      "metadata": {
        "colab": {
          "base_uri": "https://localhost:8080/"
        },
        "id": "c9-fNEqnpZGu",
        "outputId": "b433f038-14f7-4088-ac77-ba3f3c30bf36"
      },
      "execution_count": null,
      "outputs": [
        {
          "output_type": "stream",
          "name": "stdout",
          "text": [
            "[6.96  1.867 2.106]\n",
            "[ True  True  True]\n"
          ]
        }
      ]
    },
    {
      "cell_type": "markdown",
      "metadata": {
        "id": "mTxtXoYEb0ea"
      },
      "source": [
        "\n",
        "## Summary\n",
        "- Weights and biases are two different tools for approximating something (e.g. an output from an input)\n",
        "- Weights determine how much influence this input has for the output (as it is multiplied) and bias determines how much this output can be offset by the input (as it is added)\n",
        "- Think of a classical equation for a line ``y = wx + b`` where ``w`` is the weight and ``b`` is a the bias"
      ]
    },
    {
      "cell_type": "markdown",
      "metadata": {
        "id": "qiPxh-XmJqPT"
      },
      "source": [
        "## Dot product between two 2-D arrays (two matrices)\n",
        "- Numpy's ``np.dot()`` is flexible; it computes the inner product for 1D arrays and performs matrix multiplication for 2D arrays.\n",
        "- Since both matrices have the same size, transpose the second matrix, i.e. ``weights`` here so that ``1st-col-size=2nd-row-size`` holds \n"
      ]
    },
    {
      "cell_type": "code",
      "metadata": {
        "id": "PhGET9UWKoIL"
      },
      "source": [
        "# I try to type all the lines by myself, so I won't run this cell, instead I will do all the line below!\n",
        "\n",
        "# inputs 3x4\n",
        "inputs = np.array([[0.8, 1.3, 2.5, 2.0],\n",
        "          [2.3, 1.5, 3.8, 4.5],\n",
        "          [-1.5, 2.7, 3.3, -0.8]])\n",
        "\n",
        "# weights 3x4\n",
        "weights = np.array([[2.5, 1.7, -0.5, 1.0], \n",
        "           [0.5, -0.91, 0.26, -0.5],\n",
        "           [-0.26, -0.27, 0.17, 0.87]])\n",
        "\n",
        "biases = np.array([2, 3, 0.5])\n",
        "\n",
        "output = np.dot(inputs, weights.T) + biases\n",
        "\n",
        "print(f'{output} \\n{output.shape}')\n",
        "\n",
        "# TODO\n",
        "# Q4. Explain what it means to have a 2-D array for the input and also for the output\n"
      ],
      "execution_count": null,
      "outputs": []
    },
    {
      "cell_type": "code",
      "source": [
        "inputs = np.array([[0.8, 1.3, 2.5, 2.0],\n",
        "          [2.3, 1.5, 3.8, 4.5],\n",
        "          [-1.5, 2.7, 3.3, -0.8]])\n",
        "\n",
        "weights = np.array([[2.5, 1.7, -0.5, 1.0], \n",
        "           [0.5, -0.91, 0.26, -0.5],\n",
        "           [-0.26, -0.27, 0.17, 0.87]])\n",
        "\n",
        "biases = np.array([2, 3, 0.5])\n",
        "\n",
        "weights.T"
      ],
      "metadata": {
        "colab": {
          "base_uri": "https://localhost:8080/"
        },
        "id": "RkyLtYtLq9hK",
        "outputId": "47efdb61-28eb-4afb-e167-294d276b5683"
      },
      "execution_count": null,
      "outputs": [
        {
          "output_type": "execute_result",
          "data": {
            "text/plain": [
              "array([[ 2.5 ,  0.5 , -0.26],\n",
              "       [ 1.7 , -0.91, -0.27],\n",
              "       [-0.5 ,  0.26,  0.17],\n",
              "       [ 1.  , -0.5 ,  0.87]])"
            ]
          },
          "metadata": {},
          "execution_count": 56
        }
      ]
    },
    {
      "cell_type": "code",
      "source": [
        "\n",
        "output = np.dot(inputs, weights.T) + biases\n",
        "\n",
        "print(f'{output} \\n{output.shape}')"
      ],
      "metadata": {
        "colab": {
          "base_uri": "https://localhost:8080/"
        },
        "id": "dVVbQX9UrXlv",
        "outputId": "203181ad-8f17-4064-f07c-1d8759ee3881"
      },
      "execution_count": null,
      "outputs": [
        {
          "output_type": "stream",
          "name": "stdout",
          "text": [
            "[[ 6.96   1.867  2.106]\n",
            " [12.9    1.523  4.058]\n",
            " [ 0.39   1.051  0.026]] \n",
            "(3, 3)\n"
          ]
        }
      ]
    },
    {
      "cell_type": "code",
      "source": [
        "inputs @ weights.T + biases"
      ],
      "metadata": {
        "colab": {
          "base_uri": "https://localhost:8080/"
        },
        "id": "WUb5eaB8rHS9",
        "outputId": "52fc42a3-a0ae-4298-9ca8-46cdc6f5d6ae"
      },
      "execution_count": null,
      "outputs": [
        {
          "output_type": "execute_result",
          "data": {
            "text/plain": [
              "array([[ 6.96 ,  1.867,  2.106],\n",
              "       [12.9  ,  1.523,  4.058],\n",
              "       [ 0.39 ,  1.051,  0.026]])"
            ]
          },
          "metadata": {},
          "execution_count": 58
        }
      ]
    },
    {
      "cell_type": "code",
      "source": [
        "print(np.dot(inputs[0], weights[0]))\n",
        "print(inputs[0] @ weights[0])"
      ],
      "metadata": {
        "colab": {
          "base_uri": "https://localhost:8080/"
        },
        "id": "OIxzLVy6rdGJ",
        "outputId": "9bc3d2e2-3e21-44d2-a558-c597d2773f4c"
      },
      "execution_count": null,
      "outputs": [
        {
          "output_type": "stream",
          "name": "stdout",
          "text": [
            "4.96\n",
            "4.96\n"
          ]
        }
      ]
    },
    {
      "cell_type": "code",
      "source": [
        "inputs[0]"
      ],
      "metadata": {
        "colab": {
          "base_uri": "https://localhost:8080/"
        },
        "id": "_CwJvbURr68m",
        "outputId": "71050fcd-e0a8-47e4-aab6-6a9264272b8c"
      },
      "execution_count": null,
      "outputs": [
        {
          "output_type": "execute_result",
          "data": {
            "text/plain": [
              "array([0.8, 1.3, 2.5, 2. ])"
            ]
          },
          "metadata": {},
          "execution_count": 64
        }
      ]
    },
    {
      "cell_type": "code",
      "source": [
        "weights[0]"
      ],
      "metadata": {
        "colab": {
          "base_uri": "https://localhost:8080/"
        },
        "id": "2OCTF7eBr8Ws",
        "outputId": "3c0c91fc-3ebc-4ec3-c166-ca83a2041068"
      },
      "execution_count": null,
      "outputs": [
        {
          "output_type": "execute_result",
          "data": {
            "text/plain": [
              "array([ 2.5,  1.7, -0.5,  1. ])"
            ]
          },
          "metadata": {},
          "execution_count": 65
        }
      ]
    },
    {
      "cell_type": "code",
      "source": [
        "# The below is what I found from the error.\n",
        "# row-wise, no need to transpose, but in matrixs' multiplication, then the size should be matched!\n",
        "print(np.dot(inputs[0], weights.T[0]))\n",
        "print(inputs[0] @ weights.T[0])"
      ],
      "metadata": {
        "colab": {
          "base_uri": "https://localhost:8080/",
          "height": 190
        },
        "id": "SX2atiyIriqH",
        "outputId": "26ea32a9-0224-4581-eb3f-2dc08a4cdc48"
      },
      "execution_count": null,
      "outputs": [
        {
          "output_type": "error",
          "ename": "ValueError",
          "evalue": "ignored",
          "traceback": [
            "\u001b[0;31m---------------------------------------------------------------------------\u001b[0m",
            "\u001b[0;31mValueError\u001b[0m                                Traceback (most recent call last)",
            "\u001b[0;32m<ipython-input-63-2fa97aa65129>\u001b[0m in \u001b[0;36m<module>\u001b[0;34m()\u001b[0m\n\u001b[1;32m      1\u001b[0m \u001b[0;31m# print(np.dot(inputs[0], weights.T[0]))\u001b[0m\u001b[0;34m\u001b[0m\u001b[0;34m\u001b[0m\u001b[0;34m\u001b[0m\u001b[0m\n\u001b[0;32m----> 2\u001b[0;31m \u001b[0mprint\u001b[0m\u001b[0;34m(\u001b[0m\u001b[0minputs\u001b[0m\u001b[0;34m[\u001b[0m\u001b[0;36m0\u001b[0m\u001b[0;34m]\u001b[0m \u001b[0;34m@\u001b[0m \u001b[0mweights\u001b[0m\u001b[0;34m.\u001b[0m\u001b[0mT\u001b[0m\u001b[0;34m[\u001b[0m\u001b[0;36m0\u001b[0m\u001b[0;34m]\u001b[0m\u001b[0;34m)\u001b[0m\u001b[0;34m\u001b[0m\u001b[0;34m\u001b[0m\u001b[0m\n\u001b[0m",
            "\u001b[0;31mValueError\u001b[0m: matmul: Input operand 1 has a mismatch in its core dimension 0, with gufunc signature (n?,k),(k,m?)->(n?,m?) (size 3 is different from 4)"
          ]
        }
      ]
    },
    {
      "cell_type": "markdown",
      "source": [
        "\n",
        "##### TODO\n",
        "###### Q4. Explain what it means to have a 2-D array for the input and also for the output\n",
        "##### A4. if input and output are 2-D array(Matrix), then it means that putting bunch of data at once and getting the result at the same time.if input is 1-D array, it means running the model with one sample data."
      ],
      "metadata": {
        "id": "jivutD2F2cy1"
      }
    },
    {
      "cell_type": "markdown",
      "metadata": {
        "id": "HJCjLVN4ZrL8"
      },
      "source": [
        "## Let's use Tensors!\n",
        "- ``torch.dot()`` behaves differently to ``np.dot()`` \n",
        "- ``torch.dot(a,b)`` treats both ``a`` and ``b`` as 1D vectors (irrespective of their original shape) and computes their inner product.\n",
        "- Several ways to do matrix (rank 2 tensor) multiplication:\n",
        "  - ``ab = a.mm(b)``\n",
        "  - ``ab = torch.mm(a, b)``\n",
        "  - ``ab = torch.matmul(a, b)``\n",
        "  - ``ab = a @ b # Python 3.5+``\n",
        "- The number of columns of the first matrix must be equal to the number of rows of the second matrix.\n",
        "- The function ``torch.matmul()`` performs matrix multiplications if both arguments are 2D and computes their dot product if both arguments are 1D.\n"
      ]
    },
    {
      "cell_type": "code",
      "metadata": {
        "id": "8qlNIDiPxSrF",
        "colab": {
          "base_uri": "https://localhost:8080/"
        },
        "outputId": "460c90a9-3cd1-44a7-9c42-b52df9945469"
      },
      "source": [
        "# 1-D tensor dot product\n",
        "a = torch.tensor([1, 2])\n",
        "b = torch.tensor([3, 2])\n",
        "\n",
        "torch.dot(a, b)"
      ],
      "execution_count": null,
      "outputs": [
        {
          "output_type": "execute_result",
          "data": {
            "text/plain": [
              "tensor(7)"
            ]
          },
          "metadata": {},
          "execution_count": 67
        }
      ]
    },
    {
      "cell_type": "code",
      "source": [
        "a = torch.tensor([1,2])\n",
        "b = torch.tensor([3,2])\n",
        "\n",
        "torch.dot(a, b)"
      ],
      "metadata": {
        "colab": {
          "base_uri": "https://localhost:8080/"
        },
        "id": "n7FXLPVds5n7",
        "outputId": "a97d34ea-49cf-4df9-9578-7b3e4ecee156"
      },
      "execution_count": null,
      "outputs": [
        {
          "output_type": "execute_result",
          "data": {
            "text/plain": [
              "tensor(7)"
            ]
          },
          "metadata": {},
          "execution_count": 68
        }
      ]
    },
    {
      "cell_type": "code",
      "metadata": {
        "id": "puj-YybH0E6g"
      },
      "source": [
        "# 2-D tensor dot product for matrices with matching column and row size\n",
        "a = torch.tensor([\n",
        "    [0, 1, 2],\n",
        "    [1, 2, 3]\n",
        "])\n",
        "\n",
        "b = torch.tensor([\n",
        "    [0, 1],\n",
        "    [1, 1],\n",
        "    [1, 3]\n",
        "])\n",
        "\n",
        "torch.mm(a,b)\n"
      ],
      "execution_count": null,
      "outputs": []
    },
    {
      "cell_type": "code",
      "source": [
        "a = torch.tensor([\n",
        "                  [0,1,2],\n",
        "                  [1,2,3]\n",
        "])\n",
        "\n",
        "b = torch.tensor([\n",
        "                  [0,1],\n",
        "                  [1,1],\n",
        "                  [1,3]\n",
        "])\n",
        "\n",
        "print(torch.mm(a,b))\n",
        "print('\\n')\n",
        "print(a.mm(b))\n",
        "print('\\n')\n",
        "print(torch.matmul(a,b))\n",
        "print('\\n')\n",
        "print(a @ b)\n",
        "\n",
        "# all works well"
      ],
      "metadata": {
        "colab": {
          "base_uri": "https://localhost:8080/"
        },
        "id": "JgmAWgpjtJ7O",
        "outputId": "96f6bb88-a04f-4cb5-9d94-157b09df91e6"
      },
      "execution_count": null,
      "outputs": [
        {
          "output_type": "stream",
          "name": "stdout",
          "text": [
            "tensor([[ 3,  7],\n",
            "        [ 5, 12]])\n",
            "\n",
            "\n",
            "tensor([[ 3,  7],\n",
            "        [ 5, 12]])\n",
            "\n",
            "\n",
            "tensor([[ 3,  7],\n",
            "        [ 5, 12]])\n",
            "\n",
            "\n",
            "tensor([[ 3,  7],\n",
            "        [ 5, 12]])\n"
          ]
        }
      ]
    },
    {
      "cell_type": "markdown",
      "metadata": {
        "id": "WwHbk4uPA6gw"
      },
      "source": [
        "### Dot product between two 2-D tensors from the example"
      ]
    },
    {
      "cell_type": "code",
      "metadata": {
        "id": "JoK1kTu_Zu7K"
      },
      "source": [
        "input = torch.tensor(inputs)\n",
        "weight = torch.tensor(weights)\n",
        "bias = torch.tensor(biases)\n",
        "\n",
        "output = torch.matmul(input, torch.transpose(weight, 0, 1)) + bias\n",
        "\n",
        "print(output, output.shape)\n",
        "\n",
        "# TODO\n",
        "# Q5. repeat using the @ operator. You should get the same output\n"
      ],
      "execution_count": null,
      "outputs": []
    },
    {
      "cell_type": "code",
      "source": [
        "inputs"
      ],
      "metadata": {
        "colab": {
          "base_uri": "https://localhost:8080/"
        },
        "id": "fU0trRUHuPh_",
        "outputId": "2b5ce24c-ddd1-4ccd-80a0-a84372e5f9ae"
      },
      "execution_count": null,
      "outputs": [
        {
          "output_type": "execute_result",
          "data": {
            "text/plain": [
              "array([[ 0.8,  1.3,  2.5,  2. ],\n",
              "       [ 2.3,  1.5,  3.8,  4.5],\n",
              "       [-1.5,  2.7,  3.3, -0.8]])"
            ]
          },
          "metadata": {},
          "execution_count": 81
        }
      ]
    },
    {
      "cell_type": "code",
      "source": [
        "weights"
      ],
      "metadata": {
        "colab": {
          "base_uri": "https://localhost:8080/"
        },
        "id": "ZXbtOrU0uSIL",
        "outputId": "58ca5d4d-f9ec-4576-d5a1-99c565cd64ad"
      },
      "execution_count": null,
      "outputs": [
        {
          "output_type": "execute_result",
          "data": {
            "text/plain": [
              "array([[ 2.5 ,  1.7 , -0.5 ,  1.  ],\n",
              "       [ 0.5 , -0.91,  0.26, -0.5 ],\n",
              "       [-0.26, -0.27,  0.17,  0.87]])"
            ]
          },
          "metadata": {},
          "execution_count": 83
        }
      ]
    },
    {
      "cell_type": "code",
      "source": [
        "biases"
      ],
      "metadata": {
        "colab": {
          "base_uri": "https://localhost:8080/"
        },
        "id": "iM6MhFPouVcj",
        "outputId": "89e5af2a-07a4-43ce-ba1b-6befb875c96e"
      },
      "execution_count": null,
      "outputs": [
        {
          "output_type": "execute_result",
          "data": {
            "text/plain": [
              "array([2. , 3. , 0.5])"
            ]
          },
          "metadata": {},
          "execution_count": 84
        }
      ]
    },
    {
      "cell_type": "code",
      "source": [
        "input = torch.tensor(inputs)\n",
        "weight = torch.tensor(weights)\n",
        "bias = torch.tensor(biases)\n",
        "\n",
        "print(input, '\\n', weight, '\\n', bias)"
      ],
      "metadata": {
        "colab": {
          "base_uri": "https://localhost:8080/"
        },
        "id": "73xnDoF2uXS6",
        "outputId": "7e85db4b-e319-46e1-9a2d-3e9fdfad07f2"
      },
      "execution_count": null,
      "outputs": [
        {
          "output_type": "stream",
          "name": "stdout",
          "text": [
            "tensor([[ 0.8000,  1.3000,  2.5000,  2.0000],\n",
            "        [ 2.3000,  1.5000,  3.8000,  4.5000],\n",
            "        [-1.5000,  2.7000,  3.3000, -0.8000]], dtype=torch.float64) \n",
            " tensor([[ 2.5000,  1.7000, -0.5000,  1.0000],\n",
            "        [ 0.5000, -0.9100,  0.2600, -0.5000],\n",
            "        [-0.2600, -0.2700,  0.1700,  0.8700]], dtype=torch.float64) \n",
            " tensor([2.0000, 3.0000, 0.5000], dtype=torch.float64)\n"
          ]
        }
      ]
    },
    {
      "cell_type": "code",
      "source": [
        "torch.transpose(weight,0,1)"
      ],
      "metadata": {
        "colab": {
          "base_uri": "https://localhost:8080/"
        },
        "id": "JfnzUzVku4K7",
        "outputId": "a2e88fb1-c7fd-4fc9-a336-386013cab04a"
      },
      "execution_count": null,
      "outputs": [
        {
          "output_type": "execute_result",
          "data": {
            "text/plain": [
              "tensor([[ 2.5000,  0.5000, -0.2600],\n",
              "        [ 1.7000, -0.9100, -0.2700],\n",
              "        [-0.5000,  0.2600,  0.1700],\n",
              "        [ 1.0000, -0.5000,  0.8700]], dtype=torch.float64)"
            ]
          },
          "metadata": {},
          "execution_count": 89
        }
      ]
    },
    {
      "cell_type": "code",
      "source": [
        "torch.transpose(weight, 1, 0)"
      ],
      "metadata": {
        "colab": {
          "base_uri": "https://localhost:8080/"
        },
        "id": "CLx_1iGVu8cO",
        "outputId": "08009d39-bbb3-4c17-ba96-e1cf965ba224"
      },
      "execution_count": null,
      "outputs": [
        {
          "output_type": "execute_result",
          "data": {
            "text/plain": [
              "tensor([[ 2.5000,  0.5000, -0.2600],\n",
              "        [ 1.7000, -0.9100, -0.2700],\n",
              "        [-0.5000,  0.2600,  0.1700],\n",
              "        [ 1.0000, -0.5000,  0.8700]], dtype=torch.float64)"
            ]
          },
          "metadata": {},
          "execution_count": 90
        }
      ]
    },
    {
      "cell_type": "code",
      "source": [
        "torch.transpose(weight,1, 1)"
      ],
      "metadata": {
        "colab": {
          "base_uri": "https://localhost:8080/"
        },
        "id": "q9rA7-P5vA1j",
        "outputId": "554e0bb5-fa4d-4b23-97b7-d073493a2520"
      },
      "execution_count": null,
      "outputs": [
        {
          "output_type": "execute_result",
          "data": {
            "text/plain": [
              "tensor([[ 2.5000,  1.7000, -0.5000,  1.0000],\n",
              "        [ 0.5000, -0.9100,  0.2600, -0.5000],\n",
              "        [-0.2600, -0.2700,  0.1700,  0.8700]], dtype=torch.float64)"
            ]
          },
          "metadata": {},
          "execution_count": 91
        }
      ]
    },
    {
      "cell_type": "code",
      "source": [
        "torch.transpose(weight, 0, 0)"
      ],
      "metadata": {
        "colab": {
          "base_uri": "https://localhost:8080/"
        },
        "id": "uYflSkO4vGcf",
        "outputId": "aeb5c8f3-c6b5-4834-bd5d-8d193dd75d61"
      },
      "execution_count": null,
      "outputs": [
        {
          "output_type": "execute_result",
          "data": {
            "text/plain": [
              "tensor([[ 2.5000,  1.7000, -0.5000,  1.0000],\n",
              "        [ 0.5000, -0.9100,  0.2600, -0.5000],\n",
              "        [-0.2600, -0.2700,  0.1700,  0.8700]], dtype=torch.float64)"
            ]
          },
          "metadata": {},
          "execution_count": 93
        }
      ]
    },
    {
      "cell_type": "code",
      "source": [
        "output = torch.matmul(input, torch.transpose(weight, 0, 1)) + bias\n",
        "output"
      ],
      "metadata": {
        "colab": {
          "base_uri": "https://localhost:8080/"
        },
        "id": "_fV8nKXQvrIU",
        "outputId": "59a07e1d-8251-4fde-b432-7c80773a0f43"
      },
      "execution_count": null,
      "outputs": [
        {
          "output_type": "execute_result",
          "data": {
            "text/plain": [
              "tensor([[ 6.9600,  1.8670,  2.1060],\n",
              "        [12.9000,  1.5230,  4.0580],\n",
              "        [ 0.3900,  1.0510,  0.0260]], dtype=torch.float64)"
            ]
          },
          "metadata": {},
          "execution_count": 95
        }
      ]
    },
    {
      "cell_type": "code",
      "source": [
        "output = torch.mm(input, torch.transpose(weight, 0, 1)) + bias\n",
        "output"
      ],
      "metadata": {
        "colab": {
          "base_uri": "https://localhost:8080/"
        },
        "id": "6NZsuY06v6h2",
        "outputId": "08c75360-b924-4676-9e81-90cb5568e7ef"
      },
      "execution_count": null,
      "outputs": [
        {
          "output_type": "execute_result",
          "data": {
            "text/plain": [
              "tensor([[ 6.9600,  1.8670,  2.1060],\n",
              "        [12.9000,  1.5230,  4.0580],\n",
              "        [ 0.3900,  1.0510,  0.0260]], dtype=torch.float64)"
            ]
          },
          "metadata": {},
          "execution_count": 96
        }
      ]
    },
    {
      "cell_type": "code",
      "source": [
        "print(output, output.shape)"
      ],
      "metadata": {
        "colab": {
          "base_uri": "https://localhost:8080/"
        },
        "id": "uj8lEvmrv-nn",
        "outputId": "e24fc1cd-244c-47e8-9bdf-8a28682fb801"
      },
      "execution_count": null,
      "outputs": [
        {
          "output_type": "stream",
          "name": "stdout",
          "text": [
            "tensor([[ 6.9600,  1.8670,  2.1060],\n",
            "        [12.9000,  1.5230,  4.0580],\n",
            "        [ 0.3900,  1.0510,  0.0260]], dtype=torch.float64) torch.Size([3, 3])\n"
          ]
        }
      ]
    },
    {
      "cell_type": "code",
      "source": [
        "# TODO\n",
        "# Q5. repeat using the @ operator. You should get the same output\n",
        "\n",
        "output2 = input @ torch.transpose(weight, 0, 1) + bias\n",
        "output2"
      ],
      "metadata": {
        "colab": {
          "base_uri": "https://localhost:8080/"
        },
        "id": "t28oYYYIwJnM",
        "outputId": "fcebaa1e-58fd-4414-843e-31384028370d"
      },
      "execution_count": null,
      "outputs": [
        {
          "output_type": "execute_result",
          "data": {
            "text/plain": [
              "tensor([[ 6.9600,  1.8670,  2.1060],\n",
              "        [12.9000,  1.5230,  4.0580],\n",
              "        [ 0.3900,  1.0510,  0.0260]], dtype=torch.float64)"
            ]
          },
          "metadata": {},
          "execution_count": 99
        }
      ]
    },
    {
      "cell_type": "code",
      "source": [
        "output == output2"
      ],
      "metadata": {
        "colab": {
          "base_uri": "https://localhost:8080/"
        },
        "id": "rJn-A6mMwRRK",
        "outputId": "d600cf33-fc6e-42e9-ee08-ecd00083a01f"
      },
      "execution_count": null,
      "outputs": [
        {
          "output_type": "execute_result",
          "data": {
            "text/plain": [
              "tensor([[True, True, True],\n",
              "        [True, True, True],\n",
              "        [True, True, True]])"
            ]
          },
          "metadata": {},
          "execution_count": 100
        }
      ]
    },
    {
      "cell_type": "markdown",
      "metadata": {
        "id": "5jBRPHQKG3lt"
      },
      "source": [
        "### Exercise: Write your own code using TENSORS to implement a neural network as follows:\n",
        "- Has 5 input neurons made up of random numbers between 0 and 1\n",
        "- Connects to two output neurons\n",
        "- Weights and biases should be random numbers between a normal distribution. Use `torch.randn()`\n",
        "- The final outputs should be a combination of the weighted sum followed by an activation function as follows:\n",
        "  - If the weighted sum is negative, then the output is 0\n",
        "  - Otherwise the output is just the weighted sum\n"
      ]
    },
    {
      "cell_type": "code",
      "metadata": {
        "id": "dvDjJncONJpx"
      },
      "source": [
        "# Q6. Has 5 input neurons made up of random numbers between 0 and 1. Use torch.rand()\n",
        "\n",
        "# Q7. Weights should be random numbers between a normal distribution. Use torch.randn()\n",
        "\n",
        "# Q8. Biases should be random numbers between a normal distribution. Use torch.randn()\n",
        "\n",
        "# Q9. The outputs should be a combination of the weighted sum of the inputs followed by an activation given below in 10.\n",
        "\n",
        "# Q10. If the weighted sum is negative, then the output is 0, otherwise the output is just the weighted sum\n",
        "\n",
        "# Print out the final output values"
      ],
      "execution_count": null,
      "outputs": []
    },
    {
      "cell_type": "code",
      "source": [
        "# Q6. Has 5 input neurons made up of random numbers between 0 and 1. Use torch.rand()\n",
        "\n",
        "input = torch.rand(1,5)\n",
        "input"
      ],
      "metadata": {
        "colab": {
          "base_uri": "https://localhost:8080/"
        },
        "id": "QBzWzW-Kw9pd",
        "outputId": "f79314b9-e7b3-4f5d-ac42-60efd5d13c2a"
      },
      "execution_count": null,
      "outputs": [
        {
          "output_type": "execute_result",
          "data": {
            "text/plain": [
              "tensor([[0.1243, 0.1311, 0.7923, 0.6197, 0.4906]])"
            ]
          },
          "metadata": {},
          "execution_count": 102
        }
      ]
    },
    {
      "cell_type": "code",
      "source": [
        "# Q7. Weights should be random numbers between a normal distribution. Use torch.randn()\n",
        "\n",
        "weight = torch.randn(5,2)\n",
        "weight"
      ],
      "metadata": {
        "colab": {
          "base_uri": "https://localhost:8080/"
        },
        "id": "bgjOPqpOxjF2",
        "outputId": "f0107825-3fe8-4031-a032-8218e7a8c73e"
      },
      "execution_count": null,
      "outputs": [
        {
          "output_type": "execute_result",
          "data": {
            "text/plain": [
              "tensor([[-0.8634, -0.8153],\n",
              "        [-0.5361,  0.3549],\n",
              "        [ 0.2446,  0.3223],\n",
              "        [ 0.6975, -0.1268],\n",
              "        [ 1.4454,  0.8039]])"
            ]
          },
          "metadata": {},
          "execution_count": 110
        }
      ]
    },
    {
      "cell_type": "code",
      "source": [
        "# Q8. Biases should be random numbers between a normal distribution. Use torch.randn()\n",
        "\n",
        "bias = torch.randn(1,2)\n",
        "bias"
      ],
      "metadata": {
        "colab": {
          "base_uri": "https://localhost:8080/"
        },
        "id": "xwgeAIynxyXp",
        "outputId": "70fb4d44-fead-4116-e7c7-349e508b4f03"
      },
      "execution_count": null,
      "outputs": [
        {
          "output_type": "execute_result",
          "data": {
            "text/plain": [
              "tensor([[-0.1743,  0.9499]])"
            ]
          },
          "metadata": {},
          "execution_count": 112
        }
      ]
    },
    {
      "cell_type": "code",
      "source": [
        "# Q9. The outputs should be a combination of the weighted sum of the inputs followed by an activation given below in 10.\n",
        "# Q10. If the weighted sum is negative, then the output is 0, otherwise the output is just the weighted sum\n",
        "# Print out the final output values\n",
        "\n",
        "output = torch.mm(input, weight) + bias\n",
        "\n",
        "print(output)\n",
        "\n",
        "output[0][0] = output[0][0] if output[0][0] >= 0 else 0\n",
        "output[0][1] = output[0][1] if output[0][1] >= 0 else 0\n",
        "\n",
        "print(output)\n"
      ],
      "metadata": {
        "colab": {
          "base_uri": "https://localhost:8080/"
        },
        "id": "EBXLpN3qx6Kt",
        "outputId": "f45fe907-1b80-4db1-859f-267f8915429d"
      },
      "execution_count": null,
      "outputs": [
        {
          "output_type": "stream",
          "name": "stdout",
          "text": [
            "tensor([[1.9475, 2.3407]])\n",
            "tensor([[1.9475, 2.3407]])\n"
          ]
        }
      ]
    },
    {
      "cell_type": "markdown",
      "metadata": {
        "id": "0KvsIo2UfwO3"
      },
      "source": [
        "## B. Build NN Model using ``torch.nn.Module``\n",
        "- Create a subclass of nn.Module\n",
        "- Define layers and activations\n",
        "- Do a forward pass to inspect the model, parameters and outputs\n",
        "- Add loss, optimiser and training loop for linear regression"
      ]
    },
    {
      "cell_type": "code",
      "metadata": {
        "id": "RuZwA3o9ZWZz",
        "colab": {
          "base_uri": "https://localhost:8080/"
        },
        "outputId": "2e7c3b10-470f-4f00-ce86-cc37c4432a82"
      },
      "source": [
        "import torch\n",
        "\n",
        "import torch.nn as nn\n",
        "\n",
        "class TinyModel(nn.Module): # TinyModel is a subclass of nn.Module\n",
        "\n",
        "# __init__, forward 두개 함수는 꼭 써야함!\n",
        "    \n",
        "    def __init__(self):          # initialze all the setting\n",
        "        super(TinyModel, self).__init__() # call the parent class, nn.Module to inherit all its attributes\n",
        "        super().__init__()\n",
        "        self.linear1 = nn.Linear(100, 200) # input_size and hidden_size(input size = 100,input layer에는 200개의 bias가 있음(implicitly) next layer=200)\n",
        "        self.activation = nn.ReLU() # Rectified Linear Unit activation function\n",
        "        self.linear2 = nn.Linear(200, 10) # hidden layer and output layer size(200 nodes, 200 nodes match되어야 함! previous layer에서 받은 200개를 받음)\n",
        "        self.softmax = nn.Softmax() # output layer activation function\n",
        "    \n",
        "    def forward(self, x): # feed-forward network! # actual engine!\n",
        "        out = self.linear1(x)\n",
        "        out = self.activation(out)\n",
        "        out = self.linear2(out)\n",
        "        out = self.softmax(out)\n",
        "        return out\n",
        "\n",
        "# Create an instance of TinyModel (like initalising a variable)\n",
        "tinymodel = TinyModel()\n",
        "\n",
        "# See what this model contains\n",
        "print('The model:')\n",
        "print(tinymodel)\n",
        "\n",
        "# Print out one of the layers\n",
        "print('\\n\\nJust one layer:')\n",
        "print(tinymodel.linear2)\n",
        "\n",
        "# View ALL the parameters (weights and biases)\n",
        "# print('\\n\\nModel params:')\n",
        "# for param in tinymodel.parameters():\n",
        "#     print(param)\n",
        "\n",
        "# View the parameters (weights and biases) in the LAST layer (linear2) only\n",
        "print('\\n\\nLinear2 layer params:')\n",
        "for param in tinymodel.linear2.parameters():\n",
        "    print(param)"
      ],
      "execution_count": null,
      "outputs": [
        {
          "output_type": "stream",
          "name": "stdout",
          "text": [
            "The model:\n",
            "TinyModel(\n",
            "  (linear1): Linear(in_features=100, out_features=200, bias=True)\n",
            "  (activation): ReLU()\n",
            "  (linear2): Linear(in_features=200, out_features=10, bias=True)\n",
            "  (softmax): Softmax(dim=None)\n",
            ")\n",
            "\n",
            "\n",
            "Just one layer:\n",
            "Linear(in_features=200, out_features=10, bias=True)\n",
            "\n",
            "\n",
            "Linear2 layer params:\n",
            "Parameter containing:\n",
            "tensor([[-0.0282, -0.0024,  0.0195,  ...,  0.0266, -0.0487,  0.0609],\n",
            "        [-0.0269, -0.0551, -0.0574,  ..., -0.0653, -0.0346, -0.0548],\n",
            "        [-0.0623,  0.0549,  0.0583,  ...,  0.0010,  0.0229, -0.0324],\n",
            "        ...,\n",
            "        [ 0.0167,  0.0053,  0.0473,  ...,  0.0595,  0.0012, -0.0097],\n",
            "        [-0.0386,  0.0252,  0.0435,  ...,  0.0576, -0.0004,  0.0030],\n",
            "        [ 0.0533, -0.0543,  0.0022,  ..., -0.0022,  0.0162,  0.0229]],\n",
            "       requires_grad=True)\n",
            "Parameter containing:\n",
            "tensor([ 0.0363, -0.0359,  0.0303, -0.0081, -0.0650,  0.0446, -0.0517, -0.0634,\n",
            "        -0.0559, -0.0686], requires_grad=True)\n"
          ]
        }
      ]
    },
    {
      "cell_type": "code",
      "source": [
        "import torch\n",
        "import torch.nn as nn\n",
        "\n",
        "class MyModel(nn.Module):\n",
        "\n",
        "  def __init__(self):\n",
        "    super(MyModel,self).__init__()\n",
        "    super().__init__()\n",
        "    self.linear1 = nn.Linear(100,200)\n",
        "    self.activation = nn.ReLU()\n",
        "    self.linear2 = nn.Linear(200,10)\n",
        "    self.softmax = nn.Softmax()   # why self.softmax? self.activation does not work?\n",
        "\n",
        "  def forward(self,x):\n",
        "    out = self.linear1(x)\n",
        "    out = self.activation(out)\n",
        "    out = self.linear2(out)\n",
        "    out = self.softmax(out)\n",
        "    return output"
      ],
      "metadata": {
        "id": "vVuUZAV54cCk"
      },
      "execution_count": null,
      "outputs": []
    },
    {
      "cell_type": "code",
      "source": [
        "# Create an instance of TinyModel (like initalising a variable)\n",
        "tinymodel = TinyModel()\n",
        "\n",
        "# See what this model contains\n",
        "print('The model:')\n",
        "print(tinymodel)\n",
        "\n",
        "# Print out one of the layers\n",
        "print('\\n\\nJust one layer:')\n",
        "print(tinymodel.linear2)"
      ],
      "metadata": {
        "id": "n5ahGjpA5OSJ"
      },
      "execution_count": null,
      "outputs": []
    },
    {
      "cell_type": "code",
      "source": [
        "mymodel = MyModel()\n",
        "\n",
        "print('The model:')\n",
        "print(mymodel)"
      ],
      "metadata": {
        "colab": {
          "base_uri": "https://localhost:8080/"
        },
        "id": "ii-RyZ125TZF",
        "outputId": "1d5f60a1-1094-4242-d215-c476af8c62e9"
      },
      "execution_count": null,
      "outputs": [
        {
          "output_type": "stream",
          "name": "stdout",
          "text": [
            "The model:\n",
            "MyModel(\n",
            "  (linear1): Linear(in_features=100, out_features=200, bias=True)\n",
            "  (activation): ReLU()\n",
            "  (linear2): Linear(in_features=200, out_features=10, bias=True)\n",
            "  (softmax): Softmax(dim=None)\n",
            ")\n"
          ]
        }
      ]
    },
    {
      "cell_type": "code",
      "source": [
        "print('Just one layer')\n",
        "print(mymodel.linear2)"
      ],
      "metadata": {
        "colab": {
          "base_uri": "https://localhost:8080/"
        },
        "id": "YXPF5Znb5Z7e",
        "outputId": "6cda3e74-0738-4e9b-c2b1-908d25e40e59"
      },
      "execution_count": null,
      "outputs": [
        {
          "output_type": "stream",
          "name": "stdout",
          "text": [
            "Just one layer\n",
            "Linear(in_features=200, out_features=10, bias=True)\n"
          ]
        }
      ]
    },
    {
      "cell_type": "markdown",
      "metadata": {
        "id": "RcjYoJIAAD8-"
      },
      "source": [
        "### Linear layer demo\n",
        "\n",
        "For the code chunk below, note that:\n",
        "- the weight, bias and output tensor dimensions are as expected (weight matrix is in transposed form, i.e. has shape (out_features, in_features)\n",
        "- the multiplication of the inputs with the weight matrices, added with the bias will produce the output"
      ]
    },
    {
      "cell_type": "code",
      "metadata": {
        "id": "j6RhRO_CZWZ1",
        "colab": {
          "base_uri": "https://localhost:8080/"
        },
        "outputId": "607c34dc-9f46-464b-bfb8-1062cee96d28"
      },
      "source": [
        "# Create a linear layer with 3 inputs and 2 outputs\n",
        "lin = torch.nn.Linear(3, 2)\n",
        "# Create sample input vector with random values\n",
        "x = torch.rand(1, 3)\n",
        "print('Input:')\n",
        "print(x)\n",
        "\n",
        "# Print the initial parameter values (these are also randomly set)\n",
        "print('\\n\\nWeight and Bias parameters:')\n",
        "for param in lin.parameters():\n",
        "    print(param)\n",
        "\n",
        "# Apply the linear layer to the input\n",
        "y = lin(x)\n",
        "print('\\n\\nOutput:')\n",
        "print(y)\n"
      ],
      "execution_count": null,
      "outputs": [
        {
          "output_type": "stream",
          "name": "stdout",
          "text": [
            "Input:\n",
            "tensor([[0.2965, 0.2533, 0.0754]])\n",
            "\n",
            "\n",
            "Weight and Bias parameters:\n",
            "Parameter containing:\n",
            "tensor([[-0.3755, -0.1249,  0.4751],\n",
            "        [-0.4161, -0.3371, -0.4501]], requires_grad=True)\n",
            "Parameter containing:\n",
            "tensor([-0.4087, -0.5365], requires_grad=True)\n",
            "\n",
            "\n",
            "Output:\n",
            "tensor([[-0.5159, -0.7792]], grad_fn=<AddmmBackward0>)\n"
          ]
        }
      ]
    },
    {
      "cell_type": "code",
      "source": [
        "lin = torch.nn.Linear(3,2)\n",
        "lin"
      ],
      "metadata": {
        "colab": {
          "base_uri": "https://localhost:8080/"
        },
        "id": "SgTpF-Fc5xOs",
        "outputId": "41264630-b2e0-4093-f812-0d7bc3b99a09"
      },
      "execution_count": null,
      "outputs": [
        {
          "output_type": "execute_result",
          "data": {
            "text/plain": [
              "Linear(in_features=3, out_features=2, bias=True)"
            ]
          },
          "metadata": {},
          "execution_count": 130
        }
      ]
    },
    {
      "cell_type": "code",
      "source": [
        "x = torch.rand(1,3)\n",
        "print('Input:')\n",
        "print(x)"
      ],
      "metadata": {
        "colab": {
          "base_uri": "https://localhost:8080/"
        },
        "id": "vowEvWWX5-Pe",
        "outputId": "ab5b3473-8417-4ac9-a65c-acfe3689369f"
      },
      "execution_count": null,
      "outputs": [
        {
          "output_type": "stream",
          "name": "stdout",
          "text": [
            "Input:\n",
            "tensor([[0.9179, 0.9430, 0.0390]])\n"
          ]
        }
      ]
    },
    {
      "cell_type": "code",
      "source": [
        "print('Weight and Bias parameter:')\n",
        "\n",
        "for param in lin.parameters():\n",
        "  print(param)\n",
        "\n",
        "# it shows the (random) weights and biases."
      ],
      "metadata": {
        "colab": {
          "base_uri": "https://localhost:8080/"
        },
        "id": "LqaRs1bl6GR-",
        "outputId": "2019ba89-7606-42e9-d276-6b9d6206b3b3"
      },
      "execution_count": null,
      "outputs": [
        {
          "output_type": "stream",
          "name": "stdout",
          "text": [
            "Weight and Bias parameter:\n",
            "Parameter containing:\n",
            "tensor([[-0.3127,  0.3719,  0.1113],\n",
            "        [-0.0686,  0.5441,  0.4242]], requires_grad=True)\n",
            "Parameter containing:\n",
            "tensor([-0.5721,  0.4126], requires_grad=True)\n"
          ]
        }
      ]
    },
    {
      "cell_type": "code",
      "source": [
        "lin.parameters"
      ],
      "metadata": {
        "colab": {
          "base_uri": "https://localhost:8080/"
        },
        "id": "dLEuNlCr6a9e",
        "outputId": "536543f0-e93d-49ce-e61b-f7a354ebcf6a"
      },
      "execution_count": null,
      "outputs": [
        {
          "output_type": "execute_result",
          "data": {
            "text/plain": [
              "<bound method Module.parameters of Linear(in_features=3, out_features=2, bias=True)>"
            ]
          },
          "metadata": {},
          "execution_count": 133
        }
      ]
    },
    {
      "cell_type": "code",
      "source": [
        "x"
      ],
      "metadata": {
        "colab": {
          "base_uri": "https://localhost:8080/"
        },
        "id": "psnfIWn16xhw",
        "outputId": "7657c715-8776-48bb-fa35-9094ae42c9b9"
      },
      "execution_count": null,
      "outputs": [
        {
          "output_type": "execute_result",
          "data": {
            "text/plain": [
              "tensor([[0.9179, 0.9430, 0.0390]])"
            ]
          },
          "metadata": {},
          "execution_count": 134
        }
      ]
    },
    {
      "cell_type": "code",
      "source": [
        "lin"
      ],
      "metadata": {
        "id": "1aR9TGC3640p",
        "outputId": "286159e5-fc95-4eda-97fe-4a808257c683",
        "colab": {
          "base_uri": "https://localhost:8080/"
        }
      },
      "execution_count": null,
      "outputs": [
        {
          "output_type": "execute_result",
          "data": {
            "text/plain": [
              "Linear(in_features=3, out_features=2, bias=True)"
            ]
          },
          "metadata": {},
          "execution_count": 137
        }
      ]
    },
    {
      "cell_type": "code",
      "source": [
        "y = lin(x)\n",
        "print('Output:')\n",
        "print(y)"
      ],
      "metadata": {
        "colab": {
          "base_uri": "https://localhost:8080/"
        },
        "id": "a8IRYPGy6v2r",
        "outputId": "ba2769c8-62d4-4af0-9419-a9061af75986"
      },
      "execution_count": null,
      "outputs": [
        {
          "output_type": "stream",
          "name": "stdout",
          "text": [
            "Output:\n",
            "tensor([[-0.5041,  0.8793]], grad_fn=<AddmmBackward0>)\n"
          ]
        }
      ]
    },
    {
      "cell_type": "markdown",
      "metadata": {
        "id": "7rX90VHvC0kZ"
      },
      "source": [
        "- Note that you see ``requires_grad`` for the parameters. This means that their values will be tracked and used for **gradient** calculation during the training phase.\n",
        "- Although ``Parameter`` is a subclass of ``Tensor``, it has a special extended behaviour in that its gradients can be tracked for NN learning purposes.\n"
      ]
    },
    {
      "cell_type": "markdown",
      "metadata": {
        "id": "pSMHg7NXqUcp"
      },
      "source": [
        "### Add Training Loop, Loss and Optimiser\n",
        "- A loop is necessary to allow NN training to happen iteratively.\n",
        "- The number of times we want to repeat the cycle is called number of epochs.\n",
        "- Loss functions tell us how far a model's prediction is from the correct answer. PyTorch contains a variety of loss functions, including common MSE (mean squared error = L2 norm), Cross Entropy Loss and Negative Likelihood Loss (useful for classifiers), and others.\n",
        "- An optimiser helps to minimise the loss by taking iterative steps in the direction that minimises the loss by updating the parameters in each epoch. We will use Stochastic Gradient Descent (SGD) for this example.\n",
        "\n",
        "\n",
        "## Example: Linear Regression\n",
        "1. Provide training data. We will provide the inputs, ``x`` and outputs, ``y`` for the formula ``y = 3x + 2``. \n",
        "  - Remember to provide them as tensors. \n",
        "  - Note that ``y`` will have to be correct values that satisfy the formula.\n",
        "2. Define the NN class. \n",
        "  - Since we will only take in a number and also spit out a number, we will have the ``input_size`` to be 1 and the ``output_size`` to be 1 as well. \n",
        "  - For linear regression, the output will be a real value, so no output layer activation function is needed.\n",
        "  - Note also that an extra parameter ``hidden_size`` was added to the initialiser\n",
        "3. Create an instance of the NN class\n",
        "  - Pass in the required parameter ``hidden_size``\n",
        "4. Define Loss and Optimiser\n",
        "  - for this linear regression problem, we will use the MSE Loss and SGD optimiser\n",
        "5. Training Loop\n",
        "  - Loop through a set number of times, e.g. 100\n",
        "    - forward pass to calculate the predicted values for each input sample and calculate the loss using the loss instance you created earlier\n",
        "    - backward pass to first reset all the gradients ``opt.zero_grad()``, then to calculate the gradients of the loss w.r.t. the params ``loss.backward()`` and finally update the params accordingly ``opt.step()``\n",
        "\n",
        "6. Test the model\n",
        "  - At this point, the model has been trained, i.e. the parameters have been optimised and the loss should be small enough.\n",
        "  - Call ``model()`` with any new number to test what the trained model will predict. See how accurately it performs.\n",
        "  - Test with several other numbers.\n",
        "\n",
        "### NOTES:\n",
        "- Data will need to be prepared so that it can be used with PyTorch. Here we have specified the data as a tensor and also made sure that it is of type float. \n",
        "- It is good practice to specify hyper parameters separately, e.g. ``hidden_size``, ``learning_rate``, ``num_epochs``, etc.\n"
      ]
    },
    {
      "cell_type": "code",
      "metadata": {
        "id": "MdiTwoHS93b3",
        "colab": {
          "base_uri": "https://localhost:8080/"
        },
        "outputId": "f160d632-84fa-4ebc-e3a0-a0d9fe168c69"
      },
      "source": [
        "import torch\n",
        "\n",
        "import torch.nn as nn\n",
        "\n",
        "\n",
        "# 1. Define training data for a simple mathematical formula y = 3x + 2 for x=1, ..., 5\n",
        "x = torch.tensor([[1],[2],[3],[4],[5]], dtype=torch.float32)\n",
        "y = torch.tensor([[5],[8],[11],[14],[17]], dtype=torch.float32)\n",
        "\n",
        "# 2. Define NN class \n",
        "class MyNN(nn.Module): # TinyModel is a subclass of nn.Module\n",
        "    \n",
        "    def __init__(self, hidden_size):\n",
        "        super().__init__()\n",
        "        self.linear1 = nn.Linear(1, hidden_size) # input_size and hidden_size\n",
        "        self.activation = nn.ReLU() # Rectified Linear Unit activation function\n",
        "        self.linear2 = nn.Linear(hidden_size, 1) # hidden layer and output layer size\n",
        "        # output layer is a real value for regression, does not need any activation\n",
        "    \n",
        "    def forward(self, x):\n",
        "        x = self.linear1(x)\n",
        "        x = self.activation(x)\n",
        "        x = self.linear2(x)\n",
        "        return x\n",
        "\n",
        "# 3. Create an instance of NN model and define the hidden_size\n",
        "hidden_size = 4\n",
        "model = MyNN(hidden_size) # now 'model' will be a callable function\n",
        "\n",
        "# 4. Loss and Optimiser\n",
        "learning_rate = 0.01\n",
        "loss_fn = nn.MSELoss() # now 'loss_fn' will be a callable function\n",
        "opt = torch.optim.SGD(model.parameters(), lr=learning_rate)\n",
        "\n",
        "# 5. Training loop\n",
        "num_epochs = 100\n",
        "\n",
        "for epoch in range(num_epochs):\n",
        "  # 5.1 Forward pass\n",
        "  y_pred = model(x)\n",
        "  loss = loss_fn(y_pred, y) \n",
        "\n",
        "  # 5.2 Backward pass\n",
        "  opt.zero_grad() # Reset gradients at each epoch\n",
        "  loss.backward() # Backpropagate the loss gradients w.r.t the params\n",
        "  opt.step() # Update params\n",
        "\n",
        "  # 5.3 Print loss every 10th epoch\n",
        "  if (epoch+1) % 10 == 0:\n",
        "    print(f'Epoch {epoch+1}/{num_epochs}, Loss={loss.item():.4f} ')\n"
      ],
      "execution_count": 15,
      "outputs": [
        {
          "output_type": "stream",
          "name": "stdout",
          "text": [
            "Epoch 10/100, Loss=0.0833 \n",
            "Epoch 20/100, Loss=0.0625 \n",
            "Epoch 30/100, Loss=0.0473 \n",
            "Epoch 40/100, Loss=0.0358 \n",
            "Epoch 50/100, Loss=0.0271 \n",
            "Epoch 60/100, Loss=0.0205 \n",
            "Epoch 70/100, Loss=0.0156 \n",
            "Epoch 80/100, Loss=0.0118 \n",
            "Epoch 90/100, Loss=0.0089 \n",
            "Epoch 100/100, Loss=0.0068 \n"
          ]
        }
      ]
    },
    {
      "cell_type": "code",
      "source": [
        "import torch\n",
        "\n",
        "import torch.nn as nn\n",
        "\n",
        "\n",
        "x = torch.tensor([[1],[2],[3],[4],[5]], dtype=torch.float32)\n",
        "y = torch.tensor([[5],[8],[11],[14],[17]], dtype=torch.float32)\n"
      ],
      "metadata": {
        "id": "TyFCp9zztBwy"
      },
      "execution_count": 23,
      "outputs": []
    },
    {
      "cell_type": "code",
      "source": [
        "class LinReg(nn.Module):\n",
        "  \n",
        "  def __init__(self, hidden_size):\n",
        "    super().__init__()\n",
        "    self.linear1 = nn.Linear(1, hidden_size)\n",
        "    self.activation = nn.ReLU()\n",
        "    self.linear2 = nn.Linear(hidden_size, 1)\n",
        "\n",
        "  def forward(self, x):\n",
        "    x = self.linear1(x)\n",
        "    x = self.activation(x)\n",
        "    x = self.linear2(x)\n",
        "    return x"
      ],
      "metadata": {
        "id": "iyVdwLywqO1V"
      },
      "execution_count": 24,
      "outputs": []
    },
    {
      "cell_type": "code",
      "source": [
        "hidden_size = 4\n",
        "model = LinReg(hidden_size)\n",
        "\n",
        "learning_rate = 0.01\n",
        "loss_fn = nn.MSELoss()\n",
        "opt = torch.optim.SGD(model.parameters(), lr = learning_rate)\n",
        "\n",
        "num_epochs = 100"
      ],
      "metadata": {
        "id": "DBmYvetkq6Z1"
      },
      "execution_count": 47,
      "outputs": []
    },
    {
      "cell_type": "code",
      "source": [
        "for epoch in range(num_epochs):\n",
        "  y_pred = model(x)\n",
        "  loss = loss_fn(y_pred, y)\n",
        "\n",
        "  opt.zero_grad()  # need to memorize these 3 lines. # should be updated not reset at each epoch??\n",
        "  loss.backward()\n",
        "  opt.step()\n",
        "\n",
        "  if (epoch+1) % 10 == 0 : # every 10 step\n",
        "      print(f'Epoch {epoch+1}/{num_epochs}, Loss = {loss.item(): .4f}')\n",
        "\n"
      ],
      "metadata": {
        "colab": {
          "base_uri": "https://localhost:8080/"
        },
        "id": "6w2P_P4Eraol",
        "outputId": "baf9944f-ffbd-42bd-958a-f27a069feacd"
      },
      "execution_count": 48,
      "outputs": [
        {
          "output_type": "stream",
          "name": "stdout",
          "text": [
            "Epoch 10/100, Loss =  0.1814\n",
            "Epoch 20/100, Loss =  0.1363\n",
            "Epoch 30/100, Loss =  0.1029\n",
            "Epoch 40/100, Loss =  0.0779\n",
            "Epoch 50/100, Loss =  0.0591\n",
            "Epoch 60/100, Loss =  0.0450\n",
            "Epoch 70/100, Loss =  0.0342\n",
            "Epoch 80/100, Loss =  0.0261\n",
            "Epoch 90/100, Loss =  0.0199\n",
            "Epoch 100/100, Loss =  0.0152\n"
          ]
        }
      ]
    },
    {
      "cell_type": "code",
      "source": [
        "test_num = 10\n",
        "test = torch.tensor([test_num], dtype = torch.float32)\n",
        "model(test).item()"
      ],
      "metadata": {
        "colab": {
          "base_uri": "https://localhost:8080/"
        },
        "id": "eAQn8-n9tJGn",
        "outputId": "4d6d21bc-7a14-47a7-a1af-21de8f5db42f"
      },
      "execution_count": 30,
      "outputs": [
        {
          "output_type": "execute_result",
          "data": {
            "text/plain": [
              "32.3023796081543"
            ]
          },
          "metadata": {},
          "execution_count": 30
        }
      ]
    },
    {
      "cell_type": "code",
      "source": [
        "print(model(test))"
      ],
      "metadata": {
        "colab": {
          "base_uri": "https://localhost:8080/"
        },
        "id": "EFkv3nJWtQIG",
        "outputId": "64aa4ce3-d6c8-40ce-af43-be4203c224a1"
      },
      "execution_count": 31,
      "outputs": [
        {
          "output_type": "stream",
          "name": "stdout",
          "text": [
            "tensor([32.3024], grad_fn=<AddBackward0>)\n"
          ]
        }
      ]
    },
    {
      "cell_type": "code",
      "source": [
        "print(f'Model prediction for {test_num} is {model(test).item():.4f}')"
      ],
      "metadata": {
        "colab": {
          "base_uri": "https://localhost:8080/"
        },
        "id": "eT8nw2QntY71",
        "outputId": "ab19fbdf-15a8-4266-8a7f-d8490edcf09d"
      },
      "execution_count": 33,
      "outputs": [
        {
          "output_type": "stream",
          "name": "stdout",
          "text": [
            "Model prediction for 10 is 32.3024\n"
          ]
        }
      ]
    },
    {
      "cell_type": "code",
      "metadata": {
        "id": "RvmHgY1oDLiB"
      },
      "source": [
        "# TODO\n",
        "# Q11. Did the loss decrease over time during training?\n",
        "# A11. Yes, it decreases over time\n",
        "\n",
        "# Q12. Was the prediction of the model for x=10 close to the ideal value that it should have?\n",
        "# A12. The real value is 32 and the prediction of the model is 32.3024. So it is very close to the ground truth value.\n",
        "\n",
        "# Q13. Change the num_epochs to 200 and retrain the model. Is the prediction for x=10 better? Why?\n",
        "\n",
        "# Q14. Set num_epoch=100 and change the hidden_size to 8. Retrain the model. Is the model's performance better?\n",
        "\n",
        "# Q15. Try increasing or decreasing num_epoch and/or hidden_size to see which combination gives you the best model. \n",
        "# Keep the output of your code execution above for the best combination and state which combination of num_epoch \n",
        "# and hidden_size values gave you the best model.\n"
      ],
      "execution_count": null,
      "outputs": []
    },
    {
      "cell_type": "code",
      "source": [
        "# Q13. Change the num_epochs to 200 and retrain the model. Is the prediction for x=10 better? Why?\n",
        "# It gives slightly better result with smaller loss. It is gradient descent method and the loss function is convex function.\n",
        "# Therefore, as the number of epochs is increasing, the weights can be closer to the optimal combination.\n",
        "\n",
        "for epoch in range(200):\n",
        "  y_pred = model(x)\n",
        "  loss = loss_fn(y_pred, y)\n",
        "\n",
        "  opt.zero_grad()  # need to memorize these 3 lines. # should be updated not reset at each epoch??\n",
        "  loss.backward()\n",
        "  opt.step()\n",
        "\n",
        "  if (epoch+1) % 10 == 0 : # every 10 step\n",
        "      print(f'Epoch {epoch+1}/{200}, Loss = {loss.item(): .4f}')\n",
        "\n",
        "\n",
        "test_num = 10\n",
        "test = torch.tensor([test_num], dtype = torch.float32)\n",
        "print(model(test).item())\n"
      ],
      "metadata": {
        "colab": {
          "base_uri": "https://localhost:8080/"
        },
        "id": "YGCJIAFDtyhd",
        "outputId": "c233dae6-27f3-4c58-b068-a23e085f721f"
      },
      "execution_count": 49,
      "outputs": [
        {
          "output_type": "stream",
          "name": "stdout",
          "text": [
            "Epoch 10/200, Loss =  0.0116\n",
            "Epoch 20/200, Loss =  0.0089\n",
            "Epoch 30/200, Loss =  0.0068\n",
            "Epoch 40/200, Loss =  0.0052\n",
            "Epoch 50/200, Loss =  0.0040\n",
            "Epoch 60/200, Loss =  0.0031\n",
            "Epoch 70/200, Loss =  0.0023\n",
            "Epoch 80/200, Loss =  0.0018\n",
            "Epoch 90/200, Loss =  0.0014\n",
            "Epoch 100/200, Loss =  0.0011\n",
            "Epoch 110/200, Loss =  0.0008\n",
            "Epoch 120/200, Loss =  0.0006\n",
            "Epoch 130/200, Loss =  0.0005\n",
            "Epoch 140/200, Loss =  0.0004\n",
            "Epoch 150/200, Loss =  0.0003\n",
            "Epoch 160/200, Loss =  0.0002\n",
            "Epoch 170/200, Loss =  0.0002\n",
            "Epoch 180/200, Loss =  0.0001\n",
            "Epoch 190/200, Loss =  0.0001\n",
            "Epoch 200/200, Loss =  0.0001\n",
            "32.0316276550293\n"
          ]
        }
      ]
    },
    {
      "cell_type": "code",
      "source": [
        "# Q14. Set num_epoch=100 and change the hidden_size to 8. Retrain the model. Is the model's performance better?\n",
        "\n",
        "# The result is worse than the original model's one. I assumed that it would be better.\n",
        "# I think it happens because the initial weights are randomized, so it can depend on the initial value\n",
        "# Another hypothesis is that if the model is way complicated than it should be, the result can be not optimal\n",
        "\n",
        "hidden_size = 8\n",
        "model2 = LinReg(hidden_size)\n",
        "\n",
        "learning_rate = 0.01\n",
        "loss_fn = nn.MSELoss()\n",
        "opt = torch.optim.SGD(model2.parameters(), lr = learning_rate)\n",
        "\n",
        "num_epochs = 100\n",
        "\n",
        "for epoch in range(num_epochs):\n",
        "  y_pred = model2(x)\n",
        "  loss = loss_fn(y_pred, y)\n",
        "\n",
        "  opt.zero_grad()  # need to memorize these 3 lines. # should be updated not reset at each epoch??\n",
        "  loss.backward()\n",
        "  opt.step()\n",
        "\n",
        "  if (epoch+1) % 10 == 0 : # every 10 step\n",
        "      print(f'Epoch {epoch+1}/{num_epochs}, Loss = {loss.item(): .4f}')\n",
        "\n",
        "\n",
        "test_num = 10\n",
        "test = torch.tensor([test_num], dtype = torch.float32)\n",
        "model2(test).item()"
      ],
      "metadata": {
        "colab": {
          "base_uri": "https://localhost:8080/"
        },
        "id": "7U15PpXPuYdu",
        "outputId": "53d64360-3eee-4227-e62c-a362f0ed622f"
      },
      "execution_count": 44,
      "outputs": [
        {
          "output_type": "stream",
          "name": "stdout",
          "text": [
            "Epoch 10/100, Loss =  0.0979\n",
            "Epoch 20/100, Loss =  0.0635\n",
            "Epoch 30/100, Loss =  0.0413\n",
            "Epoch 40/100, Loss =  0.0269\n",
            "Epoch 50/100, Loss =  0.0176\n",
            "Epoch 60/100, Loss =  0.0115\n",
            "Epoch 70/100, Loss =  0.0076\n",
            "Epoch 80/100, Loss =  0.0050\n",
            "Epoch 90/100, Loss =  0.0033\n",
            "Epoch 100/100, Loss =  0.0022\n"
          ]
        },
        {
          "output_type": "execute_result",
          "data": {
            "text/plain": [
              "32.21519088745117"
            ]
          },
          "metadata": {},
          "execution_count": 44
        }
      ]
    },
    {
      "cell_type": "code",
      "source": [
        "\n",
        "# Q15. Try increasing or decreasing num_epoch and/or hidden_size to see which combination gives you the best model. \n",
        "# Keep the output of your code execution above for the best combination and state which combination of num_epoch \n",
        "# and hidden_size values gave you the best model.\n",
        "\n",
        "# If both the number of hidden_nodes and epoch are increased, the result gets better.\n",
        "\n",
        "hidden_size = 8\n",
        "model3 = LinReg(hidden_size)\n",
        "\n",
        "learning_rate = 0.01\n",
        "loss_fn = nn.MSELoss()\n",
        "opt = torch.optim.SGD(model3.parameters(), lr = learning_rate)\n",
        "\n",
        "num_epochs = 200\n",
        "\n",
        "for epoch in range(num_epochs):\n",
        "  y_pred = model3(x)\n",
        "  loss = loss_fn(y_pred, y)\n",
        "\n",
        "  opt.zero_grad()  # need to memorize these 3 lines. # should be updated not reset at each epoch??\n",
        "  loss.backward()\n",
        "  opt.step()\n",
        "\n",
        "  if (epoch+1) % 10 == 0 : # every 10 step\n",
        "      print(f'Epoch {epoch+1}/{num_epochs}, Loss = {loss.item(): .4f}')\n",
        "\n",
        "\n",
        "test_num = 10\n",
        "test = torch.tensor([test_num], dtype = torch.float32)\n",
        "model3(test).item()"
      ],
      "metadata": {
        "colab": {
          "base_uri": "https://localhost:8080/"
        },
        "id": "W6Buj6VMwz9P",
        "outputId": "480452ff-9176-47ed-f4e7-d4597e1a07eb"
      },
      "execution_count": 46,
      "outputs": [
        {
          "output_type": "stream",
          "name": "stdout",
          "text": [
            "Epoch 10/200, Loss =  0.0027\n",
            "Epoch 20/200, Loss =  0.0020\n",
            "Epoch 30/200, Loss =  0.0015\n",
            "Epoch 40/200, Loss =  0.0011\n",
            "Epoch 50/200, Loss =  0.0009\n",
            "Epoch 60/200, Loss =  0.0007\n",
            "Epoch 70/200, Loss =  0.0005\n",
            "Epoch 80/200, Loss =  0.0004\n",
            "Epoch 90/200, Loss =  0.0003\n",
            "Epoch 100/200, Loss =  0.0003\n",
            "Epoch 110/200, Loss =  0.0002\n",
            "Epoch 120/200, Loss =  0.0002\n",
            "Epoch 130/200, Loss =  0.0002\n",
            "Epoch 140/200, Loss =  0.0002\n",
            "Epoch 150/200, Loss =  0.0001\n",
            "Epoch 160/200, Loss =  0.0001\n",
            "Epoch 170/200, Loss =  0.0001\n",
            "Epoch 180/200, Loss =  0.0001\n",
            "Epoch 190/200, Loss =  0.0001\n",
            "Epoch 200/200, Loss =  0.0001\n"
          ]
        },
        {
          "output_type": "execute_result",
          "data": {
            "text/plain": [
              "32.05524826049805"
            ]
          },
          "metadata": {},
          "execution_count": 46
        }
      ]
    },
    {
      "cell_type": "markdown",
      "metadata": {
        "id": "oj6pLZXIX3Q_"
      },
      "source": [
        "### Let's plot the landscape of the MSE loss over a range of values for weight\n",
        "- The sample training data has function ``y=3x+2``. However, this relationship is **NOT** known by the model. We only have ``x``'s and ``y``'s.\n",
        "- So we try different values of weight, ``w``, between -1 and 5 to fit the equation ``y = wx + 2``\n",
        "- When we do that, we calculate the MSE loss between the predicted outcome, ``pred`` and the actual outcome, ``y`` for each ``w`` that we use.\n",
        "- The loss that occurred for each weight is plotted and connected."
      ]
    },
    {
      "cell_type": "code",
      "metadata": {
        "id": "-GM_vu-urCfd",
        "colab": {
          "base_uri": "https://localhost:8080/",
          "height": 295
        },
        "outputId": "b8f01b3e-f819-407b-a646-0aeba0c58ea8"
      },
      "source": [
        "import numpy as np\n",
        "import matplotlib.pyplot as plt\n",
        "\n",
        "# Create a range of values from -1 to 5\n",
        "w_range = np.linspace(-1, 5, 1000)\n",
        "loss_w_range = [] # create an empty list to store the loss values\n",
        "\n",
        "# Try different weight values to get predictions for y\n",
        "for w in w_range:\n",
        "    pred = (w * x) + 2\n",
        "    loss = torch.mean((pred - y) ** 2)\n",
        "    loss_w_range.append(loss.item())\n",
        "\n",
        "# Plot the graph\n",
        "plt.title(\"Loss Over Different Weight Values for the Linear Function y=3x+2\")\n",
        "plt.plot(w_range, loss_w_range)\n",
        "plt.xlabel('Weight, w')\n",
        "plt.ylabel('MSE Loss')\n",
        "plt.show()\n"
      ],
      "execution_count": null,
      "outputs": [
        {
          "output_type": "display_data",
          "data": {
            "text/plain": [
              "<Figure size 432x288 with 1 Axes>"
            ],
            "image/png": "[encoded data removed]"
          },
          "metadata": {
            "needs_background": "light"
          }
        }
      ]
    },
    {
      "cell_type": "code",
      "source": [
        "import numpy as np\n",
        "import matplotlib.pyplot as plt\n",
        "\n",
        "w_range = np.linspace(-1, 5, 1000)\n",
        "loss_w_range = []\n",
        "\n",
        "for w in w_range:\n",
        "  pred = w*x + 2\n",
        "  loss = torch.mean((pred-y)**2)\n",
        "  loss_w_range.append(loss.item())\n",
        "\n",
        "plt.title('Loss over differennt weight values for the linear function y=3x+2')\n",
        "plt.plot(w_range, loss_w_range)\n",
        "plt.xlabel('Weight, w')\n",
        "plt.ylabel('MSE Loss')\n",
        "plt.show()"
      ],
      "metadata": {
        "colab": {
          "base_uri": "https://localhost:8080/",
          "height": 295
        },
        "id": "ti7Hulzpxl6M",
        "outputId": "e012ea7b-6a4b-44ff-89d3-64190fee76e1"
      },
      "execution_count": 55,
      "outputs": [
        {
          "output_type": "display_data",
          "data": {
            "text/plain": [
              "<Figure size 432x288 with 1 Axes>"
            ],
            "image/png": "[encoded data removed]"
          },
          "metadata": {
            "needs_background": "light"
          }
        }
      ]
    },
    {
      "cell_type": "code",
      "metadata": {
        "id": "qdbsu201V2lU"
      },
      "source": [
        "# Q16. From the graph, what value of weight gives the minimum loss for this linear function?\n",
        "# A16. 3 makes the loss minimum."
      ],
      "execution_count": null,
      "outputs": []
    }
  ]
}