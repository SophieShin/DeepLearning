{
  "cells": [
    {
      "cell_type": "markdown",
      "metadata": {
        "id": "view-in-github",
        "colab_type": "text"
      },
      "source": [
        "<a href=\"https://colab.research.google.com/github/SophieShin/DeepLearning/blob/main/%5BAIM5004%5DAssignment_1(SoheeShin).ipynb\" target=\"_parent\"><img src=\"https://colab.research.google.com/assets/colab-badge.svg\" alt=\"Open In Colab\"/></a>"
      ]
    },
    {
      "cell_type": "markdown",
      "metadata": {
        "id": "lyRTmcNQ2g64"
      },
      "source": [
        "## 1. Implementation of MLP (Multilayer Perceptron).\n",
        "\n"
      ]
    },
    {
      "cell_type": "markdown",
      "metadata": {
        "id": "FuspW2Lt22AQ"
      },
      "source": [
        "#### (a)Download MNIST dataset from http://yann.lecun.com/exdb/mnist/ and report the statistics of the dataset, e.g. how many training (and testing) images, the size of each image, the number of class and the number of images per each classes. Normalize data to [0, 1] if necessary. Show random 3 images per each class"
      ]
    },
    {
      "cell_type": "code",
      "execution_count": 130,
      "metadata": {
        "colab": {
          "base_uri": "https://localhost:8080/"
        },
        "id": "6ynejcF02TMY",
        "outputId": "08a71ce0-98e6-4822-8305-dac0c33ed1c1"
      },
      "outputs": [
        {
          "output_type": "stream",
          "name": "stdout",
          "text": [
            "t10k-images-idx3-ubyte\ttrain-images-idx3-ubyte\n",
            "t10k-labels-idx1-ubyte\ttrain-labels-idx1-ubyte\n"
          ]
        }
      ],
      "source": [
        "!wget -q -r -A '*ubyte.gz' --no-parent  'http://yann.lecun.com/exdb/mnist/'\n",
        "!rm -rf DATA\n",
        "!mkdir DATA\n",
        "!mv yann.lecun.com/exdb/mnist/* DATA/\n",
        "!rm -rf yann.lecun.com\n",
        "!gunzip DATA/*\n",
        "\n",
        "!ls DATA"
      ]
    },
    {
      "cell_type": "code",
      "execution_count": 4,
      "metadata": {
        "colab": {
          "base_uri": "https://localhost:8080/"
        },
        "id": "rCPktE_h3IwV",
        "outputId": "ab5bea47-a50a-4c11-ef97-ff5eff2935e0"
      },
      "outputs": [
        {
          "output_type": "stream",
          "name": "stdout",
          "text": [
            "  Building wheel for idx2numpy (setup.py) ... \u001b[?25l\u001b[?25hdone\n",
            "\u001b[K     |████████████████████████████████| 11.2 MB 5.4 MB/s \n",
            "\u001b[K     |████████████████████████████████| 247 kB 47.6 MB/s \n",
            "\u001b[K     |████████████████████████████████| 98 kB 6.8 MB/s \n",
            "\u001b[K     |████████████████████████████████| 1.1 MB 43.0 MB/s \n",
            "\u001b[K     |████████████████████████████████| 899 kB 42.9 MB/s \n",
            "\u001b[K     |████████████████████████████████| 4.3 MB 36.1 MB/s \n",
            "\u001b[K     |████████████████████████████████| 40 kB 4.1 MB/s \n",
            "\u001b[K     |████████████████████████████████| 15.7 MB 32.7 MB/s \n",
            "\u001b[31mERROR: pip's dependency resolver does not currently take into account all the packages that are installed. This behaviour is the source of the following dependency conflicts.\n",
            "tensorflow 2.8.0 requires tf-estimator-nightly==2.8.0.dev2021122109, which is not installed.\n",
            "google-colab 1.0.0 requires six~=1.15.0, but you have six 1.16.0 which is incompatible.\n",
            "datascience 0.10.6 requires folium==0.2.1, but you have folium 0.8.3 which is incompatible.\n",
            "arviz 0.11.4 requires typing-extensions<4,>=3.7.4.3, but you have typing-extensions 4.1.1 which is incompatible.\n",
            "albumentations 0.1.12 requires imgaug<0.2.7,>=0.2.5, but you have imgaug 0.2.9 which is incompatible.\u001b[0m\n",
            "\u001b[?25h"
          ]
        }
      ],
      "source": [
        "!pip3 install -q idx2numpy\n",
        "!pip3 install -q --upgrade --force-reinstall matplotlib"
      ]
    },
    {
      "cell_type": "code",
      "execution_count": 131,
      "metadata": {
        "id": "rkVUetPq3KUP"
      },
      "outputs": [],
      "source": [
        "import idx2numpy\n",
        "import numpy as np\n",
        "import matplotlib.pyplot as plt\n",
        "import seaborn as sns\n"
      ]
    },
    {
      "cell_type": "code",
      "execution_count": 132,
      "metadata": {
        "id": "_7MvoL-33ZUS"
      },
      "outputs": [],
      "source": [
        "# loading the data\n",
        "\n",
        "x_train_all = idx2numpy.convert_from_file('DATA/train-images-idx3-ubyte')\n",
        "y_train_all = idx2numpy.convert_from_file('DATA/train-labels-idx1-ubyte')\n",
        "\n",
        "x_test = idx2numpy.convert_from_file('DATA/t10k-images-idx3-ubyte')\n",
        "y_test = idx2numpy.convert_from_file('DATA/t10k-labels-idx1-ubyte')"
      ]
    },
    {
      "cell_type": "code",
      "execution_count": 133,
      "metadata": {
        "colab": {
          "base_uri": "https://localhost:8080/"
        },
        "id": "c1fHMLFv3dz8",
        "outputId": "d02b3722-4939-4337-e30c-09e0b81ac12e"
      },
      "outputs": [
        {
          "output_type": "stream",
          "name": "stdout",
          "text": [
            "X_train: (60000, 28, 28)\n",
            "X_test: (10000, 28, 28)\n",
            "y_train: (60000,)\n",
            "y_test: (10000,)\n"
          ]
        }
      ],
      "source": [
        "# training/test features/target size\n",
        "print(f'X_train: {x_train_all.shape}')\n",
        "print(f'X_test: {x_test.shape}')\n",
        "print(f'y_train: {y_train_all.shape}')\n",
        "print(f'y_test: {y_test.shape}')"
      ]
    },
    {
      "cell_type": "code",
      "execution_count": 134,
      "metadata": {
        "colab": {
          "base_uri": "https://localhost:8080/"
        },
        "id": "x4ZFtOrH5cmA",
        "outputId": "af6c3812-89d3-4576-d949-82c9c2321886"
      },
      "outputs": [
        {
          "output_type": "execute_result",
          "data": {
            "text/plain": [
              "(28, 28)"
            ]
          },
          "metadata": {},
          "execution_count": 134
        }
      ],
      "source": [
        "# size of each image\n",
        "x_train_all[0].shape"
      ]
    },
    {
      "cell_type": "code",
      "execution_count": 135,
      "metadata": {
        "colab": {
          "base_uri": "https://localhost:8080/"
        },
        "id": "QETGMtbH3oSc",
        "outputId": "59321f35-fdf4-472d-e1f4-eabaf153c9c6"
      },
      "outputs": [
        {
          "output_type": "execute_result",
          "data": {
            "text/plain": [
              "array([0, 1, 2, 3, 4, 5, 6, 7, 8, 9], dtype=uint8)"
            ]
          },
          "metadata": {},
          "execution_count": 135
        }
      ],
      "source": [
        "# number of classes\n",
        "\n",
        "np.unique(y_test)\n",
        "\n",
        "# 10 classes"
      ]
    },
    {
      "cell_type": "code",
      "execution_count": 136,
      "metadata": {
        "colab": {
          "base_uri": "https://localhost:8080/"
        },
        "id": "K6fCAwWL_vHF",
        "outputId": "bf2b1243-8de5-4f71-98ca-15baf6ada3be"
      },
      "outputs": [
        {
          "output_type": "execute_result",
          "data": {
            "text/plain": [
              "Counter({0: 5923,\n",
              "         1: 6742,\n",
              "         2: 5958,\n",
              "         3: 6131,\n",
              "         4: 5842,\n",
              "         5: 5421,\n",
              "         6: 5918,\n",
              "         7: 6265,\n",
              "         8: 5851,\n",
              "         9: 5949})"
            ]
          },
          "metadata": {},
          "execution_count": 136
        }
      ],
      "source": [
        "# number of data in each class of training sample\n",
        "import collections\n",
        "collections.Counter(y_train_all)"
      ]
    },
    {
      "cell_type": "code",
      "execution_count": 138,
      "metadata": {
        "id": "X8ZLpUP1Aftk"
      },
      "outputs": [],
      "source": [
        "# Normalizing features\n",
        "x_train_all = x_train_all/x_train_all.max()\n",
        "x_test = x_test/x_test.max()"
      ]
    },
    {
      "cell_type": "code",
      "execution_count": 139,
      "metadata": {
        "colab": {
          "base_uri": "https://localhost:8080/"
        },
        "id": "umr7QTgFC4b-",
        "outputId": "545bdfa4-17b3-4d9e-e372-f2a8ea9ef5c1"
      },
      "outputs": [
        {
          "output_type": "stream",
          "name": "stdout",
          "text": [
            "Requirement already satisfied: matplotlib==3.1.1 in /usr/local/lib/python3.7/dist-packages (3.1.1)\n",
            "Requirement already satisfied: numpy>=1.11 in /usr/local/lib/python3.7/dist-packages (from matplotlib==3.1.1) (1.21.5)\n",
            "Requirement already satisfied: pyparsing!=2.0.4,!=2.1.2,!=2.1.6,>=2.0.1 in /usr/local/lib/python3.7/dist-packages (from matplotlib==3.1.1) (3.0.7)\n",
            "Requirement already satisfied: cycler>=0.10 in /usr/local/lib/python3.7/dist-packages (from matplotlib==3.1.1) (0.11.0)\n",
            "Requirement already satisfied: kiwisolver>=1.0.1 in /usr/local/lib/python3.7/dist-packages (from matplotlib==3.1.1) (1.4.2)\n",
            "Requirement already satisfied: python-dateutil>=2.1 in /usr/local/lib/python3.7/dist-packages (from matplotlib==3.1.1) (2.8.2)\n",
            "Requirement already satisfied: typing-extensions in /usr/local/lib/python3.7/dist-packages (from kiwisolver>=1.0.1->matplotlib==3.1.1) (4.1.1)\n",
            "Requirement already satisfied: six>=1.5 in /usr/local/lib/python3.7/dist-packages (from python-dateutil>=2.1->matplotlib==3.1.1) (1.16.0)\n"
          ]
        }
      ],
      "source": [
        "!pip install matplotlib==3.1.1"
      ]
    },
    {
      "cell_type": "code",
      "execution_count": 140,
      "metadata": {
        "colab": {
          "base_uri": "https://localhost:8080/",
          "height": 219
        },
        "id": "QheROGh28i-a",
        "outputId": "e777bf43-53cf-420b-f2b8-8fc8239ce373"
      },
      "outputs": [
        {
          "output_type": "display_data",
          "data": {
            "text/plain": [
              "<Figure size 432x288 with 10 Axes>"
            ],
            "image/png": "[encoded data removed]"
          },
          "metadata": {
            "needs_background": "light"
          }
        }
      ],
      "source": [
        "# show random 10 images\n",
        "for i in range(10):\n",
        "  plt.subplot(2,5,i+1)\n",
        "  plt.imshow(x_train_all[i])\n",
        "  plt.subplots_adjust(hspace=0.5)\n",
        "  plt.axis('off')\n"
      ]
    },
    {
      "cell_type": "markdown",
      "metadata": {
        "id": "GJSFIDM6DPkF"
      },
      "source": [
        "#### (b) Implement a MLP architecture and write forward pass. You need to implement all following layers, ReLU activation function, and softmax function. You should also implement cross-entropy loss function.\n"
      ]
    },
    {
      "cell_type": "code",
      "execution_count": 141,
      "metadata": {
        "id": "CcYx18BWox74"
      },
      "outputs": [],
      "source": [
        "from sklearn.model_selection import train_test_split\n",
        "x_train, x_val, y_train, y_val = train_test_split(x_train_all, y_train_all, stratify=y_train_all, \n",
        "                                                  test_size=0.2, random_state=42)"
      ]
    },
    {
      "cell_type": "code",
      "execution_count": 142,
      "metadata": {
        "id": "bTymwhmS8Qtg"
      },
      "outputs": [],
      "source": [
        "#flattening\n",
        "x_train = x_train.reshape(-1, 784)\n",
        "x_val = x_val.reshape(-1, 784)"
      ]
    },
    {
      "cell_type": "code",
      "execution_count": 143,
      "metadata": {
        "colab": {
          "base_uri": "https://localhost:8080/"
        },
        "id": "yrq3H6YxXliv",
        "outputId": "d164fa6d-85fa-4de3-ff19-df1873422957"
      },
      "outputs": [
        {
          "output_type": "stream",
          "name": "stdout",
          "text": [
            "(48000, 10) (12000, 10)\n",
            "[0. 1. 0. 0. 0. 0. 0. 0. 0. 0.]\n",
            "[0. 0. 0. 0. 0. 0. 0. 1. 0. 0.]\n"
          ]
        }
      ],
      "source": [
        "# one-hot-encoding\n",
        "import tensorflow\n",
        "import keras\n",
        "\n",
        "y_train_encoded = tf.keras.utils.to_categorical(y_train, num_classes = 10)\n",
        "y_val_encoded = tf.keras.utils.to_categorical(y_val, num_classes = 10)\n",
        "print(y_train_encoded.shape, y_val_encoded.shape)\n",
        "print(y_train_encoded[0])\n",
        "print(y_val_encoded[0])"
      ]
    },
    {
      "cell_type": "code",
      "source": [
        "# relu의 backpropagation 구현이 어려워 sigmoid를 actication function으로 하였습니다."
      ],
      "metadata": {
        "id": "Ls1jT_A-hTcS"
      },
      "execution_count": null,
      "outputs": []
    },
    {
      "cell_type": "code",
      "execution_count": 196,
      "metadata": {
        "id": "WwDJQdgj2nih"
      },
      "outputs": [],
      "source": [
        "class MultiClassNetwork:\n",
        "    \n",
        "    def __init__(self, units=10, batch_size=32, learning_rate=0.1, l1=0, l2=0):\n",
        "        self.units = units         \n",
        "        self.batch_size = batch_size    \n",
        "        self.w1 = None            \n",
        "        self.b1 = None             \n",
        "        self.w2 = None             \n",
        "        self.b2 = None             \n",
        "        self.a1 = None             \n",
        "        self.losses = []           \n",
        "        self.val_losses = []       \n",
        "        self.lr = learning_rate    \n",
        "        self.l1 = l1               \n",
        "        self.l2 = l2               \n",
        "\n",
        "    def forpass(self, x):\n",
        "        z1 = np.dot(x, self.w1) + self.b1        \n",
        "        self.a1 = self.sigmoid(z1)               \n",
        "        z2 = np.dot(self.a1, self.w2) + self.b2  \n",
        "        return z2\n",
        "\n",
        "    def backprop(self, x, err):\n",
        "        m = len(x)       \n",
        "        w2_grad = np.dot(self.a1.T, err) / m\n",
        "        b2_grad = np.sum(err) / m\n",
        "        err_to_hidden = np.dot(err, self.w2.T) * self.a1 * (1 - self.a1)\n",
        "        w1_grad = np.dot(x.T, err_to_hidden) / m\n",
        "        b1_grad = np.sum(err_to_hidden, axis=0) / m\n",
        "        return w1_grad, b1_grad, w2_grad, b2_grad\n",
        "    \n",
        "    def relu(self, z):\n",
        "        return np.maximum(0,z)\n",
        "\n",
        "    def sigmoid(self, z):\n",
        "        z = np.clip(z, -100, None)            \n",
        "        a = 1 / (1 + np.exp(-z))             \n",
        "        return a\n",
        "    \n",
        "    def softmax(self, z):\n",
        "        z = np.clip(z, -100, None)            \n",
        "        exp_z = np.exp(z)\n",
        "        return exp_z / np.sum(exp_z, axis=1).reshape(-1, 1)\n",
        " \n",
        "    def init_weights(self, n_features, n_classes):\n",
        "        self.w1 = np.random.normal(0, 1, \n",
        "                                   (n_features, self.units))  \n",
        "        self.b1 = np.zeros(self.units)                       \n",
        "        self.w2 = np.random.normal(0, 1, \n",
        "                                   (self.units, n_classes))  \n",
        "        self.b2 = np.zeros(n_classes)\n",
        "        \n",
        "    def fit(self, x, y, epochs=100, x_val=None, y_val=None):\n",
        "        self.init_weights(x.shape[1], y.shape[1])    \n",
        "        for i in range(epochs):\n",
        "            loss = 0\n",
        "            print('.', end='')\n",
        "            for x_batch, y_batch in self.gen_batch(x, y):\n",
        "                a = self.training(x_batch, y_batch)\n",
        "                a = np.clip(a, 1e-10, 1-1e-10)\n",
        "                loss += np.sum(-y_batch*np.log(a))\n",
        "            self.losses.append((loss + self.reg_loss()) / len(x))\n",
        "            self.update_val_loss(x_val, y_val)\n",
        "\n",
        "    def gen_batch(self, x, y):\n",
        "        length = len(x)\n",
        "        bins = length // self.batch_size\n",
        "        if length % self.batch_size:\n",
        "            bins += 1                   \n",
        "        indexes = np.random.permutation(np.arange(len(x)))\n",
        "        x = x[indexes]\n",
        "        y = y[indexes]\n",
        "        for i in range(bins):\n",
        "            start = self.batch_size * i\n",
        "            end = self.batch_size * (i + 1)\n",
        "            yield x[start:end], y[start:end]  \n",
        "            \n",
        "    def training(self, x, y):\n",
        "        m = len(x)                \n",
        "        z = self.forpass(x)      \n",
        "        a = self.softmax(z)      \n",
        "        err = -(y - a)          \n",
        "        w1_grad, b1_grad, w2_grad, b2_grad = self.backprop(x, err)\n",
        "        w1_grad += (self.l1 * np.sign(self.w1) + self.l2 * self.w1) / m\n",
        "        w2_grad += (self.l1 * np.sign(self.w2) + self.l2 * self.w2) / m\n",
        "        self.w1 -= self.lr * w1_grad\n",
        "        self.b1 -= self.lr * b1_grad\n",
        "        self.w2 -= self.lr * w2_grad\n",
        "        self.b2 -= self.lr * b2_grad\n",
        "        return a\n",
        "   \n",
        "    def predict(self, x):\n",
        "        z = self.forpass(x)         \n",
        "        return np.argmax(z, axis=1)  \n",
        "    \n",
        "    def score(self, x, y):\n",
        "        return np.mean(self.predict(x) == np.argmax(y, axis=1))\n",
        "\n",
        "    def reg_loss(self):\n",
        "        return self.l1 * (np.sum(np.abs(self.w1)) + np.sum(np.abs(self.w2))) + \\\n",
        "               self.l2 / 2 * (np.sum(self.w1**2) + np.sum(self.w2**2))\n",
        "\n",
        "    def update_val_loss(self, x_val, y_val):\n",
        "        z = self.forpass(x_val)            \n",
        "        a = self.softmax(z)                \n",
        "        a = np.clip(a, 1e-10, 1-1e-10)     \n",
        "        val_loss = np.sum(-y_val*np.log(a))\n",
        "        self.val_losses.append((val_loss + self.reg_loss()) / len(y_val))"
      ]
    },
    {
      "cell_type": "code",
      "execution_count": 197,
      "metadata": {
        "colab": {
          "base_uri": "https://localhost:8080/",
          "height": 297
        },
        "id": "-THPttpNoTG7",
        "outputId": "b1947b5e-12db-4e72-f8cb-365c3ee2afc9"
      },
      "outputs": [
        {
          "output_type": "stream",
          "name": "stdout",
          "text": [
            "..............."
          ]
        },
        {
          "output_type": "display_data",
          "data": {
            "text/plain": [
              "<Figure size 432x288 with 1 Axes>"
            ],
            "image/png": "[encoded data removed]"
          },
          "metadata": {
            "needs_background": "light"
          }
        }
      ],
      "source": [
        "fc = MultiClassNetwork(units=128, batch_size=256)\n",
        "fc.fit(x_train, y_train_encoded, \n",
        "       x_val=x_val, y_val=y_val_encoded, epochs=15)\n",
        "\n",
        "plt.plot(fc.losses)\n",
        "plt.plot(fc.val_losses)\n",
        "plt.ylabel('loss')\n",
        "plt.xlabel('epoch')\n",
        "plt.legend(['train_loss', 'val_loss'])\n",
        "plt.show()"
      ]
    },
    {
      "cell_type": "markdown",
      "source": [
        "####(c) Implement backward pass to compute the gradients w.r.t the parameters. You should check the correctness of your implementation by either (1) using finite difference or (2) using the existing deep learning libraries. Please provide checking codes in the report .\n"
      ],
      "metadata": {
        "id": "qsK-A3LsAUi_"
      }
    },
    {
      "cell_type": "code",
      "source": [
        "a = torch.from_numpy(x_train[0])\n",
        "a = torch.tensor(a,requires_grad=True).float()\n",
        "w1 = torch.randn(128, 784).float() \n",
        "b1 = torch.randn(128).float()           \n",
        "w2 = torch.randn(10, 128).float() \n",
        "b2 = torch.randn(10).float() \n",
        "\n",
        "relu = nn.ReLU()\n",
        "softmax = nn.Softmax()\n",
        "\n",
        "z1 = torch.matmul(w1,a) +b1\n",
        "a1 = relu(z1)    \n",
        "z2 = torch.matmul(w2,a1) + b2  \n",
        "a2 = relu(z2)\n",
        "final = softmax(a2)\n",
        "\n",
        "eps=1e-7\n",
        "log_final = torch.log(final+eps)\n",
        "\n",
        "y = torch.from_numpy(y_train_encoded[0])\n",
        "loss = - torch.dot(y, log_final)\n",
        "\n",
        "\n",
        "loss.backward()\n",
        "print(loss)\n",
        "print(a.grad)"
      ],
      "metadata": {
        "colab": {
          "base_uri": "https://localhost:8080/"
        },
        "id": "-zvdTPUO2cxK",
        "outputId": "1fc811e3-c741-4c4a-fa14-7b29574f48a7"
      },
      "execution_count": 167,
      "outputs": [
        {
          "output_type": "stream",
          "name": "stdout",
          "text": [
            "tensor(16.1181, grad_fn=<NegBackward0>)\n",
            "None\n"
          ]
        },
        {
          "output_type": "stream",
          "name": "stderr",
          "text": [
            "/usr/local/lib/python3.7/dist-packages/ipykernel_launcher.py:2: UserWarning: To copy construct from a tensor, it is recommended to use sourceTensor.clone().detach() or sourceTensor.clone().detach().requires_grad_(True), rather than torch.tensor(sourceTensor).\n",
            "  \n",
            "/usr/local/lib/python3.7/dist-packages/ipykernel_launcher.py:15: UserWarning: Implicit dimension choice for softmax has been deprecated. Change the call to include dim=X as an argument.\n",
            "  from ipykernel import kernelapp as app\n",
            "/usr/local/lib/python3.7/dist-packages/torch/_tensor.py:1013: UserWarning: The .grad attribute of a Tensor that is not a leaf Tensor is being accessed. Its .grad attribute won't be populated during autograd.backward(). If you indeed want the .grad field to be populated for a non-leaf Tensor, use .retain_grad() on the non-leaf Tensor. If you access the non-leaf Tensor by mistake, make sure you access the leaf Tensor instead. See github.com/pytorch/pytorch/pull/30531 for more informations. (Triggered internally at  aten/src/ATen/core/TensorBody.h:417.)\n",
            "  return self._grad\n"
          ]
        }
      ]
    },
    {
      "cell_type": "markdown",
      "metadata": {
        "id": "LnC1ETIWrE0i"
      },
      "source": [
        "#### (d) Implement a stochastic gradient descent (SGD) algorithm and train your model. Please provide training and validation loss curves in a single plot.\n"
      ]
    },
    {
      "cell_type": "code",
      "execution_count": 172,
      "metadata": {
        "id": "CcT1Rqa8qNwP",
        "colab": {
          "base_uri": "https://localhost:8080/",
          "height": 300
        },
        "outputId": "59673e27-1121-4ea6-c365-0cab432a33bb"
      },
      "outputs": [
        {
          "output_type": "stream",
          "name": "stdout",
          "text": [
            ".........."
          ]
        },
        {
          "output_type": "display_data",
          "data": {
            "text/plain": [
              "<Figure size 432x288 with 1 Axes>"
            ],
            "image/png": "[encoded data removed]"
          },
          "metadata": {
            "needs_background": "light"
          }
        }
      ],
      "source": [
        "fc_sgd = MultiClassNetwork(units=128, batch_size=1)\n",
        "fc_sgd.fit(x_train, y_train_encoded, \n",
        "       x_val=x_val, y_val=y_val_encoded, epochs=10)\n",
        "\n",
        "plt.plot(fc.losses)\n",
        "plt.plot(fc.val_losses)\n",
        "plt.ylabel('loss')\n",
        "plt.xlabel('iteration')\n",
        "plt.legend(['train_loss', 'val_loss'])\n",
        "plt.show()"
      ]
    },
    {
      "cell_type": "markdown",
      "metadata": {
        "id": "1Of1irRirW2O"
      },
      "source": [
        "#### (e) Train with different hyperparameters. Try at least 5 different learning rates and minibatch sizes. Plot training and validation curves for all different configurations in a single plot."
      ]
    },
    {
      "cell_type": "code",
      "execution_count": 178,
      "metadata": {
        "id": "yFzTPGzPrY2D",
        "colab": {
          "base_uri": "https://localhost:8080/",
          "height": 299
        },
        "outputId": "1a85192c-5791-40a1-ce6b-cbfcde30f7d2"
      },
      "outputs": [
        {
          "output_type": "stream",
          "name": "stdout",
          "text": [
            "...................."
          ]
        },
        {
          "output_type": "display_data",
          "data": {
            "text/plain": [
              "<Figure size 432x288 with 1 Axes>"
            ],
            "image/png": "[encoded data removed]"
          },
          "metadata": {
            "needs_background": "light"
          }
        }
      ],
      "source": [
        "fc = MultiClassNetwork(units=128, batch_size=256, learning_rate = 0.5)\n",
        "fc.fit(x_train, y_train_encoded, \n",
        "       x_val=x_val, y_val=y_val_encoded, epochs=20)\n",
        "\n",
        "plt.plot(fc.losses)\n",
        "plt.plot(fc.val_losses)\n",
        "plt.ylabel('loss')\n",
        "plt.xlabel('iteration')\n",
        "plt.legend(['train_loss', 'val_loss'])\n",
        "plt.show()"
      ]
    },
    {
      "cell_type": "code",
      "source": [
        "fc = MultiClassNetwork(units=128, batch_size=256, learning_rate = 0.01)\n",
        "fc.fit(x_train, y_train_encoded, \n",
        "       x_val=x_val, y_val=y_val_encoded, epochs=20)\n",
        "\n",
        "plt.plot(fc.losses)\n",
        "plt.plot(fc.val_losses)\n",
        "plt.ylabel('loss')\n",
        "plt.xlabel('iteration')\n",
        "plt.legend(['train_loss', 'val_loss'])\n",
        "plt.show()"
      ],
      "metadata": {
        "colab": {
          "base_uri": "https://localhost:8080/",
          "height": 297
        },
        "id": "ffCSYuLDdUhe",
        "outputId": "8ad5cd67-d04f-459b-db49-3c755ba4e093"
      },
      "execution_count": 180,
      "outputs": [
        {
          "output_type": "stream",
          "name": "stdout",
          "text": [
            "...................."
          ]
        },
        {
          "output_type": "display_data",
          "data": {
            "text/plain": [
              "<Figure size 432x288 with 1 Axes>"
            ],
            "image/png": "[encoded data removed]"
          },
          "metadata": {
            "needs_background": "light"
          }
        }
      ]
    },
    {
      "cell_type": "code",
      "source": [
        "fc = MultiClassNetwork(units=128, batch_size=256, learning_rate = 1)\n",
        "fc.fit(x_train, y_train_encoded, \n",
        "       x_val=x_val, y_val=y_val_encoded, epochs=20)\n",
        "\n",
        "plt.plot(fc.losses)\n",
        "plt.plot(fc.val_losses)\n",
        "plt.ylabel('loss')\n",
        "plt.xlabel('iteration')\n",
        "plt.legend(['train_loss', 'val_loss'])\n",
        "plt.show()"
      ],
      "metadata": {
        "colab": {
          "base_uri": "https://localhost:8080/",
          "height": 297
        },
        "id": "VaaLnOcvemYo",
        "outputId": "eac6de4f-11e6-4814-fe2e-1ea2e90af24a"
      },
      "execution_count": 181,
      "outputs": [
        {
          "output_type": "stream",
          "name": "stdout",
          "text": [
            "...................."
          ]
        },
        {
          "output_type": "display_data",
          "data": {
            "text/plain": [
              "<Figure size 432x288 with 1 Axes>"
            ],
            "image/png": "[encoded data removed]"
          },
          "metadata": {
            "needs_background": "light"
          }
        }
      ]
    },
    {
      "cell_type": "code",
      "source": [
        "fc = MultiClassNetwork(units=128, batch_size=128, learning_rate = 1)\n",
        "fc.fit(x_train, y_train_encoded, \n",
        "       x_val=x_val, y_val=y_val_encoded, epochs=20)\n",
        "\n",
        "plt.plot(fc.losses)\n",
        "plt.plot(fc.val_losses)\n",
        "plt.ylabel('loss')\n",
        "plt.xlabel('iteration')\n",
        "plt.legend(['train_loss', 'val_loss'])\n",
        "plt.show()"
      ],
      "metadata": {
        "colab": {
          "base_uri": "https://localhost:8080/",
          "height": 297
        },
        "id": "i66CtF5_eo_p",
        "outputId": "10075514-f61f-438b-851d-4308160acce8"
      },
      "execution_count": 182,
      "outputs": [
        {
          "output_type": "stream",
          "name": "stdout",
          "text": [
            "...................."
          ]
        },
        {
          "output_type": "display_data",
          "data": {
            "text/plain": [
              "<Figure size 432x288 with 1 Axes>"
            ],
            "image/png": "[encoded data removed]"
          },
          "metadata": {
            "needs_background": "light"
          }
        }
      ]
    },
    {
      "cell_type": "code",
      "source": [
        "fc = MultiClassNetwork(units=128, batch_size=128, learning_rate = 0.5)\n",
        "fc.fit(x_train, y_train_encoded, \n",
        "       x_val=x_val, y_val=y_val_encoded, epochs=20)\n",
        "\n",
        "plt.plot(fc.losses)\n",
        "plt.plot(fc.val_losses)\n",
        "plt.ylabel('loss')\n",
        "plt.xlabel('iteration')\n",
        "plt.legend(['train_loss', 'val_loss'])\n",
        "plt.show()"
      ],
      "metadata": {
        "colab": {
          "base_uri": "https://localhost:8080/",
          "height": 297
        },
        "id": "pWr1T2Vdew6K",
        "outputId": "1eeb6797-bf7d-42a6-e9bf-e0f1c29e2e6c"
      },
      "execution_count": 183,
      "outputs": [
        {
          "output_type": "stream",
          "name": "stdout",
          "text": [
            "...................."
          ]
        },
        {
          "output_type": "display_data",
          "data": {
            "text/plain": [
              "<Figure size 432x288 with 1 Axes>"
            ],
            "image/png": "[encoded data removed]"
          },
          "metadata": {
            "needs_background": "light"
          }
        }
      ]
    }
  ],
  "metadata": {
    "colab": {
      "collapsed_sections": [],
      "name": "[AIM5004]Assignment #1(SoheeShin)",
      "provenance": [],
      "authorship_tag": "ABX9TyPEIU+IwZsmzd/IPw+n3P2C",
      "include_colab_link": true
    },
    "kernelspec": {
      "display_name": "Python 3",
      "name": "python3"
    },
    "language_info": {
      "name": "python"
    }
  },
  "nbformat": 4,
  "nbformat_minor": 0
}