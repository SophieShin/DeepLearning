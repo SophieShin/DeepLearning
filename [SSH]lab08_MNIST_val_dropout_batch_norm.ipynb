{
  "nbformat": 4,
  "nbformat_minor": 0,
  "metadata": {
    "colab": {
      "name": "[SSH]lab08-MNIST-val-dropout-batch-norm.ipynb",
      "provenance": [],
      "collapsed_sections": [],
      "include_colab_link": true
    },
    "kernelspec": {
      "name": "python3",
      "display_name": "Python 3"
    },
    "language_info": {
      "name": "python"
    }
  },
  "cells": [
    {
      "cell_type": "markdown",
      "metadata": {
        "id": "view-in-github",
        "colab_type": "text"
      },
      "source": [
        "<a href=\"https://colab.research.google.com/github/SophieShin/DeepLearning/blob/main/%5BSSH%5Dlab08_MNIST_val_dropout_batch_norm.ipynb\" target=\"_parent\"><img src=\"https://colab.research.google.com/assets/colab-badge.svg\" alt=\"Open In Colab\"/></a>"
      ]
    },
    {
      "cell_type": "markdown",
      "metadata": {
        "id": "kIRxHin2Y1Z1"
      },
      "source": [
        "## Lab 8 – Dealing with Overfitting\n",
        "- MNIST dataset\n",
        "  - Handwritten digits images\n",
        "  - 28 x 28 greyscale\n",
        "- Source: https://www.cs.toronto.edu/~lczhang/360/lec/w05/overfit.html\n",
        "\n",
        "### Load the data into training and validation sets\n",
        "- for purposes of overfitting, training data will be largely reduced\n",
        "- no normalisation is applied yet\n",
        "- `batch_size` is set to 20\n",
        "- we will also **NOT** use GPU"
      ]
    },
    {
      "cell_type": "code",
      "source": [
        "import torch\n",
        "import torch.nn as nn\n",
        "import torch.nn.functional as F\n",
        "import torch.optim as optim\n",
        "\n",
        "import torchvision\n",
        "from torchvision import datasets, transforms\n",
        "\n",
        "import matplotlib.pyplot as plt"
      ],
      "metadata": {
        "id": "zlTgDi_2uY4F"
      },
      "execution_count": 93,
      "outputs": []
    },
    {
      "cell_type": "code",
      "source": [
        "batch_size = 20\n",
        "\n",
        "# for reproducibility\n",
        "torch.manual_seed(1)"
      ],
      "metadata": {
        "colab": {
          "base_uri": "https://localhost:8080/"
        },
        "id": "znq9me5yudc8",
        "outputId": "492a9e59-297f-42b6-b591-a8460f4ceb2c"
      },
      "execution_count": 94,
      "outputs": [
        {
          "output_type": "execute_result",
          "data": {
            "text/plain": [
              "<torch._C.Generator at 0x7f98c7439a70>"
            ]
          },
          "metadata": {},
          "execution_count": 94
        }
      ]
    },
    {
      "cell_type": "code",
      "source": [
        "train_data = datasets.MNIST('./data', train = True, download = True, transform = transforms.ToTensor())"
      ],
      "metadata": {
        "id": "jStL_JbGuips"
      },
      "execution_count": 95,
      "outputs": []
    },
    {
      "cell_type": "code",
      "source": [
        "len(list(train_data))"
      ],
      "metadata": {
        "colab": {
          "base_uri": "https://localhost:8080/"
        },
        "id": "evhsaMFdvODT",
        "outputId": "1dc4a63c-8790-42e1-e815-ac9de79cc24e"
      },
      "execution_count": null,
      "outputs": [
        {
          "output_type": "execute_result",
          "data": {
            "text/plain": [
              "60000"
            ]
          },
          "metadata": {},
          "execution_count": 7
        }
      ]
    },
    {
      "cell_type": "code",
      "source": [
        "train_data = list(train_data)\n",
        "train_set = train_data[:20] #200 img\n",
        "val_set = train_data[200:2200] #2000 img\n",
        "\n",
        "train_loader = torch.utils.data.DataLoader(train_set, batch_size = batch_size, shuffle = True) #Suffle every epoch"
      ],
      "metadata": {
        "id": "rIIbhv1qu8d8"
      },
      "execution_count": 96,
      "outputs": []
    },
    {
      "cell_type": "markdown",
      "metadata": {
        "id": "xtBy6CxizTZD"
      },
      "source": [
        "### View a few images"
      ]
    },
    {
      "cell_type": "code",
      "source": [
        "batch = next(iter(train_loader))\n",
        "\n",
        "images, labels = batch\n",
        "\n",
        "print(images.shape)\n",
        "print(labels)"
      ],
      "metadata": {
        "colab": {
          "base_uri": "https://localhost:8080/"
        },
        "id": "OGqlyDRzvlK5",
        "outputId": "2e68d072-0caf-46a4-e0a3-974b1be85761"
      },
      "execution_count": null,
      "outputs": [
        {
          "output_type": "stream",
          "name": "stdout",
          "text": [
            "torch.Size([20, 1, 28, 28])\n",
            "tensor([7, 8, 5, 1, 1, 9, 3, 6, 0, 4, 9, 1, 2, 6, 4, 3, 1, 2, 5, 3])\n"
          ]
        }
      ]
    },
    {
      "cell_type": "code",
      "source": [
        "# Create a grid\n",
        "plt.figure(figsize = (12,12))\n",
        "grid = torchvision.utils.make_grid(tensor = images, nrow = 4)\n",
        "\n",
        "print(f'clas labels: {labels}')\n",
        "\n",
        "plt.imshow(grid.permute(1,2,0))\n",
        "\n",
        "# Use grid.permute() to transpose the grid so that the axes meet the specifications required by \n",
        "# plt.imshow(), which are [height, width, channels]. PyTorch dimensions are [channels, height, width]."
      ],
      "metadata": {
        "colab": {
          "base_uri": "https://localhost:8080/",
          "height": 738
        },
        "id": "kKJsRGGRv3N8",
        "outputId": "e247c8e2-20b2-4219-bc37-614068749852"
      },
      "execution_count": null,
      "outputs": [
        {
          "output_type": "stream",
          "name": "stdout",
          "text": [
            "clas labels: tensor([7, 8, 5, 1, 1, 9, 3, 6, 0, 4, 9, 1, 2, 6, 4, 3, 1, 2, 5, 3])\n"
          ]
        },
        {
          "output_type": "execute_result",
          "data": {
            "text/plain": [
              "<matplotlib.image.AxesImage at 0x7f98b730dfd0>"
            ]
          },
          "metadata": {},
          "execution_count": 19
        },
        {
          "output_type": "display_data",
          "data": {
            "text/plain": [
              "<Figure size 864x864 with 1 Axes>"
            ],
            "image/png": "[encoded data removed]"
          },
          "metadata": {
            "needs_background": "light"
          }
        }
      ]
    },
    {
      "cell_type": "markdown",
      "metadata": {
        "id": "ptnSbZTI8WSQ"
      },
      "source": [
        "### Create a NN model"
      ]
    },
    {
      "cell_type": "code",
      "source": [
        "class MNIST_DNN(nn.Module):\n",
        "  def __init__(self):\n",
        "    super().__init__()\n",
        "    self.layer1 = nn.Linear(28*28, 50)\n",
        "    self.layer2 = nn.Linear(50, 20)\n",
        "    self.layer3 = nn.Linear(20, 10)\n",
        "\n",
        "  def forward(self, img):\n",
        "    flattened = img.reshape(-1, 28*28)\n",
        "    out1 = F.relu(self.layer1(flattened))\n",
        "    out2 = F.relu(self.layer2(out1))\n",
        "    output = self.layer3(out2)\n",
        "    return output"
      ],
      "metadata": {
        "id": "13YvQfacwMmI"
      },
      "execution_count": null,
      "outputs": []
    },
    {
      "cell_type": "markdown",
      "metadata": {
        "id": "k3skUHRs8pDj"
      },
      "source": [
        "### Function to Calculate Accuracy"
      ]
    },
    {
      "cell_type": "code",
      "source": [
        "model.eval()"
      ],
      "metadata": {
        "colab": {
          "base_uri": "https://localhost:8080/"
        },
        "id": "d-yC9P_YAPix",
        "outputId": "0ca70df7-b56c-4fcb-dfe8-083a50a06e51"
      },
      "execution_count": null,
      "outputs": [
        {
          "output_type": "execute_result",
          "data": {
            "text/plain": [
              "MNIST_Dropout_BN(\n",
              "  (layer1): Linear(in_features=784, out_features=50, bias=True)\n",
              "  (bn1): BatchNorm1d(50, eps=1e-05, momentum=0.1, affine=True, track_running_stats=True)\n",
              "  (layer2): Linear(in_features=50, out_features=20, bias=True)\n",
              "  (layer3): Linear(in_features=20, out_features=10, bias=True)\n",
              "  (dropout): Dropout(p=0.4, inplace=False)\n",
              ")"
            ]
          },
          "metadata": {},
          "execution_count": 19
        }
      ]
    },
    {
      "cell_type": "code",
      "source": [
        "def get_accuracy(model, data):\n",
        "  correct = 0\n",
        "  total = 0\n",
        "  model.eval() # for later #\n",
        "  for imgs, labels in torch.utils.data.DataLoader(data, batch_size = 64):\n",
        "    output = model(imgs)\n",
        "    pred = output.max(1, keepdim = True)[1] # get the index of the max logit\n",
        "    correct += pred.eq(labels.view_as(pred)).sum().item()\n",
        "    total += imgs.shape[0]\n",
        "  return 100.0 * correct / total\n"
      ],
      "metadata": {
        "id": "XcobDayLw6_g"
      },
      "execution_count": null,
      "outputs": []
    },
    {
      "cell_type": "markdown",
      "metadata": {
        "id": "uGR3svRUwmlD"
      },
      "source": [
        "## Function for Training Loop\n",
        "- We will run over 500 iterations in batches of 20\n"
      ]
    },
    {
      "cell_type": "code",
      "source": [
        "def train_model(model, train, valid, n_iters = 500, learn_rate = 0.01, weight_decay = 0):\n",
        "  # Lists to store model's performance information\n",
        "  iters, losses, train_acc, val_acc = [], [], [], []\n",
        "\n",
        "  criterion = nn.CrossEntropyLoss()\n",
        "  optimizer = optim.SGD(model.parameters(), lr = learn_rate, momentum= 0.9, weight_decay = weight_decay)\n",
        "\n",
        "  for i in range(n_iters):\n",
        "    for images, labels in iter(train_loader):\n",
        "      model.train() # for dropout and batch norm layers\n",
        "      out = model(images)                # forward pass\n",
        "      loss = criterion(out, labels)      # compute the total loss\n",
        "      loss.backward()                    # backward pass(compute parameter updates)\n",
        "      optimizer.step()                   # make the updates for each parameter\n",
        "      optimizer.zero_grad()              # reset the gradients for the next iteration\n",
        "\n",
        "      # Save the current training and validation information at every 10th iteration\n",
        "      if (i+1) % 10 ==0:\n",
        "        iters.append(i)\n",
        "        losses.append(float(loss)/batch_size) # compute *average* loss\n",
        "        train_acc.append(get_accuracy(model, train)) # compute training accuracy\n",
        "        val_acc.append(get_accuracy(model, valid))   # compute validation accuracy\n",
        "  print(f'Plotting')\n",
        "  # plotting training loss, accuracy and validation accuracy\n",
        "  plt.figure(figsize = (10,4))\n",
        "  plt.subplot(1, 2, 1)\n",
        "  plt.title('Training Curve')\n",
        "  plt.plot(iters, losses, label = 'Train')\n",
        "  plt.xlabel('Iteration')\n",
        "  plt.ylabel('Loss')\n",
        "\n",
        "  plt.subplot(1,2,2)\n",
        "  plt.title('Training Curve')\n",
        "  plt.plot(iters, train_acc, label = 'Train')\n",
        "  plt.plot(iters, val_acc, label = 'Validation')\n",
        "  plt.xlabel('Iterations')\n",
        "  plt.ylabel('Training Accuracy')\n",
        "  plt.legend(loc = 'best')\n",
        "  plt.show()\n",
        "\n",
        "  print(f'Final Training Accuray : {train_acc[-1]}')\n",
        "  print(f'Final Validation Accuracy: {val_acc[-1]}')\n",
        "  print(f'Final loss: {losses[-1]}')\n",
        "\n",
        "\n"
      ],
      "metadata": {
        "id": "5Ic4JYSr7Fm7"
      },
      "execution_count": null,
      "outputs": []
    },
    {
      "cell_type": "markdown",
      "metadata": {
        "id": "e3TegIv5CPP0"
      },
      "source": [
        "### Build A Basic Model\n",
        "- uses 20 images for training data, contained in `train_set`\n",
        "- uses 2000 images for validation data, contained in `val_set`\n",
        "- trains over 500 iterations"
      ]
    },
    {
      "cell_type": "code",
      "metadata": {
        "id": "0NLbJFKO_KNu",
        "colab": {
          "base_uri": "https://localhost:8080/",
          "height": 368
        },
        "outputId": "f7f025d7-26cf-4614-dc25-d473f9c4d6ee"
      },
      "source": [
        "model = MNIST_DNN()\n",
        "train_model(model, train_set, val_set)"
      ],
      "execution_count": null,
      "outputs": [
        {
          "output_type": "stream",
          "name": "stdout",
          "text": [
            "Plotting\n"
          ]
        },
        {
          "output_type": "display_data",
          "data": {
            "text/plain": [
              "<Figure size 720x288 with 2 Axes>"
            ],
            "image/png": "[encoded data removed]"
          },
          "metadata": {
            "needs_background": "light"
          }
        },
        {
          "output_type": "stream",
          "name": "stdout",
          "text": [
            "Final Training Accuray : 100.0\n",
            "Final Validation Accuracy: 51.1\n",
            "Final loss: 2.8541189385578038e-05\n"
          ]
        }
      ]
    },
    {
      "cell_type": "code",
      "metadata": {
        "id": "O90UjVfz0PwJ"
      },
      "source": [
        "# Based on the plotted graphs, answer the following questions:\n",
        "\n",
        "# Q1. What is the final loss of the training set and at which iteration was this achieved? \n",
        "# A1. The final loss is nearly 0 and this was achieved before 100 epochs(around 50)\n",
        "\n",
        "# Q2. What is the final accuracy of the training set and at which iteration was this achieved? \n",
        "# A2. The final training accuracy is 100% and this achieved before 100 epochs(around 50)\n",
        "\n",
        "# Q3. What do these values tell you about the model's performance on the training data?\n",
        "# A3. This too high accuracy of training set and low validation accuracy means that the model is overfitted.\n",
        "\n",
        "# Q4. What is the model's final accuracy on the validation set?\n",
        "# A5. The final validation accuracy is about 51.1%\n",
        "\n",
        "# Q5. Would more iterations help make a better model? Why or why not?\n",
        "# A5. No. The model reached 100% training accuracy around 50 epochs so more iteration does not help to make a better model that gives better validation accuracy.\n",
        "\n",
        "# Q6. Would this model work well on classifying other handwritten digits? Why or why not?\n",
        "# A6. No. The validation accuracy is around 51%. 50:50 model is not a good model since it's accuracy is similar to tossing a coin. "
      ],
      "execution_count": null,
      "outputs": []
    },
    {
      "cell_type": "markdown",
      "metadata": {
        "id": "r1WlxkuJ6Gkc"
      },
      "source": [
        "### Add Normalisation and Weight Decay\n",
        "- Our basic model gets to around 52-55% accuracy on the validation set.\n",
        "- Normalisation will ensure the spread of the values are within a certain range. For example, normalising with mean value 0.5 and std 0.5 subtracts mean (0.5) from each pixel, and divides the result by std (0.5). So, each pixel intensity will be in the range `[-1, 1]`.\n",
        "- Weight decay penalises large weights. We avoid large weights because large weights mean that the prediction relies a lot on the content of one pixel, or on one unit. Intuitively, the classification of an image should NOT depend heavily on the content of one pixel, or even a few pixels.\n",
        "\n",
        "\n",
        "\n"
      ]
    },
    {
      "cell_type": "code",
      "metadata": {
        "id": "pUFX4__ibRab"
      },
      "source": [
        "transform=transforms.Compose([\n",
        "        transforms.ToTensor(),\n",
        "        transforms.Normalize((0.1307,), (0.3081,))\n",
        "        ])\n",
        "\n",
        "# for reproducibility\n",
        "torch.manual_seed(1)\n",
        "\n",
        "train_data = datasets.MNIST('./data', train=True, download=True, transform=transform)\n",
        "train_data = list(train_data)\n",
        "train_set = train_data[:20]     # 20 images\n",
        "val_set   = train_data[200:2200]# 2000 images\n",
        "\n",
        "train_loader = torch.utils.data.DataLoader(train_set,\n",
        "                                               batch_size=batch_size,\n",
        "                                               shuffle=True) # shuffle after every epoch\n"
      ],
      "execution_count": null,
      "outputs": []
    },
    {
      "cell_type": "code",
      "source": [
        "trainsform = transforms.Compose([transforms.ToTensor(), transforms.Normalize((0.1307,), (0.3081))]) # what does the missing one mean?\n",
        "\n",
        "# for reproducibility\n",
        "torch.manual_seed(1)\n",
        "\n",
        "train_data = datasets.MNIST('./data', train = True, download = True, transform = transform)\n",
        "train_data = list(train_data)\n",
        "train_set = train_data[:20]\n",
        "val_set = train_data[20:2200]\n",
        "\n",
        "train_loader = torch.utils.data.DataLoader(train_set, batch_size = batch_size, shuffle = True)"
      ],
      "metadata": {
        "id": "l1wFQjFFDnne"
      },
      "execution_count": null,
      "outputs": []
    },
    {
      "cell_type": "markdown",
      "metadata": {
        "id": "UNxS3rHFMbh7"
      },
      "source": [
        "### Train a model with Normalisation and Weight Decay"
      ]
    },
    {
      "cell_type": "code",
      "metadata": {
        "id": "-za0SLTLAXO_",
        "colab": {
          "base_uri": "https://localhost:8080/",
          "height": 368
        },
        "outputId": "889c66e2-99af-4f13-eef9-5872ed989f4e"
      },
      "source": [
        "model = MNIST_DNN()\n",
        "train_model(model, train_set, val_set, weight_decay=0.001)"
      ],
      "execution_count": null,
      "outputs": [
        {
          "output_type": "stream",
          "name": "stdout",
          "text": [
            "Plotting\n"
          ]
        },
        {
          "output_type": "display_data",
          "data": {
            "text/plain": [
              "<Figure size 720x288 with 2 Axes>"
            ],
            "image/png": "[encoded data removed]"
          },
          "metadata": {
            "needs_background": "light"
          }
        },
        {
          "output_type": "stream",
          "name": "stdout",
          "text": [
            "Final Training Accuray : 100.0\n",
            "Final Validation Accuracy: 57.43119266055046\n",
            "Final loss: 5.516887176781893e-05\n"
          ]
        }
      ]
    },
    {
      "cell_type": "code",
      "source": [
        "# still overfitted"
      ],
      "metadata": {
        "id": "b0GcuBDqEcOP"
      },
      "execution_count": null,
      "outputs": []
    },
    {
      "cell_type": "markdown",
      "metadata": {
        "id": "7uvHDKOpEH4H"
      },
      "source": [
        "### Dropouts\n",
        "- Randomly \"zero out\", or \"remove\" a portion of neurons from each training iteration\n",
        "- In different iterations of training, we will drop out a different set of neurons\n",
        "- Prevents weights from being overly dependent on each other, e.g. one weight could be unnecessarily large to compensate for another unnecessarily large weight with the opposite sign. Weights are encouraged to be \"more independent\" of one another\n",
        "- During validation, we will not drop out any neurons. This means that our training time and test time behaviour of dropout layers are different. In the code for the functions `train_model()` and `get_accuracy()`, we use `model.train()` and `model.eval()` to flag whether we want the model's training behaviour, or test time behaviour."
      ]
    },
    {
      "cell_type": "code",
      "source": [
        "class MNIST_dropout(nn.Module):\n",
        "  def __init__(self):\n",
        "    super().__init__()\n",
        "    self.layer1 = nn.Linear(28*28, 50)\n",
        "    self.layer2 = nn.Linear(50,20)\n",
        "    self.layer3 = nn.Linear(20, 10)\n",
        "    self.dropout = nn.Dropout(0.4) # drop out layer with 40% dropped out neuron\n",
        "\n",
        "  def forward(self, img):\n",
        "    flattened = img.view(-1, 28*28)\n",
        "    layer1 = self.dropout(F.relu(self.layer1(flattened)))\n",
        "    layer2 = self.dropout(F.relu(self.layer2(layer1)))\n",
        "    output = self.layer3(layer2)\n",
        "    return output"
      ],
      "metadata": {
        "id": "97xAxw2wEffi"
      },
      "execution_count": null,
      "outputs": []
    },
    {
      "cell_type": "markdown",
      "metadata": {
        "id": "12hcxYeCJrgu"
      },
      "source": [
        "### Build a new model with Dropouts\n",
        "- In addition to normalisation and weight decay"
      ]
    },
    {
      "cell_type": "code",
      "source": [
        "model = MNIST_dropout()\n",
        "train_model(model, train_set, val_set, weight_decay = 0.001)"
      ],
      "metadata": {
        "colab": {
          "base_uri": "https://localhost:8080/",
          "height": 368
        },
        "id": "eSlIhQ4qGGe1",
        "outputId": "710515a7-cad3-4e0d-e46d-20330ff2690f"
      },
      "execution_count": null,
      "outputs": [
        {
          "output_type": "stream",
          "name": "stdout",
          "text": [
            "Plotting\n"
          ]
        },
        {
          "output_type": "display_data",
          "data": {
            "text/plain": [
              "<Figure size 720x288 with 2 Axes>"
            ],
            "image/png": "[encoded data removed]"
          },
          "metadata": {
            "needs_background": "light"
          }
        },
        {
          "output_type": "stream",
          "name": "stdout",
          "text": [
            "Final Training Accuray : 100.0\n",
            "Final Validation Accuracy: 59.08256880733945\n",
            "Final loss: 0.004797565191984177\n"
          ]
        }
      ]
    },
    {
      "cell_type": "code",
      "metadata": {
        "id": "L8wNyYaaDy-4"
      },
      "source": [
        "# Answer the following questions\n",
        "# Q7. What is the best validation accuracy and when was it achieved?\n",
        "# A7. The beat accuracy is about 60% and it was achieved around 150 epochs.\n",
        "\n",
        "# Q8. Is the validation accuracy a bit better with dropouts, normalisation and weight decay?\n",
        "# A8. The validation accuracy was improved with dropouts, normalization and weight decay. But the model is still overfitted  \n"
      ],
      "execution_count": null,
      "outputs": []
    },
    {
      "cell_type": "markdown",
      "metadata": {
        "id": "nVrxJm5xJxGq"
      },
      "source": [
        "## Add Batch Norm\n",
        "- Add batch norm BEFORE activation and dropout\n"
      ]
    },
    {
      "cell_type": "code",
      "metadata": {
        "id": "kRn7xJh_S_4P"
      },
      "source": [
        "class MNIST_Dropout_BN(nn.Module):\n",
        "    def __init__(self):\n",
        "        super().__init__()\n",
        "        self.layer1 = nn.Linear(28 * 28, 50)\n",
        "        self.bn1 = nn.BatchNorm1d(num_features=50)\n",
        "        self.layer2 = nn.Linear(50, 20)\n",
        "        # Q9. Add a suitable batch norm layer here\n",
        "        self.layer3 = nn.Linear(20, 10)\n",
        "        self.dropout = nn.Dropout(0.4) # drop out layer with 40% dropped out neuron\n",
        "    def forward(self, img):\n",
        "        flattened = img.view(-1, 28 * 28)\n",
        "        # Q10. Add batch norm to layer1 and layer2\n",
        "        out1 = self.dropout(F.relu(self.layer1(flattened)))\n",
        "        out2 = self.dropout(F.relu(self.layer2(out1)))\n",
        "        output = self.layer3(out2)\n",
        "        return output"
      ],
      "execution_count": null,
      "outputs": []
    },
    {
      "cell_type": "code",
      "source": [
        "class MNIST_dropout_BN(nn.Module):\n",
        "  def __init__(self):\n",
        "    super().__init__()\n",
        "    self.layer1 = nn.Linear(28*28, 50)\n",
        "    self.bn1 = nn.BatchNorm1d(num_features = 50) # num_features is number of features or channels CC of the input\n",
        "    self.layer2= nn.Linear(50,20)\n",
        "    # Q9. Add a suitable batch norm layer here\n",
        "    self.bn2 = nn.BatchNorm1d(num_features=20)\n",
        "    self.layer3 = nn.Linear(20, 100)\n",
        "    self.dropout = nn.Dropout(0.4)\n",
        "\n",
        "  def forward(self, img):\n",
        "    flattened = img.view(-1, 28*28)\n",
        "    # Q10. Add batch norm to layer1 and layer2\n",
        "    out1 = self.dropout(F.relu(self.bn1(self.layer1(flattened))))\n",
        "    out2 = self.dropout(F.relu(self.bn2(self.layer2(out1))))\n",
        "    output = self.layer3(out2)\n",
        "    return output"
      ],
      "metadata": {
        "id": "dysK0GcGG1Qt"
      },
      "execution_count": null,
      "outputs": []
    },
    {
      "cell_type": "code",
      "metadata": {
        "id": "i-kPmwUXklQe",
        "colab": {
          "base_uri": "https://localhost:8080/",
          "height": 368
        },
        "outputId": "1d283d82-6a82-4f4a-e60d-216415ac0dea"
      },
      "source": [
        "model = MNIST_Dropout_BN()\n",
        "train_model(model, train_set, val_set, weight_decay=0.001)"
      ],
      "execution_count": null,
      "outputs": [
        {
          "output_type": "stream",
          "name": "stdout",
          "text": [
            "Plotting\n"
          ]
        },
        {
          "output_type": "display_data",
          "data": {
            "text/plain": [
              "<Figure size 720x288 with 2 Axes>"
            ],
            "image/png": "[encoded data removed]"
          },
          "metadata": {
            "needs_background": "light"
          }
        },
        {
          "output_type": "stream",
          "name": "stdout",
          "text": [
            "Final Training Accuray : 100.0\n",
            "Final Validation Accuracy: 55.55045871559633\n",
            "Final loss: 0.007146070152521134\n"
          ]
        }
      ]
    },
    {
      "cell_type": "markdown",
      "metadata": {
        "id": "e0VV8i2iiz6g"
      },
      "source": [
        "### EXERCISE: Use Convolutions with Batch Norms\n",
        "- Use the **same training and validation data** set loading as before, i.e. you do not have to load the data again\n",
        "- Remember that BatchNorm1d accepts 2D or 3D inputs while BatchNorm2d only accepts 4D inputs\n",
        "- Use BatchNorm2d with Conv2d layers\n",
        "- Use Dropouts as well to get a model with better validation accuracy\n",
        "- Plot the graph of your final training loss, training and validation accuracies (you may want to call `train_model()`)\n",
        "- Extra: play around with the hyper parameters such as weight decay, learning, rate, etc. to help improve the model's performance\n"
      ]
    },
    {
      "cell_type": "code",
      "source": [
        "28-3 +1"
      ],
      "metadata": {
        "colab": {
          "base_uri": "https://localhost:8080/"
        },
        "id": "4eS8oXCQRyat",
        "outputId": "bd821227-0aa4-4b42-c7b8-0662d98d75a4"
      },
      "execution_count": null,
      "outputs": [
        {
          "output_type": "execute_result",
          "data": {
            "text/plain": [
              "26"
            ]
          },
          "metadata": {},
          "execution_count": 88
        }
      ]
    },
    {
      "cell_type": "code",
      "source": [
        "13-3+1"
      ],
      "metadata": {
        "colab": {
          "base_uri": "https://localhost:8080/"
        },
        "id": "P9kSElU0R8cP",
        "outputId": "31d69bf0-4206-4934-fea6-9ad8dea60105"
      },
      "execution_count": null,
      "outputs": [
        {
          "output_type": "execute_result",
          "data": {
            "text/plain": [
              "11"
            ]
          },
          "metadata": {},
          "execution_count": 91
        }
      ]
    },
    {
      "cell_type": "code",
      "source": [
        "16*5*5"
      ],
      "metadata": {
        "colab": {
          "base_uri": "https://localhost:8080/"
        },
        "id": "-AwT-i6hSGCQ",
        "outputId": "72d73f38-fc17-4037-c2b4-fdbab75a060e"
      },
      "execution_count": 97,
      "outputs": [
        {
          "output_type": "execute_result",
          "data": {
            "text/plain": [
              "400"
            ]
          },
          "metadata": {},
          "execution_count": 97
        }
      ]
    },
    {
      "cell_type": "code",
      "metadata": {
        "id": "r5knUAX4nXx3"
      },
      "source": [
        "class CNN(nn.Module):\n",
        "  def __init__(self):\n",
        "    super().__init__()\n",
        "    self.conv1 = nn.Conv2d(1, 6, 3)\n",
        "    self.bn1 = nn.BatchNorm2d(num_features = 1)    \n",
        "    self.relu = nn.ReLU()\n",
        "    self.pool = nn.MaxPool2d(2, 2)\n",
        "    self.conv2 = nn.Conv2d(6, 16, 3) \n",
        "    self.bn2 = nn.BatchNorm2d(num_features = 6)\n",
        "    # flatten 3D tensor to 1D tensor\n",
        "    self.fc1 = nn.Linear(-1, 400) \n",
        "    self.fc2 = nn.Linear(400, 64)\n",
        "    self.fc3 = nn.Linear(64, 10) # final output matches num_classes\n",
        "    self.dropout = nn.Dropout(0.4)\n",
        "\n",
        "\n",
        "  def forward(self, x):\n",
        "    # Conv + BN + ReLU + pool\n",
        "    out = self.dropout(self.pool(F.relu(self.bn1(self.conv1(x)))))\n",
        "    out = self.dropout(self.pool(F.relu(self.bn2(self.conv2(out)))))\n",
        "    out = out.reshape(-1, 400) \n",
        "    out = F.relu(self.fc1(out))\n",
        "    out = F.relu(self.fc2(out))\n",
        "    out = self.fc3(out) # NO softmax as it will be included in CrossEntropyLoss\n",
        "    return out"
      ],
      "execution_count": 98,
      "outputs": []
    },
    {
      "cell_type": "code",
      "source": [
        "model = MNIST_Dropout_BN()\n",
        "train_model(model, train_set, val_set, n_iters = 500, weight_decay=0.01)"
      ],
      "metadata": {
        "colab": {
          "base_uri": "https://localhost:8080/",
          "height": 368
        },
        "id": "K5uxgzCXV7hQ",
        "outputId": "46cfa07e-42e4-4c2e-a762-934aa00b6015"
      },
      "execution_count": 101,
      "outputs": [
        {
          "output_type": "stream",
          "name": "stdout",
          "text": [
            "Plotting\n"
          ]
        },
        {
          "output_type": "display_data",
          "data": {
            "text/plain": [
              "<Figure size 720x288 with 2 Axes>"
            ],
            "image/png": "[encoded data removed]"
          },
          "metadata": {
            "needs_background": "light"
          }
        },
        {
          "output_type": "stream",
          "name": "stdout",
          "text": [
            "Final Training Accuray : 100.0\n",
            "Final Validation Accuracy: 56.0\n",
            "Final loss: 0.012872178852558137\n"
          ]
        }
      ]
    },
    {
      "cell_type": "code",
      "source": [
        ""
      ],
      "metadata": {
        "id": "sm2bZXuKWDQr"
      },
      "execution_count": null,
      "outputs": []
    }
  ]
}