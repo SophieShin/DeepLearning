{
  "nbformat": 4,
  "nbformat_minor": 0,
  "metadata": {
    "colab": {
      "name": "[SSH]lab07-CNN-cifar10.ipynb",
      "provenance": [],
      "collapsed_sections": [],
      "include_colab_link": true
    },
    "kernelspec": {
      "name": "python3",
      "display_name": "Python 3"
    },
    "language_info": {
      "name": "python"
    },
    "accelerator": "GPU",
    "widgets": {
      "application/vnd.jupyter.widget-state+json": {
        "4acc6f8371d745929b7ed5b049fc660d": {
          "model_module": "@jupyter-widgets/controls",
          "model_name": "HBoxModel",
          "model_module_version": "1.5.0",
          "state": {
            "_dom_classes": [],
            "_model_module": "@jupyter-widgets/controls",
            "_model_module_version": "1.5.0",
            "_model_name": "HBoxModel",
            "_view_count": null,
            "_view_module": "@jupyter-widgets/controls",
            "_view_module_version": "1.5.0",
            "_view_name": "HBoxView",
            "box_style": "",
            "children": [
              "IPY_MODEL_643ed51296e44d1e86c162570302ba81",
              "IPY_MODEL_d226f5643e594605b05ff2ba77b92534",
              "IPY_MODEL_ec53be17004541b3927f361a6cf8019d"
            ],
            "layout": "IPY_MODEL_6bcc620beb9f4b50a39d2c832c40dee6"
          }
        },
        "643ed51296e44d1e86c162570302ba81": {
          "model_module": "@jupyter-widgets/controls",
          "model_name": "HTMLModel",
          "model_module_version": "1.5.0",
          "state": {
            "_dom_classes": [],
            "_model_module": "@jupyter-widgets/controls",
            "_model_module_version": "1.5.0",
            "_model_name": "HTMLModel",
            "_view_count": null,
            "_view_module": "@jupyter-widgets/controls",
            "_view_module_version": "1.5.0",
            "_view_name": "HTMLView",
            "description": "",
            "description_tooltip": null,
            "layout": "IPY_MODEL_dc1bea26c4af4aef89a12fdf7715ae2f",
            "placeholder": "​",
            "style": "IPY_MODEL_de3d8b13e93d4f5a80464a5d761250ff",
            "value": ""
          }
        },
        "d226f5643e594605b05ff2ba77b92534": {
          "model_module": "@jupyter-widgets/controls",
          "model_name": "FloatProgressModel",
          "model_module_version": "1.5.0",
          "state": {
            "_dom_classes": [],
            "_model_module": "@jupyter-widgets/controls",
            "_model_module_version": "1.5.0",
            "_model_name": "FloatProgressModel",
            "_view_count": null,
            "_view_module": "@jupyter-widgets/controls",
            "_view_module_version": "1.5.0",
            "_view_name": "ProgressView",
            "bar_style": "success",
            "description": "",
            "description_tooltip": null,
            "layout": "IPY_MODEL_ebd2244b425841e289d6ad36b3787de4",
            "max": 170498071,
            "min": 0,
            "orientation": "horizontal",
            "style": "IPY_MODEL_be765875da034e7d80a1709976a49de9",
            "value": 170498071
          }
        },
        "ec53be17004541b3927f361a6cf8019d": {
          "model_module": "@jupyter-widgets/controls",
          "model_name": "HTMLModel",
          "model_module_version": "1.5.0",
          "state": {
            "_dom_classes": [],
            "_model_module": "@jupyter-widgets/controls",
            "_model_module_version": "1.5.0",
            "_model_name": "HTMLModel",
            "_view_count": null,
            "_view_module": "@jupyter-widgets/controls",
            "_view_module_version": "1.5.0",
            "_view_name": "HTMLView",
            "description": "",
            "description_tooltip": null,
            "layout": "IPY_MODEL_2291200b48df4899a132a95533c0a666",
            "placeholder": "​",
            "style": "IPY_MODEL_55822e5114674e5a85b0d83cd71f3d16",
            "value": " 170499072/? [00:03&lt;00:00, 31226060.10it/s]"
          }
        },
        "6bcc620beb9f4b50a39d2c832c40dee6": {
          "model_module": "@jupyter-widgets/base",
          "model_name": "LayoutModel",
          "model_module_version": "1.2.0",
          "state": {
            "_model_module": "@jupyter-widgets/base",
            "_model_module_version": "1.2.0",
            "_model_name": "LayoutModel",
            "_view_count": null,
            "_view_module": "@jupyter-widgets/base",
            "_view_module_version": "1.2.0",
            "_view_name": "LayoutView",
            "align_content": null,
            "align_items": null,
            "align_self": null,
            "border": null,
            "bottom": null,
            "display": null,
            "flex": null,
            "flex_flow": null,
            "grid_area": null,
            "grid_auto_columns": null,
            "grid_auto_flow": null,
            "grid_auto_rows": null,
            "grid_column": null,
            "grid_gap": null,
            "grid_row": null,
            "grid_template_areas": null,
            "grid_template_columns": null,
            "grid_template_rows": null,
            "height": null,
            "justify_content": null,
            "justify_items": null,
            "left": null,
            "margin": null,
            "max_height": null,
            "max_width": null,
            "min_height": null,
            "min_width": null,
            "object_fit": null,
            "object_position": null,
            "order": null,
            "overflow": null,
            "overflow_x": null,
            "overflow_y": null,
            "padding": null,
            "right": null,
            "top": null,
            "visibility": null,
            "width": null
          }
        },
        "dc1bea26c4af4aef89a12fdf7715ae2f": {
          "model_module": "@jupyter-widgets/base",
          "model_name": "LayoutModel",
          "model_module_version": "1.2.0",
          "state": {
            "_model_module": "@jupyter-widgets/base",
            "_model_module_version": "1.2.0",
            "_model_name": "LayoutModel",
            "_view_count": null,
            "_view_module": "@jupyter-widgets/base",
            "_view_module_version": "1.2.0",
            "_view_name": "LayoutView",
            "align_content": null,
            "align_items": null,
            "align_self": null,
            "border": null,
            "bottom": null,
            "display": null,
            "flex": null,
            "flex_flow": null,
            "grid_area": null,
            "grid_auto_columns": null,
            "grid_auto_flow": null,
            "grid_auto_rows": null,
            "grid_column": null,
            "grid_gap": null,
            "grid_row": null,
            "grid_template_areas": null,
            "grid_template_columns": null,
            "grid_template_rows": null,
            "height": null,
            "justify_content": null,
            "justify_items": null,
            "left": null,
            "margin": null,
            "max_height": null,
            "max_width": null,
            "min_height": null,
            "min_width": null,
            "object_fit": null,
            "object_position": null,
            "order": null,
            "overflow": null,
            "overflow_x": null,
            "overflow_y": null,
            "padding": null,
            "right": null,
            "top": null,
            "visibility": null,
            "width": null
          }
        },
        "de3d8b13e93d4f5a80464a5d761250ff": {
          "model_module": "@jupyter-widgets/controls",
          "model_name": "DescriptionStyleModel",
          "model_module_version": "1.5.0",
          "state": {
            "_model_module": "@jupyter-widgets/controls",
            "_model_module_version": "1.5.0",
            "_model_name": "DescriptionStyleModel",
            "_view_count": null,
            "_view_module": "@jupyter-widgets/base",
            "_view_module_version": "1.2.0",
            "_view_name": "StyleView",
            "description_width": ""
          }
        },
        "ebd2244b425841e289d6ad36b3787de4": {
          "model_module": "@jupyter-widgets/base",
          "model_name": "LayoutModel",
          "model_module_version": "1.2.0",
          "state": {
            "_model_module": "@jupyter-widgets/base",
            "_model_module_version": "1.2.0",
            "_model_name": "LayoutModel",
            "_view_count": null,
            "_view_module": "@jupyter-widgets/base",
            "_view_module_version": "1.2.0",
            "_view_name": "LayoutView",
            "align_content": null,
            "align_items": null,
            "align_self": null,
            "border": null,
            "bottom": null,
            "display": null,
            "flex": null,
            "flex_flow": null,
            "grid_area": null,
            "grid_auto_columns": null,
            "grid_auto_flow": null,
            "grid_auto_rows": null,
            "grid_column": null,
            "grid_gap": null,
            "grid_row": null,
            "grid_template_areas": null,
            "grid_template_columns": null,
            "grid_template_rows": null,
            "height": null,
            "justify_content": null,
            "justify_items": null,
            "left": null,
            "margin": null,
            "max_height": null,
            "max_width": null,
            "min_height": null,
            "min_width": null,
            "object_fit": null,
            "object_position": null,
            "order": null,
            "overflow": null,
            "overflow_x": null,
            "overflow_y": null,
            "padding": null,
            "right": null,
            "top": null,
            "visibility": null,
            "width": null
          }
        },
        "be765875da034e7d80a1709976a49de9": {
          "model_module": "@jupyter-widgets/controls",
          "model_name": "ProgressStyleModel",
          "model_module_version": "1.5.0",
          "state": {
            "_model_module": "@jupyter-widgets/controls",
            "_model_module_version": "1.5.0",
            "_model_name": "ProgressStyleModel",
            "_view_count": null,
            "_view_module": "@jupyter-widgets/base",
            "_view_module_version": "1.2.0",
            "_view_name": "StyleView",
            "bar_color": null,
            "description_width": ""
          }
        },
        "2291200b48df4899a132a95533c0a666": {
          "model_module": "@jupyter-widgets/base",
          "model_name": "LayoutModel",
          "model_module_version": "1.2.0",
          "state": {
            "_model_module": "@jupyter-widgets/base",
            "_model_module_version": "1.2.0",
            "_model_name": "LayoutModel",
            "_view_count": null,
            "_view_module": "@jupyter-widgets/base",
            "_view_module_version": "1.2.0",
            "_view_name": "LayoutView",
            "align_content": null,
            "align_items": null,
            "align_self": null,
            "border": null,
            "bottom": null,
            "display": null,
            "flex": null,
            "flex_flow": null,
            "grid_area": null,
            "grid_auto_columns": null,
            "grid_auto_flow": null,
            "grid_auto_rows": null,
            "grid_column": null,
            "grid_gap": null,
            "grid_row": null,
            "grid_template_areas": null,
            "grid_template_columns": null,
            "grid_template_rows": null,
            "height": null,
            "justify_content": null,
            "justify_items": null,
            "left": null,
            "margin": null,
            "max_height": null,
            "max_width": null,
            "min_height": null,
            "min_width": null,
            "object_fit": null,
            "object_position": null,
            "order": null,
            "overflow": null,
            "overflow_x": null,
            "overflow_y": null,
            "padding": null,
            "right": null,
            "top": null,
            "visibility": null,
            "width": null
          }
        },
        "55822e5114674e5a85b0d83cd71f3d16": {
          "model_module": "@jupyter-widgets/controls",
          "model_name": "DescriptionStyleModel",
          "model_module_version": "1.5.0",
          "state": {
            "_model_module": "@jupyter-widgets/controls",
            "_model_module_version": "1.5.0",
            "_model_name": "DescriptionStyleModel",
            "_view_count": null,
            "_view_module": "@jupyter-widgets/base",
            "_view_module_version": "1.2.0",
            "_view_name": "StyleView",
            "description_width": ""
          }
        }
      }
    }
  },
  "cells": [
    {
      "cell_type": "markdown",
      "metadata": {
        "id": "view-in-github",
        "colab_type": "text"
      },
      "source": [
        "<a href=\"https://colab.research.google.com/github/SophieShin/DeepLearning/blob/main/%5BSSH%5Dlab07_CNN_cifar10.ipynb\" target=\"_parent\"><img src=\"https://colab.research.google.com/assets/colab-badge.svg\" alt=\"Open In Colab\"/></a>"
      ]
    },
    {
      "cell_type": "markdown",
      "metadata": {
        "id": "D3dotnhNCKsl"
      },
      "source": [
        "## Lab 7 (Image Processing using Convolutional Neural Networks)\n",
        "- CIFAR10 dataset (see https://www.cs.toronto.edu/~kriz/cifar.html for more info)\n",
        "- 60K images: 50K train, 10K test\n",
        "- 10 classes: 'plane', 'car', 'bird', 'cat', 'deer', 'dog', 'frog', 'horse', 'ship', 'truck'\n",
        "- Perform multi-class classification with evaluation accuracy on EACH class\n",
        "\n",
        "**CONNECT TO GPU** before continuing, but just CPU is also fine, it might be a bit slow.\n"
      ]
    },
    {
      "cell_type": "code",
      "source": [
        "import torch\n",
        "import torch.nn as nn\n",
        "import torch.nn.functional as F\n",
        "import torchvision\n",
        "import torchvision.transforms as transforms\n",
        "import matplotlib.pyplot as plt\n",
        "import numpy as np"
      ],
      "metadata": {
        "id": "78eNSGmDdXvW"
      },
      "execution_count": 1,
      "outputs": []
    },
    {
      "cell_type": "code",
      "source": [
        "# Device Configuration\n",
        "\n",
        "device = torch.device('cuda' if torch.cuda.is_available() else 'cpu')\n",
        "print(device)\n"
      ],
      "metadata": {
        "colab": {
          "base_uri": "https://localhost:8080/"
        },
        "id": "wuBdrKiJdcIV",
        "outputId": "324c6f5c-7444-4e12-fa8c-8fc48075f842"
      },
      "execution_count": 2,
      "outputs": [
        {
          "output_type": "stream",
          "name": "stdout",
          "text": [
            "cuda\n"
          ]
        }
      ]
    },
    {
      "cell_type": "code",
      "source": [
        "# Hyper parameters\n",
        "\n",
        "num_epochs = 4\n",
        "batch_size = 4\n",
        "learning_rate = 0.001"
      ],
      "metadata": {
        "id": "4DsBvNCpdsRM"
      },
      "execution_count": 3,
      "outputs": []
    },
    {
      "cell_type": "code",
      "source": [
        "# Download and prepare dataset\n",
        "# Transform them to tensors and normalize them\n",
        "# 이부분 코드 해석 다시한번\n",
        "\n",
        "transform = transforms.Compose([transforms.ToTensor(), transforms.Normalize((0.5, 0.5, 0.5), (0.5, 0.5, 0.5) )])"
      ],
      "metadata": {
        "id": "uBBi2K_cd3RD"
      },
      "execution_count": 5,
      "outputs": []
    },
    {
      "cell_type": "code",
      "source": [
        "# 2.2 Download data\n",
        "#transform이 뭐 였는지\n",
        "\n",
        "train_set = torchvision.datasets.CIFAR10('./', train = True, download = True, transform = transform)\n",
        "test_set = torchvision.datasets.CIFAR10('./', train = False, download = True, transform = transform)"
      ],
      "metadata": {
        "colab": {
          "base_uri": "https://localhost:8080/",
          "height": 103,
          "referenced_widgets": [
            "4acc6f8371d745929b7ed5b049fc660d",
            "643ed51296e44d1e86c162570302ba81",
            "d226f5643e594605b05ff2ba77b92534",
            "ec53be17004541b3927f361a6cf8019d",
            "6bcc620beb9f4b50a39d2c832c40dee6",
            "dc1bea26c4af4aef89a12fdf7715ae2f",
            "de3d8b13e93d4f5a80464a5d761250ff",
            "ebd2244b425841e289d6ad36b3787de4",
            "be765875da034e7d80a1709976a49de9",
            "2291200b48df4899a132a95533c0a666",
            "55822e5114674e5a85b0d83cd71f3d16"
          ]
        },
        "id": "Rm08FiOEeT_g",
        "outputId": "4e18bd81-85a3-4501-d69c-12ae7802bf45"
      },
      "execution_count": 6,
      "outputs": [
        {
          "output_type": "stream",
          "name": "stdout",
          "text": [
            "Downloading https://www.cs.toronto.edu/~kriz/cifar-10-python.tar.gz to ./cifar-10-python.tar.gz\n"
          ]
        },
        {
          "output_type": "display_data",
          "data": {
            "text/plain": [
              "  0%|          | 0/170498071 [00:00<?, ?it/s]"
            ],
            "application/vnd.jupyter.widget-view+json": {
              "version_major": 2,
              "version_minor": 0,
              "model_id": "4acc6f8371d745929b7ed5b049fc660d"
            }
          },
          "metadata": {}
        },
        {
          "output_type": "stream",
          "name": "stdout",
          "text": [
            "Extracting ./cifar-10-python.tar.gz to ./\n",
            "Files already downloaded and verified\n"
          ]
        }
      ]
    },
    {
      "cell_type": "code",
      "source": [
        "# 2.3 Use DataLoader to get batches and shuffle\n",
        "train_loader = torch.utils.data.DataLoader(train_set, batch_size=batch_size, shuffle = True)\n",
        "test_loader = torch.utils.data.DataLoader(test_set, batch_size=batch_size, shuffle = False)\n",
        "\n",
        " # why are these tuple, not list?\n",
        "\n",
        "classes = ('plane', 'car', 'bird', 'cat', 'deer', 'dog', 'frog', 'horse', 'ship', 'truck')\n",
        "\n",
        "# Q1. Why are there 3 values in each list of the Normalize() function? What does each value and each list represent?\n",
        "# A1. I think since the data has three dimensions(channel, width, height), each value means mean and std for each dimension."
      ],
      "metadata": {
        "id": "lmugrRnie3DJ"
      },
      "execution_count": 8,
      "outputs": []
    },
    {
      "cell_type": "markdown",
      "metadata": {
        "id": "DuhDiijV7CNT"
      },
      "source": [
        "### Inspect the Images"
      ]
    },
    {
      "cell_type": "code",
      "source": [
        "# Access the first data sample in the train_set using next(iter())\n",
        "batch = next(iter(train_loader))\n",
        "print(f'Image values: \\n{batch}')\n",
        "print(f'Length : {len(batch)}')\n",
        "print(f'Type : {type(batch)}')"
      ],
      "metadata": {
        "colab": {
          "base_uri": "https://localhost:8080/"
        },
        "id": "eG9G2xdcfb2b",
        "outputId": "cf8161e0-ebd5-4498-bbba-772e29693c1e"
      },
      "execution_count": 10,
      "outputs": [
        {
          "output_type": "stream",
          "name": "stdout",
          "text": [
            "Image values: \n",
            "[tensor([[[[ 0.2078,  0.3333,  0.4745,  ..., -0.0510, -0.1294, -0.1922],\n",
            "          [ 0.3020,  0.3882,  0.4902,  ..., -0.4118, -0.3882, -0.3333],\n",
            "          [ 0.3647,  0.3333,  0.3333,  ..., -0.5216, -0.5216, -0.5059],\n",
            "          ...,\n",
            "          [-0.6706, -0.7725, -0.8980,  ..., -0.5059, -0.6000, -0.6549],\n",
            "          [-0.7804, -0.8902, -0.8196,  ..., -0.6627, -0.6627, -0.6941],\n",
            "          [-0.9059, -0.8275, -0.4588,  ..., -0.6784, -0.6784, -0.7333]],\n",
            "\n",
            "         [[ 0.2314,  0.3176,  0.4353,  ..., -0.0039, -0.0667, -0.1137],\n",
            "          [ 0.3490,  0.4196,  0.4902,  ..., -0.3725, -0.3490, -0.3020],\n",
            "          [ 0.4118,  0.3961,  0.3569,  ..., -0.4902, -0.5137, -0.5373],\n",
            "          ...,\n",
            "          [-0.5922, -0.7333, -0.8667,  ..., -0.4745, -0.5608, -0.5843],\n",
            "          [-0.6863, -0.8118, -0.7412,  ..., -0.6314, -0.6235, -0.6392],\n",
            "          [-0.8118, -0.7020, -0.3176,  ..., -0.6471, -0.6392, -0.7020]],\n",
            "\n",
            "         [[ 0.3176,  0.3647,  0.4510,  ...,  0.1765,  0.0745, -0.0275],\n",
            "          [ 0.4588,  0.4745,  0.5216,  ..., -0.1294, -0.1529, -0.1686],\n",
            "          [ 0.6235,  0.5451,  0.4824,  ..., -0.1843, -0.2235, -0.2784],\n",
            "          ...,\n",
            "          [-0.5137, -0.6627, -0.7804,  ..., -0.3804, -0.4588, -0.4980],\n",
            "          [-0.6392, -0.7255, -0.5922,  ..., -0.5451, -0.5373, -0.5529],\n",
            "          [-0.6863, -0.5294, -0.0824,  ..., -0.5843, -0.5843, -0.6471]]],\n",
            "\n",
            "\n",
            "        [[[ 0.0039,  0.0431,  0.0745,  ..., -0.0275, -0.0510, -0.0745],\n",
            "          [ 0.0039,  0.0353,  0.0667,  ..., -0.0588, -0.0824, -0.0980],\n",
            "          [ 0.0118,  0.0431,  0.0745,  ..., -0.1059, -0.1216, -0.1373],\n",
            "          ...,\n",
            "          [ 0.7490,  0.7255,  0.7255,  ...,  0.3961,  0.3647,  0.3490],\n",
            "          [ 0.8039,  0.7725,  0.7647,  ...,  0.4196,  0.3961,  0.3725],\n",
            "          [ 0.8275,  0.8039,  0.7882,  ...,  0.4510,  0.4353,  0.4039]],\n",
            "\n",
            "         [[-0.0275,  0.0039,  0.0431,  ..., -0.0588, -0.0824, -0.1059],\n",
            "          [-0.0275,  0.0039,  0.0353,  ..., -0.0902, -0.1137, -0.1294],\n",
            "          [-0.0196,  0.0118,  0.0431,  ..., -0.1373, -0.1529, -0.1686],\n",
            "          ...,\n",
            "          [ 0.7333,  0.7098,  0.7020,  ...,  0.3804,  0.3490,  0.3333],\n",
            "          [ 0.8039,  0.7725,  0.7569,  ...,  0.4118,  0.3961,  0.3647],\n",
            "          [ 0.8275,  0.8039,  0.7882,  ...,  0.4510,  0.4353,  0.4039]],\n",
            "\n",
            "         [[-0.0353, -0.0039,  0.0353,  ..., -0.0510, -0.0745, -0.0980],\n",
            "          [-0.0353, -0.0039,  0.0275,  ..., -0.0824, -0.1059, -0.1216],\n",
            "          [-0.0275,  0.0039,  0.0353,  ..., -0.1294, -0.1451, -0.1608],\n",
            "          ...,\n",
            "          [ 0.7412,  0.7176,  0.7098,  ...,  0.3804,  0.3569,  0.3412],\n",
            "          [ 0.8039,  0.7725,  0.7569,  ...,  0.4118,  0.3961,  0.3647],\n",
            "          [ 0.8275,  0.8039,  0.7882,  ...,  0.4510,  0.4353,  0.4039]]],\n",
            "\n",
            "\n",
            "        [[[-0.2235, -0.2314, -0.2314,  ..., -0.2314, -0.2314, -0.2314],\n",
            "          [-0.1451, -0.1608, -0.1608,  ..., -0.1686, -0.1686, -0.1686],\n",
            "          [-0.0902, -0.1059, -0.1059,  ..., -0.1059, -0.0980, -0.1059],\n",
            "          ...,\n",
            "          [ 0.3333,  0.2549,  0.1373,  ...,  0.4039,  0.3961,  0.3882],\n",
            "          [ 0.3333,  0.2549,  0.1451,  ...,  0.4431,  0.4353,  0.4196],\n",
            "          [ 0.2863,  0.2706,  0.2784,  ...,  0.4275,  0.4353,  0.4510]],\n",
            "\n",
            "         [[-0.0275, -0.0431, -0.0353,  ..., -0.0353, -0.0353, -0.0353],\n",
            "          [ 0.0902,  0.0745,  0.0745,  ...,  0.0980,  0.0902,  0.0902],\n",
            "          [ 0.2000,  0.1843,  0.1922,  ...,  0.1843,  0.1765,  0.1765],\n",
            "          ...,\n",
            "          [ 0.4588,  0.3725,  0.2549,  ...,  0.5294,  0.5216,  0.5216],\n",
            "          [ 0.4510,  0.3725,  0.2627,  ...,  0.5451,  0.5373,  0.5216],\n",
            "          [ 0.4039,  0.3882,  0.3961,  ...,  0.5294,  0.5216,  0.5451]],\n",
            "\n",
            "         [[ 0.7176,  0.6941,  0.6941,  ...,  0.6706,  0.6706,  0.6706],\n",
            "          [ 0.7020,  0.6784,  0.6784,  ...,  0.6392,  0.6549,  0.6627],\n",
            "          [ 0.7020,  0.6784,  0.6784,  ...,  0.6627,  0.7176,  0.7176],\n",
            "          ...,\n",
            "          [ 0.4196,  0.3333,  0.2157,  ...,  0.4824,  0.4824,  0.4745],\n",
            "          [ 0.4118,  0.3333,  0.2235,  ...,  0.5059,  0.4980,  0.4902],\n",
            "          [ 0.3647,  0.3490,  0.3569,  ...,  0.4902,  0.4980,  0.5137]]],\n",
            "\n",
            "\n",
            "        [[[-0.7098, -0.6235, -0.5451,  ..., -0.9451, -0.9843, -0.9843],\n",
            "          [-0.5843, -0.4902, -0.4118,  ..., -0.8980, -0.9686, -0.9843],\n",
            "          [-0.5059, -0.5059, -0.4510,  ..., -0.9137, -0.9608, -0.9843],\n",
            "          ...,\n",
            "          [-0.6549, -0.6235, -0.5373,  ..., -0.7490, -0.5529, -0.4824],\n",
            "          [-0.6784, -0.6706, -0.6078,  ..., -0.6549, -0.5529, -0.5608],\n",
            "          [-0.7333, -0.7412, -0.6157,  ..., -0.5216, -0.5451, -0.6863]],\n",
            "\n",
            "         [[-0.7569, -0.7255, -0.6392,  ..., -0.9137, -0.9686, -0.9843],\n",
            "          [-0.6471, -0.6078, -0.5216,  ..., -0.8431, -0.9373, -0.9686],\n",
            "          [-0.5686, -0.6235, -0.5686,  ..., -0.8353, -0.9059, -0.9529],\n",
            "          ...,\n",
            "          [-0.5216, -0.4588, -0.3412,  ..., -0.5843, -0.3333, -0.2784],\n",
            "          [-0.5451, -0.5059, -0.4118,  ..., -0.4588, -0.3255, -0.3569],\n",
            "          [-0.6078, -0.5843, -0.4353,  ..., -0.3098, -0.3176, -0.4902]],\n",
            "\n",
            "         [[-0.8118, -0.8039, -0.7804,  ..., -0.9451, -0.9922, -1.0000],\n",
            "          [-0.7412, -0.7333, -0.6784,  ..., -0.8902, -0.9765, -0.9922],\n",
            "          [-0.7255, -0.8118, -0.7569,  ..., -0.8980, -0.9608, -0.9843],\n",
            "          ...,\n",
            "          [-0.7961, -0.8196, -0.7961,  ..., -0.8588, -0.7098, -0.6471],\n",
            "          [-0.8118, -0.8431, -0.8196,  ..., -0.7569, -0.7020, -0.7255],\n",
            "          [-0.8510, -0.8824, -0.7882,  ..., -0.6078, -0.6784, -0.8431]]]]), tensor([3, 5, 9, 6])]\n",
            "Length : 2\n",
            "Type : <class 'list'>\n"
          ]
        }
      ]
    },
    {
      "cell_type": "code",
      "source": [
        "# This means the data contains image-label paris\n",
        "# Unpack them\n",
        "images, labels = batch\n",
        "\n",
        "# Same as these two lines:\n",
        "# image = batch[0]\n",
        "# label = batch[1]"
      ],
      "metadata": {
        "id": "V5ExWwM9f21V"
      },
      "execution_count": 11,
      "outputs": []
    },
    {
      "cell_type": "code",
      "source": [
        "print(images.shape) # each batch has 4 images, each image has 3 channels, and size of the image is 32*32\n",
        "print(labels)"
      ],
      "metadata": {
        "colab": {
          "base_uri": "https://localhost:8080/"
        },
        "id": "M1GjGsiNgAAS",
        "outputId": "1002c898-eaaf-44ed-ffba-8ce5b7a9d492"
      },
      "execution_count": 12,
      "outputs": [
        {
          "output_type": "stream",
          "name": "stdout",
          "text": [
            "torch.Size([4, 3, 32, 32])\n",
            "tensor([3, 5, 9, 6])\n"
          ]
        }
      ]
    },
    {
      "cell_type": "code",
      "metadata": {
        "id": "032BETSy6a2K"
      },
      "source": [
        "\n",
        "# Q2. What is the range of the values for the normalised image pixels?\n",
        "# A2. Since it is normalized, its range is between -1 and 1 \n",
        "\n",
        "# Q3. What does each index value of the shape of the image represent?\n",
        "# A3. It is pixcel value that represent how strong(black and white) it is. \n",
        "\n",
        "# Q4. What do the label values represent?\n",
        "# A4. It represents which class the sample data is. "
      ],
      "execution_count": 13,
      "outputs": []
    },
    {
      "cell_type": "markdown",
      "metadata": {
        "id": "71_0Ci7gZkqV"
      },
      "source": [
        "### View some images\n",
        "- Note that images have been normalised and may not look very clear"
      ]
    },
    {
      "cell_type": "code",
      "source": [
        "# Create a grid\n",
        "plt.figure(figsize=(12,12))\n",
        "grid = torchvision.utils.make_grid(tensor=images, nrow=4)\n",
        "\n",
        "print(f'class labels: {labels}')"
      ],
      "metadata": {
        "colab": {
          "base_uri": "https://localhost:8080/",
          "height": 54
        },
        "id": "F6jW2jc2gOxQ",
        "outputId": "cc02df88-e3fd-4ab4-b085-ef36419672e1"
      },
      "execution_count": 18,
      "outputs": [
        {
          "output_type": "stream",
          "name": "stdout",
          "text": [
            "class labels: tensor([3, 5, 9, 6])\n"
          ]
        },
        {
          "output_type": "display_data",
          "data": {
            "text/plain": [
              "<Figure size 864x864 with 0 Axes>"
            ]
          },
          "metadata": {}
        }
      ]
    },
    {
      "cell_type": "code",
      "source": [
        "# Use grid.permute() to transpose the grid so that the axes meet the specificications required by\n",
        "# plt.imshow() which are [height, width, channels]. Pytorch dimenstions are [channels, height, width]\n",
        "plt.imshow(grid.permute(1,2,0))"
      ],
      "metadata": {
        "colab": {
          "base_uri": "https://localhost:8080/",
          "height": 174
        },
        "id": "L0fF-OKSgjMw",
        "outputId": "739d6818-f216-4612-e21c-686a9f8f806e"
      },
      "execution_count": 19,
      "outputs": [
        {
          "output_type": "stream",
          "name": "stderr",
          "text": [
            "Clipping input data to the valid range for imshow with RGB data ([0..1] for floats or [0..255] for integers).\n"
          ]
        },
        {
          "output_type": "execute_result",
          "data": {
            "text/plain": [
              "<matplotlib.image.AxesImage at 0x7f5e4c044ed0>"
            ]
          },
          "metadata": {},
          "execution_count": 19
        },
        {
          "output_type": "display_data",
          "data": {
            "text/plain": [
              "<Figure size 432x288 with 1 Axes>"
            ],
            "image/png": "[encoded data removed]"
          },
          "metadata": {
            "needs_background": "light"
          }
        }
      ]
    },
    {
      "cell_type": "markdown",
      "metadata": {
        "id": "jVMti_g2J-W5"
      },
      "source": [
        "## CNN model"
      ]
    },
    {
      "cell_type": "code",
      "source": [
        "(32-4)/2"
      ],
      "metadata": {
        "colab": {
          "base_uri": "https://localhost:8080/"
        },
        "id": "RzAQHG6AgaC3",
        "outputId": "708a6ec0-6f31-4d61-bc1e-876f7680b993"
      },
      "execution_count": null,
      "outputs": [
        {
          "output_type": "execute_result",
          "data": {
            "text/plain": [
              "14.0"
            ]
          },
          "metadata": {},
          "execution_count": 13
        }
      ]
    },
    {
      "cell_type": "code",
      "source": [
        "16*25"
      ],
      "metadata": {
        "colab": {
          "base_uri": "https://localhost:8080/"
        },
        "id": "ipsxCy9elTeZ",
        "outputId": "e3c2ae87-ee7c-4cbb-ce7f-ed1a2f82b68d"
      },
      "execution_count": null,
      "outputs": [
        {
          "output_type": "execute_result",
          "data": {
            "text/plain": [
              "400"
            ]
          },
          "metadata": {},
          "execution_count": 26
        }
      ]
    },
    {
      "cell_type": "code",
      "source": [
        "class Test(nn.Module):\n",
        "  def __init__(self):\n",
        "    super().__init__()\n",
        "    self.conv1 = nn.Conv2d(3,6,5, padding = 1)\n",
        "    self.relu = nn.ReLU()\n",
        "    self.pool = nn.MaxPool2d(2,2)\n",
        "    self.conv2 = nn.Conv2d(6, 16, 5)\n",
        "    # Flatten 3D tensor to 1D tensor\n",
        "    self.fc1 = nn.Linear(16*5*5, 128)\n",
        "    self.fc2 = nn.Linear(128, 64)\n",
        "    self.fc3 = nn.Linear(64,10) # Final output matches num_classes\n",
        "\n",
        "  def forward(self,x):\n",
        "    # conv + relu + pool\n",
        "    print(f'Input shape: {x.shape}')\n",
        "    out = self.conv1(x)\n",
        "    print(f'After Conv1: {out.shape}')\n",
        "    print(f'Padding : {self.conv1.padding}')\n",
        "    out = self.pool(F.relu(out))\n",
        "    print(f'After Pool1: {out.shape}')\n",
        "    out = self.conv2(out)\n",
        "    print(f'After Conv2 : {out.shape}')\n",
        "    out = self.pool(F.relu(out))\n",
        "    print(f'After Pool2: {out.shape}')\n",
        "    # Flatten it before fc1\n",
        "    out = out.reshape(-1,400)\n",
        "    print(f'Before fc1 : {out.shape}')\n",
        "    out = self.fc1(out)\n",
        "    out = self.relu(out)\n",
        "    print(f'After fc1: {out.shape}')\n",
        "    out = self.fc2(out)\n",
        "    out = self.relu(out)\n",
        "    print(f'After fc2: {out.shape}')\n",
        "    out = self.fc3(out) # NO softmax as it will be included in CrossEntropyLoss\n",
        "    print(f'After fc3: {out.shape}')\n",
        "    return out\n"
      ],
      "metadata": {
        "id": "d0AvOPwwhpS3"
      },
      "execution_count": 20,
      "outputs": []
    },
    {
      "cell_type": "code",
      "source": [
        "model = Test().to(device) \n",
        "\n",
        "# Let's view the softmax output\n",
        "probs = nn.Softmax(dim = 1)"
      ],
      "metadata": {
        "id": "6QtqGFdNj3aU"
      },
      "execution_count": 21,
      "outputs": []
    },
    {
      "cell_type": "code",
      "metadata": {
        "id": "tWePXqBQKAp7"
      },
      "source": [
        "# Q5. What do the three arguments of the first convolutional layer, conv1 represent (3,6,5)? \n",
        "# A5. 3 means input data has 3 channels, 6 means that we want to get 6 feature maps using 6 filters, and 5 means that the filter size is 5*5\n",
        "\n",
        "# Q6. Explain the arguments of the second convolutional layer, conv2 (6, 16, 5) \n",
        "# A6. As in the answer a5, 6 means that the input channels is 6, 16 means than we want to get 16 feature maps using 16 filters, and 5 means that the filter size is 5*5\n",
        "\n",
        "# Q7. Figure out the convolved image size after conv1\n",
        "# Convolved image size = ((input_width - filter_size + 2 * padding) / stride) + 1\n",
        "# A7. (32-5)/1 + 1= 28\n",
        "\n",
        "# Q8. Figure out the input size to the first fcn layer and fill out the code above in init() and forward()\n",
        "# A8. After conv1= 28, after max pooling = 28/2 = 14, after conv2 = (14-5)/1+1 = 10 , after max pooling = 10/2 = 5\n",
        "# It is 400(= 16*5*5)\n"
      ],
      "execution_count": 22,
      "outputs": []
    },
    {
      "cell_type": "markdown",
      "metadata": {
        "id": "EZk7fcriftFm"
      },
      "source": [
        "### Run through a sample batch"
      ]
    },
    {
      "cell_type": "code",
      "source": [
        "sample = next(iter(train_loader))\n",
        "\n",
        "images, labels = sample\n",
        "\n",
        "images = images.to(device)\n",
        "labels = labels.to(device)\n",
        "\n",
        "output = model(images)"
      ],
      "metadata": {
        "colab": {
          "base_uri": "https://localhost:8080/"
        },
        "id": "1lg_wnebkErH",
        "outputId": "a4df67d0-1e94-48ca-f6bc-eff105704eee"
      },
      "execution_count": 23,
      "outputs": [
        {
          "output_type": "stream",
          "name": "stdout",
          "text": [
            "Input shape: torch.Size([4, 3, 32, 32])\n",
            "After Conv1: torch.Size([4, 6, 30, 30])\n",
            "Padding : (1, 1)\n",
            "After Pool1: torch.Size([4, 6, 15, 15])\n",
            "After Conv2 : torch.Size([4, 16, 11, 11])\n",
            "After Pool2: torch.Size([4, 16, 5, 5])\n",
            "Before fc1 : torch.Size([4, 400])\n",
            "After fc1: torch.Size([4, 128])\n",
            "After fc2: torch.Size([4, 64])\n",
            "After fc3: torch.Size([4, 10])\n"
          ]
        }
      ]
    },
    {
      "cell_type": "code",
      "source": [
        "print(f'Output shape: {output.shape}')\n",
        "print(f'Softmax outputs: \\n{probs(output)}')"
      ],
      "metadata": {
        "colab": {
          "base_uri": "https://localhost:8080/"
        },
        "id": "_E_JwcfAkSIe",
        "outputId": "4a69239a-1483-4acb-f309-71f1471a92de"
      },
      "execution_count": 24,
      "outputs": [
        {
          "output_type": "stream",
          "name": "stdout",
          "text": [
            "Output shape: torch.Size([4, 10])\n",
            "Softmax outputs: \n",
            "tensor([[0.1083, 0.1113, 0.1072, 0.1002, 0.1011, 0.1072, 0.0903, 0.0889, 0.0939,\n",
            "         0.0916],\n",
            "        [0.1074, 0.1111, 0.1075, 0.1007, 0.1012, 0.1072, 0.0904, 0.0892, 0.0941,\n",
            "         0.0913],\n",
            "        [0.1080, 0.1111, 0.1070, 0.1009, 0.1009, 0.1066, 0.0910, 0.0885, 0.0943,\n",
            "         0.0916],\n",
            "        [0.1087, 0.1105, 0.1070, 0.1003, 0.1008, 0.1074, 0.0910, 0.0885, 0.0946,\n",
            "         0.0913]], device='cuda:0', grad_fn=<SoftmaxBackward0>)\n"
          ]
        }
      ]
    },
    {
      "cell_type": "code",
      "metadata": {
        "id": "JW7t-qz-FjGp"
      },
      "source": [
        "# Q9. Explain the shape of the output after conv1\n",
        "# A9. The shape of output is 4 * 10. Each batch has 4 images and 10 classes.\n",
        "\n",
        "# Q10. What does the pooling do to the dimensions of the feature images here?\n",
        "# A10. Pooling does not change the number of channels, but it decreases the height and width of the image.\n",
        "\n",
        "# Q11. Add padding=1 to conv1 and rerun the last two code cells. How did padding affect the dimensions of the feature images?\n",
        "# A11. With padding(=1) the size after conv1 decreases not as much as the one without padding. It helps not to shrink the size of image after convolution.\n",
        "\n",
        "# Q12. What is represented by each list returned by Softmax outputs?\n",
        "# A12. Each value can be interpreted as probability that the image falls into each category. When summing each list up, the sumed value is 1. "
      ],
      "execution_count": 25,
      "outputs": []
    },
    {
      "cell_type": "markdown",
      "metadata": {
        "id": "eQj3gsf7Y6Ql"
      },
      "source": [
        "\n",
        "### Let's Train!\n",
        "- Now that we know and understand how CNNs work, let's put everything together for CIFAR-10 dataset\n",
        "  - Download the data in batches and normalisation with shuffling\n",
        "  - Build a model with 2 CNN layers containing ReLU and pooling\n",
        "  - Passing the feature images to 3 fully connected layers (FCNs) also containing RELU activation\n",
        "  - The final layer has 10 units to reprsent the number of output classes\n",
        "  - Use Binary Cross Entropy Loss and SGD optimiser\n",
        "  - Evaluate the model on the test data on EACH class\n",
        "\n",
        "**IMPORTANT!** Fill out the missing code below before training "
      ]
    },
    {
      "cell_type": "code",
      "source": [
        "class CNN(nn.Module):\n",
        "  def __init__(self):\n",
        "    super().__init__()\n",
        "    self.conv1 = nn.Conv2d(3, 6, 5)\n",
        "    self.relu = nn.ReLU()\n",
        "    self.pool = nn.MaxPool2d(2, 2)\n",
        "    self.conv2 = nn.Conv2d(6, 16, 5)\n",
        "    # Flatten 3d tensor to 1d tensor\n",
        "    self.fc1 = nn.Linear(400, 128)\n",
        "    self.fc2 = nn.Linear(128, 64)\n",
        "    self.fc3 = nn.Linear(64, 10)\n",
        "\n",
        "  def forward(self, x):\n",
        "    # conv + relu + pooling\n",
        "    out = self.pool(F.relu(self.conv1(x)))\n",
        "    out = self.pool(F.relu(self.conv2(out)))\n",
        "    # Flatten it before fc1\n",
        "    out = out.reshape(-1, 400)\n",
        "    out = F.relu(self.fc1(out))\n",
        "    out = F.relu(self.fc2(out))\n",
        "    out = self.fc3(out) # No softmax as it will be included in CrossEntrooyLoss\n",
        "    return out\n",
        "    "
      ],
      "metadata": {
        "id": "KhaUzWrrkj3N"
      },
      "execution_count": 26,
      "outputs": []
    },
    {
      "cell_type": "code",
      "source": [
        "model = CNN().to(device)\n",
        "\n",
        "# Q13. Use the Cross Entropy Loss for this task (UNCOMMENT & COMPLETE CODE BELOW)\n",
        "\n",
        "criterion = nn.CrossEntropyLoss()\n",
        "\n",
        "# Q14. Use the Stochastic Gradient Descent (SGD) optimiser, this time ADD momentum=0.9 (UNCOMMENT & COMPLETE CODE BELOW)\n",
        "\n",
        "import torch.optim as optim\n",
        "opt = optim.SGD(model.parameters(), lr = learning_rate, momentum = 0.9)"
      ],
      "metadata": {
        "id": "pI2iHGm_ld4m"
      },
      "execution_count": 32,
      "outputs": []
    },
    {
      "cell_type": "markdown",
      "metadata": {
        "id": "Zlg2FFaJKppP"
      },
      "source": [
        "## Training loop"
      ]
    },
    {
      "cell_type": "code",
      "source": [
        "n_total_steps = len(train_set)\n",
        "n_iterations = -(-n_total_steps//batch_size)"
      ],
      "metadata": {
        "id": "Q33TLIZTlxVW"
      },
      "execution_count": 29,
      "outputs": []
    },
    {
      "cell_type": "code",
      "source": [
        "for epoch in range(num_epochs):\n",
        "  for i, (images, labels) in enumerate(train_loader):\n",
        "    #print(images.shape) # [4, 3, 32, 32] -> batch size, channels, img, dim\n",
        "    images = images.to(device)\n",
        "    labels = labels.to(device)\n",
        "\n",
        "    # Forward Pass\n",
        "    outputs = model(images)\n",
        "    loss = criterion(outputs, labels)\n",
        "\n",
        "    # Backward Pass and Optimaze\n",
        "    opt.zero_grad()\n",
        "    loss.backward()\n",
        "    opt.step()\n",
        "\n",
        "    # Print\n",
        "    if (i+1) % 1000 == 0:\n",
        "      print(f'Epoch {epoch+1}/{num_epochs}, iteration {i+1}/{n_iterations}, Loss = {loss.item():.4f}')"
      ],
      "metadata": {
        "colab": {
          "base_uri": "https://localhost:8080/"
        },
        "id": "2yj-meDOmFGQ",
        "outputId": "9a4963e9-5f38-4bf0-8e1b-e9213325cc1c"
      },
      "execution_count": 34,
      "outputs": [
        {
          "output_type": "stream",
          "name": "stdout",
          "text": [
            "Epoch 1/4, iteration 1000/12500, Loss = 2.3486\n",
            "Epoch 1/4, iteration 2000/12500, Loss = 1.9929\n",
            "Epoch 1/4, iteration 3000/12500, Loss = 1.4207\n",
            "Epoch 1/4, iteration 4000/12500, Loss = 1.8180\n",
            "Epoch 1/4, iteration 5000/12500, Loss = 2.3399\n",
            "Epoch 1/4, iteration 6000/12500, Loss = 1.7247\n",
            "Epoch 1/4, iteration 7000/12500, Loss = 1.0013\n",
            "Epoch 1/4, iteration 8000/12500, Loss = 1.3204\n",
            "Epoch 1/4, iteration 9000/12500, Loss = 1.3470\n",
            "Epoch 1/4, iteration 10000/12500, Loss = 1.5193\n",
            "Epoch 1/4, iteration 11000/12500, Loss = 1.6846\n",
            "Epoch 1/4, iteration 12000/12500, Loss = 1.9636\n",
            "Epoch 2/4, iteration 1000/12500, Loss = 1.6956\n",
            "Epoch 2/4, iteration 2000/12500, Loss = 0.4733\n",
            "Epoch 2/4, iteration 3000/12500, Loss = 0.3573\n",
            "Epoch 2/4, iteration 4000/12500, Loss = 1.5654\n",
            "Epoch 2/4, iteration 5000/12500, Loss = 1.3031\n",
            "Epoch 2/4, iteration 6000/12500, Loss = 1.8813\n",
            "Epoch 2/4, iteration 7000/12500, Loss = 1.0318\n",
            "Epoch 2/4, iteration 8000/12500, Loss = 1.7331\n",
            "Epoch 2/4, iteration 9000/12500, Loss = 2.3134\n",
            "Epoch 2/4, iteration 10000/12500, Loss = 1.0583\n",
            "Epoch 2/4, iteration 11000/12500, Loss = 1.1884\n",
            "Epoch 2/4, iteration 12000/12500, Loss = 2.4509\n",
            "Epoch 3/4, iteration 1000/12500, Loss = 0.5542\n",
            "Epoch 3/4, iteration 2000/12500, Loss = 1.0156\n",
            "Epoch 3/4, iteration 3000/12500, Loss = 1.3706\n",
            "Epoch 3/4, iteration 4000/12500, Loss = 1.2298\n",
            "Epoch 3/4, iteration 5000/12500, Loss = 0.2822\n",
            "Epoch 3/4, iteration 6000/12500, Loss = 1.0233\n",
            "Epoch 3/4, iteration 7000/12500, Loss = 1.1090\n",
            "Epoch 3/4, iteration 8000/12500, Loss = 0.9674\n",
            "Epoch 3/4, iteration 9000/12500, Loss = 1.1785\n",
            "Epoch 3/4, iteration 10000/12500, Loss = 1.0845\n",
            "Epoch 3/4, iteration 11000/12500, Loss = 1.7703\n",
            "Epoch 3/4, iteration 12000/12500, Loss = 1.2978\n",
            "Epoch 4/4, iteration 1000/12500, Loss = 1.9203\n",
            "Epoch 4/4, iteration 2000/12500, Loss = 0.9928\n",
            "Epoch 4/4, iteration 3000/12500, Loss = 1.1276\n",
            "Epoch 4/4, iteration 4000/12500, Loss = 1.5251\n",
            "Epoch 4/4, iteration 5000/12500, Loss = 1.4433\n",
            "Epoch 4/4, iteration 6000/12500, Loss = 1.1546\n",
            "Epoch 4/4, iteration 7000/12500, Loss = 0.9924\n",
            "Epoch 4/4, iteration 8000/12500, Loss = 0.6116\n",
            "Epoch 4/4, iteration 9000/12500, Loss = 0.9464\n",
            "Epoch 4/4, iteration 10000/12500, Loss = 0.9701\n",
            "Epoch 4/4, iteration 11000/12500, Loss = 0.8536\n",
            "Epoch 4/4, iteration 12000/12500, Loss = 0.4956\n"
          ]
        }
      ]
    },
    {
      "cell_type": "markdown",
      "metadata": {
        "id": "HahXHRsSMo6H"
      },
      "source": [
        "## Evaluation"
      ]
    },
    {
      "cell_type": "code",
      "source": [
        "# Deactivate the autograd engine to reduce memory usage and speed up computaions(backprop disabled).\n",
        "\n",
        "with torch.no_grad():\n",
        "  n_correct = 0\n",
        "  n_samples = 0\n",
        "  n_class_correct = [0 for i in range(10)]\n",
        "  n_class_samples = [0 for i in range(10)]\n",
        "\n",
        "  # Loop through test set\n",
        "  for images, labels in test_loader:\n",
        "    # put images on GPU\n",
        "    images = images.to(device)\n",
        "    labels = labels.to(device)\n",
        "\n",
        "    # Run on trained model\n",
        "    outputs = model(images)\n",
        "\n",
        "    # Get predictions\n",
        "    # torch.max() returns actual probability value(we will ignore) and index or class label(selected)\n",
        "    _, y_preds = torch.max(outputs, 1)\n",
        "    n_samples += labels.size(0) #different to FFNN\n",
        "    n_correct += (y_preds == labels).sum().item()\n",
        "\n",
        "    # Keep track of each class\n",
        "    for i in range(batch_size):\n",
        "      label = labels[i]\n",
        "      pred = y_preds[i]\n",
        "      if (label == pred):\n",
        "        n_class_correct[label] += 1\n",
        "      n_class_samples[label] += 1\n",
        "  \n",
        "  # Print Accuracy\n",
        "  acc = 100.0 * n_correct / n_samples\n",
        "  print(f'Test Accuracy of the WHOLE CNN = {acc}%')\n",
        "\n",
        "  for i in range(len(classes)):\n",
        "    acc = 100 * n_class_correct[i] / n_class_samples[i]\n",
        "    print(f'Accuracy of {classes[i]}: {acc}%')"
      ],
      "metadata": {
        "colab": {
          "base_uri": "https://localhost:8080/"
        },
        "id": "Bj7CbAovnzsa",
        "outputId": "455b8649-4594-40e6-e8e4-40574a68deec"
      },
      "execution_count": 45,
      "outputs": [
        {
          "output_type": "stream",
          "name": "stdout",
          "text": [
            "Test Accuracy of the WHOLE CNN = 59.0%\n",
            "Accuracy of plane: 73.1%\n",
            "Accuracy of car: 77.3%\n",
            "Accuracy of bird: 41.8%\n",
            "Accuracy of cat: 31.6%\n",
            "Accuracy of deer: 48.8%\n",
            "Accuracy of dog: 53.8%\n",
            "Accuracy of frog: 69.0%\n",
            "Accuracy of horse: 65.6%\n",
            "Accuracy of ship: 68.7%\n",
            "Accuracy of truck: 60.3%\n"
          ]
        }
      ]
    },
    {
      "cell_type": "code",
      "metadata": {
        "id": "5TKj_ZV-Dzzn"
      },
      "source": [
        "# Q15. Why don't we need to reshape the input images when training and testing?\n",
        "# A15. Convolution does not require the input image's size to be the same, if the size is different the feature representation's size would be different. \n",
        "\n",
        "# Q16. Try to improve the model performance, e.g. by increasing the epochs, changing batch size, adding convolutions, etc.\n",
        "# Provide the code chunk showing the improved accuracy on the test set below. What changes did you make?\n",
        "# I added the number of channels and increased the number of epochs and the accuracy got better.\n"
      ],
      "execution_count": 46,
      "outputs": []
    },
    {
      "cell_type": "code",
      "source": [
        "32*5*5"
      ],
      "metadata": {
        "colab": {
          "base_uri": "https://localhost:8080/"
        },
        "id": "HZtW52AsMcb2",
        "outputId": "43b96c90-aa81-452f-851a-146e0e2aa08b"
      },
      "execution_count": null,
      "outputs": [
        {
          "output_type": "execute_result",
          "data": {
            "text/plain": [
              "800"
            ]
          },
          "metadata": {},
          "execution_count": 32
        }
      ]
    },
    {
      "cell_type": "code",
      "source": [
        "class CNN(nn.Module):\n",
        "  def __init__(self):\n",
        "    super().__init__()\n",
        "    self.conv1 = nn.Conv2d(3, 32, 5)\n",
        "    self.relu = nn.ReLU()\n",
        "    self.pool = nn.MaxPool2d(2, 2)\n",
        "    self.conv2 = nn.Conv2d(32, 32, 5) \n",
        "    self.fc1 = nn.Linear(800, 128) \n",
        "    self.fc2 = nn.Linear(128, 64)\n",
        "    self.fc3 = nn.Linear(64, 10)\n",
        "  def forward(self, x):\n",
        "    out = self.pool(F.relu(self.conv1(x)))\n",
        "    out = self.pool(F.relu(self.conv2(out)))\n",
        "    out = out.reshape(-1,800)\n",
        "    out = F.relu(self.fc1(out))\n",
        "    out = F.relu(self.fc2(out))\n",
        "    out = self.fc3(out) \n",
        "    return out\n",
        "\n",
        "\n",
        "model = CNN().to(device)\n",
        "criterion = nn.CrossEntropyLoss()\n",
        "\n",
        "import torch.optim as optim\n",
        "opt = optim.SGD(model.parameters(), lr=learning_rate, momentum = 0.9)\n"
      ],
      "metadata": {
        "id": "Vn-0k4Z3MIQp"
      },
      "execution_count": null,
      "outputs": []
    },
    {
      "cell_type": "code",
      "source": [
        "n_total_steps = len(train_set)\n",
        "n_iterations = -(-n_total_steps // batch_size) # ceiling division\n",
        "\n",
        "num_epochs = 20\n",
        "\n",
        "for epoch in range(num_epochs):\n",
        "  for i, (images, labels) in enumerate(train_loader):\n",
        "    images = images.to(device)\n",
        "    labels = labels.to(device)\n",
        "\n",
        "    outputs = model(images)\n",
        "    loss = criterion(outputs, labels)\n",
        "\n",
        "    opt.zero_grad()\n",
        "    loss.backward()\n",
        "    opt.step()\n",
        "\n",
        "    if (i+1) % 1000 == 0:\n",
        "      print(f'Epoch {epoch+1}/{num_epochs}, Iteration {i+1}/{n_iterations}, Loss={loss.item():.4f} ')\n",
        "\n"
      ],
      "metadata": {
        "colab": {
          "base_uri": "https://localhost:8080/"
        },
        "id": "O3VbTC52MpoK",
        "outputId": "a30804a4-9b73-4b40-b235-04bc2a7b22bb"
      },
      "execution_count": null,
      "outputs": [
        {
          "output_type": "stream",
          "name": "stdout",
          "text": [
            "Epoch 1/20, Iteration 1000/12500, Loss=1.8632 \n",
            "Epoch 1/20, Iteration 2000/12500, Loss=1.4589 \n",
            "Epoch 1/20, Iteration 3000/12500, Loss=1.4120 \n",
            "Epoch 1/20, Iteration 4000/12500, Loss=1.2773 \n",
            "Epoch 1/20, Iteration 5000/12500, Loss=1.7751 \n",
            "Epoch 1/20, Iteration 6000/12500, Loss=2.1460 \n",
            "Epoch 1/20, Iteration 7000/12500, Loss=3.5957 \n",
            "Epoch 1/20, Iteration 8000/12500, Loss=2.9298 \n",
            "Epoch 1/20, Iteration 9000/12500, Loss=1.2691 \n",
            "Epoch 1/20, Iteration 10000/12500, Loss=2.0648 \n",
            "Epoch 1/20, Iteration 11000/12500, Loss=1.1605 \n",
            "Epoch 1/20, Iteration 12000/12500, Loss=1.9191 \n",
            "Epoch 2/20, Iteration 1000/12500, Loss=1.1586 \n",
            "Epoch 2/20, Iteration 2000/12500, Loss=1.4299 \n",
            "Epoch 2/20, Iteration 3000/12500, Loss=1.6216 \n",
            "Epoch 2/20, Iteration 4000/12500, Loss=0.8608 \n",
            "Epoch 2/20, Iteration 5000/12500, Loss=0.7561 \n",
            "Epoch 2/20, Iteration 6000/12500, Loss=0.7704 \n",
            "Epoch 2/20, Iteration 7000/12500, Loss=1.2427 \n",
            "Epoch 2/20, Iteration 8000/12500, Loss=2.3069 \n",
            "Epoch 2/20, Iteration 9000/12500, Loss=0.5763 \n",
            "Epoch 2/20, Iteration 10000/12500, Loss=0.4664 \n",
            "Epoch 2/20, Iteration 11000/12500, Loss=1.6353 \n",
            "Epoch 2/20, Iteration 12000/12500, Loss=0.6490 \n",
            "Epoch 3/20, Iteration 1000/12500, Loss=0.2937 \n",
            "Epoch 3/20, Iteration 2000/12500, Loss=0.1279 \n",
            "Epoch 3/20, Iteration 3000/12500, Loss=0.5488 \n",
            "Epoch 3/20, Iteration 4000/12500, Loss=0.4622 \n",
            "Epoch 3/20, Iteration 5000/12500, Loss=0.7112 \n",
            "Epoch 3/20, Iteration 6000/12500, Loss=0.0733 \n",
            "Epoch 3/20, Iteration 7000/12500, Loss=0.5005 \n",
            "Epoch 3/20, Iteration 8000/12500, Loss=1.9442 \n",
            "Epoch 3/20, Iteration 9000/12500, Loss=0.2910 \n",
            "Epoch 3/20, Iteration 10000/12500, Loss=0.4137 \n",
            "Epoch 3/20, Iteration 11000/12500, Loss=0.1083 \n",
            "Epoch 3/20, Iteration 12000/12500, Loss=0.5551 \n",
            "Epoch 4/20, Iteration 1000/12500, Loss=1.3914 \n",
            "Epoch 4/20, Iteration 2000/12500, Loss=0.6395 \n",
            "Epoch 4/20, Iteration 3000/12500, Loss=0.9195 \n",
            "Epoch 4/20, Iteration 4000/12500, Loss=0.3073 \n",
            "Epoch 4/20, Iteration 5000/12500, Loss=0.3866 \n",
            "Epoch 4/20, Iteration 6000/12500, Loss=1.8395 \n",
            "Epoch 4/20, Iteration 7000/12500, Loss=0.3048 \n",
            "Epoch 4/20, Iteration 8000/12500, Loss=0.3374 \n",
            "Epoch 4/20, Iteration 9000/12500, Loss=0.7586 \n",
            "Epoch 4/20, Iteration 10000/12500, Loss=0.3804 \n",
            "Epoch 4/20, Iteration 11000/12500, Loss=0.6945 \n",
            "Epoch 4/20, Iteration 12000/12500, Loss=1.2273 \n",
            "Epoch 5/20, Iteration 1000/12500, Loss=0.5730 \n",
            "Epoch 5/20, Iteration 2000/12500, Loss=0.2256 \n",
            "Epoch 5/20, Iteration 3000/12500, Loss=0.1028 \n",
            "Epoch 5/20, Iteration 4000/12500, Loss=0.1586 \n",
            "Epoch 5/20, Iteration 5000/12500, Loss=0.3378 \n",
            "Epoch 5/20, Iteration 6000/12500, Loss=0.4186 \n",
            "Epoch 5/20, Iteration 7000/12500, Loss=1.2211 \n",
            "Epoch 5/20, Iteration 8000/12500, Loss=0.7882 \n",
            "Epoch 5/20, Iteration 9000/12500, Loss=0.3499 \n",
            "Epoch 5/20, Iteration 10000/12500, Loss=0.1960 \n",
            "Epoch 5/20, Iteration 11000/12500, Loss=0.8543 \n",
            "Epoch 5/20, Iteration 12000/12500, Loss=2.2329 \n",
            "Epoch 6/20, Iteration 1000/12500, Loss=1.1477 \n",
            "Epoch 6/20, Iteration 2000/12500, Loss=0.5770 \n",
            "Epoch 6/20, Iteration 3000/12500, Loss=0.2563 \n",
            "Epoch 6/20, Iteration 4000/12500, Loss=0.3829 \n",
            "Epoch 6/20, Iteration 5000/12500, Loss=0.0648 \n",
            "Epoch 6/20, Iteration 6000/12500, Loss=1.2597 \n",
            "Epoch 6/20, Iteration 7000/12500, Loss=0.7314 \n",
            "Epoch 6/20, Iteration 8000/12500, Loss=1.2966 \n",
            "Epoch 6/20, Iteration 9000/12500, Loss=0.1166 \n",
            "Epoch 6/20, Iteration 10000/12500, Loss=0.2360 \n",
            "Epoch 6/20, Iteration 11000/12500, Loss=0.9223 \n",
            "Epoch 6/20, Iteration 12000/12500, Loss=0.0272 \n",
            "Epoch 7/20, Iteration 1000/12500, Loss=0.2075 \n",
            "Epoch 7/20, Iteration 2000/12500, Loss=0.2884 \n",
            "Epoch 7/20, Iteration 3000/12500, Loss=0.5944 \n",
            "Epoch 7/20, Iteration 4000/12500, Loss=1.5315 \n",
            "Epoch 7/20, Iteration 5000/12500, Loss=0.6065 \n",
            "Epoch 7/20, Iteration 6000/12500, Loss=0.9629 \n",
            "Epoch 7/20, Iteration 7000/12500, Loss=0.5646 \n",
            "Epoch 7/20, Iteration 8000/12500, Loss=0.3745 \n",
            "Epoch 7/20, Iteration 9000/12500, Loss=0.6422 \n",
            "Epoch 7/20, Iteration 10000/12500, Loss=0.4145 \n",
            "Epoch 7/20, Iteration 11000/12500, Loss=1.0823 \n",
            "Epoch 7/20, Iteration 12000/12500, Loss=0.3175 \n",
            "Epoch 8/20, Iteration 1000/12500, Loss=0.4742 \n",
            "Epoch 8/20, Iteration 2000/12500, Loss=0.6212 \n",
            "Epoch 8/20, Iteration 3000/12500, Loss=0.2908 \n",
            "Epoch 8/20, Iteration 4000/12500, Loss=0.1135 \n",
            "Epoch 8/20, Iteration 5000/12500, Loss=0.0087 \n",
            "Epoch 8/20, Iteration 6000/12500, Loss=0.4705 \n",
            "Epoch 8/20, Iteration 7000/12500, Loss=0.4872 \n",
            "Epoch 8/20, Iteration 8000/12500, Loss=0.5054 \n",
            "Epoch 8/20, Iteration 9000/12500, Loss=0.1597 \n",
            "Epoch 8/20, Iteration 10000/12500, Loss=0.4472 \n",
            "Epoch 8/20, Iteration 11000/12500, Loss=0.0177 \n",
            "Epoch 8/20, Iteration 12000/12500, Loss=0.2832 \n",
            "Epoch 9/20, Iteration 1000/12500, Loss=0.3610 \n",
            "Epoch 9/20, Iteration 2000/12500, Loss=0.6754 \n",
            "Epoch 9/20, Iteration 3000/12500, Loss=0.1155 \n",
            "Epoch 9/20, Iteration 4000/12500, Loss=0.4439 \n",
            "Epoch 9/20, Iteration 5000/12500, Loss=0.2094 \n",
            "Epoch 9/20, Iteration 6000/12500, Loss=0.2627 \n",
            "Epoch 9/20, Iteration 7000/12500, Loss=0.0260 \n",
            "Epoch 9/20, Iteration 8000/12500, Loss=0.7264 \n",
            "Epoch 9/20, Iteration 9000/12500, Loss=0.0064 \n",
            "Epoch 9/20, Iteration 10000/12500, Loss=0.9304 \n",
            "Epoch 9/20, Iteration 11000/12500, Loss=0.8897 \n",
            "Epoch 9/20, Iteration 12000/12500, Loss=0.1933 \n",
            "Epoch 10/20, Iteration 1000/12500, Loss=0.3697 \n",
            "Epoch 10/20, Iteration 2000/12500, Loss=0.0261 \n",
            "Epoch 10/20, Iteration 3000/12500, Loss=0.3534 \n",
            "Epoch 10/20, Iteration 4000/12500, Loss=0.5378 \n",
            "Epoch 10/20, Iteration 5000/12500, Loss=0.3248 \n",
            "Epoch 10/20, Iteration 6000/12500, Loss=0.0300 \n",
            "Epoch 10/20, Iteration 7000/12500, Loss=0.2375 \n",
            "Epoch 10/20, Iteration 8000/12500, Loss=0.1903 \n",
            "Epoch 10/20, Iteration 9000/12500, Loss=0.1746 \n",
            "Epoch 10/20, Iteration 10000/12500, Loss=0.3149 \n",
            "Epoch 10/20, Iteration 11000/12500, Loss=1.1547 \n",
            "Epoch 10/20, Iteration 12000/12500, Loss=0.4394 \n",
            "Epoch 11/20, Iteration 1000/12500, Loss=0.4406 \n",
            "Epoch 11/20, Iteration 2000/12500, Loss=0.2243 \n",
            "Epoch 11/20, Iteration 3000/12500, Loss=0.8087 \n",
            "Epoch 11/20, Iteration 4000/12500, Loss=0.5778 \n",
            "Epoch 11/20, Iteration 5000/12500, Loss=0.4923 \n",
            "Epoch 11/20, Iteration 6000/12500, Loss=0.6940 \n",
            "Epoch 11/20, Iteration 7000/12500, Loss=0.6806 \n",
            "Epoch 11/20, Iteration 8000/12500, Loss=0.1380 \n",
            "Epoch 11/20, Iteration 9000/12500, Loss=0.5753 \n",
            "Epoch 11/20, Iteration 10000/12500, Loss=0.6581 \n",
            "Epoch 11/20, Iteration 11000/12500, Loss=0.0143 \n",
            "Epoch 11/20, Iteration 12000/12500, Loss=1.0223 \n",
            "Epoch 12/20, Iteration 1000/12500, Loss=0.2170 \n",
            "Epoch 12/20, Iteration 2000/12500, Loss=0.0034 \n",
            "Epoch 12/20, Iteration 3000/12500, Loss=1.7020 \n",
            "Epoch 12/20, Iteration 4000/12500, Loss=0.4922 \n",
            "Epoch 12/20, Iteration 5000/12500, Loss=0.3494 \n",
            "Epoch 12/20, Iteration 6000/12500, Loss=0.1666 \n",
            "Epoch 12/20, Iteration 7000/12500, Loss=0.0051 \n",
            "Epoch 12/20, Iteration 8000/12500, Loss=0.4384 \n",
            "Epoch 12/20, Iteration 9000/12500, Loss=0.3603 \n",
            "Epoch 12/20, Iteration 10000/12500, Loss=1.0415 \n",
            "Epoch 12/20, Iteration 11000/12500, Loss=0.0056 \n",
            "Epoch 12/20, Iteration 12000/12500, Loss=0.2614 \n",
            "Epoch 13/20, Iteration 1000/12500, Loss=0.2026 \n",
            "Epoch 13/20, Iteration 2000/12500, Loss=0.1351 \n",
            "Epoch 13/20, Iteration 3000/12500, Loss=0.7852 \n",
            "Epoch 13/20, Iteration 4000/12500, Loss=0.0778 \n",
            "Epoch 13/20, Iteration 5000/12500, Loss=0.1993 \n",
            "Epoch 13/20, Iteration 6000/12500, Loss=0.0567 \n",
            "Epoch 13/20, Iteration 7000/12500, Loss=0.0077 \n",
            "Epoch 13/20, Iteration 8000/12500, Loss=0.0140 \n",
            "Epoch 13/20, Iteration 9000/12500, Loss=0.6959 \n",
            "Epoch 13/20, Iteration 10000/12500, Loss=1.2515 \n",
            "Epoch 13/20, Iteration 11000/12500, Loss=0.0492 \n",
            "Epoch 13/20, Iteration 12000/12500, Loss=0.6224 \n",
            "Epoch 14/20, Iteration 1000/12500, Loss=0.0089 \n",
            "Epoch 14/20, Iteration 2000/12500, Loss=0.6280 \n",
            "Epoch 14/20, Iteration 3000/12500, Loss=0.6212 \n",
            "Epoch 14/20, Iteration 4000/12500, Loss=0.3305 \n",
            "Epoch 14/20, Iteration 5000/12500, Loss=0.2562 \n",
            "Epoch 14/20, Iteration 6000/12500, Loss=0.6509 \n",
            "Epoch 14/20, Iteration 7000/12500, Loss=0.0899 \n",
            "Epoch 14/20, Iteration 8000/12500, Loss=1.0760 \n",
            "Epoch 14/20, Iteration 9000/12500, Loss=0.0091 \n",
            "Epoch 14/20, Iteration 10000/12500, Loss=0.1101 \n",
            "Epoch 14/20, Iteration 11000/12500, Loss=0.0766 \n",
            "Epoch 14/20, Iteration 12000/12500, Loss=0.0255 \n",
            "Epoch 15/20, Iteration 1000/12500, Loss=0.0221 \n",
            "Epoch 15/20, Iteration 2000/12500, Loss=0.2296 \n",
            "Epoch 15/20, Iteration 3000/12500, Loss=0.0594 \n",
            "Epoch 15/20, Iteration 4000/12500, Loss=0.6369 \n",
            "Epoch 15/20, Iteration 5000/12500, Loss=0.1183 \n",
            "Epoch 15/20, Iteration 6000/12500, Loss=0.0628 \n",
            "Epoch 15/20, Iteration 7000/12500, Loss=0.1197 \n",
            "Epoch 15/20, Iteration 8000/12500, Loss=0.3124 \n",
            "Epoch 15/20, Iteration 9000/12500, Loss=0.7864 \n",
            "Epoch 15/20, Iteration 10000/12500, Loss=0.0378 \n",
            "Epoch 15/20, Iteration 11000/12500, Loss=0.5963 \n",
            "Epoch 15/20, Iteration 12000/12500, Loss=0.3298 \n",
            "Epoch 16/20, Iteration 1000/12500, Loss=0.8411 \n",
            "Epoch 16/20, Iteration 2000/12500, Loss=0.7569 \n",
            "Epoch 16/20, Iteration 3000/12500, Loss=1.0456 \n",
            "Epoch 16/20, Iteration 4000/12500, Loss=0.0070 \n",
            "Epoch 16/20, Iteration 5000/12500, Loss=0.0586 \n",
            "Epoch 16/20, Iteration 6000/12500, Loss=0.1345 \n",
            "Epoch 16/20, Iteration 7000/12500, Loss=1.1271 \n",
            "Epoch 16/20, Iteration 8000/12500, Loss=0.1523 \n",
            "Epoch 16/20, Iteration 9000/12500, Loss=0.7405 \n",
            "Epoch 16/20, Iteration 10000/12500, Loss=0.5041 \n",
            "Epoch 16/20, Iteration 11000/12500, Loss=1.0191 \n",
            "Epoch 16/20, Iteration 12000/12500, Loss=0.2358 \n",
            "Epoch 17/20, Iteration 1000/12500, Loss=0.4711 \n",
            "Epoch 17/20, Iteration 2000/12500, Loss=0.1774 \n",
            "Epoch 17/20, Iteration 3000/12500, Loss=0.1450 \n",
            "Epoch 17/20, Iteration 4000/12500, Loss=0.4707 \n",
            "Epoch 17/20, Iteration 5000/12500, Loss=0.0229 \n",
            "Epoch 17/20, Iteration 6000/12500, Loss=0.0321 \n",
            "Epoch 17/20, Iteration 7000/12500, Loss=0.0517 \n",
            "Epoch 17/20, Iteration 8000/12500, Loss=0.5723 \n",
            "Epoch 17/20, Iteration 9000/12500, Loss=0.8520 \n",
            "Epoch 17/20, Iteration 10000/12500, Loss=0.7542 \n",
            "Epoch 17/20, Iteration 11000/12500, Loss=0.0646 \n",
            "Epoch 17/20, Iteration 12000/12500, Loss=0.0785 \n",
            "Epoch 18/20, Iteration 1000/12500, Loss=0.0577 \n",
            "Epoch 18/20, Iteration 2000/12500, Loss=0.4590 \n",
            "Epoch 18/20, Iteration 3000/12500, Loss=1.1848 \n",
            "Epoch 18/20, Iteration 4000/12500, Loss=0.0277 \n",
            "Epoch 18/20, Iteration 5000/12500, Loss=0.0102 \n",
            "Epoch 18/20, Iteration 6000/12500, Loss=0.0824 \n",
            "Epoch 18/20, Iteration 7000/12500, Loss=0.0035 \n",
            "Epoch 18/20, Iteration 8000/12500, Loss=0.0222 \n",
            "Epoch 18/20, Iteration 9000/12500, Loss=0.0628 \n",
            "Epoch 18/20, Iteration 10000/12500, Loss=0.1090 \n",
            "Epoch 18/20, Iteration 11000/12500, Loss=0.3422 \n",
            "Epoch 18/20, Iteration 12000/12500, Loss=0.3121 \n",
            "Epoch 19/20, Iteration 1000/12500, Loss=0.0198 \n",
            "Epoch 19/20, Iteration 2000/12500, Loss=0.1170 \n",
            "Epoch 19/20, Iteration 3000/12500, Loss=0.8747 \n",
            "Epoch 19/20, Iteration 4000/12500, Loss=0.4976 \n",
            "Epoch 19/20, Iteration 5000/12500, Loss=0.6396 \n",
            "Epoch 19/20, Iteration 6000/12500, Loss=0.1492 \n",
            "Epoch 19/20, Iteration 7000/12500, Loss=0.5669 \n",
            "Epoch 19/20, Iteration 8000/12500, Loss=0.1530 \n",
            "Epoch 19/20, Iteration 9000/12500, Loss=0.0014 \n",
            "Epoch 19/20, Iteration 10000/12500, Loss=0.4720 \n",
            "Epoch 19/20, Iteration 11000/12500, Loss=0.4510 \n",
            "Epoch 19/20, Iteration 12000/12500, Loss=0.0240 \n",
            "Epoch 20/20, Iteration 1000/12500, Loss=0.8496 \n",
            "Epoch 20/20, Iteration 2000/12500, Loss=0.2675 \n",
            "Epoch 20/20, Iteration 3000/12500, Loss=0.0806 \n",
            "Epoch 20/20, Iteration 4000/12500, Loss=0.5174 \n",
            "Epoch 20/20, Iteration 5000/12500, Loss=0.3418 \n",
            "Epoch 20/20, Iteration 6000/12500, Loss=0.1978 \n",
            "Epoch 20/20, Iteration 7000/12500, Loss=0.0600 \n",
            "Epoch 20/20, Iteration 8000/12500, Loss=0.2348 \n",
            "Epoch 20/20, Iteration 9000/12500, Loss=0.2216 \n",
            "Epoch 20/20, Iteration 10000/12500, Loss=0.7022 \n",
            "Epoch 20/20, Iteration 11000/12500, Loss=0.1543 \n",
            "Epoch 20/20, Iteration 12000/12500, Loss=1.2190 \n"
          ]
        }
      ]
    },
    {
      "cell_type": "code",
      "source": [
        "with torch.no_grad():\n",
        "  n_correct = 0\n",
        "  n_samples = 0\n",
        "  n_class_correct = [0 for i in range(10)]\n",
        "  n_class_samples = [0 for i in range(10)]\n",
        "\n",
        "\n",
        "  for images, labels in test_loader:\n",
        "    images = images.to(device)\n",
        "    labels = labels.to(device)\n",
        "    outputs = model(images) \n",
        "\n",
        "    _, y_preds = torch.max(outputs, 1)\n",
        "    n_samples += labels.size(0) \n",
        "    n_correct += (y_preds == labels).sum().item()\n",
        "\n",
        "    for i in range(batch_size):\n",
        "      label = labels[i]\n",
        "      pred = y_preds[i]\n",
        "      if (label == pred):\n",
        "        n_class_correct[label] += 1\n",
        "      n_class_samples[label] += 1\n",
        "\n",
        "  acc = 100.0 * n_correct / n_samples\n",
        "  print(f'Test Accuracy of the WHOLE CNN = {acc} %')\n",
        "\n",
        "  for i in range(len(classes)):\n",
        "    acc = 100.0 * n_class_correct[i] / n_class_samples[i]\n",
        "    print(f'Accuracy of {classes[i]}: {acc} %')\n"
      ],
      "metadata": {
        "colab": {
          "base_uri": "https://localhost:8080/"
        },
        "id": "pLW_saUYMyCR",
        "outputId": "82405876-81af-41eb-a7e5-c845b8da0ebf"
      },
      "execution_count": null,
      "outputs": [
        {
          "output_type": "stream",
          "name": "stdout",
          "text": [
            "Test Accuracy of the WHOLE CNN = 68.85 %\n",
            "Accuracy of plane: 76.4 %\n",
            "Accuracy of car: 79.0 %\n",
            "Accuracy of bird: 51.7 %\n",
            "Accuracy of cat: 49.3 %\n",
            "Accuracy of deer: 67.5 %\n",
            "Accuracy of dog: 55.8 %\n",
            "Accuracy of frog: 73.1 %\n",
            "Accuracy of horse: 76.7 %\n",
            "Accuracy of ship: 78.6 %\n",
            "Accuracy of truck: 80.4 %\n"
          ]
        }
      ]
    }
  ]
}