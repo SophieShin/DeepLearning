{
  "nbformat": 4,
  "nbformat_minor": 0,
  "metadata": {
    "kernelspec": {
      "display_name": "Python 3",
      "language": "python",
      "name": "python3"
    },
    "language_info": {
      "codemirror_mode": {
        "name": "ipython",
        "version": 3
      },
      "file_extension": ".py",
      "mimetype": "text/x-python",
      "name": "python",
      "nbconvert_exporter": "python",
      "pygments_lexer": "ipython3",
      "version": "3.8.2"
    },
    "colab": {
      "name": "[SSH]lab05-autograd.ipynb",
      "provenance": [],
      "collapsed_sections": [],
      "include_colab_link": true
    }
  },
  "cells": [
    {
      "cell_type": "markdown",
      "metadata": {
        "id": "view-in-github",
        "colab_type": "text"
      },
      "source": [
        "<a href=\"https://colab.research.google.com/github/SophieShin/DeepLearning/blob/main/%5BSSH%5Dlab05_autograd.ipynb\" target=\"_parent\"><img src=\"https://colab.research.google.com/assets/colab-badge.svg\" alt=\"Open In Colab\"/></a>"
      ]
    },
    {
      "cell_type": "markdown",
      "metadata": {
        "id": "nkR5FpvOqMtA"
      },
      "source": [
        "# Lab 5 – Autograd\n",
        "\n",
        "Before working on this notebook:\n",
        "  - Create a copy in your drive\n",
        "  - Set your Runtime to None\n",
        "\n",
        "Adapted from: [Original Source](https://www.youtube.com/redirect?event=video_description&redir_token=QUFFLUhqa2IzMmVuNGxhUm9XcnN1UXVydWVjZEpkaEJvd3xBQ3Jtc0ttTkp6Tml1MzlqT1Fia3dFNTdteFVlbW5BVGxDNzMxZW51YzVnTUR6cURhOU1TRHdqQmtUaWZfekppMkswUm52SUZ6d285SHA5YVdfMHF3WmhyYWZuODNER0trLTUyM3VQNHpCcnEtakZxWXMwNXI1RQ&q=https%3A%2F%2Fpytorch-tutorial-assets.s3.amazonaws.com%2Fyoutube-series%2FVideo%2B3%2B-%2BAutograd.ipynb)\n",
        "\n",
        "PyTorch's *Autograd* feature is part of what make PyTorch flexible and fast for building machine learning projects. It allows for the rapid and easy computation of multiple partial derivatives (also referred to as *gradients)* over a complex computation. This operation is central to backpropagation-based neural network learning.\n",
        "\n",
        "The power of autograd comes from the fact that it traces your computation dynamically *at runtime,* meaning that if your model has decision branches, or loops whose lengths are not known until runtime, the computation will still be traced correctly, and you'll get correct gradients to drive learning. This, combined with the fact that your models are built in Python, offers far more flexibility than frameworks that rely on static analysis of a more rigidly-structured model for computing gradients.\n",
        "\n",
        "## What Do We Need Autograd For?\n",
        "\n",
        "In training a model, we want to minimize the loss, $L$. In the idealized case of a perfect model, that means adjusting its learning weights - that is, the adjustable parameters of the function - such that loss is zero for all inputs. In the real world, it means an iterative process of nudging the learning weights until we see that we get a tolerable loss for a wide variety of inputs.\n",
        "\n",
        "How do we decide how far and in which direction to nudge the weights? We want to *minimize* the loss, which means making its first derivative with respect to the input equal to 0: $\\frac{\\partial L}{\\partial x} = 0$.\n",
        "\n",
        "Recall, though, that the loss is not *directly* derived from the input, but a function of the model's output (which is a function of the input directly). By the chain rule of differential calculus, we have $\\frac{\\partial {L({\\vec y})}}{\\partial x}$ = $\\frac{\\partial L}{\\partial y}\\frac{\\partial y}{\\partial x}$ = $\\frac{\\partial L}{\\partial y}\\frac{\\partial M(x)}{\\partial x}$.\n",
        "\n",
        "$\\frac{\\partial M(x)}{\\partial x}$ is where things get complex. The partial derivatives of the model's outputs with respect to its inputs, if we were to expand the expression using the chain rule again, would involve many local partial derivatives over every multiplied learning weight, every activation function, and every other mathematical transformation in the model. The full expression for each such partial derivative is the sum of the products of the local gradient of *every possible path* through the computation graph that ends with the variable whose gradient we are trying to measure.\n",
        "\n",
        "In particular, the gradients over the learning weights are of interest to us - they tell us *what direction to change each weight* to get the loss function closer to zero.\n",
        "\n",
        "Since the number of such local derivatives (each corresponding to a separate path through the model's computation graph) will tend to go up exponentially with the depth of a neural network, so does the complexity in computing them. This is where autograd comes in: It tracks the history of every computation. Every computed tensor in your PyTorch model carries a history of its input tensors and the function used to create it. Combined with the fact that PyTorch functions meant to act on tensors each have a built-in implementation for computing their own derivatives, this greatly speeds the computation of the local derivatives needed for learning.\n",
        "\n",
        "## A Simple Example\n",
        "\n",
        "Let's start with a straightforward example. First, we'll do some imports to let us graph our results:"
      ]
    },
    {
      "cell_type": "code",
      "metadata": {
        "id": "uUj6dncKqMtD"
      },
      "source": [
        "%matplotlib inline\n",
        "# Jupyer notebook을 실행한 브라우저에서 그림을 볼 수  있도록,\n",
        "# 브라우저 내부(Inline)에 그려지도록 하는 코드"
      ],
      "execution_count": null,
      "outputs": []
    },
    {
      "cell_type": "code",
      "metadata": {
        "id": "Kvvyf_HHqMtE"
      },
      "source": [
        "import torch\n",
        "\n",
        "import matplotlib.pyplot as plt\n",
        "import matplotlib.ticker as ticker\n",
        "import math"
      ],
      "execution_count": null,
      "outputs": []
    },
    {
      "cell_type": "markdown",
      "metadata": {
        "id": "R5Y-zYhLqMtF"
      },
      "source": [
        "Next, we'll create an input tensor full of evenly spaced values on the interval $[0, 2{\\pi}]$, and specify `requires_grad=True`. (Like most functions that create tensors, `torch.linspace()` accepts an optional `requires_grad` option.) Setting this flag means that in every computation that follows, autograd will be accumulating the history of the computation in the output tensors of that computation."
      ]
    },
    {
      "cell_type": "code",
      "source": [
        "a = torch.linspace(0., 2. * math.pi, steps = 25, requires_grad = True)\n",
        "print(a)"
      ],
      "metadata": {
        "colab": {
          "base_uri": "https://localhost:8080/"
        },
        "id": "DYQDWpQcPSIC",
        "outputId": "38b6fd5e-5f05-4fb9-96c3-34eedbaad844"
      },
      "execution_count": null,
      "outputs": [
        {
          "output_type": "stream",
          "name": "stdout",
          "text": [
            "tensor([0.0000, 0.2618, 0.5236, 0.7854, 1.0472, 1.3090, 1.5708, 1.8326, 2.0944,\n",
            "        2.3562, 2.6180, 2.8798, 3.1416, 3.4034, 3.6652, 3.9270, 4.1888, 4.4506,\n",
            "        4.7124, 4.9742, 5.2360, 5.4978, 5.7596, 6.0214, 6.2832],\n",
            "       requires_grad=True)\n"
          ]
        }
      ]
    },
    {
      "cell_type": "code",
      "source": [
        "#Q1. What would happen if requires_grad is not set to True?\n",
        "#A1. It then enables to compute the derivatives when backpropagation by storing computing history."
      ],
      "metadata": {
        "id": "Jav30TPR_xiB"
      },
      "execution_count": null,
      "outputs": []
    },
    {
      "cell_type": "code",
      "source": [
        "aa= torch.linspace(0., 2. * math.pi, steps = 25, requires_grad = False)\n",
        "print(aa)"
      ],
      "metadata": {
        "colab": {
          "base_uri": "https://localhost:8080/"
        },
        "id": "KEX-CPJyPbTQ",
        "outputId": "388cf72b-857f-4c6a-9868-894e5b0e6949"
      },
      "execution_count": null,
      "outputs": [
        {
          "output_type": "stream",
          "name": "stdout",
          "text": [
            "tensor([0.0000, 0.2618, 0.5236, 0.7854, 1.0472, 1.3090, 1.5708, 1.8326, 2.0944,\n",
            "        2.3562, 2.6180, 2.8798, 3.1416, 3.4034, 3.6652, 3.9270, 4.1888, 4.4506,\n",
            "        4.7124, 4.9742, 5.2360, 5.4978, 5.7596, 6.0214, 6.2832])\n"
          ]
        }
      ]
    },
    {
      "cell_type": "markdown",
      "metadata": {
        "id": "ybsuIr62qMtG"
      },
      "source": [
        "Next, we'll perform a computation, and plot its output in terms of its inputs:"
      ]
    },
    {
      "cell_type": "code",
      "source": [
        "b = torch.sin(a)\n",
        "plt.plot(a.detach(), b.detach()) # can't call plot on tensors that require grads. Detach them first"
      ],
      "metadata": {
        "colab": {
          "base_uri": "https://localhost:8080/",
          "height": 283
        },
        "id": "1IoRHW5oPnb7",
        "outputId": "4101ef3e-de59-4faa-cd50-9b76f39c1b1b"
      },
      "execution_count": null,
      "outputs": [
        {
          "output_type": "execute_result",
          "data": {
            "text/plain": [
              "[<matplotlib.lines.Line2D at 0x7f60d0ca7e90>]"
            ]
          },
          "metadata": {},
          "execution_count": 6
        },
        {
          "output_type": "display_data",
          "data": {
            "text/plain": [
              "<Figure size 432x288 with 1 Axes>"
            ],
            "image/png": "[encoded data removed]"
          },
          "metadata": {
            "needs_background": "light"
          }
        }
      ]
    },
    {
      "cell_type": "markdown",
      "metadata": {
        "id": "6ysTX39TqMtI"
      },
      "source": [
        "Let's have a closer look at the tensor `b`. When we print it, we see an indicator that it is tracking its computation history:"
      ]
    },
    {
      "cell_type": "code",
      "metadata": {
        "id": "KW8Qr2b6qMtI",
        "colab": {
          "base_uri": "https://localhost:8080/"
        },
        "outputId": "84a361ac-3468-4c4d-e003-49f2379c757d"
      },
      "source": [
        "print(b)"
      ],
      "execution_count": null,
      "outputs": [
        {
          "output_type": "stream",
          "name": "stdout",
          "text": [
            "tensor([ 0.0000e+00,  2.5882e-01,  5.0000e-01,  7.0711e-01,  8.6603e-01,\n",
            "         9.6593e-01,  1.0000e+00,  9.6593e-01,  8.6603e-01,  7.0711e-01,\n",
            "         5.0000e-01,  2.5882e-01, -8.7423e-08, -2.5882e-01, -5.0000e-01,\n",
            "        -7.0711e-01, -8.6603e-01, -9.6593e-01, -1.0000e+00, -9.6593e-01,\n",
            "        -8.6603e-01, -7.0711e-01, -5.0000e-01, -2.5882e-01,  1.7485e-07],\n",
            "       grad_fn=<SinBackward0>)\n"
          ]
        }
      ]
    },
    {
      "cell_type": "code",
      "source": [
        "#Q2. What does the argument grad_fn=<SinBackward0> indicate here?\n",
        "#A2. In order to be ready for the case of taking derivative, it stores the derivates of sin function."
      ],
      "metadata": {
        "id": "lCo5M2Ew4ieZ"
      },
      "execution_count": null,
      "outputs": []
    },
    {
      "cell_type": "markdown",
      "metadata": {
        "id": "JqoyjePmqMtJ"
      },
      "source": [
        "Let's perform some more computations:"
      ]
    },
    {
      "cell_type": "code",
      "metadata": {
        "id": "_VWsODeNqMtJ",
        "colab": {
          "base_uri": "https://localhost:8080/"
        },
        "outputId": "34ee13d3-1644-41d6-e207-1d475c9df5b5"
      },
      "source": [
        "c = 2 * b\n",
        "print(f'c = {c}')\n",
        "\n",
        "d = c + 1\n",
        "print(f'd = {d}')"
      ],
      "execution_count": null,
      "outputs": [
        {
          "output_type": "stream",
          "name": "stdout",
          "text": [
            "c = tensor([ 0.0000e+00,  5.1764e-01,  1.0000e+00,  1.4142e+00,  1.7321e+00,\n",
            "         1.9319e+00,  2.0000e+00,  1.9319e+00,  1.7321e+00,  1.4142e+00,\n",
            "         1.0000e+00,  5.1764e-01, -1.7485e-07, -5.1764e-01, -1.0000e+00,\n",
            "        -1.4142e+00, -1.7321e+00, -1.9319e+00, -2.0000e+00, -1.9319e+00,\n",
            "        -1.7321e+00, -1.4142e+00, -1.0000e+00, -5.1764e-01,  3.4969e-07],\n",
            "       grad_fn=<MulBackward0>)\n",
            "d = tensor([ 1.0000e+00,  1.5176e+00,  2.0000e+00,  2.4142e+00,  2.7321e+00,\n",
            "         2.9319e+00,  3.0000e+00,  2.9319e+00,  2.7321e+00,  2.4142e+00,\n",
            "         2.0000e+00,  1.5176e+00,  1.0000e+00,  4.8236e-01, -3.5763e-07,\n",
            "        -4.1421e-01, -7.3205e-01, -9.3185e-01, -1.0000e+00, -9.3185e-01,\n",
            "        -7.3205e-01, -4.1421e-01,  4.7684e-07,  4.8236e-01,  1.0000e+00],\n",
            "       grad_fn=<AddBackward0>)\n"
          ]
        }
      ]
    },
    {
      "cell_type": "markdown",
      "metadata": {
        "id": "-AbHP-GTqMtK"
      },
      "source": [
        "Finally, let's compute a single-element output. "
      ]
    },
    {
      "cell_type": "code",
      "metadata": {
        "id": "X6pJkaxGqMtK",
        "colab": {
          "base_uri": "https://localhost:8080/"
        },
        "outputId": "8531c472-dbf3-43f4-ed58-7a038b50a9e0"
      },
      "source": [
        "out = d.sum()\n",
        "print(out)"
      ],
      "execution_count": null,
      "outputs": [
        {
          "output_type": "stream",
          "name": "stdout",
          "text": [
            "tensor(25., grad_fn=<SumBackward0>)\n"
          ]
        }
      ]
    },
    {
      "cell_type": "markdown",
      "metadata": {
        "id": "geLHAAMwqMtK"
      },
      "source": [
        "## Tracking the computations\n",
        "Each `grad_fn` stored with our tensors allows you to walk the computation all the way back to its inputs with its `next_functions` property. We can see below that drilling down on this property on `d` shows us the gradient functions for all the prior tensors. Note that `a.grad_fn` is reported as `None`, indicating that this was an input to the function with no history of its own."
      ]
    },
    {
      "cell_type": "code",
      "metadata": {
        "id": "crvLA4mQqMtK",
        "colab": {
          "base_uri": "https://localhost:8080/"
        },
        "outputId": "8bb61f16-b8e1-41ff-92e2-8662e7d6a84b"
      },
      "source": [
        "print('d:')\n",
        "print(d.grad_fn)\n",
        "print(d.grad_fn.next_functions)\n",
        "print(d.grad_fn.next_functions[0][0].next_functions)\n",
        "print(d.grad_fn.next_functions[0][0].next_functions[0][0].next_functions)\n",
        "print(d.grad_fn.next_functions[0][0].next_functions[0][0].next_functions[0][0].next_functions)\n",
        "print('\\nc:')\n",
        "print(c.grad_fn)\n",
        "print('\\nb:')\n",
        "print(b.grad_fn)\n",
        "print('\\na:')\n",
        "print(a.grad_fn)"
      ],
      "execution_count": null,
      "outputs": [
        {
          "output_type": "stream",
          "name": "stdout",
          "text": [
            "d:\n",
            "<AddBackward0 object at 0x7f60d078b810>\n",
            "((<MulBackward0 object at 0x7f60d078b9d0>, 0), (None, 0))\n",
            "((<SinBackward0 object at 0x7f60d078b890>, 0), (None, 0))\n",
            "((<AccumulateGrad object at 0x7f60d078b8d0>, 0),)\n",
            "()\n",
            "\n",
            "c:\n",
            "<MulBackward0 object at 0x7f60d078b9d0>\n",
            "\n",
            "b:\n",
            "<SinBackward0 object at 0x7f60d078b9d0>\n",
            "\n",
            "a:\n",
            "None\n"
          ]
        }
      ]
    },
    {
      "cell_type": "markdown",
      "metadata": {
        "id": "_-omojMIqMtL"
      },
      "source": [
        "With all this machinery in place, how do we get derivatives out? You call the `backward()` method on the output, and check the input's `grad` property to inspect the gradients. When you call `.backward()` on a tensor with no arguments, it expects the calling tensor to contain only a single element, as is the case when computing a loss function."
      ]
    },
    {
      "cell_type": "code",
      "metadata": {
        "id": "dWRM19ZpqMtL",
        "colab": {
          "base_uri": "https://localhost:8080/",
          "height": 374
        },
        "outputId": "8534404b-46b7-439a-fee8-6376cafb9f4e"
      },
      "source": [
        "out.backward()\n",
        "print(a.grad)\n",
        "plt.plot(a.detach(), a.grad.detach())"
      ],
      "execution_count": null,
      "outputs": [
        {
          "output_type": "stream",
          "name": "stdout",
          "text": [
            "tensor([ 2.0000e+00,  1.9319e+00,  1.7321e+00,  1.4142e+00,  1.0000e+00,\n",
            "         5.1764e-01, -8.7423e-08, -5.1764e-01, -1.0000e+00, -1.4142e+00,\n",
            "        -1.7321e+00, -1.9319e+00, -2.0000e+00, -1.9319e+00, -1.7321e+00,\n",
            "        -1.4142e+00, -1.0000e+00, -5.1764e-01,  2.3850e-08,  5.1764e-01,\n",
            "         1.0000e+00,  1.4142e+00,  1.7321e+00,  1.9319e+00,  2.0000e+00])\n"
          ]
        },
        {
          "output_type": "execute_result",
          "data": {
            "text/plain": [
              "[<matplotlib.lines.Line2D at 0x7f60d07ad9d0>]"
            ]
          },
          "metadata": {},
          "execution_count": 12
        },
        {
          "output_type": "display_data",
          "data": {
            "text/plain": [
              "<Figure size 432x288 with 1 Axes>"
            ],
            "image/png": "[encoded data removed]"
          },
          "metadata": {
            "needs_background": "light"
          }
        }
      ]
    },
    {
      "cell_type": "code",
      "source": [
        "print(d.grad)\n",
        "# except a.grad, b/c/d.grad provide 'none'. Q. why??\n"
      ],
      "metadata": {
        "colab": {
          "base_uri": "https://localhost:8080/"
        },
        "id": "cyPDoWyQAOQB",
        "outputId": "b01da993-ae97-465b-adb8-987738d6169c"
      },
      "execution_count": null,
      "outputs": [
        {
          "output_type": "stream",
          "name": "stdout",
          "text": [
            "None\n"
          ]
        },
        {
          "output_type": "stream",
          "name": "stderr",
          "text": [
            "/usr/local/lib/python3.7/dist-packages/torch/_tensor.py:1013: UserWarning: The .grad attribute of a Tensor that is not a leaf Tensor is being accessed. Its .grad attribute won't be populated during autograd.backward(). If you indeed want the .grad field to be populated for a non-leaf Tensor, use .retain_grad() on the non-leaf Tensor. If you access the non-leaf Tensor by mistake, make sure you access the leaf Tensor instead. See github.com/pytorch/pytorch/pull/30531 for more informations. (Triggered internally at  aten/src/ATen/core/TensorBody.h:417.)\n",
            "  return self._grad\n"
          ]
        }
      ]
    },
    {
      "cell_type": "code",
      "source": [
        "#Q3. What is the range of values of the gradients for this function?\n",
        "#A3. It ranges from -2 to 2."
      ],
      "metadata": {
        "id": "i6D10PWr7EA3"
      },
      "execution_count": null,
      "outputs": []
    },
    {
      "cell_type": "markdown",
      "metadata": {
        "id": "70UPEyxDqMtL"
      },
      "source": [
        "Recall the computation steps we took to get here:\n",
        "\n",
        "```\n",
        "a = torch.linspace(0., 2. * math.pi, steps=25, requires_grad=True)\n",
        "b = torch.sin(a)\n",
        "c = 2 * b\n",
        "d = c + 1\n",
        "out = d.sum()\n",
        "```\n",
        "\n",
        "Adding a constant, as we did to compute `d`, does not change the derivative. That leaves $c = 2 * b = 2 * sin(a)$, the derivative of which should be $2 * cos(a)$. Looking at the graph above, that's just what we see.\n",
        "\n",
        "### Exercise"
      ]
    },
    {
      "cell_type": "code",
      "source": [
        "# Q4. Create a tensor containing the numbers 0 to 4 (5 floats) and set it to keep track of the history of the computation in the output tensors\n",
        "x = torch.linspace(0., 4., steps = 5, requires_grad = True)\n",
        "print(x)"
      ],
      "metadata": {
        "id": "GJKH2mTIBICE",
        "colab": {
          "base_uri": "https://localhost:8080/"
        },
        "outputId": "71c4beab-b8b1-4d1e-c84d-a407798f6c93"
      },
      "execution_count": null,
      "outputs": [
        {
          "output_type": "stream",
          "name": "stdout",
          "text": [
            "tensor([0., 1., 2., 3., 4.], requires_grad=True)\n"
          ]
        }
      ]
    },
    {
      "cell_type": "code",
      "source": [
        "y = x*x\n",
        "print(y)"
      ],
      "metadata": {
        "colab": {
          "base_uri": "https://localhost:8080/"
        },
        "id": "BvW3GQBmZklD",
        "outputId": "ac94294f-e884-44cb-bb48-0b95032e140e"
      },
      "execution_count": null,
      "outputs": [
        {
          "output_type": "stream",
          "name": "stdout",
          "text": [
            "tensor([ 0.,  1.,  4.,  9., 16.], grad_fn=<MulBackward0>)\n"
          ]
        }
      ]
    },
    {
      "cell_type": "code",
      "source": [
        "y.backward()"
      ],
      "metadata": {
        "colab": {
          "base_uri": "https://localhost:8080/",
          "height": 323
        },
        "id": "ejnoHHDrlGzn",
        "outputId": "b67f131d-3202-476b-ebb2-f2e01c10f8c4"
      },
      "execution_count": null,
      "outputs": [
        {
          "output_type": "error",
          "ename": "RuntimeError",
          "evalue": "ignored",
          "traceback": [
            "\u001b[0;31m---------------------------------------------------------------------------\u001b[0m",
            "\u001b[0;31mRuntimeError\u001b[0m                              Traceback (most recent call last)",
            "\u001b[0;32m<ipython-input-6-ab75bb780f4c>\u001b[0m in \u001b[0;36m<module>\u001b[0;34m()\u001b[0m\n\u001b[0;32m----> 1\u001b[0;31m \u001b[0my\u001b[0m\u001b[0;34m.\u001b[0m\u001b[0mbackward\u001b[0m\u001b[0;34m(\u001b[0m\u001b[0;34m)\u001b[0m\u001b[0;34m\u001b[0m\u001b[0;34m\u001b[0m\u001b[0m\n\u001b[0m",
            "\u001b[0;32m/usr/local/lib/python3.7/dist-packages/torch/_tensor.py\u001b[0m in \u001b[0;36mbackward\u001b[0;34m(self, gradient, retain_graph, create_graph, inputs)\u001b[0m\n\u001b[1;32m    305\u001b[0m                 \u001b[0mcreate_graph\u001b[0m\u001b[0;34m=\u001b[0m\u001b[0mcreate_graph\u001b[0m\u001b[0;34m,\u001b[0m\u001b[0;34m\u001b[0m\u001b[0;34m\u001b[0m\u001b[0m\n\u001b[1;32m    306\u001b[0m                 inputs=inputs)\n\u001b[0;32m--> 307\u001b[0;31m         \u001b[0mtorch\u001b[0m\u001b[0;34m.\u001b[0m\u001b[0mautograd\u001b[0m\u001b[0;34m.\u001b[0m\u001b[0mbackward\u001b[0m\u001b[0;34m(\u001b[0m\u001b[0mself\u001b[0m\u001b[0;34m,\u001b[0m \u001b[0mgradient\u001b[0m\u001b[0;34m,\u001b[0m \u001b[0mretain_graph\u001b[0m\u001b[0;34m,\u001b[0m \u001b[0mcreate_graph\u001b[0m\u001b[0;34m,\u001b[0m \u001b[0minputs\u001b[0m\u001b[0;34m=\u001b[0m\u001b[0minputs\u001b[0m\u001b[0;34m)\u001b[0m\u001b[0;34m\u001b[0m\u001b[0;34m\u001b[0m\u001b[0m\n\u001b[0m\u001b[1;32m    308\u001b[0m \u001b[0;34m\u001b[0m\u001b[0m\n\u001b[1;32m    309\u001b[0m     \u001b[0;32mdef\u001b[0m \u001b[0mregister_hook\u001b[0m\u001b[0;34m(\u001b[0m\u001b[0mself\u001b[0m\u001b[0;34m,\u001b[0m \u001b[0mhook\u001b[0m\u001b[0;34m)\u001b[0m\u001b[0;34m:\u001b[0m\u001b[0;34m\u001b[0m\u001b[0;34m\u001b[0m\u001b[0m\n",
            "\u001b[0;32m/usr/local/lib/python3.7/dist-packages/torch/autograd/__init__.py\u001b[0m in \u001b[0;36mbackward\u001b[0;34m(tensors, grad_tensors, retain_graph, create_graph, grad_variables, inputs)\u001b[0m\n\u001b[1;32m    148\u001b[0m \u001b[0;34m\u001b[0m\u001b[0m\n\u001b[1;32m    149\u001b[0m     \u001b[0mgrad_tensors_\u001b[0m \u001b[0;34m=\u001b[0m \u001b[0m_tensor_or_tensors_to_tuple\u001b[0m\u001b[0;34m(\u001b[0m\u001b[0mgrad_tensors\u001b[0m\u001b[0;34m,\u001b[0m \u001b[0mlen\u001b[0m\u001b[0;34m(\u001b[0m\u001b[0mtensors\u001b[0m\u001b[0;34m)\u001b[0m\u001b[0;34m)\u001b[0m\u001b[0;34m\u001b[0m\u001b[0;34m\u001b[0m\u001b[0m\n\u001b[0;32m--> 150\u001b[0;31m     \u001b[0mgrad_tensors_\u001b[0m \u001b[0;34m=\u001b[0m \u001b[0m_make_grads\u001b[0m\u001b[0;34m(\u001b[0m\u001b[0mtensors\u001b[0m\u001b[0;34m,\u001b[0m \u001b[0mgrad_tensors_\u001b[0m\u001b[0;34m)\u001b[0m\u001b[0;34m\u001b[0m\u001b[0;34m\u001b[0m\u001b[0m\n\u001b[0m\u001b[1;32m    151\u001b[0m     \u001b[0;32mif\u001b[0m \u001b[0mretain_graph\u001b[0m \u001b[0;32mis\u001b[0m \u001b[0;32mNone\u001b[0m\u001b[0;34m:\u001b[0m\u001b[0;34m\u001b[0m\u001b[0;34m\u001b[0m\u001b[0m\n\u001b[1;32m    152\u001b[0m         \u001b[0mretain_graph\u001b[0m \u001b[0;34m=\u001b[0m \u001b[0mcreate_graph\u001b[0m\u001b[0;34m\u001b[0m\u001b[0;34m\u001b[0m\u001b[0m\n",
            "\u001b[0;32m/usr/local/lib/python3.7/dist-packages/torch/autograd/__init__.py\u001b[0m in \u001b[0;36m_make_grads\u001b[0;34m(outputs, grads)\u001b[0m\n\u001b[1;32m     49\u001b[0m             \u001b[0;32mif\u001b[0m \u001b[0mout\u001b[0m\u001b[0;34m.\u001b[0m\u001b[0mrequires_grad\u001b[0m\u001b[0;34m:\u001b[0m\u001b[0;34m\u001b[0m\u001b[0;34m\u001b[0m\u001b[0m\n\u001b[1;32m     50\u001b[0m                 \u001b[0;32mif\u001b[0m \u001b[0mout\u001b[0m\u001b[0;34m.\u001b[0m\u001b[0mnumel\u001b[0m\u001b[0;34m(\u001b[0m\u001b[0;34m)\u001b[0m \u001b[0;34m!=\u001b[0m \u001b[0;36m1\u001b[0m\u001b[0;34m:\u001b[0m\u001b[0;34m\u001b[0m\u001b[0;34m\u001b[0m\u001b[0m\n\u001b[0;32m---> 51\u001b[0;31m                     \u001b[0;32mraise\u001b[0m \u001b[0mRuntimeError\u001b[0m\u001b[0;34m(\u001b[0m\u001b[0;34m\"grad can be implicitly created only for scalar outputs\"\u001b[0m\u001b[0;34m)\u001b[0m\u001b[0;34m\u001b[0m\u001b[0;34m\u001b[0m\u001b[0m\n\u001b[0m\u001b[1;32m     52\u001b[0m                 \u001b[0mnew_grads\u001b[0m\u001b[0;34m.\u001b[0m\u001b[0mappend\u001b[0m\u001b[0;34m(\u001b[0m\u001b[0mtorch\u001b[0m\u001b[0;34m.\u001b[0m\u001b[0mones_like\u001b[0m\u001b[0;34m(\u001b[0m\u001b[0mout\u001b[0m\u001b[0;34m,\u001b[0m \u001b[0mmemory_format\u001b[0m\u001b[0;34m=\u001b[0m\u001b[0mtorch\u001b[0m\u001b[0;34m.\u001b[0m\u001b[0mpreserve_format\u001b[0m\u001b[0;34m)\u001b[0m\u001b[0;34m)\u001b[0m\u001b[0;34m\u001b[0m\u001b[0;34m\u001b[0m\u001b[0m\n\u001b[1;32m     53\u001b[0m             \u001b[0;32melse\u001b[0m\u001b[0;34m:\u001b[0m\u001b[0;34m\u001b[0m\u001b[0;34m\u001b[0m\u001b[0m\n",
            "\u001b[0;31mRuntimeError\u001b[0m: grad can be implicitly created only for scalar outputs"
          ]
        }
      ]
    },
    {
      "cell_type": "code",
      "source": [
        "# x.zero_grad()\n",
        "\n",
        "# Q5. Create a new tensor y to be the dot product of x on itself. Use torch.dot()\n",
        "y = torch.dot(x, x)\n",
        "\n",
        "#print(y)\n",
        "print(y)\n",
        "\n",
        "# Q6. Calculate the gradient of y with respect to x by calling the function for backpropagation \n",
        "y.backward()\n",
        "\n",
        "# Q7. Print the gradient\n",
        "print(x.grad)\n"
      ],
      "metadata": {
        "id": "RdBlQCwbDF-I",
        "colab": {
          "base_uri": "https://localhost:8080/"
        },
        "outputId": "7ff78d0e-ced0-4b70-ce46-1bef28d642dd"
      },
      "execution_count": null,
      "outputs": [
        {
          "output_type": "stream",
          "name": "stdout",
          "text": [
            "tensor(30., grad_fn=<DotBackward0>)\n",
            "tensor([0., 2., 4., 6., 8.])\n"
          ]
        }
      ]
    },
    {
      "cell_type": "code",
      "source": [
        "# Q8. Are the gradients consistent with what you would expect from differentiating the function y = x^2?\n",
        "# A8. Yes, it is 2*x\n",
        "\n",
        "# Q9. Plot the graph for x and its gradients. Use detach() to detach them first\n",
        "plt.plot(x.detach(), x.grad.detach())"
      ],
      "metadata": {
        "id": "OXZrc9_6Extn",
        "colab": {
          "base_uri": "https://localhost:8080/",
          "height": 283
        },
        "outputId": "6f45c2ba-6b2e-4c8a-e151-fb9d3c162ed6"
      },
      "execution_count": null,
      "outputs": [
        {
          "output_type": "execute_result",
          "data": {
            "text/plain": [
              "[<matplotlib.lines.Line2D at 0x7f60cfecaa10>]"
            ]
          },
          "metadata": {},
          "execution_count": 18
        },
        {
          "output_type": "display_data",
          "data": {
            "text/plain": [
              "<Figure size 432x288 with 1 Axes>"
            ],
            "image/png": "[encoded data removed]"
          },
          "metadata": {
            "needs_background": "light"
          }
        }
      ]
    },
    {
      "cell_type": "code",
      "source": [
        "# Q10. What function is dy/dx based on the plot? Verify further by running this code.\n",
        "x.grad == 2 * x\n"
      ],
      "metadata": {
        "id": "7aoq5-daFpzS",
        "colab": {
          "base_uri": "https://localhost:8080/"
        },
        "outputId": "265a0374-4f26-4450-8945-6b51e99779b5"
      },
      "execution_count": null,
      "outputs": [
        {
          "output_type": "execute_result",
          "data": {
            "text/plain": [
              "tensor([True, True, True, True, True])"
            ]
          },
          "metadata": {},
          "execution_count": 19
        }
      ]
    },
    {
      "cell_type": "markdown",
      "source": [
        "## Autograd in NN Training\n",
        "\n",
        "We've had a brief look at how autograd works, but how does it look when it's used for its intended purpose? Let's define a small model and examine how it changes after a single training batch. First, define a few constants, our model, and some stand-ins for inputs and outputs:"
      ],
      "metadata": {
        "id": "V-_KBvmeBBc9"
      }
    },
    {
      "cell_type": "code",
      "metadata": {
        "id": "vfUBrxziqMtL"
      },
      "source": [
        "BATCH_SIZE = 16\n",
        "DIM_IN = 1000\n",
        "HIDDEN_SIZE = 100\n",
        "DIM_OUT = 10\n",
        "\n",
        "class TinyModel(torch.nn.Module):\n",
        "\n",
        "    def __init__(self):\n",
        "        super(TinyModel, self).__init__()\n",
        "        \n",
        "        self.layer1 = torch.nn.Linear(1000, 100)\n",
        "        self.relu = torch.nn.ReLU()\n",
        "        self.layer2 = torch.nn.Linear(100, 10)\n",
        "    \n",
        "    def forward(self, x):\n",
        "        x = self.layer1(x)\n",
        "        x = self.relu(x)\n",
        "        x = self.layer2(x)\n",
        "        return x\n",
        "    \n",
        "some_input = torch.randn(BATCH_SIZE, DIM_IN, requires_grad=False)\n",
        "ideal_output = torch.randn(BATCH_SIZE, DIM_OUT, requires_grad=False)\n",
        "\n",
        "model = TinyModel()"
      ],
      "execution_count": null,
      "outputs": []
    },
    {
      "cell_type": "code",
      "source": [
        "print(some_input)\n",
        "print(ideal_output)"
      ],
      "metadata": {
        "colab": {
          "base_uri": "https://localhost:8080/"
        },
        "id": "vOZhNPjBAzOb",
        "outputId": "0dc34b71-7659-4a1d-fb96-58104ff063ed"
      },
      "execution_count": null,
      "outputs": [
        {
          "output_type": "stream",
          "name": "stdout",
          "text": [
            "tensor([[ 1.9304, -1.2457,  1.0339,  ..., -0.1160, -1.0352,  0.9398],\n",
            "        [-0.2501, -0.6918, -0.9016,  ...,  0.9595, -2.0047,  2.0555],\n",
            "        [ 0.4270,  0.3835,  0.3447,  ..., -0.2208,  1.2392, -1.2151],\n",
            "        ...,\n",
            "        [-1.9973, -0.1665, -0.4906,  ...,  0.6130,  1.2908, -0.1482],\n",
            "        [-0.2585, -0.9406, -0.9890,  ..., -0.9782, -0.3580,  0.8241],\n",
            "        [ 0.9202, -0.3793, -0.4637,  ..., -0.9916, -0.9418,  0.2865]])\n",
            "tensor([[-1.4091e+00, -7.5004e-01,  2.4802e+00, -1.3603e+00, -7.4882e-01,\n",
            "         -8.9735e-01, -5.8766e-01, -1.1903e+00,  8.2312e-01,  5.0230e-01],\n",
            "        [ 2.6934e-01,  9.1505e-01, -1.5358e+00,  1.6749e+00, -1.3865e+00,\n",
            "          4.9982e-01, -1.4667e-01, -4.5258e-01, -4.9520e-02, -9.7466e-02],\n",
            "        [-1.4456e-01, -1.9154e+00,  1.0807e+00,  8.8458e-01, -1.7586e+00,\n",
            "          4.2036e-01, -5.3473e-01,  3.5452e-01, -7.2274e-01, -2.1599e-01],\n",
            "        [-2.8546e+00,  1.1351e+00,  6.7895e-01,  8.2301e-01,  3.9248e-01,\n",
            "          1.6994e+00, -4.7911e-01,  1.8219e+00,  5.8586e-02,  2.3522e-03],\n",
            "        [ 2.2513e+00,  6.7947e-01,  2.2405e-01, -9.4694e-01,  1.4052e+00,\n",
            "          5.7542e-01, -1.0364e+00, -1.8172e-01, -1.3031e+00,  1.1978e+00],\n",
            "        [-8.1216e-01, -1.6060e+00,  7.8324e-01, -1.3685e+00, -2.2531e-01,\n",
            "         -6.0203e-02, -1.2599e+00, -1.6385e-01,  1.6047e+00, -1.4102e+00],\n",
            "        [ 2.9052e-01,  8.2609e-01,  3.0763e-01,  1.4147e-01, -6.4718e-01,\n",
            "          5.2299e-01, -2.0341e-01,  6.0137e-01,  1.0781e-01, -1.2864e+00],\n",
            "        [-1.3580e+00, -3.3753e-01, -2.4213e-01, -8.6895e-01, -2.4719e+00,\n",
            "          5.1496e-01,  2.2522e-01, -8.4060e-01, -1.4734e+00,  1.1075e+00],\n",
            "        [-1.1207e-01, -1.3387e-01, -1.8725e-01,  1.0793e+00, -1.5355e+00,\n",
            "         -1.6894e+00,  6.9500e-02,  1.3836e+00, -2.7891e+00,  1.6826e+00],\n",
            "        [ 4.6764e-01,  1.0194e+00, -4.6298e-01,  4.2222e-01,  7.5299e-01,\n",
            "         -1.0295e-01,  3.1007e-01, -2.4005e-02, -8.6948e-01, -4.8351e-01],\n",
            "        [-5.7661e-01, -1.2906e+00,  4.7799e-02,  2.9183e-01, -9.9175e-01,\n",
            "          6.9091e-01, -1.3648e+00,  5.3734e-01,  5.5712e-01,  6.2509e-01],\n",
            "        [-2.0082e-02, -5.9165e-01,  9.9523e-01, -4.6563e-01, -4.9683e-01,\n",
            "          2.6781e-02, -1.2922e-01,  7.1849e-02, -1.0557e+00, -1.3048e-01],\n",
            "        [ 1.6810e+00,  2.3304e-01, -2.0879e-02, -4.8551e-01,  1.0291e+00,\n",
            "         -9.2209e-01, -8.2585e-01,  2.5243e-01,  6.5697e-01,  1.2643e-01],\n",
            "        [ 1.8608e-01,  6.4571e-01,  6.7849e-01, -6.6999e-01,  1.2323e+00,\n",
            "          9.6265e-02, -1.4248e+00,  1.0883e+00,  1.2268e+00, -4.3064e-01],\n",
            "        [ 3.5354e-01,  9.2491e-01,  1.7902e-01, -3.3079e-01, -1.0334e+00,\n",
            "         -1.3727e-01,  5.5676e-01,  6.1123e-01, -4.2482e-01, -2.2397e-01],\n",
            "        [ 9.7690e-01,  1.7821e+00,  8.1526e-01,  6.3315e-01,  2.4833e-01,\n",
            "         -3.2767e-01, -1.2170e+00, -6.1685e-01, -1.8706e-01,  1.2011e-01]])\n"
          ]
        }
      ]
    },
    {
      "cell_type": "code",
      "source": [
        "#Q11. How many input units does this NN have?\n",
        "# 1000 units.\n",
        "\n",
        "#Q12. How many output units does it have?\n",
        "# 10 units.\n",
        "\n",
        "#Q13. How many hidden layers does it have?\n",
        "# Just one hidden layer"
      ],
      "metadata": {
        "id": "B3hP10jARt4m"
      },
      "execution_count": null,
      "outputs": []
    },
    {
      "cell_type": "markdown",
      "metadata": {
        "id": "pTeLRPAkqMtM"
      },
      "source": [
        "One thing you might notice is that we never specify `requires_grad=True` for the model's layers. Within a subclass of `torch.nn.module`, it's assumed that we want to track gradients on the layers' weights for learning.\n",
        "\n",
        "## Initial Parameter Values\n",
        "If we look at the layers of the model, we can examine the values of the weights:"
      ]
    },
    {
      "cell_type": "code",
      "source": [
        "model.layer2.weight[0]\n",
        "# what does 'selectBackward' mean?"
      ],
      "metadata": {
        "colab": {
          "base_uri": "https://localhost:8080/"
        },
        "id": "d135osu1BEBG",
        "outputId": "9b6cf9ef-a828-419b-d968-a7da8bf7471e"
      },
      "execution_count": null,
      "outputs": [
        {
          "output_type": "execute_result",
          "data": {
            "text/plain": [
              "tensor([ 0.0715,  0.0673,  0.0757, -0.0967,  0.0454, -0.0573,  0.0704,  0.0432,\n",
              "         0.0215,  0.0288, -0.0530,  0.0752, -0.0002, -0.0286, -0.0693,  0.0931,\n",
              "        -0.0310, -0.0959,  0.0447, -0.0525,  0.0368, -0.0994, -0.0540,  0.0139,\n",
              "         0.0445,  0.0082, -0.0560, -0.0362, -0.0729, -0.0066, -0.0837, -0.0324,\n",
              "         0.0452, -0.0279,  0.0118,  0.0659,  0.0225,  0.0604,  0.0234, -0.0543,\n",
              "         0.0475, -0.0197, -0.0974, -0.0250,  0.0828,  0.0413, -0.0682,  0.0486,\n",
              "        -0.0131, -0.0216,  0.0246, -0.0758,  0.0495, -0.0192,  0.0297,  0.0628,\n",
              "        -0.0365, -0.0618,  0.0607,  0.0314,  0.0016,  0.0549, -0.0123,  0.0110,\n",
              "         0.0104, -0.0503,  0.0722,  0.0415,  0.0057, -0.0764, -0.0507, -0.0384,\n",
              "         0.0824, -0.0812, -0.0141, -0.0595, -0.0101,  0.0177,  0.0653, -0.0148,\n",
              "        -0.0606,  0.0904,  0.0922,  0.0556,  0.0125,  0.0033,  0.0809, -0.0464,\n",
              "        -0.0467, -0.0682,  0.0046, -0.0879,  0.0765,  0.0975, -0.0523, -0.0471,\n",
              "        -0.0569, -0.0546,  0.0038, -0.0865], grad_fn=<SelectBackward0>)"
            ]
          },
          "metadata": {},
          "execution_count": 23
        }
      ]
    },
    {
      "cell_type": "code",
      "metadata": {
        "id": "1QJMgfuhqMtM",
        "colab": {
          "base_uri": "https://localhost:8080/"
        },
        "outputId": "d411ba3d-2276-438c-a7f7-6f9dce042d2c"
      },
      "source": [
        "print(f\"Layer2 sample weights = \\n{model.layer2.weight[0][0:10]}\") # just a small slice\n",
        "print(f\"Layer2 sample bias = \\n{model.layer2.bias[0]}\") # just one bias\n",
        "\n",
        "print(\"\\nGradients:\")\n",
        "print(f\"Weights = {model.layer2.weight.grad}\")\n",
        "print(f\"Bias = {model.layer2.bias.grad}\")\n"
      ],
      "execution_count": null,
      "outputs": [
        {
          "output_type": "stream",
          "name": "stdout",
          "text": [
            "Layer2 sample weights = \n",
            "tensor([ 0.0715,  0.0673,  0.0757, -0.0967,  0.0454, -0.0573,  0.0704,  0.0432,\n",
            "         0.0215,  0.0288], grad_fn=<SliceBackward0>)\n",
            "Layer2 sample bias = \n",
            "-0.011381745338439941\n",
            "\n",
            "Gradients:\n",
            "Weights = None\n",
            "Bias = None\n"
          ]
        }
      ]
    },
    {
      "cell_type": "code",
      "source": [
        "#Q14. Why are the gradients 'None' for the sample weights and bias?\n",
        "#A14. Because we haven't call .backward() method yet."
      ],
      "metadata": {
        "id": "2Ip8k9ltRgmN"
      },
      "execution_count": null,
      "outputs": []
    },
    {
      "cell_type": "markdown",
      "metadata": {
        "id": "ElVD-ne-qMtM"
      },
      "source": [
        "## Forward Pass & Loss Calculation\n",
        "Let's see how this changes when we run through one training batch. For a loss function, we'll just use the square of the Euclidean distance between our `prediction` and the `ideal_output` (MSE), and we'll use a basic stochastic gradient descent optimizer."
      ]
    },
    {
      "cell_type": "code",
      "metadata": {
        "id": "iMSVIC3mqMtM",
        "colab": {
          "base_uri": "https://localhost:8080/"
        },
        "outputId": "03831504-585d-4f55-9520-9c47874d59de"
      },
      "source": [
        "optimizer = torch.optim.SGD(model.parameters(), lr=0.001)\n",
        "\n",
        "prediction = model(some_input)\n",
        "\n",
        "loss = (ideal_output - prediction).pow(2).sum() # MSE\n",
        "print(loss)"
      ],
      "execution_count": null,
      "outputs": [
        {
          "output_type": "stream",
          "name": "stdout",
          "text": [
            "tensor(152.8475, grad_fn=<SumBackward0>)\n"
          ]
        }
      ]
    },
    {
      "cell_type": "markdown",
      "metadata": {
        "id": "rUrIEJD_qMtM"
      },
      "source": [
        "## Backpropagating the Loss: `backward()`\n",
        "Now, let's call `loss.backward()` and see what happens:"
      ]
    },
    {
      "cell_type": "code",
      "metadata": {
        "id": "dZxtaspRqMtN",
        "colab": {
          "base_uri": "https://localhost:8080/"
        },
        "outputId": "04a39160-cca9-4765-dad9-37a9affd5e82"
      },
      "source": [
        "loss.backward()\n",
        "# Print the parameters\n",
        "print(\"Parameters:\")\n",
        "print(f\"Layer2 sample weights = {model.layer2.weight[0][0:10]}\")\n",
        "print(f\"Layer2 sample bias = {model.layer2.bias[0]}\")\n",
        "\n",
        "# Print the gradients\n",
        "print(\"\\nGradients:\")\n",
        "print(f\"Layer2 sample weight gradients = {model.layer2.weight.grad[0][0:10]}\")\n",
        "print(f\"Layer2 sample bias gradient = {model.layer2.bias.grad[0]}\")\n"
      ],
      "execution_count": null,
      "outputs": [
        {
          "output_type": "stream",
          "name": "stdout",
          "text": [
            "Parameters:\n",
            "Layer2 sample weights = tensor([ 0.0715,  0.0673,  0.0757, -0.0967,  0.0454, -0.0573,  0.0704,  0.0432,\n",
            "         0.0215,  0.0288], grad_fn=<SliceBackward0>)\n",
            "Layer2 sample bias = -0.011381745338439941\n",
            "\n",
            "Gradients:\n",
            "Layer2 sample weight gradients = tensor([-0.7557, -1.8322,  6.0227,  2.5740, -1.9469,  2.9355,  1.8538, -1.3650,\n",
            "        -2.2657, -2.5952])\n",
            "Layer2 sample bias gradient = 1.2641019821166992\n"
          ]
        }
      ]
    },
    {
      "cell_type": "code",
      "source": [
        "#Q15. Are the sample weights and bias the same as before the loss is backpropagated?\n",
        "#A15. Yes, the weights are the same because, we do not train even one loop, just did backpropagation.  \n",
        "\n",
        "#Q16. Are the gradients of the sample weights and bias the same as before the loss is backpropagated?\n",
        "#A16. No, previously, it did not have any gradient but now we have gradient by calling loss.backward()."
      ],
      "metadata": {
        "id": "MeUKCLt2SnNR"
      },
      "execution_count": null,
      "outputs": []
    },
    {
      "cell_type": "markdown",
      "metadata": {
        "id": "asSdpVIvqMtN"
      },
      "source": [
        "## Updating the Parameters with the Optimiser: `step()`\n",
        "We can see that the gradients have been computed for each learning weight, but the weights remain unchanged, because we haven't run the optimiser yet. The optimiser is responsible for updating model weights based on the computed gradients."
      ]
    },
    {
      "cell_type": "code",
      "metadata": {
        "id": "FzETNdd2qMtN",
        "colab": {
          "base_uri": "https://localhost:8080/"
        },
        "outputId": "056c88b2-2bd6-46d8-a399-c3874c1e17c2"
      },
      "source": [
        "optimizer.step() # 한번의 loop를 돌린 개념\n",
        "\n",
        "print(\"Parameter updates:\")\n",
        "print(f\"Layer2 weights = {model.layer2.weight[0][0:10]}\")\n",
        "print(f\"Layer2 bias = {model.layer2.bias[0]}\")\n",
        "\n",
        "print(\"\\nGradients:\")\n",
        "print(f\"Layer2 weight gradients = {model.layer2.weight.grad[0][0:10]}\")\n",
        "print(f\"Layer2 bias gradients = {model.layer2.bias.grad[0]}\")\n"
      ],
      "execution_count": null,
      "outputs": [
        {
          "output_type": "stream",
          "name": "stdout",
          "text": [
            "Parameter updates:\n",
            "Layer2 weights = tensor([ 0.0723,  0.0691,  0.0697, -0.0992,  0.0473, -0.0602,  0.0685,  0.0446,\n",
            "         0.0238,  0.0314], grad_fn=<SliceBackward0>)\n",
            "Layer2 bias = -0.012645847164094448\n",
            "\n",
            "Gradients:\n",
            "Layer2 weight gradients = tensor([-0.7557, -1.8322,  6.0227,  2.5740, -1.9469,  2.9355,  1.8538, -1.3650,\n",
            "        -2.2657, -2.5952])\n",
            "Layer2 bias gradients = 1.2641019821166992\n"
          ]
        }
      ]
    },
    {
      "cell_type": "markdown",
      "metadata": {
        "id": "HtrGaKX0qMtN"
      },
      "source": [
        "You should see that `layer2`'s sample weights and bias have changed.\n",
        "\n",
        "## Resetting the gradients: `zero_grad()`\n",
        "One important thing about the process: After calling `optimizer.step()`, you need to call `optimizer.zero_grad()`, or else every time you run `loss.backward()`, the gradients on the learning weights will accumulate:"
      ]
    },
    {
      "cell_type": "code",
      "metadata": {
        "id": "nZBDqMcPqMtN",
        "colab": {
          "base_uri": "https://localhost:8080/"
        },
        "outputId": "ce0c51db-bf40-4aa5-e37b-bcc2d41e259d"
      },
      "source": [
        "print(f\"Layer2 some weights: \\n{model.layer2.weight[0][0:10]}\")\n",
        "print(f\"Layer2 one bias: {model.layer2.bias[0]}\")\n",
        "\n",
        "for i in range(0, 5):\n",
        "    prediction = model(some_input)\n",
        "    loss = (ideal_output - prediction).pow(2).sum()\n",
        "    loss.backward()\n",
        "    \n",
        "print(\"\\nAfter a few iterations of training:\")\n",
        "print(f\"Layer2 some weights GRADs: \\n{model.layer2.weight.grad[0][0:10]}\")\n",
        "print(f\"Layer2 one bias GRAD: {model.layer2.bias.grad[0]}\")\n",
        "\n",
        "optimizer.zero_grad()\n",
        "\n",
        "print(\"\\nAfter resetting gradients:\")\n",
        "print(f\"Layer2 some weights = {model.layer2.weight.grad[0][0:10]}\")\n",
        "print(f\"Layer2 one bias = {model.layer2.bias.grad[0]}\")\n"
      ],
      "execution_count": null,
      "outputs": [
        {
          "output_type": "stream",
          "name": "stdout",
          "text": [
            "Layer2 some weights: \n",
            "tensor([-0.0604, -0.0863,  0.0163, -0.0865, -0.0021,  0.0691, -0.0485, -0.0251,\n",
            "         0.0605, -0.0264], grad_fn=<SliceBackward0>)\n",
            "Layer2 one bias: -0.011091786436736584\n",
            "\n",
            "After a few iterations of training:\n",
            "Layer2 some weights GRADs: \n",
            "tensor([  0.0553,   0.9123, -12.7409,   5.8534, -15.0571,  -0.9653,  -4.8379,\n",
            "         -7.7049,  -1.8245, -36.6950])\n",
            "Layer2 one bias GRAD: -51.45423889160156\n",
            "\n",
            "After resetting gradients:\n",
            "Layer2 some weights = tensor([0., 0., 0., 0., 0., 0., 0., 0., 0., 0.])\n",
            "Layer2 one bias = 0.0\n"
          ]
        }
      ]
    },
    {
      "cell_type": "code",
      "source": [
        "#Q17. Why are the gradients after running loss.backward() multiple times much bigger?\n",
        "#A17. Because we did not put optimizer.zero_grad() method.\n"
      ],
      "metadata": {
        "id": "y-ShDsdCYdv4"
      },
      "execution_count": null,
      "outputs": []
    },
    {
      "cell_type": "markdown",
      "metadata": {
        "id": "hDDjrsTFqMtN"
      },
      "source": [
        "## Turning Autograd Off and On\n",
        "\n",
        "There are situations where you will need fine-grained control over whether autograd is enabled. There are multiple ways to do this, depending on the situation.\n",
        "\n",
        "The simplest is to change the `requires_grad` flag on a tensor directly:"
      ]
    },
    {
      "cell_type": "code",
      "metadata": {
        "id": "YYrJ9XR0qMtO",
        "colab": {
          "base_uri": "https://localhost:8080/"
        },
        "outputId": "a61400e7-0f33-498b-c9a9-e1daef578d31"
      },
      "source": [
        "a = torch.ones(2, 3, requires_grad=True)\n",
        "print(f'a = {a}')\n",
        "\n",
        "b1 = 2 * a\n",
        "print(f'b1 = {b1}')\n",
        "\n",
        "a.requires_grad = False\n",
        "b2 = 2 * a\n",
        "print(f'b2 = {b2}')\n"
      ],
      "execution_count": null,
      "outputs": [
        {
          "output_type": "stream",
          "name": "stdout",
          "text": [
            "a = tensor([[1., 1., 1.],\n",
            "        [1., 1., 1.]], requires_grad=True)\n",
            "b1 = tensor([[2., 2., 2.],\n",
            "        [2., 2., 2.]], grad_fn=<MulBackward0>)\n",
            "b2 = tensor([[2., 2., 2.],\n",
            "        [2., 2., 2.]])\n"
          ]
        }
      ]
    },
    {
      "cell_type": "markdown",
      "metadata": {
        "id": "c4Yd1rLTqMtO"
      },
      "source": [
        "In the cell above, we see that `b1` has a `grad_fn` (i.e., a traced computation history), which is what we expect, since it was derived from a tensor, `a`, that had autograd turned on. When we turn off autograd explicitly with `a.requires_grad = False`, computation history is no longer tracked, as we see when we compute `b2`.\n",
        "\n",
        "If you only need autograd turned off temporarily, a better way is to use the `torch.no_grad()`:"
      ]
    },
    {
      "cell_type": "code",
      "metadata": {
        "scrolled": false,
        "id": "75yoOI_jqMtO",
        "colab": {
          "base_uri": "https://localhost:8080/"
        },
        "outputId": "3950a44b-ac2f-401e-f4df-0339d7e17ffc"
      },
      "source": [
        "a = torch.ones(2, 3, requires_grad=True) * 2\n",
        "b = torch.ones(2, 3, requires_grad=True) * 3\n",
        "\n",
        "c1 = a + b\n",
        "print(f\"c1: \\n{c1}\")\n",
        "\n",
        "with torch.no_grad():\n",
        "    c2 = a + b\n",
        "\n",
        "print(f\"c2: \\n{c2}\")\n",
        "\n",
        "c3 = a * b\n",
        "print(f\"c3: \\n{c3}\")"
      ],
      "execution_count": null,
      "outputs": [
        {
          "output_type": "stream",
          "name": "stdout",
          "text": [
            "c1: \n",
            "tensor([[5., 5., 5.],\n",
            "        [5., 5., 5.]], grad_fn=<AddBackward0>)\n",
            "c2: \n",
            "tensor([[5., 5., 5.],\n",
            "        [5., 5., 5.]])\n",
            "c3: \n",
            "tensor([[6., 6., 6.],\n",
            "        [6., 6., 6.]], grad_fn=<MulBackward0>)\n"
          ]
        }
      ]
    },
    {
      "cell_type": "code",
      "source": [
        "#Q18. Can we do differentiation on computations on c1? Why?\n",
        "#A18. Yes, since both a and b are tensor with 'requires_grad=True'.\n",
        "\n",
        "#Q19. Can we do differentiation on computations on c2? Why?\n",
        "#A19. No. C2 is computed with 'torch.no_grad()'.\n",
        "\n",
        "#Q20. Can we do differentiation on computations on c3? Why?\n",
        "#A19. Yes, since only c2 is done without tracking history temporarily."
      ],
      "metadata": {
        "id": "wSmDXbuObJ_0"
      },
      "execution_count": null,
      "outputs": []
    },
    {
      "cell_type": "markdown",
      "metadata": {
        "id": "_zSspgZVqMtO"
      },
      "source": [
        "`torch.no_grad()` can also be used as a function or method dectorator:"
      ]
    },
    {
      "cell_type": "code",
      "metadata": {
        "id": "0YD1Vt0aqMtO",
        "colab": {
          "base_uri": "https://localhost:8080/"
        },
        "outputId": "1cba1044-94cc-408d-dba8-ff83ab131d51"
      },
      "source": [
        "def add_tensors1(x, y):\n",
        "    return x + y\n",
        "\n",
        "@torch.no_grad()\n",
        "def add_tensors2(x, y):\n",
        "    return x + y\n",
        "\n",
        "\n",
        "a = torch.ones(2, 3, requires_grad=True) * 2\n",
        "b = torch.ones(2, 3, requires_grad=True) * 3\n",
        "\n",
        "c1 = add_tensors1(a, b)\n",
        "print(c1)\n",
        "\n",
        "c2 = add_tensors2(a, b)\n",
        "print(c2)"
      ],
      "execution_count": null,
      "outputs": [
        {
          "output_type": "stream",
          "name": "stdout",
          "text": [
            "tensor([[5., 5., 5.],\n",
            "        [5., 5., 5.]], grad_fn=<AddBackward0>)\n",
            "tensor([[5., 5., 5.],\n",
            "        [5., 5., 5.]])\n"
          ]
        }
      ]
    },
    {
      "cell_type": "markdown",
      "metadata": {
        "id": "yni7EgQlqMtO"
      },
      "source": [
        "There's a corresponding context manager, `torch.enable_grad()`, for turning autograd on when it isn't already. It may also be used as a decorator.\n",
        "\n",
        "Finally, you may have a tensor that requires gradient tracking, but you want a copy that does not. For this we have the `Tensor` object's `detach()` method - it creates a copy of the tensor that is *detached* from the computation history:"
      ]
    },
    {
      "cell_type": "code",
      "metadata": {
        "id": "xIcn3CdOqMtP",
        "colab": {
          "base_uri": "https://localhost:8080/"
        },
        "outputId": "8bf01f4d-01ad-42a9-fe09-a6d50d55e22d"
      },
      "source": [
        "x = torch.rand(5, requires_grad=True)\n",
        "y = x.detach()\n",
        "\n",
        "print(x)\n",
        "print(y)"
      ],
      "execution_count": null,
      "outputs": [
        {
          "output_type": "stream",
          "name": "stdout",
          "text": [
            "tensor([0.3789, 0.4885, 0.1580, 0.3413, 0.2825], requires_grad=True)\n",
            "tensor([0.3789, 0.4885, 0.1580, 0.3413, 0.2825])\n"
          ]
        }
      ]
    },
    {
      "cell_type": "markdown",
      "metadata": {
        "id": "qHZ3uAX9qMtP"
      },
      "source": [
        "We did this above when we wanted to graph some of our tensors. This is because `matplotlib` expects a NumPy array as input, and the implicit conversion from a PyTorch tensor to a NumPy array is not enabled for tensors with requires_grad=True. Making a detached copy lets us move forward.\n"
      ]
    }
  ]
}