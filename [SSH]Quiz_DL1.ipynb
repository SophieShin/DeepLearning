{
  "nbformat": 4,
  "nbformat_minor": 0,
  "metadata": {
    "colab": {
      "name": "[SSH]Quiz-DL1.ipynb",
      "provenance": [],
      "collapsed_sections": [],
      "include_colab_link": true
    },
    "kernelspec": {
      "name": "python3",
      "display_name": "Python 3"
    },
    "language_info": {
      "name": "python"
    },
    "accelerator": "GPU",
    "widgets": {
      "application/vnd.jupyter.widget-state+json": {
        "29e510dbbe73426db030f90414b17237": {
          "model_module": "@jupyter-widgets/controls",
          "model_name": "HBoxModel",
          "model_module_version": "1.5.0",
          "state": {
            "_dom_classes": [],
            "_model_module": "@jupyter-widgets/controls",
            "_model_module_version": "1.5.0",
            "_model_name": "HBoxModel",
            "_view_count": null,
            "_view_module": "@jupyter-widgets/controls",
            "_view_module_version": "1.5.0",
            "_view_name": "HBoxView",
            "box_style": "",
            "children": [
              "IPY_MODEL_11e7aff8ffc44bffb122c034abd6ceac",
              "IPY_MODEL_999c6140b472445f93a00a04ccb68e79",
              "IPY_MODEL_2d9b7adf641a4c2cacb7024612d229f8"
            ],
            "layout": "IPY_MODEL_fe58067fad464f9bae8851746715aad5"
          }
        },
        "11e7aff8ffc44bffb122c034abd6ceac": {
          "model_module": "@jupyter-widgets/controls",
          "model_name": "HTMLModel",
          "model_module_version": "1.5.0",
          "state": {
            "_dom_classes": [],
            "_model_module": "@jupyter-widgets/controls",
            "_model_module_version": "1.5.0",
            "_model_name": "HTMLModel",
            "_view_count": null,
            "_view_module": "@jupyter-widgets/controls",
            "_view_module_version": "1.5.0",
            "_view_name": "HTMLView",
            "description": "",
            "description_tooltip": null,
            "layout": "IPY_MODEL_429d7d4499a44cdd94fcb316ca3ced9d",
            "placeholder": "​",
            "style": "IPY_MODEL_224c5520b14248dd8b5b06eb590774b7",
            "value": ""
          }
        },
        "999c6140b472445f93a00a04ccb68e79": {
          "model_module": "@jupyter-widgets/controls",
          "model_name": "FloatProgressModel",
          "model_module_version": "1.5.0",
          "state": {
            "_dom_classes": [],
            "_model_module": "@jupyter-widgets/controls",
            "_model_module_version": "1.5.0",
            "_model_name": "FloatProgressModel",
            "_view_count": null,
            "_view_module": "@jupyter-widgets/controls",
            "_view_module_version": "1.5.0",
            "_view_name": "ProgressView",
            "bar_style": "success",
            "description": "",
            "description_tooltip": null,
            "layout": "IPY_MODEL_8bac03e7b9c945bcb12e92ba4fce0fda",
            "max": 26421880,
            "min": 0,
            "orientation": "horizontal",
            "style": "IPY_MODEL_54f77c72aa804b64aff19bd89b23fb7c",
            "value": 26421880
          }
        },
        "2d9b7adf641a4c2cacb7024612d229f8": {
          "model_module": "@jupyter-widgets/controls",
          "model_name": "HTMLModel",
          "model_module_version": "1.5.0",
          "state": {
            "_dom_classes": [],
            "_model_module": "@jupyter-widgets/controls",
            "_model_module_version": "1.5.0",
            "_model_name": "HTMLModel",
            "_view_count": null,
            "_view_module": "@jupyter-widgets/controls",
            "_view_module_version": "1.5.0",
            "_view_name": "HTMLView",
            "description": "",
            "description_tooltip": null,
            "layout": "IPY_MODEL_d23a9dc925d447c58deda4c9fc3dbea0",
            "placeholder": "​",
            "style": "IPY_MODEL_470401eeb48642cb9c79f994a7b8026f",
            "value": " 26422272/? [00:02&lt;00:00, 18924329.69it/s]"
          }
        },
        "fe58067fad464f9bae8851746715aad5": {
          "model_module": "@jupyter-widgets/base",
          "model_name": "LayoutModel",
          "model_module_version": "1.2.0",
          "state": {
            "_model_module": "@jupyter-widgets/base",
            "_model_module_version": "1.2.0",
            "_model_name": "LayoutModel",
            "_view_count": null,
            "_view_module": "@jupyter-widgets/base",
            "_view_module_version": "1.2.0",
            "_view_name": "LayoutView",
            "align_content": null,
            "align_items": null,
            "align_self": null,
            "border": null,
            "bottom": null,
            "display": null,
            "flex": null,
            "flex_flow": null,
            "grid_area": null,
            "grid_auto_columns": null,
            "grid_auto_flow": null,
            "grid_auto_rows": null,
            "grid_column": null,
            "grid_gap": null,
            "grid_row": null,
            "grid_template_areas": null,
            "grid_template_columns": null,
            "grid_template_rows": null,
            "height": null,
            "justify_content": null,
            "justify_items": null,
            "left": null,
            "margin": null,
            "max_height": null,
            "max_width": null,
            "min_height": null,
            "min_width": null,
            "object_fit": null,
            "object_position": null,
            "order": null,
            "overflow": null,
            "overflow_x": null,
            "overflow_y": null,
            "padding": null,
            "right": null,
            "top": null,
            "visibility": null,
            "width": null
          }
        },
        "429d7d4499a44cdd94fcb316ca3ced9d": {
          "model_module": "@jupyter-widgets/base",
          "model_name": "LayoutModel",
          "model_module_version": "1.2.0",
          "state": {
            "_model_module": "@jupyter-widgets/base",
            "_model_module_version": "1.2.0",
            "_model_name": "LayoutModel",
            "_view_count": null,
            "_view_module": "@jupyter-widgets/base",
            "_view_module_version": "1.2.0",
            "_view_name": "LayoutView",
            "align_content": null,
            "align_items": null,
            "align_self": null,
            "border": null,
            "bottom": null,
            "display": null,
            "flex": null,
            "flex_flow": null,
            "grid_area": null,
            "grid_auto_columns": null,
            "grid_auto_flow": null,
            "grid_auto_rows": null,
            "grid_column": null,
            "grid_gap": null,
            "grid_row": null,
            "grid_template_areas": null,
            "grid_template_columns": null,
            "grid_template_rows": null,
            "height": null,
            "justify_content": null,
            "justify_items": null,
            "left": null,
            "margin": null,
            "max_height": null,
            "max_width": null,
            "min_height": null,
            "min_width": null,
            "object_fit": null,
            "object_position": null,
            "order": null,
            "overflow": null,
            "overflow_x": null,
            "overflow_y": null,
            "padding": null,
            "right": null,
            "top": null,
            "visibility": null,
            "width": null
          }
        },
        "224c5520b14248dd8b5b06eb590774b7": {
          "model_module": "@jupyter-widgets/controls",
          "model_name": "DescriptionStyleModel",
          "model_module_version": "1.5.0",
          "state": {
            "_model_module": "@jupyter-widgets/controls",
            "_model_module_version": "1.5.0",
            "_model_name": "DescriptionStyleModel",
            "_view_count": null,
            "_view_module": "@jupyter-widgets/base",
            "_view_module_version": "1.2.0",
            "_view_name": "StyleView",
            "description_width": ""
          }
        },
        "8bac03e7b9c945bcb12e92ba4fce0fda": {
          "model_module": "@jupyter-widgets/base",
          "model_name": "LayoutModel",
          "model_module_version": "1.2.0",
          "state": {
            "_model_module": "@jupyter-widgets/base",
            "_model_module_version": "1.2.0",
            "_model_name": "LayoutModel",
            "_view_count": null,
            "_view_module": "@jupyter-widgets/base",
            "_view_module_version": "1.2.0",
            "_view_name": "LayoutView",
            "align_content": null,
            "align_items": null,
            "align_self": null,
            "border": null,
            "bottom": null,
            "display": null,
            "flex": null,
            "flex_flow": null,
            "grid_area": null,
            "grid_auto_columns": null,
            "grid_auto_flow": null,
            "grid_auto_rows": null,
            "grid_column": null,
            "grid_gap": null,
            "grid_row": null,
            "grid_template_areas": null,
            "grid_template_columns": null,
            "grid_template_rows": null,
            "height": null,
            "justify_content": null,
            "justify_items": null,
            "left": null,
            "margin": null,
            "max_height": null,
            "max_width": null,
            "min_height": null,
            "min_width": null,
            "object_fit": null,
            "object_position": null,
            "order": null,
            "overflow": null,
            "overflow_x": null,
            "overflow_y": null,
            "padding": null,
            "right": null,
            "top": null,
            "visibility": null,
            "width": null
          }
        },
        "54f77c72aa804b64aff19bd89b23fb7c": {
          "model_module": "@jupyter-widgets/controls",
          "model_name": "ProgressStyleModel",
          "model_module_version": "1.5.0",
          "state": {
            "_model_module": "@jupyter-widgets/controls",
            "_model_module_version": "1.5.0",
            "_model_name": "ProgressStyleModel",
            "_view_count": null,
            "_view_module": "@jupyter-widgets/base",
            "_view_module_version": "1.2.0",
            "_view_name": "StyleView",
            "bar_color": null,
            "description_width": ""
          }
        },
        "d23a9dc925d447c58deda4c9fc3dbea0": {
          "model_module": "@jupyter-widgets/base",
          "model_name": "LayoutModel",
          "model_module_version": "1.2.0",
          "state": {
            "_model_module": "@jupyter-widgets/base",
            "_model_module_version": "1.2.0",
            "_model_name": "LayoutModel",
            "_view_count": null,
            "_view_module": "@jupyter-widgets/base",
            "_view_module_version": "1.2.0",
            "_view_name": "LayoutView",
            "align_content": null,
            "align_items": null,
            "align_self": null,
            "border": null,
            "bottom": null,
            "display": null,
            "flex": null,
            "flex_flow": null,
            "grid_area": null,
            "grid_auto_columns": null,
            "grid_auto_flow": null,
            "grid_auto_rows": null,
            "grid_column": null,
            "grid_gap": null,
            "grid_row": null,
            "grid_template_areas": null,
            "grid_template_columns": null,
            "grid_template_rows": null,
            "height": null,
            "justify_content": null,
            "justify_items": null,
            "left": null,
            "margin": null,
            "max_height": null,
            "max_width": null,
            "min_height": null,
            "min_width": null,
            "object_fit": null,
            "object_position": null,
            "order": null,
            "overflow": null,
            "overflow_x": null,
            "overflow_y": null,
            "padding": null,
            "right": null,
            "top": null,
            "visibility": null,
            "width": null
          }
        },
        "470401eeb48642cb9c79f994a7b8026f": {
          "model_module": "@jupyter-widgets/controls",
          "model_name": "DescriptionStyleModel",
          "model_module_version": "1.5.0",
          "state": {
            "_model_module": "@jupyter-widgets/controls",
            "_model_module_version": "1.5.0",
            "_model_name": "DescriptionStyleModel",
            "_view_count": null,
            "_view_module": "@jupyter-widgets/base",
            "_view_module_version": "1.2.0",
            "_view_name": "StyleView",
            "description_width": ""
          }
        },
        "8a75e751003f40e5aa9188f0a976cb33": {
          "model_module": "@jupyter-widgets/controls",
          "model_name": "HBoxModel",
          "model_module_version": "1.5.0",
          "state": {
            "_dom_classes": [],
            "_model_module": "@jupyter-widgets/controls",
            "_model_module_version": "1.5.0",
            "_model_name": "HBoxModel",
            "_view_count": null,
            "_view_module": "@jupyter-widgets/controls",
            "_view_module_version": "1.5.0",
            "_view_name": "HBoxView",
            "box_style": "",
            "children": [
              "IPY_MODEL_e91384d3c3094b2ebc52af99eefdd78f",
              "IPY_MODEL_6d07fbdef1c34e7e82e37a882ac8ac26",
              "IPY_MODEL_69381b5a87d847ed9070ca769aab455f"
            ],
            "layout": "IPY_MODEL_c54269d413dc46588317972735b105d8"
          }
        },
        "e91384d3c3094b2ebc52af99eefdd78f": {
          "model_module": "@jupyter-widgets/controls",
          "model_name": "HTMLModel",
          "model_module_version": "1.5.0",
          "state": {
            "_dom_classes": [],
            "_model_module": "@jupyter-widgets/controls",
            "_model_module_version": "1.5.0",
            "_model_name": "HTMLModel",
            "_view_count": null,
            "_view_module": "@jupyter-widgets/controls",
            "_view_module_version": "1.5.0",
            "_view_name": "HTMLView",
            "description": "",
            "description_tooltip": null,
            "layout": "IPY_MODEL_8cc82dcc31d74771a6dfe1f306e2fa89",
            "placeholder": "​",
            "style": "IPY_MODEL_e5f27cf5a066479e991a7a271f6a8cb7",
            "value": ""
          }
        },
        "6d07fbdef1c34e7e82e37a882ac8ac26": {
          "model_module": "@jupyter-widgets/controls",
          "model_name": "FloatProgressModel",
          "model_module_version": "1.5.0",
          "state": {
            "_dom_classes": [],
            "_model_module": "@jupyter-widgets/controls",
            "_model_module_version": "1.5.0",
            "_model_name": "FloatProgressModel",
            "_view_count": null,
            "_view_module": "@jupyter-widgets/controls",
            "_view_module_version": "1.5.0",
            "_view_name": "ProgressView",
            "bar_style": "success",
            "description": "",
            "description_tooltip": null,
            "layout": "IPY_MODEL_82ae9b108eab49d991a8f0713ce3d655",
            "max": 29515,
            "min": 0,
            "orientation": "horizontal",
            "style": "IPY_MODEL_68b1174303224ad69aa0adeca23d44f6",
            "value": 29515
          }
        },
        "69381b5a87d847ed9070ca769aab455f": {
          "model_module": "@jupyter-widgets/controls",
          "model_name": "HTMLModel",
          "model_module_version": "1.5.0",
          "state": {
            "_dom_classes": [],
            "_model_module": "@jupyter-widgets/controls",
            "_model_module_version": "1.5.0",
            "_model_name": "HTMLModel",
            "_view_count": null,
            "_view_module": "@jupyter-widgets/controls",
            "_view_module_version": "1.5.0",
            "_view_name": "HTMLView",
            "description": "",
            "description_tooltip": null,
            "layout": "IPY_MODEL_a7cee239815a4f71a6766a04730a7ccf",
            "placeholder": "​",
            "style": "IPY_MODEL_25c2068f848646e28a1696fe0ee2165c",
            "value": " 29696/? [00:00&lt;00:00, 103478.94it/s]"
          }
        },
        "c54269d413dc46588317972735b105d8": {
          "model_module": "@jupyter-widgets/base",
          "model_name": "LayoutModel",
          "model_module_version": "1.2.0",
          "state": {
            "_model_module": "@jupyter-widgets/base",
            "_model_module_version": "1.2.0",
            "_model_name": "LayoutModel",
            "_view_count": null,
            "_view_module": "@jupyter-widgets/base",
            "_view_module_version": "1.2.0",
            "_view_name": "LayoutView",
            "align_content": null,
            "align_items": null,
            "align_self": null,
            "border": null,
            "bottom": null,
            "display": null,
            "flex": null,
            "flex_flow": null,
            "grid_area": null,
            "grid_auto_columns": null,
            "grid_auto_flow": null,
            "grid_auto_rows": null,
            "grid_column": null,
            "grid_gap": null,
            "grid_row": null,
            "grid_template_areas": null,
            "grid_template_columns": null,
            "grid_template_rows": null,
            "height": null,
            "justify_content": null,
            "justify_items": null,
            "left": null,
            "margin": null,
            "max_height": null,
            "max_width": null,
            "min_height": null,
            "min_width": null,
            "object_fit": null,
            "object_position": null,
            "order": null,
            "overflow": null,
            "overflow_x": null,
            "overflow_y": null,
            "padding": null,
            "right": null,
            "top": null,
            "visibility": null,
            "width": null
          }
        },
        "8cc82dcc31d74771a6dfe1f306e2fa89": {
          "model_module": "@jupyter-widgets/base",
          "model_name": "LayoutModel",
          "model_module_version": "1.2.0",
          "state": {
            "_model_module": "@jupyter-widgets/base",
            "_model_module_version": "1.2.0",
            "_model_name": "LayoutModel",
            "_view_count": null,
            "_view_module": "@jupyter-widgets/base",
            "_view_module_version": "1.2.0",
            "_view_name": "LayoutView",
            "align_content": null,
            "align_items": null,
            "align_self": null,
            "border": null,
            "bottom": null,
            "display": null,
            "flex": null,
            "flex_flow": null,
            "grid_area": null,
            "grid_auto_columns": null,
            "grid_auto_flow": null,
            "grid_auto_rows": null,
            "grid_column": null,
            "grid_gap": null,
            "grid_row": null,
            "grid_template_areas": null,
            "grid_template_columns": null,
            "grid_template_rows": null,
            "height": null,
            "justify_content": null,
            "justify_items": null,
            "left": null,
            "margin": null,
            "max_height": null,
            "max_width": null,
            "min_height": null,
            "min_width": null,
            "object_fit": null,
            "object_position": null,
            "order": null,
            "overflow": null,
            "overflow_x": null,
            "overflow_y": null,
            "padding": null,
            "right": null,
            "top": null,
            "visibility": null,
            "width": null
          }
        },
        "e5f27cf5a066479e991a7a271f6a8cb7": {
          "model_module": "@jupyter-widgets/controls",
          "model_name": "DescriptionStyleModel",
          "model_module_version": "1.5.0",
          "state": {
            "_model_module": "@jupyter-widgets/controls",
            "_model_module_version": "1.5.0",
            "_model_name": "DescriptionStyleModel",
            "_view_count": null,
            "_view_module": "@jupyter-widgets/base",
            "_view_module_version": "1.2.0",
            "_view_name": "StyleView",
            "description_width": ""
          }
        },
        "82ae9b108eab49d991a8f0713ce3d655": {
          "model_module": "@jupyter-widgets/base",
          "model_name": "LayoutModel",
          "model_module_version": "1.2.0",
          "state": {
            "_model_module": "@jupyter-widgets/base",
            "_model_module_version": "1.2.0",
            "_model_name": "LayoutModel",
            "_view_count": null,
            "_view_module": "@jupyter-widgets/base",
            "_view_module_version": "1.2.0",
            "_view_name": "LayoutView",
            "align_content": null,
            "align_items": null,
            "align_self": null,
            "border": null,
            "bottom": null,
            "display": null,
            "flex": null,
            "flex_flow": null,
            "grid_area": null,
            "grid_auto_columns": null,
            "grid_auto_flow": null,
            "grid_auto_rows": null,
            "grid_column": null,
            "grid_gap": null,
            "grid_row": null,
            "grid_template_areas": null,
            "grid_template_columns": null,
            "grid_template_rows": null,
            "height": null,
            "justify_content": null,
            "justify_items": null,
            "left": null,
            "margin": null,
            "max_height": null,
            "max_width": null,
            "min_height": null,
            "min_width": null,
            "object_fit": null,
            "object_position": null,
            "order": null,
            "overflow": null,
            "overflow_x": null,
            "overflow_y": null,
            "padding": null,
            "right": null,
            "top": null,
            "visibility": null,
            "width": null
          }
        },
        "68b1174303224ad69aa0adeca23d44f6": {
          "model_module": "@jupyter-widgets/controls",
          "model_name": "ProgressStyleModel",
          "model_module_version": "1.5.0",
          "state": {
            "_model_module": "@jupyter-widgets/controls",
            "_model_module_version": "1.5.0",
            "_model_name": "ProgressStyleModel",
            "_view_count": null,
            "_view_module": "@jupyter-widgets/base",
            "_view_module_version": "1.2.0",
            "_view_name": "StyleView",
            "bar_color": null,
            "description_width": ""
          }
        },
        "a7cee239815a4f71a6766a04730a7ccf": {
          "model_module": "@jupyter-widgets/base",
          "model_name": "LayoutModel",
          "model_module_version": "1.2.0",
          "state": {
            "_model_module": "@jupyter-widgets/base",
            "_model_module_version": "1.2.0",
            "_model_name": "LayoutModel",
            "_view_count": null,
            "_view_module": "@jupyter-widgets/base",
            "_view_module_version": "1.2.0",
            "_view_name": "LayoutView",
            "align_content": null,
            "align_items": null,
            "align_self": null,
            "border": null,
            "bottom": null,
            "display": null,
            "flex": null,
            "flex_flow": null,
            "grid_area": null,
            "grid_auto_columns": null,
            "grid_auto_flow": null,
            "grid_auto_rows": null,
            "grid_column": null,
            "grid_gap": null,
            "grid_row": null,
            "grid_template_areas": null,
            "grid_template_columns": null,
            "grid_template_rows": null,
            "height": null,
            "justify_content": null,
            "justify_items": null,
            "left": null,
            "margin": null,
            "max_height": null,
            "max_width": null,
            "min_height": null,
            "min_width": null,
            "object_fit": null,
            "object_position": null,
            "order": null,
            "overflow": null,
            "overflow_x": null,
            "overflow_y": null,
            "padding": null,
            "right": null,
            "top": null,
            "visibility": null,
            "width": null
          }
        },
        "25c2068f848646e28a1696fe0ee2165c": {
          "model_module": "@jupyter-widgets/controls",
          "model_name": "DescriptionStyleModel",
          "model_module_version": "1.5.0",
          "state": {
            "_model_module": "@jupyter-widgets/controls",
            "_model_module_version": "1.5.0",
            "_model_name": "DescriptionStyleModel",
            "_view_count": null,
            "_view_module": "@jupyter-widgets/base",
            "_view_module_version": "1.2.0",
            "_view_name": "StyleView",
            "description_width": ""
          }
        },
        "4d899900c8ef492292ae3a33f292e417": {
          "model_module": "@jupyter-widgets/controls",
          "model_name": "HBoxModel",
          "model_module_version": "1.5.0",
          "state": {
            "_dom_classes": [],
            "_model_module": "@jupyter-widgets/controls",
            "_model_module_version": "1.5.0",
            "_model_name": "HBoxModel",
            "_view_count": null,
            "_view_module": "@jupyter-widgets/controls",
            "_view_module_version": "1.5.0",
            "_view_name": "HBoxView",
            "box_style": "",
            "children": [
              "IPY_MODEL_a4d42aee6ffe4ff8918c45d5dd695637",
              "IPY_MODEL_6c184abeb2c94bd0ba190c150398ff3b",
              "IPY_MODEL_8b559568757544daad5214e0243f1cb5"
            ],
            "layout": "IPY_MODEL_244a226cd8f048ba99a5ce62f9c10c34"
          }
        },
        "a4d42aee6ffe4ff8918c45d5dd695637": {
          "model_module": "@jupyter-widgets/controls",
          "model_name": "HTMLModel",
          "model_module_version": "1.5.0",
          "state": {
            "_dom_classes": [],
            "_model_module": "@jupyter-widgets/controls",
            "_model_module_version": "1.5.0",
            "_model_name": "HTMLModel",
            "_view_count": null,
            "_view_module": "@jupyter-widgets/controls",
            "_view_module_version": "1.5.0",
            "_view_name": "HTMLView",
            "description": "",
            "description_tooltip": null,
            "layout": "IPY_MODEL_77a7830bd148444582c07bf131732631",
            "placeholder": "​",
            "style": "IPY_MODEL_2fba35f59a674e998acf2e26cc0e4512",
            "value": ""
          }
        },
        "6c184abeb2c94bd0ba190c150398ff3b": {
          "model_module": "@jupyter-widgets/controls",
          "model_name": "FloatProgressModel",
          "model_module_version": "1.5.0",
          "state": {
            "_dom_classes": [],
            "_model_module": "@jupyter-widgets/controls",
            "_model_module_version": "1.5.0",
            "_model_name": "FloatProgressModel",
            "_view_count": null,
            "_view_module": "@jupyter-widgets/controls",
            "_view_module_version": "1.5.0",
            "_view_name": "ProgressView",
            "bar_style": "success",
            "description": "",
            "description_tooltip": null,
            "layout": "IPY_MODEL_b49c1c72a52d42e1afdf76817353b88c",
            "max": 4422102,
            "min": 0,
            "orientation": "horizontal",
            "style": "IPY_MODEL_5992aa9a2eb04644b602a340f8a589d3",
            "value": 4422102
          }
        },
        "8b559568757544daad5214e0243f1cb5": {
          "model_module": "@jupyter-widgets/controls",
          "model_name": "HTMLModel",
          "model_module_version": "1.5.0",
          "state": {
            "_dom_classes": [],
            "_model_module": "@jupyter-widgets/controls",
            "_model_module_version": "1.5.0",
            "_model_name": "HTMLModel",
            "_view_count": null,
            "_view_module": "@jupyter-widgets/controls",
            "_view_module_version": "1.5.0",
            "_view_name": "HTMLView",
            "description": "",
            "description_tooltip": null,
            "layout": "IPY_MODEL_0017603189424201916424e1acc0562a",
            "placeholder": "​",
            "style": "IPY_MODEL_1123e733c53143a18b1b7122b0faf191",
            "value": " 4422656/? [00:01&lt;00:00, 5940153.81it/s]"
          }
        },
        "244a226cd8f048ba99a5ce62f9c10c34": {
          "model_module": "@jupyter-widgets/base",
          "model_name": "LayoutModel",
          "model_module_version": "1.2.0",
          "state": {
            "_model_module": "@jupyter-widgets/base",
            "_model_module_version": "1.2.0",
            "_model_name": "LayoutModel",
            "_view_count": null,
            "_view_module": "@jupyter-widgets/base",
            "_view_module_version": "1.2.0",
            "_view_name": "LayoutView",
            "align_content": null,
            "align_items": null,
            "align_self": null,
            "border": null,
            "bottom": null,
            "display": null,
            "flex": null,
            "flex_flow": null,
            "grid_area": null,
            "grid_auto_columns": null,
            "grid_auto_flow": null,
            "grid_auto_rows": null,
            "grid_column": null,
            "grid_gap": null,
            "grid_row": null,
            "grid_template_areas": null,
            "grid_template_columns": null,
            "grid_template_rows": null,
            "height": null,
            "justify_content": null,
            "justify_items": null,
            "left": null,
            "margin": null,
            "max_height": null,
            "max_width": null,
            "min_height": null,
            "min_width": null,
            "object_fit": null,
            "object_position": null,
            "order": null,
            "overflow": null,
            "overflow_x": null,
            "overflow_y": null,
            "padding": null,
            "right": null,
            "top": null,
            "visibility": null,
            "width": null
          }
        },
        "77a7830bd148444582c07bf131732631": {
          "model_module": "@jupyter-widgets/base",
          "model_name": "LayoutModel",
          "model_module_version": "1.2.0",
          "state": {
            "_model_module": "@jupyter-widgets/base",
            "_model_module_version": "1.2.0",
            "_model_name": "LayoutModel",
            "_view_count": null,
            "_view_module": "@jupyter-widgets/base",
            "_view_module_version": "1.2.0",
            "_view_name": "LayoutView",
            "align_content": null,
            "align_items": null,
            "align_self": null,
            "border": null,
            "bottom": null,
            "display": null,
            "flex": null,
            "flex_flow": null,
            "grid_area": null,
            "grid_auto_columns": null,
            "grid_auto_flow": null,
            "grid_auto_rows": null,
            "grid_column": null,
            "grid_gap": null,
            "grid_row": null,
            "grid_template_areas": null,
            "grid_template_columns": null,
            "grid_template_rows": null,
            "height": null,
            "justify_content": null,
            "justify_items": null,
            "left": null,
            "margin": null,
            "max_height": null,
            "max_width": null,
            "min_height": null,
            "min_width": null,
            "object_fit": null,
            "object_position": null,
            "order": null,
            "overflow": null,
            "overflow_x": null,
            "overflow_y": null,
            "padding": null,
            "right": null,
            "top": null,
            "visibility": null,
            "width": null
          }
        },
        "2fba35f59a674e998acf2e26cc0e4512": {
          "model_module": "@jupyter-widgets/controls",
          "model_name": "DescriptionStyleModel",
          "model_module_version": "1.5.0",
          "state": {
            "_model_module": "@jupyter-widgets/controls",
            "_model_module_version": "1.5.0",
            "_model_name": "DescriptionStyleModel",
            "_view_count": null,
            "_view_module": "@jupyter-widgets/base",
            "_view_module_version": "1.2.0",
            "_view_name": "StyleView",
            "description_width": ""
          }
        },
        "b49c1c72a52d42e1afdf76817353b88c": {
          "model_module": "@jupyter-widgets/base",
          "model_name": "LayoutModel",
          "model_module_version": "1.2.0",
          "state": {
            "_model_module": "@jupyter-widgets/base",
            "_model_module_version": "1.2.0",
            "_model_name": "LayoutModel",
            "_view_count": null,
            "_view_module": "@jupyter-widgets/base",
            "_view_module_version": "1.2.0",
            "_view_name": "LayoutView",
            "align_content": null,
            "align_items": null,
            "align_self": null,
            "border": null,
            "bottom": null,
            "display": null,
            "flex": null,
            "flex_flow": null,
            "grid_area": null,
            "grid_auto_columns": null,
            "grid_auto_flow": null,
            "grid_auto_rows": null,
            "grid_column": null,
            "grid_gap": null,
            "grid_row": null,
            "grid_template_areas": null,
            "grid_template_columns": null,
            "grid_template_rows": null,
            "height": null,
            "justify_content": null,
            "justify_items": null,
            "left": null,
            "margin": null,
            "max_height": null,
            "max_width": null,
            "min_height": null,
            "min_width": null,
            "object_fit": null,
            "object_position": null,
            "order": null,
            "overflow": null,
            "overflow_x": null,
            "overflow_y": null,
            "padding": null,
            "right": null,
            "top": null,
            "visibility": null,
            "width": null
          }
        },
        "5992aa9a2eb04644b602a340f8a589d3": {
          "model_module": "@jupyter-widgets/controls",
          "model_name": "ProgressStyleModel",
          "model_module_version": "1.5.0",
          "state": {
            "_model_module": "@jupyter-widgets/controls",
            "_model_module_version": "1.5.0",
            "_model_name": "ProgressStyleModel",
            "_view_count": null,
            "_view_module": "@jupyter-widgets/base",
            "_view_module_version": "1.2.0",
            "_view_name": "StyleView",
            "bar_color": null,
            "description_width": ""
          }
        },
        "0017603189424201916424e1acc0562a": {
          "model_module": "@jupyter-widgets/base",
          "model_name": "LayoutModel",
          "model_module_version": "1.2.0",
          "state": {
            "_model_module": "@jupyter-widgets/base",
            "_model_module_version": "1.2.0",
            "_model_name": "LayoutModel",
            "_view_count": null,
            "_view_module": "@jupyter-widgets/base",
            "_view_module_version": "1.2.0",
            "_view_name": "LayoutView",
            "align_content": null,
            "align_items": null,
            "align_self": null,
            "border": null,
            "bottom": null,
            "display": null,
            "flex": null,
            "flex_flow": null,
            "grid_area": null,
            "grid_auto_columns": null,
            "grid_auto_flow": null,
            "grid_auto_rows": null,
            "grid_column": null,
            "grid_gap": null,
            "grid_row": null,
            "grid_template_areas": null,
            "grid_template_columns": null,
            "grid_template_rows": null,
            "height": null,
            "justify_content": null,
            "justify_items": null,
            "left": null,
            "margin": null,
            "max_height": null,
            "max_width": null,
            "min_height": null,
            "min_width": null,
            "object_fit": null,
            "object_position": null,
            "order": null,
            "overflow": null,
            "overflow_x": null,
            "overflow_y": null,
            "padding": null,
            "right": null,
            "top": null,
            "visibility": null,
            "width": null
          }
        },
        "1123e733c53143a18b1b7122b0faf191": {
          "model_module": "@jupyter-widgets/controls",
          "model_name": "DescriptionStyleModel",
          "model_module_version": "1.5.0",
          "state": {
            "_model_module": "@jupyter-widgets/controls",
            "_model_module_version": "1.5.0",
            "_model_name": "DescriptionStyleModel",
            "_view_count": null,
            "_view_module": "@jupyter-widgets/base",
            "_view_module_version": "1.2.0",
            "_view_name": "StyleView",
            "description_width": ""
          }
        },
        "2c3edda9103643529f1027936ef07950": {
          "model_module": "@jupyter-widgets/controls",
          "model_name": "HBoxModel",
          "model_module_version": "1.5.0",
          "state": {
            "_dom_classes": [],
            "_model_module": "@jupyter-widgets/controls",
            "_model_module_version": "1.5.0",
            "_model_name": "HBoxModel",
            "_view_count": null,
            "_view_module": "@jupyter-widgets/controls",
            "_view_module_version": "1.5.0",
            "_view_name": "HBoxView",
            "box_style": "",
            "children": [
              "IPY_MODEL_6c0cf8a938344c62974c0935611ff097",
              "IPY_MODEL_2a55cbe56e7c475ead24cd2021be3e54",
              "IPY_MODEL_c14aacf41e794b1ba9dd83977118c168"
            ],
            "layout": "IPY_MODEL_5a55dac615e548baadd5d5c8c2ce01f9"
          }
        },
        "6c0cf8a938344c62974c0935611ff097": {
          "model_module": "@jupyter-widgets/controls",
          "model_name": "HTMLModel",
          "model_module_version": "1.5.0",
          "state": {
            "_dom_classes": [],
            "_model_module": "@jupyter-widgets/controls",
            "_model_module_version": "1.5.0",
            "_model_name": "HTMLModel",
            "_view_count": null,
            "_view_module": "@jupyter-widgets/controls",
            "_view_module_version": "1.5.0",
            "_view_name": "HTMLView",
            "description": "",
            "description_tooltip": null,
            "layout": "IPY_MODEL_df7bc32fb1c342b89dbafe0f365c5cc0",
            "placeholder": "​",
            "style": "IPY_MODEL_1d30d30ab0a14947a74e5d1238c1736a",
            "value": ""
          }
        },
        "2a55cbe56e7c475ead24cd2021be3e54": {
          "model_module": "@jupyter-widgets/controls",
          "model_name": "FloatProgressModel",
          "model_module_version": "1.5.0",
          "state": {
            "_dom_classes": [],
            "_model_module": "@jupyter-widgets/controls",
            "_model_module_version": "1.5.0",
            "_model_name": "FloatProgressModel",
            "_view_count": null,
            "_view_module": "@jupyter-widgets/controls",
            "_view_module_version": "1.5.0",
            "_view_name": "ProgressView",
            "bar_style": "success",
            "description": "",
            "description_tooltip": null,
            "layout": "IPY_MODEL_d151a61de9114614bd2dabea10ef6eed",
            "max": 5148,
            "min": 0,
            "orientation": "horizontal",
            "style": "IPY_MODEL_f55e6925107042139b6718df198dd4cd",
            "value": 5148
          }
        },
        "c14aacf41e794b1ba9dd83977118c168": {
          "model_module": "@jupyter-widgets/controls",
          "model_name": "HTMLModel",
          "model_module_version": "1.5.0",
          "state": {
            "_dom_classes": [],
            "_model_module": "@jupyter-widgets/controls",
            "_model_module_version": "1.5.0",
            "_model_name": "HTMLModel",
            "_view_count": null,
            "_view_module": "@jupyter-widgets/controls",
            "_view_module_version": "1.5.0",
            "_view_name": "HTMLView",
            "description": "",
            "description_tooltip": null,
            "layout": "IPY_MODEL_4ac16055fa0348f78f93cbe6ba9b1c1b",
            "placeholder": "​",
            "style": "IPY_MODEL_755b81b1082f4ae2889813f8fd9ab17b",
            "value": " 6144/? [00:00&lt;00:00, 210467.11it/s]"
          }
        },
        "5a55dac615e548baadd5d5c8c2ce01f9": {
          "model_module": "@jupyter-widgets/base",
          "model_name": "LayoutModel",
          "model_module_version": "1.2.0",
          "state": {
            "_model_module": "@jupyter-widgets/base",
            "_model_module_version": "1.2.0",
            "_model_name": "LayoutModel",
            "_view_count": null,
            "_view_module": "@jupyter-widgets/base",
            "_view_module_version": "1.2.0",
            "_view_name": "LayoutView",
            "align_content": null,
            "align_items": null,
            "align_self": null,
            "border": null,
            "bottom": null,
            "display": null,
            "flex": null,
            "flex_flow": null,
            "grid_area": null,
            "grid_auto_columns": null,
            "grid_auto_flow": null,
            "grid_auto_rows": null,
            "grid_column": null,
            "grid_gap": null,
            "grid_row": null,
            "grid_template_areas": null,
            "grid_template_columns": null,
            "grid_template_rows": null,
            "height": null,
            "justify_content": null,
            "justify_items": null,
            "left": null,
            "margin": null,
            "max_height": null,
            "max_width": null,
            "min_height": null,
            "min_width": null,
            "object_fit": null,
            "object_position": null,
            "order": null,
            "overflow": null,
            "overflow_x": null,
            "overflow_y": null,
            "padding": null,
            "right": null,
            "top": null,
            "visibility": null,
            "width": null
          }
        },
        "df7bc32fb1c342b89dbafe0f365c5cc0": {
          "model_module": "@jupyter-widgets/base",
          "model_name": "LayoutModel",
          "model_module_version": "1.2.0",
          "state": {
            "_model_module": "@jupyter-widgets/base",
            "_model_module_version": "1.2.0",
            "_model_name": "LayoutModel",
            "_view_count": null,
            "_view_module": "@jupyter-widgets/base",
            "_view_module_version": "1.2.0",
            "_view_name": "LayoutView",
            "align_content": null,
            "align_items": null,
            "align_self": null,
            "border": null,
            "bottom": null,
            "display": null,
            "flex": null,
            "flex_flow": null,
            "grid_area": null,
            "grid_auto_columns": null,
            "grid_auto_flow": null,
            "grid_auto_rows": null,
            "grid_column": null,
            "grid_gap": null,
            "grid_row": null,
            "grid_template_areas": null,
            "grid_template_columns": null,
            "grid_template_rows": null,
            "height": null,
            "justify_content": null,
            "justify_items": null,
            "left": null,
            "margin": null,
            "max_height": null,
            "max_width": null,
            "min_height": null,
            "min_width": null,
            "object_fit": null,
            "object_position": null,
            "order": null,
            "overflow": null,
            "overflow_x": null,
            "overflow_y": null,
            "padding": null,
            "right": null,
            "top": null,
            "visibility": null,
            "width": null
          }
        },
        "1d30d30ab0a14947a74e5d1238c1736a": {
          "model_module": "@jupyter-widgets/controls",
          "model_name": "DescriptionStyleModel",
          "model_module_version": "1.5.0",
          "state": {
            "_model_module": "@jupyter-widgets/controls",
            "_model_module_version": "1.5.0",
            "_model_name": "DescriptionStyleModel",
            "_view_count": null,
            "_view_module": "@jupyter-widgets/base",
            "_view_module_version": "1.2.0",
            "_view_name": "StyleView",
            "description_width": ""
          }
        },
        "d151a61de9114614bd2dabea10ef6eed": {
          "model_module": "@jupyter-widgets/base",
          "model_name": "LayoutModel",
          "model_module_version": "1.2.0",
          "state": {
            "_model_module": "@jupyter-widgets/base",
            "_model_module_version": "1.2.0",
            "_model_name": "LayoutModel",
            "_view_count": null,
            "_view_module": "@jupyter-widgets/base",
            "_view_module_version": "1.2.0",
            "_view_name": "LayoutView",
            "align_content": null,
            "align_items": null,
            "align_self": null,
            "border": null,
            "bottom": null,
            "display": null,
            "flex": null,
            "flex_flow": null,
            "grid_area": null,
            "grid_auto_columns": null,
            "grid_auto_flow": null,
            "grid_auto_rows": null,
            "grid_column": null,
            "grid_gap": null,
            "grid_row": null,
            "grid_template_areas": null,
            "grid_template_columns": null,
            "grid_template_rows": null,
            "height": null,
            "justify_content": null,
            "justify_items": null,
            "left": null,
            "margin": null,
            "max_height": null,
            "max_width": null,
            "min_height": null,
            "min_width": null,
            "object_fit": null,
            "object_position": null,
            "order": null,
            "overflow": null,
            "overflow_x": null,
            "overflow_y": null,
            "padding": null,
            "right": null,
            "top": null,
            "visibility": null,
            "width": null
          }
        },
        "f55e6925107042139b6718df198dd4cd": {
          "model_module": "@jupyter-widgets/controls",
          "model_name": "ProgressStyleModel",
          "model_module_version": "1.5.0",
          "state": {
            "_model_module": "@jupyter-widgets/controls",
            "_model_module_version": "1.5.0",
            "_model_name": "ProgressStyleModel",
            "_view_count": null,
            "_view_module": "@jupyter-widgets/base",
            "_view_module_version": "1.2.0",
            "_view_name": "StyleView",
            "bar_color": null,
            "description_width": ""
          }
        },
        "4ac16055fa0348f78f93cbe6ba9b1c1b": {
          "model_module": "@jupyter-widgets/base",
          "model_name": "LayoutModel",
          "model_module_version": "1.2.0",
          "state": {
            "_model_module": "@jupyter-widgets/base",
            "_model_module_version": "1.2.0",
            "_model_name": "LayoutModel",
            "_view_count": null,
            "_view_module": "@jupyter-widgets/base",
            "_view_module_version": "1.2.0",
            "_view_name": "LayoutView",
            "align_content": null,
            "align_items": null,
            "align_self": null,
            "border": null,
            "bottom": null,
            "display": null,
            "flex": null,
            "flex_flow": null,
            "grid_area": null,
            "grid_auto_columns": null,
            "grid_auto_flow": null,
            "grid_auto_rows": null,
            "grid_column": null,
            "grid_gap": null,
            "grid_row": null,
            "grid_template_areas": null,
            "grid_template_columns": null,
            "grid_template_rows": null,
            "height": null,
            "justify_content": null,
            "justify_items": null,
            "left": null,
            "margin": null,
            "max_height": null,
            "max_width": null,
            "min_height": null,
            "min_width": null,
            "object_fit": null,
            "object_position": null,
            "order": null,
            "overflow": null,
            "overflow_x": null,
            "overflow_y": null,
            "padding": null,
            "right": null,
            "top": null,
            "visibility": null,
            "width": null
          }
        },
        "755b81b1082f4ae2889813f8fd9ab17b": {
          "model_module": "@jupyter-widgets/controls",
          "model_name": "DescriptionStyleModel",
          "model_module_version": "1.5.0",
          "state": {
            "_model_module": "@jupyter-widgets/controls",
            "_model_module_version": "1.5.0",
            "_model_name": "DescriptionStyleModel",
            "_view_count": null,
            "_view_module": "@jupyter-widgets/base",
            "_view_module_version": "1.2.0",
            "_view_name": "StyleView",
            "description_width": ""
          }
        }
      }
    }
  },
  "cells": [
    {
      "cell_type": "markdown",
      "metadata": {
        "id": "view-in-github",
        "colab_type": "text"
      },
      "source": [
        "<a href=\"https://colab.research.google.com/github/SophieShin/DeepLearning/blob/main/%5BSSH%5DQuiz_DL1.ipynb\" target=\"_parent\"><img src=\"https://colab.research.google.com/assets/colab-badge.svg\" alt=\"Open In Colab\"/></a>"
      ]
    },
    {
      "cell_type": "markdown",
      "metadata": {
        "id": "D3dotnhNCKsl"
      },
      "source": [
        "# Quiz (Week 11) – 80 marks\n",
        "- Please **create a copy** your own drive and save the file as `<your_initials>-Quiz.ipynb`, e.g. `GN-Quiz.ipynb, RCE-Quiz.ipynb`, etc.\n",
        "- There are TWO parts to this quiz\n",
        "- Please answer all parts and questions\n",
        "- Connect to a hosted runtime with **GPU enabled**\n",
        "- You should provide the output for each code cell\n",
        "- Whatever submitted will be the only accepted solutions. There will be no other reasons or files accepted so make sure the file that you submit by the deadline is the final one\n",
        "- **TIPS**: \n",
        "  - If you are short for time, your training code should show AT LEAST 1 epoch to get credit\n",
        "  - If you want to retrain the model, make sure to create the NN model and optimiser again before running the training loop\n",
        "  - If the training is too slow (more than 10s per iteration) or you get an unusual error that is not related to code (e.g. related to machine), then *Restart runtime* and run each code cell again or *Restart and run all* (this will run all code cells from the top, so use with caution)\n",
        "  - You are recommended to work on Part 2 on a separate Notebook (using only CPU) while waiting for Part 1's training to complete (5 epochs takes around 5 - 6mins)\n"
      ]
    },
    {
      "cell_type": "markdown",
      "source": [
        "# Part 1: Image Classification using FashionMNIST (60 marks)"
      ],
      "metadata": {
        "id": "_kVdGYmINjsR"
      }
    },
    {
      "cell_type": "markdown",
      "metadata": {
        "id": "Gs3mReR06u0P"
      },
      "source": [
        "### Imports, Device configuration and Hyper parameter setting\n",
        "- Run this code cell"
      ]
    },
    {
      "cell_type": "code",
      "metadata": {
        "id": "nQ8bPH1OCM5h",
        "colab": {
          "base_uri": "https://localhost:8080/"
        },
        "outputId": "20ad0473-fbd4-4025-b31c-0e5961d6d5d9"
      },
      "source": [
        "import torch\n",
        "import torch.nn as nn\n",
        "import torch.nn.functional as F\n",
        "import torchvision\n",
        "import torchvision.transforms as transforms\n",
        "\n",
        "import matplotlib.pyplot as plt\n",
        "import numpy as np\n",
        "\n",
        "# 0. Device configuration\n",
        "device = torch.device('cuda' if torch.cuda.is_available() else 'cpu')\n",
        "print(device)\n",
        "\n",
        "# 1. Hyper parameters - DO NOT CHANGE THESE VALUES\n",
        "num_epochs = 5\n",
        "batch_size = 4\n",
        "learning_rate = 0.001\n"
      ],
      "execution_count": 1,
      "outputs": [
        {
          "output_type": "stream",
          "name": "stdout",
          "text": [
            "cuda\n"
          ]
        }
      ]
    },
    {
      "cell_type": "markdown",
      "metadata": {
        "id": "hGOoUMyj71Q5"
      },
      "source": [
        "### Data Download & Inspection (10 marks)\n",
        "- We are going to work with the FashionMNIST dataset\n",
        "- You will load FashionMNIST from PyTorch's preloaded datasets"
      ]
    },
    {
      "cell_type": "code",
      "metadata": {
        "id": "NsZpREu5741V",
        "colab": {
          "base_uri": "https://localhost:8080/",
          "height": 455,
          "referenced_widgets": [
            "29e510dbbe73426db030f90414b17237",
            "11e7aff8ffc44bffb122c034abd6ceac",
            "999c6140b472445f93a00a04ccb68e79",
            "2d9b7adf641a4c2cacb7024612d229f8",
            "fe58067fad464f9bae8851746715aad5",
            "429d7d4499a44cdd94fcb316ca3ced9d",
            "224c5520b14248dd8b5b06eb590774b7",
            "8bac03e7b9c945bcb12e92ba4fce0fda",
            "54f77c72aa804b64aff19bd89b23fb7c",
            "d23a9dc925d447c58deda4c9fc3dbea0",
            "470401eeb48642cb9c79f994a7b8026f",
            "8a75e751003f40e5aa9188f0a976cb33",
            "e91384d3c3094b2ebc52af99eefdd78f",
            "6d07fbdef1c34e7e82e37a882ac8ac26",
            "69381b5a87d847ed9070ca769aab455f",
            "c54269d413dc46588317972735b105d8",
            "8cc82dcc31d74771a6dfe1f306e2fa89",
            "e5f27cf5a066479e991a7a271f6a8cb7",
            "82ae9b108eab49d991a8f0713ce3d655",
            "68b1174303224ad69aa0adeca23d44f6",
            "a7cee239815a4f71a6766a04730a7ccf",
            "25c2068f848646e28a1696fe0ee2165c",
            "4d899900c8ef492292ae3a33f292e417",
            "a4d42aee6ffe4ff8918c45d5dd695637",
            "6c184abeb2c94bd0ba190c150398ff3b",
            "8b559568757544daad5214e0243f1cb5",
            "244a226cd8f048ba99a5ce62f9c10c34",
            "77a7830bd148444582c07bf131732631",
            "2fba35f59a674e998acf2e26cc0e4512",
            "b49c1c72a52d42e1afdf76817353b88c",
            "5992aa9a2eb04644b602a340f8a589d3",
            "0017603189424201916424e1acc0562a",
            "1123e733c53143a18b1b7122b0faf191",
            "2c3edda9103643529f1027936ef07950",
            "6c0cf8a938344c62974c0935611ff097",
            "2a55cbe56e7c475ead24cd2021be3e54",
            "c14aacf41e794b1ba9dd83977118c168",
            "5a55dac615e548baadd5d5c8c2ce01f9",
            "df7bc32fb1c342b89dbafe0f365c5cc0",
            "1d30d30ab0a14947a74e5d1238c1736a",
            "d151a61de9114614bd2dabea10ef6eed",
            "f55e6925107042139b6718df198dd4cd",
            "4ac16055fa0348f78f93cbe6ba9b1c1b",
            "755b81b1082f4ae2889813f8fd9ab17b"
          ]
        },
        "outputId": "bc62f51d-d83d-4975-9b2c-1ce25055876b"
      },
      "source": [
        "# Data loading\n",
        "train_set = torchvision.datasets.FashionMNIST(\"./data\", train=True, download=True, transform=transforms.ToTensor())\n",
        "test_set = torchvision.datasets.FashionMNIST(\"./data\", train=False, download=True, transform=transforms.ToTensor())\n"
      ],
      "execution_count": 2,
      "outputs": [
        {
          "output_type": "stream",
          "name": "stdout",
          "text": [
            "Downloading http://fashion-mnist.s3-website.eu-central-1.amazonaws.com/train-images-idx3-ubyte.gz\n",
            "Downloading http://fashion-mnist.s3-website.eu-central-1.amazonaws.com/train-images-idx3-ubyte.gz to ./data/FashionMNIST/raw/train-images-idx3-ubyte.gz\n"
          ]
        },
        {
          "output_type": "display_data",
          "data": {
            "text/plain": [
              "  0%|          | 0/26421880 [00:00<?, ?it/s]"
            ],
            "application/vnd.jupyter.widget-view+json": {
              "version_major": 2,
              "version_minor": 0,
              "model_id": "29e510dbbe73426db030f90414b17237"
            }
          },
          "metadata": {}
        },
        {
          "output_type": "stream",
          "name": "stdout",
          "text": [
            "Extracting ./data/FashionMNIST/raw/train-images-idx3-ubyte.gz to ./data/FashionMNIST/raw\n",
            "\n",
            "Downloading http://fashion-mnist.s3-website.eu-central-1.amazonaws.com/train-labels-idx1-ubyte.gz\n",
            "Downloading http://fashion-mnist.s3-website.eu-central-1.amazonaws.com/train-labels-idx1-ubyte.gz to ./data/FashionMNIST/raw/train-labels-idx1-ubyte.gz\n"
          ]
        },
        {
          "output_type": "display_data",
          "data": {
            "text/plain": [
              "  0%|          | 0/29515 [00:00<?, ?it/s]"
            ],
            "application/vnd.jupyter.widget-view+json": {
              "version_major": 2,
              "version_minor": 0,
              "model_id": "8a75e751003f40e5aa9188f0a976cb33"
            }
          },
          "metadata": {}
        },
        {
          "output_type": "stream",
          "name": "stdout",
          "text": [
            "Extracting ./data/FashionMNIST/raw/train-labels-idx1-ubyte.gz to ./data/FashionMNIST/raw\n",
            "\n",
            "Downloading http://fashion-mnist.s3-website.eu-central-1.amazonaws.com/t10k-images-idx3-ubyte.gz\n",
            "Downloading http://fashion-mnist.s3-website.eu-central-1.amazonaws.com/t10k-images-idx3-ubyte.gz to ./data/FashionMNIST/raw/t10k-images-idx3-ubyte.gz\n"
          ]
        },
        {
          "output_type": "display_data",
          "data": {
            "text/plain": [
              "  0%|          | 0/4422102 [00:00<?, ?it/s]"
            ],
            "application/vnd.jupyter.widget-view+json": {
              "version_major": 2,
              "version_minor": 0,
              "model_id": "4d899900c8ef492292ae3a33f292e417"
            }
          },
          "metadata": {}
        },
        {
          "output_type": "stream",
          "name": "stdout",
          "text": [
            "Extracting ./data/FashionMNIST/raw/t10k-images-idx3-ubyte.gz to ./data/FashionMNIST/raw\n",
            "\n",
            "Downloading http://fashion-mnist.s3-website.eu-central-1.amazonaws.com/t10k-labels-idx1-ubyte.gz\n",
            "Downloading http://fashion-mnist.s3-website.eu-central-1.amazonaws.com/t10k-labels-idx1-ubyte.gz to ./data/FashionMNIST/raw/t10k-labels-idx1-ubyte.gz\n"
          ]
        },
        {
          "output_type": "display_data",
          "data": {
            "text/plain": [
              "  0%|          | 0/5148 [00:00<?, ?it/s]"
            ],
            "application/vnd.jupyter.widget-view+json": {
              "version_major": 2,
              "version_minor": 0,
              "model_id": "2c3edda9103643529f1027936ef07950"
            }
          },
          "metadata": {}
        },
        {
          "output_type": "stream",
          "name": "stdout",
          "text": [
            "Extracting ./data/FashionMNIST/raw/t10k-labels-idx1-ubyte.gz to ./data/FashionMNIST/raw\n",
            "\n"
          ]
        }
      ]
    },
    {
      "cell_type": "code",
      "metadata": {
        "id": "NdJmcjRJc7cC",
        "colab": {
          "base_uri": "https://localhost:8080/"
        },
        "outputId": "9cefb5a6-1da3-44c2-c8c1-aaf0289d46a8"
      },
      "source": [
        "# Q1. Write code to answer the following questions\n",
        "# a. How many images are in the training set? (1)\n",
        "print(f'There are {len(train_set)} images in training set.')\n",
        "# b. How many images are in the test set? (1)\n",
        "print(f'There are {len(test_set)} images in test set.')\n"
      ],
      "execution_count": 11,
      "outputs": [
        {
          "output_type": "stream",
          "name": "stdout",
          "text": [
            "There are 60000 images in training set.\n",
            "There are 10000 images in test set.\n"
          ]
        }
      ]
    },
    {
      "cell_type": "markdown",
      "metadata": {
        "id": "E9aeLt66g4ul"
      },
      "source": [
        "Inspect the first image's details"
      ]
    },
    {
      "cell_type": "code",
      "metadata": {
        "id": "43O2gpZec4JU",
        "colab": {
          "base_uri": "https://localhost:8080/"
        },
        "outputId": "5f98a2a4-f47f-4b93-a7a7-84ac8fdfdbcc"
      },
      "source": [
        "for image,label in train_set:\n",
        "    print(\"Image shape: \",image.shape)\n",
        "    print(\"Label: \", label)\n",
        "    break\n",
        "\n",
        "\n",
        "classes = train_set.classes\n",
        "print(classes)\n"
      ],
      "execution_count": 12,
      "outputs": [
        {
          "output_type": "stream",
          "name": "stdout",
          "text": [
            "Image shape:  torch.Size([1, 28, 28])\n",
            "Label:  9\n",
            "['T-shirt/top', 'Trouser', 'Pullover', 'Dress', 'Coat', 'Sandal', 'Shirt', 'Sneaker', 'Bag', 'Ankle boot']\n"
          ]
        }
      ]
    },
    {
      "cell_type": "code",
      "metadata": {
        "id": "Vt2yARoqhlUV",
        "colab": {
          "base_uri": "https://localhost:8080/"
        },
        "outputId": "9c97161f-642a-457f-f3b6-8a06bac2a4a7"
      },
      "source": [
        "# Q2. No code required.\n",
        "# a. What does each dimension of the image's shape refer to? (3)\n",
        "print('It means that the images has only 1 channel(black-white), 28, 28 means that the size of each image is 28*28.')\n",
        "\n",
        "# b. What is the numeric class label for an image of class 'Sandal'? (1)\n",
        "print('It is 5.') "
      ],
      "execution_count": 15,
      "outputs": [
        {
          "output_type": "stream",
          "name": "stdout",
          "text": [
            "It means that the images has only 1 channel(black-white), 28, 28 means that the size of each image is 28*28.\n",
            "It is 5.\n"
          ]
        }
      ]
    },
    {
      "cell_type": "markdown",
      "metadata": {
        "id": "O20eEUYvVIOP"
      },
      "source": [
        "### Add Transform & Reload Images"
      ]
    },
    {
      "cell_type": "code",
      "metadata": {
        "id": "YDYE7uCeVKxf"
      },
      "source": [
        "# Q3. The transform should include a tensor transformation and a NORMALIZATION with mean 0.5 and std 0.5 in each channel\n",
        "# Reload the train and test sets with these tranformations (4)\n",
        "\n",
        "transform = transforms.Compose([transforms.ToTensor(),\n",
        "                                transforms.Normalize((0.5,), (0.5,))])\n",
        "\n",
        "train_set = torchvision.datasets.FashionMNIST(\"./data\", train=True, download=True, transform=transform)\n",
        "test_set = torchvision.datasets.FashionMNIST(\"./data\", train=False, download=True, transform=transform)"
      ],
      "execution_count": 16,
      "outputs": []
    },
    {
      "cell_type": "markdown",
      "metadata": {
        "id": "OtjvoakCjp05"
      },
      "source": [
        "### DataLoader & Visualisation (5 marks)"
      ]
    },
    {
      "cell_type": "code",
      "source": [
        "batch_size"
      ],
      "metadata": {
        "colab": {
          "base_uri": "https://localhost:8080/"
        },
        "id": "P5VWy2UXWqFS",
        "outputId": "82baf639-960f-409e-f762-16d47ce60833"
      },
      "execution_count": 17,
      "outputs": [
        {
          "output_type": "execute_result",
          "data": {
            "text/plain": [
              "4"
            ]
          },
          "metadata": {},
          "execution_count": 17
        }
      ]
    },
    {
      "cell_type": "code",
      "metadata": {
        "id": "jjbP5ibpjtHa"
      },
      "source": [
        "# Q4. \n",
        "# a. Use DataLoader class to get batches of batch_size and shuffle the data for training. \n",
        "# Load them into train and test loaders (4)\n",
        "\n",
        "train_loader = torch.utils.data.DataLoader(train_set, batch_size=batch_size, shuffle = True)\n",
        "test_loader = torch.utils.data.DataLoader(test_set, batch_size=batch_size, shuffle = False)"
      ],
      "execution_count": 18,
      "outputs": []
    },
    {
      "cell_type": "markdown",
      "metadata": {
        "id": "DuhDiijV7CNT"
      },
      "source": [
        "### Visualise the images in the batches"
      ]
    },
    {
      "cell_type": "code",
      "metadata": {
        "id": "Zwz0kGvfuL6d",
        "colab": {
          "base_uri": "https://localhost:8080/",
          "height": 279
        },
        "outputId": "0dafd035-6cb5-458a-8378-61a7ab1bf51b"
      },
      "source": [
        "# Load a sample batch using the DataLoader iterator\n",
        "batch = next(iter(train_loader))\n",
        "\n",
        "images, labels = batch\n",
        "\n",
        "# Create and visualise in grid \n",
        "plt.figure(figsize=(12,12))\n",
        "grid = torchvision.utils.make_grid(tensor=images, nrow=4) # nrow = number of images displayed in each row\n",
        "\n",
        "print(f\"class labels: {labels}\")\n",
        "\n",
        "plt.imshow(grid.permute(1,2,0))\n",
        "print(' '.join('\\t\\t{}'.format(classes[labels[j]]) for j in range(batch_size)))"
      ],
      "execution_count": 20,
      "outputs": [
        {
          "output_type": "stream",
          "name": "stderr",
          "text": [
            "Clipping input data to the valid range for imshow with RGB data ([0..1] for floats or [0..255] for integers).\n"
          ]
        },
        {
          "output_type": "stream",
          "name": "stdout",
          "text": [
            "class labels: tensor([5, 0, 7, 3])\n",
            "\t\tSandal \t\tT-shirt/top \t\tSneaker \t\tDress\n"
          ]
        },
        {
          "output_type": "display_data",
          "data": {
            "text/plain": [
              "<Figure size 864x864 with 1 Axes>"
            ],
            "image/png": "[encoded data removed]"
          },
          "metadata": {
            "needs_background": "light"
          }
        }
      ]
    },
    {
      "cell_type": "code",
      "metadata": {
        "id": "9nH6eV7t87wZ",
        "colab": {
          "base_uri": "https://localhost:8080/"
        },
        "outputId": "2dba7df8-1c0f-467c-bd1e-8412550aa6fa"
      },
      "source": [
        "# b. Why do the images look dark and a bit different to what we would expect to see? (1)\n",
        "print('Because it is normalized, so it may look different from the original picture')"
      ],
      "execution_count": 22,
      "outputs": [
        {
          "output_type": "stream",
          "name": "stdout",
          "text": [
            "Because it is normalized, so it may look different from the original picture\n"
          ]
        }
      ]
    },
    {
      "cell_type": "markdown",
      "metadata": {
        "id": "jVMti_g2J-W5"
      },
      "source": [
        "## Define a Neural Network Class (8 marks)\n",
        "- A skeleton of the neural network has been given. \n",
        "- Fill out the MISSING CODE and leave everything else UNCHANGED"
      ]
    },
    {
      "cell_type": "code",
      "source": [
        "train_set[0][0].shape"
      ],
      "metadata": {
        "colab": {
          "base_uri": "https://localhost:8080/"
        },
        "id": "2oQd6MNOW_fw",
        "outputId": "00b00b1f-3fba-47e9-eed8-9dac6626fe67"
      },
      "execution_count": 29,
      "outputs": [
        {
          "output_type": "execute_result",
          "data": {
            "text/plain": [
              "torch.Size([1, 28, 28])"
            ]
          },
          "metadata": {},
          "execution_count": 29
        }
      ]
    },
    {
      "cell_type": "code",
      "source": [
        "conv1 = (28 - 3 + 2) + 1\n",
        "print(f'conv1: {conv1}')\n",
        "conv1_pool = conv1/2\n",
        "print(f'conv1_pool: {conv1_pool}')\n",
        "conv2 = (conv1_pool - 3) + 1\n",
        "print(f'conv2 : {conv2}') \n",
        "conv2_pool = conv2/2\n",
        "print(f'conv2_pool: {conv2_pool}')\n",
        "num_nodes = int(conv2_pool * conv2_pool * 20)\n",
        "print(f'num_nodes: {num_nodes}')"
      ],
      "metadata": {
        "colab": {
          "base_uri": "https://localhost:8080/"
        },
        "id": "aVpTm6VqXWX7",
        "outputId": "d9d591ae-2f82-4125-f847-995312b0f23a"
      },
      "execution_count": 36,
      "outputs": [
        {
          "output_type": "stream",
          "name": "stdout",
          "text": [
            "conv1: 28\n",
            "conv1_pool: 14.0\n",
            "conv2 : 12.0\n",
            "conv2_pool: 6.0\n",
            "num_nodes: 720\n"
          ]
        }
      ]
    },
    {
      "cell_type": "code",
      "metadata": {
        "id": "-1_4tKL4X3WQ"
      },
      "source": [
        "# Q5. Fill out the missing code\n",
        "# Convolved image size = ((input_width - filter_size + 2 * padding) / stride) + 1\n",
        "\n",
        "class NN1(nn.Module):\n",
        "  def __init__(self):\n",
        "    super().__init__()\n",
        "    self.conv1 = nn.Conv2d(1, 10, 3, padding=1)\n",
        "    self.relu = nn.ReLU()\n",
        "    self.pool = nn.MaxPool2d(2, 2)\n",
        "    self.conv2 = nn.Conv2d(10, 20, 3) \n",
        "    self.fc1 = nn.Linear(num_nodes, 128) # a. Determine the first argument here (1) # It is 720\n",
        "    self.fc2 = nn.Linear(128, 64)\n",
        "    self.fc3 = nn.Linear(64,10 ) # b. Determine the number of output units (1) # It has to be the number of classes, which is 10.\n",
        "\n",
        "  def forward(self, x):\n",
        "    out = self.pool(F.relu(self.conv1(x)))\n",
        "    out = self.pool(F.relu(self.conv2(out)))\n",
        "    out = out.view(-1,num_nodes) # c. Determine the second argument here (1)\n",
        "    out = F.relu(self.fc1(out))\n",
        "    out = F.relu(self.fc2(out))\n",
        "    out = self.fc3(out)\n",
        "    return out\n",
        "\n",
        "\n",
        "# Model, Loss and Optimiser instances\n",
        "# d. Create a NN instance model (2)\n",
        "model = NN1().to(device)\n",
        "\n",
        "# e. Define a suitable loss for this dataset (1)\n",
        "criterion = nn.CrossEntropyLoss()\n",
        "\n",
        "# f. Use SGD optimiser from torch.optim. For now, ONLY supply the model parameters that it will optimise \n",
        "# and the learning rate (2)\n",
        "import torch.optim as optim\n",
        "\n",
        "opt = optim.SGD(model.parameters(), lr = learning_rate)"
      ],
      "execution_count": 40,
      "outputs": []
    },
    {
      "cell_type": "markdown",
      "metadata": {
        "id": "Zlg2FFaJKppP"
      },
      "source": [
        "## Training loop (10 marks)\n",
        "- Create a training loop that will train over num_epochs times by loading one batch at a time\n",
        "- Fill out the code for the backward pass\n",
        "- You are recommended to look at the model improvement (Q9) or Part 2 while waiting for training to complete"
      ]
    },
    {
      "cell_type": "code",
      "metadata": {
        "id": "e15E85ZQKr1R",
        "colab": {
          "base_uri": "https://localhost:8080/"
        },
        "outputId": "30fd66a4-27f4-40b0-81ab-20f9ec3db301"
      },
      "source": [
        "# Q6. Fill in the MISSING CODE and ensure that this code cell is run until training completes\n",
        "n_total_steps = len(train_set)\n",
        "n_iterations = -(-n_total_steps // batch_size) # ceiling division\n",
        "\n",
        "for epoch in range(num_epochs):\n",
        "  print(\"\\n\")\n",
        "  for i, (images, labels) in enumerate(train_loader):\n",
        "    images = images.to(device)\n",
        "    labels = labels.to(device)\n",
        "\n",
        "    # a. Forward pass (2)\n",
        "    outputs = model(images)\n",
        "    loss = criterion(outputs, labels)\n",
        "\n",
        "    # b. Backward pass (3)\n",
        "    opt.zero_grad()\n",
        "    loss.backward()\n",
        "    opt.step()\n",
        "    \n",
        "    # Print\n",
        "    if (i+1) % 1000 == 0:\n",
        "      print(f'Epoch {epoch+1}/{num_epochs}, Iteration {i+1}/{n_iterations}, Loss={loss.item():.4f} ')\n",
        "\n",
        "# c. Full training completion (5 marks) NO CODE REQUIRED HERE"
      ],
      "execution_count": 85,
      "outputs": [
        {
          "output_type": "stream",
          "name": "stdout",
          "text": [
            "\n",
            "\n",
            "Epoch 1/5, Iteration 1000/15000, Loss=0.7988 \n",
            "Epoch 1/5, Iteration 2000/15000, Loss=0.3200 \n",
            "Epoch 1/5, Iteration 3000/15000, Loss=0.3783 \n",
            "Epoch 1/5, Iteration 4000/15000, Loss=0.5690 \n",
            "Epoch 1/5, Iteration 5000/15000, Loss=0.7036 \n",
            "Epoch 1/5, Iteration 6000/15000, Loss=0.0513 \n",
            "Epoch 1/5, Iteration 7000/15000, Loss=0.2222 \n",
            "Epoch 1/5, Iteration 8000/15000, Loss=0.2202 \n",
            "Epoch 1/5, Iteration 9000/15000, Loss=0.3487 \n",
            "Epoch 1/5, Iteration 10000/15000, Loss=0.0171 \n",
            "Epoch 1/5, Iteration 11000/15000, Loss=1.9025 \n",
            "Epoch 1/5, Iteration 12000/15000, Loss=0.6904 \n",
            "Epoch 1/5, Iteration 13000/15000, Loss=0.5106 \n",
            "Epoch 1/5, Iteration 14000/15000, Loss=1.5588 \n",
            "Epoch 1/5, Iteration 15000/15000, Loss=0.2464 \n",
            "\n",
            "\n",
            "Epoch 2/5, Iteration 1000/15000, Loss=0.0641 \n",
            "Epoch 2/5, Iteration 2000/15000, Loss=0.2830 \n",
            "Epoch 2/5, Iteration 3000/15000, Loss=0.1485 \n",
            "Epoch 2/5, Iteration 4000/15000, Loss=0.2246 \n",
            "Epoch 2/5, Iteration 5000/15000, Loss=0.6862 \n",
            "Epoch 2/5, Iteration 6000/15000, Loss=0.6148 \n",
            "Epoch 2/5, Iteration 7000/15000, Loss=0.7618 \n",
            "Epoch 2/5, Iteration 8000/15000, Loss=0.4523 \n",
            "Epoch 2/5, Iteration 9000/15000, Loss=0.2427 \n",
            "Epoch 2/5, Iteration 10000/15000, Loss=0.0134 \n",
            "Epoch 2/5, Iteration 11000/15000, Loss=0.5010 \n",
            "Epoch 2/5, Iteration 12000/15000, Loss=0.0061 \n",
            "Epoch 2/5, Iteration 13000/15000, Loss=0.7743 \n",
            "Epoch 2/5, Iteration 14000/15000, Loss=0.0550 \n",
            "Epoch 2/5, Iteration 15000/15000, Loss=0.6880 \n",
            "\n",
            "\n",
            "Epoch 3/5, Iteration 1000/15000, Loss=0.0073 \n",
            "Epoch 3/5, Iteration 2000/15000, Loss=0.0127 \n",
            "Epoch 3/5, Iteration 3000/15000, Loss=0.7154 \n",
            "Epoch 3/5, Iteration 4000/15000, Loss=0.2779 \n",
            "Epoch 3/5, Iteration 5000/15000, Loss=0.1649 \n",
            "Epoch 3/5, Iteration 6000/15000, Loss=0.4272 \n",
            "Epoch 3/5, Iteration 7000/15000, Loss=0.0024 \n",
            "Epoch 3/5, Iteration 8000/15000, Loss=0.0175 \n",
            "Epoch 3/5, Iteration 9000/15000, Loss=0.0123 \n",
            "Epoch 3/5, Iteration 10000/15000, Loss=0.0862 \n",
            "Epoch 3/5, Iteration 11000/15000, Loss=0.0006 \n",
            "Epoch 3/5, Iteration 12000/15000, Loss=1.6101 \n",
            "Epoch 3/5, Iteration 13000/15000, Loss=0.3304 \n",
            "Epoch 3/5, Iteration 14000/15000, Loss=0.2030 \n",
            "Epoch 3/5, Iteration 15000/15000, Loss=0.1665 \n",
            "\n",
            "\n",
            "Epoch 4/5, Iteration 1000/15000, Loss=0.2371 \n",
            "Epoch 4/5, Iteration 2000/15000, Loss=0.4526 \n",
            "Epoch 4/5, Iteration 3000/15000, Loss=0.0583 \n",
            "Epoch 4/5, Iteration 4000/15000, Loss=0.1593 \n",
            "Epoch 4/5, Iteration 5000/15000, Loss=0.0463 \n",
            "Epoch 4/5, Iteration 6000/15000, Loss=0.0417 \n",
            "Epoch 4/5, Iteration 7000/15000, Loss=0.0111 \n",
            "Epoch 4/5, Iteration 8000/15000, Loss=0.0072 \n",
            "Epoch 4/5, Iteration 9000/15000, Loss=0.3594 \n",
            "Epoch 4/5, Iteration 10000/15000, Loss=0.4406 \n",
            "Epoch 4/5, Iteration 11000/15000, Loss=0.0278 \n",
            "Epoch 4/5, Iteration 12000/15000, Loss=0.6957 \n",
            "Epoch 4/5, Iteration 13000/15000, Loss=0.6146 \n",
            "Epoch 4/5, Iteration 14000/15000, Loss=0.0775 \n",
            "Epoch 4/5, Iteration 15000/15000, Loss=0.2060 \n",
            "\n",
            "\n",
            "Epoch 5/5, Iteration 1000/15000, Loss=0.2065 \n",
            "Epoch 5/5, Iteration 2000/15000, Loss=0.6367 \n",
            "Epoch 5/5, Iteration 3000/15000, Loss=0.1050 \n",
            "Epoch 5/5, Iteration 4000/15000, Loss=0.0242 \n",
            "Epoch 5/5, Iteration 5000/15000, Loss=0.0827 \n",
            "Epoch 5/5, Iteration 6000/15000, Loss=0.0180 \n",
            "Epoch 5/5, Iteration 7000/15000, Loss=1.0600 \n",
            "Epoch 5/5, Iteration 8000/15000, Loss=0.2581 \n",
            "Epoch 5/5, Iteration 9000/15000, Loss=0.3641 \n",
            "Epoch 5/5, Iteration 10000/15000, Loss=0.8440 \n",
            "Epoch 5/5, Iteration 11000/15000, Loss=0.5911 \n",
            "Epoch 5/5, Iteration 12000/15000, Loss=0.4081 \n",
            "Epoch 5/5, Iteration 13000/15000, Loss=0.1177 \n",
            "Epoch 5/5, Iteration 14000/15000, Loss=0.2356 \n",
            "Epoch 5/5, Iteration 15000/15000, Loss=0.0130 \n"
          ]
        }
      ]
    },
    {
      "cell_type": "markdown",
      "metadata": {
        "id": "HahXHRsSMo6H"
      },
      "source": [
        "## Evaluation (5 marks)\n",
        "- This function calculates the accuracy of a model over a data set from a data loader\n",
        "- It prints the accuracy of the model over the whole dataset and over individual classes\n",
        "- You may call this function to determine the train and test set accuracies"
      ]
    },
    {
      "cell_type": "code",
      "metadata": {
        "id": "nLROSFGmCaFV"
      },
      "source": [
        "# Run this code cell\n",
        "def get_accuracy(model, data_loader):\n",
        "  with torch.no_grad():\n",
        "    n_correct = 0\n",
        "    n_samples = 0\n",
        "    n_class_correct = [0 for i in range(len(train_set.classes))]\n",
        "    n_class_samples = [0 for i in range(len(train_set.classes))]\n",
        "\n",
        "    model.eval()\n",
        "    # Loop through test set\n",
        "    for images, labels in data_loader:\n",
        "      images = images.to(device)\n",
        "      labels = labels.to(device)\n",
        "      # Run on trained model\n",
        "      outputs = model(images) \n",
        "\n",
        "      # Get predictions\n",
        "      _, y_preds = torch.max(outputs, 1)\n",
        "      n_samples += labels.size(0) # different to FFNN\n",
        "      n_correct += (y_preds == labels).sum().item()\n",
        "\n",
        "      # Keep track of each class\n",
        "      for i in range(batch_size):\n",
        "        label = labels[i]\n",
        "        pred = y_preds[i]\n",
        "        if (label == pred):\n",
        "          n_class_correct[label] += 1\n",
        "        n_class_samples[label] += 1\n",
        "\n",
        "    # Print accuracy\n",
        "    acc = 100.0 * n_correct / n_samples\n",
        "    print(f'Accuracy of the WHOLE CNN = {acc:.3f} %')\n",
        "\n",
        "    for i in range(len(classes)):\n",
        "      acc = 100.0 * n_class_correct[i] / n_class_samples[i]\n",
        "      print(f'Accuracy of {classes[i]}: {acc:.3f} %')"
      ],
      "execution_count": 47,
      "outputs": []
    },
    {
      "cell_type": "code",
      "source": [
        "# Q7. Determine the accuracy of the train set (~10s) (2.5)\n",
        "with torch.no_grad():\n",
        "  n_correct = 0\n",
        "  n_samples = 0\n",
        "  n_class_correct = [0 for i in range(10)]\n",
        "  n_class_samples = [0 for i in range(10)]\n",
        "\n",
        "\n",
        "  for images, labels in train_loader:\n",
        "    images = images.to(device)\n",
        "    labels = labels.to(device)\n",
        "    outputs = model(images) \n",
        "\n",
        "    _, y_preds = torch.max(outputs, 1)\n",
        "    n_samples += labels.size(0) \n",
        "    n_correct += (y_preds == labels).sum().item()\n",
        "\n",
        "    for i in range(batch_size):\n",
        "      label = labels[i]\n",
        "      pred = y_preds[i]\n",
        "      if (label == pred):\n",
        "        n_class_correct[label] += 1\n",
        "      n_class_samples[label] += 1\n",
        "\n",
        "  acc = 100.0 * n_correct / n_samples\n",
        "  print(f'Test Accuracy of the WHOLE CNN = {acc} %')\n",
        "\n",
        "  for i in range(len(classes)):\n",
        "    acc = 100.0 * n_class_correct[i] / n_class_samples[i]\n",
        "    print(f'Accuracy of {classes[i]}: {acc} %')\n"
      ],
      "metadata": {
        "colab": {
          "base_uri": "https://localhost:8080/"
        },
        "id": "SfnXRCFlifxi",
        "outputId": "6671b663-0c49-4e93-d0da-f1c76a608d65"
      },
      "execution_count": 88,
      "outputs": [
        {
          "output_type": "stream",
          "name": "stdout",
          "text": [
            "Test Accuracy of the WHOLE CNN = 11.528333333333334 %\n",
            "Accuracy of T-shirt/top: 0.0 %\n",
            "Accuracy of Trouser: 95.81666666666666 %\n",
            "Accuracy of Pullover: 0.0 %\n",
            "Accuracy of Dress: 0.0 %\n",
            "Accuracy of Coat: 0.0 %\n",
            "Accuracy of Sandal: 0.0 %\n",
            "Accuracy of Shirt: 0.0 %\n",
            "Accuracy of Sneaker: 19.466666666666665 %\n",
            "Accuracy of Bag: 0.0 %\n",
            "Accuracy of Ankle boot: 0.0 %\n"
          ]
        }
      ]
    },
    {
      "cell_type": "code",
      "metadata": {
        "id": "3sZhxp5AU-5m",
        "colab": {
          "base_uri": "https://localhost:8080/"
        },
        "outputId": "59fb68a5-c4bc-418e-c768-93f9f89738c2"
      },
      "source": [
        "# Q8. Determine the accuracy of the test set (~10s) (2.5)\n",
        "with torch.no_grad():\n",
        "  n_correct = 0\n",
        "  n_samples = 0\n",
        "  n_class_correct = [0 for i in range(10)]\n",
        "  n_class_samples = [0 for i in range(10)]\n",
        "\n",
        "\n",
        "  for images, labels in test_loader:\n",
        "    images = images.to(device)\n",
        "    labels = labels.to(device)\n",
        "    outputs = model(images) \n",
        "\n",
        "    _, y_preds = torch.max(outputs, 1)\n",
        "    n_samples += labels.size(0) \n",
        "    n_correct += (y_preds == labels).sum().item()\n",
        "\n",
        "    for i in range(batch_size):\n",
        "      label = labels[i]\n",
        "      pred = y_preds[i]\n",
        "      if (label == pred):\n",
        "        n_class_correct[label] += 1\n",
        "      n_class_samples[label] += 1\n",
        "\n",
        "  acc = 100.0 * n_correct / n_samples\n",
        "  print(f'Test Accuracy of the WHOLE CNN = {acc} %')\n",
        "\n",
        "  for i in range(len(classes)):\n",
        "    acc = 100.0 * n_class_correct[i] / n_class_samples[i]\n",
        "    print(f'Accuracy of {classes[i]}: {acc} %')\n"
      ],
      "execution_count": 87,
      "outputs": [
        {
          "output_type": "stream",
          "name": "stdout",
          "text": [
            "Test Accuracy of the WHOLE CNN = 11.82 %\n",
            "Accuracy of T-shirt/top: 0.0 %\n",
            "Accuracy of Trouser: 96.4 %\n",
            "Accuracy of Pullover: 0.0 %\n",
            "Accuracy of Dress: 0.0 %\n",
            "Accuracy of Coat: 0.0 %\n",
            "Accuracy of Sandal: 0.0 %\n",
            "Accuracy of Shirt: 0.0 %\n",
            "Accuracy of Sneaker: 21.8 %\n",
            "Accuracy of Bag: 0.0 %\n",
            "Accuracy of Ankle boot: 0.0 %\n"
          ]
        }
      ]
    },
    {
      "cell_type": "markdown",
      "metadata": {
        "id": "PN28A8WeC3Gr"
      },
      "source": [
        "## Model Improvement\n",
        "- The model should have pretty high accuracy overall (over 80%), but note that the class \"Shirt\" has quite low accuracy on both train and test sets\n",
        "- Introduce the following **improvements** to your model:\n",
        "  - Add `weight decay 0.001` and `momentum 0.9`\n",
        "  - Increase the number of units one or more of the convolution layers (each conv layer should **not have more than 25 units**)\n",
        "  - Add `batchnorm` layer to AT LEAST ONE of the convolutional and at least one of the linear layers and a `dropout of 0.4` to ONE of the layers\n",
        "- Your improved model should have **training accuracy of at least 90%** and the accuracy for class **\"Shirt\" should be AT LEAST 70%** for BOTH training and test sets **within 5 epochs**\n",
        "- You MUST have two separate runs, one for `model` (above) and one for `model2` (below)\n",
        "- **IMPORTANT!** \n",
        "  - Due to time limit you are strongly advised to follow the recommendations above. \n",
        "  - However, if you have other options for model improvement (except for increasing `num_epochs`), you may do so, e.g. adding convolutions, changing learning rate, etc. You will not be given extra time if your training is going to take too long with your changes.\n",
        "  - You MUST, however, have at least ONE 2-D CONV layer in your network. "
      ]
    },
    {
      "cell_type": "markdown",
      "metadata": {
        "id": "i8PMTlnvKZpm"
      },
      "source": [
        "### Improve NN Model Architecture (12 marks)\n",
        "- Fill out your changes to the NN to the new class `NN2`\n",
        "- The skeleton from Part 1 is given below. Modify it as you see fit"
      ]
    },
    {
      "cell_type": "code",
      "source": [
        "# Convolved image size = ((input_width - filter_size + 2 * padding) / stride) + 1\n",
        "conv1 = (28 - 3 + 2) + 1\n",
        "print(f'conv1: {conv1}')\n",
        "conv1_pool = conv1/2\n",
        "print(f'conv1_pool: {conv1_pool}')\n",
        "conv2 = (conv1_pool - 3) + 1\n",
        "print(f'conv2 : {conv2}') \n",
        "conv2_pool = conv2/2\n",
        "print(f'conv2_pool: {conv2_pool}')\n",
        "num_nodes = int(conv2_pool * conv2_pool * 20)\n",
        "print(f'num_nodes: {num_nodes}')"
      ],
      "metadata": {
        "colab": {
          "base_uri": "https://localhost:8080/"
        },
        "id": "axOsYqvGdqdA",
        "outputId": "4c6035f9-a1b1-4685-80ab-6c74cd8d3e95"
      },
      "execution_count": 61,
      "outputs": [
        {
          "output_type": "stream",
          "name": "stdout",
          "text": [
            "conv1: 28\n",
            "conv1_pool: 14.0\n",
            "conv2 : 12.0\n",
            "conv2_pool: 6.0\n",
            "num_nodes: 720\n"
          ]
        }
      ]
    },
    {
      "cell_type": "code",
      "source": [
        "6-3+2 +1"
      ],
      "metadata": {
        "colab": {
          "base_uri": "https://localhost:8080/"
        },
        "id": "sT5sQ84wd2pv",
        "outputId": "3517fa02-77a9-43ee-aac1-aefdc92cabdf"
      },
      "execution_count": 62,
      "outputs": [
        {
          "output_type": "execute_result",
          "data": {
            "text/plain": [
              "6"
            ]
          },
          "metadata": {},
          "execution_count": 62
        }
      ]
    },
    {
      "cell_type": "code",
      "source": [
        "6*6*40"
      ],
      "metadata": {
        "colab": {
          "base_uri": "https://localhost:8080/"
        },
        "id": "VWZniPlVeCim",
        "outputId": "fcb49f93-fcfc-4b61-b268-54ef2ee924f8"
      },
      "execution_count": 63,
      "outputs": [
        {
          "output_type": "execute_result",
          "data": {
            "text/plain": [
              "1440"
            ]
          },
          "metadata": {},
          "execution_count": 63
        }
      ]
    },
    {
      "cell_type": "code",
      "metadata": {
        "id": "QiOmK6ld-egG"
      },
      "source": [
        "### I.NN (Neural network improvement) \n",
        "# Q9 a. (8)\n",
        "\n",
        "class NN2(nn.Module):\n",
        "  def __init__(self):\n",
        "    super().__init__()\n",
        "    self.conv1 = nn.Conv2d(1, 10, 3, padding=1)\n",
        "    self.bn_conv = nn.BatchNorm2d(num_features = 10)\n",
        "    self.relu = nn.ReLU()\n",
        "    self.pool = nn.MaxPool2d(2, 2)\n",
        "    self.conv2 = nn.Conv2d(10, 20, 3) \n",
        "    self.conv3 = nn.Conv2d(20, 40, 3, padding = 1)\n",
        "    self.fc1 = nn.Linear(1440, 128) \n",
        "    self.bn1 = nn.BatchNorm1d(num_features=128)\n",
        "    self.fc2 = nn.Linear(128, 64)\n",
        "    self.bn2 = nn.BatchNorm1d(num_features=64)\n",
        "    self.fc3 = nn.Linear(64,32)\n",
        "    self.bn3 = nn.BatchNorm1d(num_features=32)\n",
        "    self.fc4 = nn.Linear(32,10) \n",
        "    self.dropout = nn.Dropout(0.4)\n",
        "\n",
        "  def forward(self, x):\n",
        "    out = self.dropout(self.pool(F.relu(self.bn_conv(self.conv1(x)))))\n",
        "    out = self.dropout(self.pool(F.relu(self.conv2(out))))\n",
        "    out = self.dropout(self.pool(F.relu(self.conv3(out))))\n",
        "    out = out.view(-1,1440) \n",
        "    out = F.relu(self.bn1(self.fc1(out)))\n",
        "    out = F.relu(self.bn2(self.fc2(out)))\n",
        "    out = F.relu(self.bn3(self.fc3(out)))\n",
        "    out = self.fc4(out)\n",
        "    return out\n",
        "\n",
        "\n",
        "# b. Create a NN instance, called model2 (1)\n",
        "model2 = NN2().to(device)\n",
        "\n",
        "# c. Define a suitable loss for this dataset (1)\n",
        "criterion = nn.CrossEntropyLoss()\n",
        "\n",
        "opt = optim.SGD(model.parameters(), lr = learning_rate, weight_decay = 0.001, momentum = 0.9)\n"
      ],
      "execution_count": 91,
      "outputs": []
    },
    {
      "cell_type": "markdown",
      "metadata": {
        "id": "cnSeWTq3KTEb"
      },
      "source": [
        "### Train the improved model (5 marks)\n",
        "- modify any changes to the training loop below"
      ]
    },
    {
      "cell_type": "code",
      "source": [
        "batch_size"
      ],
      "metadata": {
        "colab": {
          "base_uri": "https://localhost:8080/"
        },
        "id": "YESoE4lTjygv",
        "outputId": "bba5938c-d1b4-4bac-8933-3720b68a28a8"
      },
      "execution_count": 93,
      "outputs": [
        {
          "output_type": "execute_result",
          "data": {
            "text/plain": [
              "4"
            ]
          },
          "metadata": {},
          "execution_count": 93
        }
      ]
    },
    {
      "cell_type": "code",
      "metadata": {
        "id": "tR5-mGhM_Gx-",
        "colab": {
          "base_uri": "https://localhost:8080/",
          "height": 432
        },
        "outputId": "fa5a2ee6-ba31-4dba-8558-e28caf40e825"
      },
      "source": [
        "### I.Train\n",
        "# Q10. (5)\n",
        "num_epochs = 10\n",
        "n_total_steps = len(train_set)\n",
        "n_iterations = -(-n_total_steps // batch_size) # ceiling division\n",
        "\n",
        "for epoch in range(num_epochs):\n",
        "  print(\"\\n\")\n",
        "  for i, (images, labels) in enumerate(train_loader):\n",
        "    images = images.to(device)\n",
        "    labels = labels.to(device)\n",
        "\n",
        "    # a. Forward pass\n",
        "    outputs = model2(images)\n",
        "    loss = criterion(outputs, labels)\n",
        "\n",
        "    # b. Backward pass\n",
        "    opt.zero_grad()\n",
        "    loss.backward()\n",
        "    opt.step()\n",
        "    \n",
        "\n",
        "    # Print\n",
        "    if (i+1) % 1000 == 0:\n",
        "      print(f'Epoch {epoch+1}/{num_epochs}, Iteration {i+1}/{n_iterations}, Loss={loss.item():.4f} ')\n"
      ],
      "execution_count": 92,
      "outputs": [
        {
          "output_type": "stream",
          "name": "stdout",
          "text": [
            "\n",
            "\n"
          ]
        },
        {
          "output_type": "error",
          "ename": "ValueError",
          "evalue": "ignored",
          "traceback": [
            "\u001b[0;31m---------------------------------------------------------------------------\u001b[0m",
            "\u001b[0;31mValueError\u001b[0m                                Traceback (most recent call last)",
            "\u001b[0;32m<ipython-input-92-452180469299>\u001b[0m in \u001b[0;36m<module>\u001b[0;34m()\u001b[0m\n\u001b[1;32m     12\u001b[0m \u001b[0;34m\u001b[0m\u001b[0m\n\u001b[1;32m     13\u001b[0m     \u001b[0;31m# a. Forward pass\u001b[0m\u001b[0;34m\u001b[0m\u001b[0;34m\u001b[0m\u001b[0;34m\u001b[0m\u001b[0m\n\u001b[0;32m---> 14\u001b[0;31m     \u001b[0moutputs\u001b[0m \u001b[0;34m=\u001b[0m \u001b[0mmodel2\u001b[0m\u001b[0;34m(\u001b[0m\u001b[0mimages\u001b[0m\u001b[0;34m)\u001b[0m\u001b[0;34m\u001b[0m\u001b[0;34m\u001b[0m\u001b[0m\n\u001b[0m\u001b[1;32m     15\u001b[0m     \u001b[0mloss\u001b[0m \u001b[0;34m=\u001b[0m \u001b[0mcriterion\u001b[0m\u001b[0;34m(\u001b[0m\u001b[0moutputs\u001b[0m\u001b[0;34m,\u001b[0m \u001b[0mlabels\u001b[0m\u001b[0;34m)\u001b[0m\u001b[0;34m\u001b[0m\u001b[0;34m\u001b[0m\u001b[0m\n\u001b[1;32m     16\u001b[0m \u001b[0;34m\u001b[0m\u001b[0m\n",
            "\u001b[0;32m/usr/local/lib/python3.7/dist-packages/torch/nn/modules/module.py\u001b[0m in \u001b[0;36m_call_impl\u001b[0;34m(self, *input, **kwargs)\u001b[0m\n\u001b[1;32m   1108\u001b[0m         if not (self._backward_hooks or self._forward_hooks or self._forward_pre_hooks or _global_backward_hooks\n\u001b[1;32m   1109\u001b[0m                 or _global_forward_hooks or _global_forward_pre_hooks):\n\u001b[0;32m-> 1110\u001b[0;31m             \u001b[0;32mreturn\u001b[0m \u001b[0mforward_call\u001b[0m\u001b[0;34m(\u001b[0m\u001b[0;34m*\u001b[0m\u001b[0minput\u001b[0m\u001b[0;34m,\u001b[0m \u001b[0;34m**\u001b[0m\u001b[0mkwargs\u001b[0m\u001b[0;34m)\u001b[0m\u001b[0;34m\u001b[0m\u001b[0;34m\u001b[0m\u001b[0m\n\u001b[0m\u001b[1;32m   1111\u001b[0m         \u001b[0;31m# Do not call functions when jit is used\u001b[0m\u001b[0;34m\u001b[0m\u001b[0;34m\u001b[0m\u001b[0;34m\u001b[0m\u001b[0m\n\u001b[1;32m   1112\u001b[0m         \u001b[0mfull_backward_hooks\u001b[0m\u001b[0;34m,\u001b[0m \u001b[0mnon_full_backward_hooks\u001b[0m \u001b[0;34m=\u001b[0m \u001b[0;34m[\u001b[0m\u001b[0;34m]\u001b[0m\u001b[0;34m,\u001b[0m \u001b[0;34m[\u001b[0m\u001b[0;34m]\u001b[0m\u001b[0;34m\u001b[0m\u001b[0;34m\u001b[0m\u001b[0m\n",
            "\u001b[0;32m<ipython-input-91-45d6fc744cc6>\u001b[0m in \u001b[0;36mforward\u001b[0;34m(self, x)\u001b[0m\n\u001b[1;32m     25\u001b[0m     \u001b[0mout\u001b[0m \u001b[0;34m=\u001b[0m \u001b[0mself\u001b[0m\u001b[0;34m.\u001b[0m\u001b[0mdropout\u001b[0m\u001b[0;34m(\u001b[0m\u001b[0mself\u001b[0m\u001b[0;34m.\u001b[0m\u001b[0mpool\u001b[0m\u001b[0;34m(\u001b[0m\u001b[0mF\u001b[0m\u001b[0;34m.\u001b[0m\u001b[0mrelu\u001b[0m\u001b[0;34m(\u001b[0m\u001b[0mself\u001b[0m\u001b[0;34m.\u001b[0m\u001b[0mconv3\u001b[0m\u001b[0;34m(\u001b[0m\u001b[0mout\u001b[0m\u001b[0;34m)\u001b[0m\u001b[0;34m)\u001b[0m\u001b[0;34m)\u001b[0m\u001b[0;34m)\u001b[0m\u001b[0;34m\u001b[0m\u001b[0;34m\u001b[0m\u001b[0m\n\u001b[1;32m     26\u001b[0m     \u001b[0mout\u001b[0m \u001b[0;34m=\u001b[0m \u001b[0mout\u001b[0m\u001b[0;34m.\u001b[0m\u001b[0mview\u001b[0m\u001b[0;34m(\u001b[0m\u001b[0;34m-\u001b[0m\u001b[0;36m1\u001b[0m\u001b[0;34m,\u001b[0m\u001b[0;36m1440\u001b[0m\u001b[0;34m)\u001b[0m\u001b[0;34m\u001b[0m\u001b[0;34m\u001b[0m\u001b[0m\n\u001b[0;32m---> 27\u001b[0;31m     \u001b[0mout\u001b[0m \u001b[0;34m=\u001b[0m \u001b[0mF\u001b[0m\u001b[0;34m.\u001b[0m\u001b[0mrelu\u001b[0m\u001b[0;34m(\u001b[0m\u001b[0mself\u001b[0m\u001b[0;34m.\u001b[0m\u001b[0mbn1\u001b[0m\u001b[0;34m(\u001b[0m\u001b[0mself\u001b[0m\u001b[0;34m.\u001b[0m\u001b[0mfc1\u001b[0m\u001b[0;34m(\u001b[0m\u001b[0mout\u001b[0m\u001b[0;34m)\u001b[0m\u001b[0;34m)\u001b[0m\u001b[0;34m)\u001b[0m\u001b[0;34m\u001b[0m\u001b[0;34m\u001b[0m\u001b[0m\n\u001b[0m\u001b[1;32m     28\u001b[0m     \u001b[0mout\u001b[0m \u001b[0;34m=\u001b[0m \u001b[0mF\u001b[0m\u001b[0;34m.\u001b[0m\u001b[0mrelu\u001b[0m\u001b[0;34m(\u001b[0m\u001b[0mself\u001b[0m\u001b[0;34m.\u001b[0m\u001b[0mbn2\u001b[0m\u001b[0;34m(\u001b[0m\u001b[0mself\u001b[0m\u001b[0;34m.\u001b[0m\u001b[0mfc2\u001b[0m\u001b[0;34m(\u001b[0m\u001b[0mout\u001b[0m\u001b[0;34m)\u001b[0m\u001b[0;34m)\u001b[0m\u001b[0;34m)\u001b[0m\u001b[0;34m\u001b[0m\u001b[0;34m\u001b[0m\u001b[0m\n\u001b[1;32m     29\u001b[0m     \u001b[0mout\u001b[0m \u001b[0;34m=\u001b[0m \u001b[0mF\u001b[0m\u001b[0;34m.\u001b[0m\u001b[0mrelu\u001b[0m\u001b[0;34m(\u001b[0m\u001b[0mself\u001b[0m\u001b[0;34m.\u001b[0m\u001b[0mbn3\u001b[0m\u001b[0;34m(\u001b[0m\u001b[0mself\u001b[0m\u001b[0;34m.\u001b[0m\u001b[0mfc3\u001b[0m\u001b[0;34m(\u001b[0m\u001b[0mout\u001b[0m\u001b[0;34m)\u001b[0m\u001b[0;34m)\u001b[0m\u001b[0;34m)\u001b[0m\u001b[0;34m\u001b[0m\u001b[0;34m\u001b[0m\u001b[0m\n",
            "\u001b[0;32m/usr/local/lib/python3.7/dist-packages/torch/nn/modules/module.py\u001b[0m in \u001b[0;36m_call_impl\u001b[0;34m(self, *input, **kwargs)\u001b[0m\n\u001b[1;32m   1108\u001b[0m         if not (self._backward_hooks or self._forward_hooks or self._forward_pre_hooks or _global_backward_hooks\n\u001b[1;32m   1109\u001b[0m                 or _global_forward_hooks or _global_forward_pre_hooks):\n\u001b[0;32m-> 1110\u001b[0;31m             \u001b[0;32mreturn\u001b[0m \u001b[0mforward_call\u001b[0m\u001b[0;34m(\u001b[0m\u001b[0;34m*\u001b[0m\u001b[0minput\u001b[0m\u001b[0;34m,\u001b[0m \u001b[0;34m**\u001b[0m\u001b[0mkwargs\u001b[0m\u001b[0;34m)\u001b[0m\u001b[0;34m\u001b[0m\u001b[0;34m\u001b[0m\u001b[0m\n\u001b[0m\u001b[1;32m   1111\u001b[0m         \u001b[0;31m# Do not call functions when jit is used\u001b[0m\u001b[0;34m\u001b[0m\u001b[0;34m\u001b[0m\u001b[0;34m\u001b[0m\u001b[0m\n\u001b[1;32m   1112\u001b[0m         \u001b[0mfull_backward_hooks\u001b[0m\u001b[0;34m,\u001b[0m \u001b[0mnon_full_backward_hooks\u001b[0m \u001b[0;34m=\u001b[0m \u001b[0;34m[\u001b[0m\u001b[0;34m]\u001b[0m\u001b[0;34m,\u001b[0m \u001b[0;34m[\u001b[0m\u001b[0;34m]\u001b[0m\u001b[0;34m\u001b[0m\u001b[0;34m\u001b[0m\u001b[0m\n",
            "\u001b[0;32m/usr/local/lib/python3.7/dist-packages/torch/nn/modules/batchnorm.py\u001b[0m in \u001b[0;36mforward\u001b[0;34m(self, input)\u001b[0m\n\u001b[1;32m    177\u001b[0m             \u001b[0mbn_training\u001b[0m\u001b[0;34m,\u001b[0m\u001b[0;34m\u001b[0m\u001b[0;34m\u001b[0m\u001b[0m\n\u001b[1;32m    178\u001b[0m             \u001b[0mexponential_average_factor\u001b[0m\u001b[0;34m,\u001b[0m\u001b[0;34m\u001b[0m\u001b[0;34m\u001b[0m\u001b[0m\n\u001b[0;32m--> 179\u001b[0;31m             \u001b[0mself\u001b[0m\u001b[0;34m.\u001b[0m\u001b[0meps\u001b[0m\u001b[0;34m,\u001b[0m\u001b[0;34m\u001b[0m\u001b[0;34m\u001b[0m\u001b[0m\n\u001b[0m\u001b[1;32m    180\u001b[0m         )\n\u001b[1;32m    181\u001b[0m \u001b[0;34m\u001b[0m\u001b[0m\n",
            "\u001b[0;32m/usr/local/lib/python3.7/dist-packages/torch/nn/functional.py\u001b[0m in \u001b[0;36mbatch_norm\u001b[0;34m(input, running_mean, running_var, weight, bias, training, momentum, eps)\u001b[0m\n\u001b[1;32m   2417\u001b[0m         )\n\u001b[1;32m   2418\u001b[0m     \u001b[0;32mif\u001b[0m \u001b[0mtraining\u001b[0m\u001b[0;34m:\u001b[0m\u001b[0;34m\u001b[0m\u001b[0;34m\u001b[0m\u001b[0m\n\u001b[0;32m-> 2419\u001b[0;31m         \u001b[0m_verify_batch_size\u001b[0m\u001b[0;34m(\u001b[0m\u001b[0minput\u001b[0m\u001b[0;34m.\u001b[0m\u001b[0msize\u001b[0m\u001b[0;34m(\u001b[0m\u001b[0;34m)\u001b[0m\u001b[0;34m)\u001b[0m\u001b[0;34m\u001b[0m\u001b[0;34m\u001b[0m\u001b[0m\n\u001b[0m\u001b[1;32m   2420\u001b[0m \u001b[0;34m\u001b[0m\u001b[0m\n\u001b[1;32m   2421\u001b[0m     return torch.batch_norm(\n",
            "\u001b[0;32m/usr/local/lib/python3.7/dist-packages/torch/nn/functional.py\u001b[0m in \u001b[0;36m_verify_batch_size\u001b[0;34m(size)\u001b[0m\n\u001b[1;32m   2385\u001b[0m         \u001b[0msize_prods\u001b[0m \u001b[0;34m*=\u001b[0m \u001b[0msize\u001b[0m\u001b[0;34m[\u001b[0m\u001b[0mi\u001b[0m \u001b[0;34m+\u001b[0m \u001b[0;36m2\u001b[0m\u001b[0;34m]\u001b[0m\u001b[0;34m\u001b[0m\u001b[0;34m\u001b[0m\u001b[0m\n\u001b[1;32m   2386\u001b[0m     \u001b[0;32mif\u001b[0m \u001b[0msize_prods\u001b[0m \u001b[0;34m==\u001b[0m \u001b[0;36m1\u001b[0m\u001b[0;34m:\u001b[0m\u001b[0;34m\u001b[0m\u001b[0;34m\u001b[0m\u001b[0m\n\u001b[0;32m-> 2387\u001b[0;31m         \u001b[0;32mraise\u001b[0m \u001b[0mValueError\u001b[0m\u001b[0;34m(\u001b[0m\u001b[0;34m\"Expected more than 1 value per channel when training, got input size {}\"\u001b[0m\u001b[0;34m.\u001b[0m\u001b[0mformat\u001b[0m\u001b[0;34m(\u001b[0m\u001b[0msize\u001b[0m\u001b[0;34m)\u001b[0m\u001b[0;34m)\u001b[0m\u001b[0;34m\u001b[0m\u001b[0;34m\u001b[0m\u001b[0m\n\u001b[0m\u001b[1;32m   2388\u001b[0m \u001b[0;34m\u001b[0m\u001b[0m\n\u001b[1;32m   2389\u001b[0m \u001b[0;34m\u001b[0m\u001b[0m\n",
            "\u001b[0;31mValueError\u001b[0m: Expected more than 1 value per channel when training, got input size torch.Size([1, 128])"
          ]
        }
      ]
    },
    {
      "cell_type": "markdown",
      "metadata": {
        "id": "mTxaErWAKdTU"
      },
      "source": [
        "### Improved Evaluation (5 marks)"
      ]
    },
    {
      "cell_type": "code",
      "metadata": {
        "id": "Bz0WVlMhXiU0"
      },
      "source": [
        "# Q11. Determine the accuracy of the training set (~40s) (2.5)\n",
        "with torch.no_grad():\n",
        "  n_correct = 0\n",
        "  n_samples = 0\n",
        "  n_class_correct = [0 for i in range(10)]\n",
        "  n_class_samples = [0 for i in range(10)]\n",
        "\n",
        "\n",
        "  for images, labels in train_loader:\n",
        "    images = images.to(device)\n",
        "    labels = labels.to(device)\n",
        "    outputs = model2(images) \n",
        "\n",
        "    _, y_preds = torch.max(outputs, 1)\n",
        "    n_samples += labels.size(0) \n",
        "    n_correct += (y_preds == labels).sum().item()\n",
        "\n",
        "    for i in range(batch_size):\n",
        "      label = labels[i]\n",
        "      pred = y_preds[i]\n",
        "      if (label == pred):\n",
        "        n_class_correct[label] += 1\n",
        "      n_class_samples[label] += 1\n",
        "\n",
        "  acc = 100.0 * n_correct / n_samples\n",
        "  print(f'Test Accuracy of the WHOLE CNN = {acc} %')\n",
        "\n",
        "  for i in range(len(classes)):\n",
        "    acc = 100.0 * n_class_correct[i] / n_class_samples[i]\n",
        "    print(f'Accuracy of {classes[i]}: {acc} %')\n"
      ],
      "execution_count": null,
      "outputs": []
    },
    {
      "cell_type": "code",
      "metadata": {
        "id": "O9GnoChVYoH5"
      },
      "source": [
        "# Q12. Determine the accuracy of the test set (~10s) (2.5)\n",
        "\n",
        "with torch.no_grad():\n",
        "  n_correct = 0\n",
        "  n_samples = 0\n",
        "  n_class_correct = [0 for i in range(10)]\n",
        "  n_class_samples = [0 for i in range(10)]\n",
        "\n",
        "\n",
        "  for images, labels in test_loader:\n",
        "    images = images.to(device)\n",
        "    labels = labels.to(device)\n",
        "    outputs = model2(images) \n",
        "\n",
        "    _, y_preds = torch.max(outputs, 1)\n",
        "    n_samples += labels.size(0) \n",
        "    n_correct += (y_preds == labels).sum().item()\n",
        "\n",
        "    for i in range(batch_size):\n",
        "      label = labels[i]\n",
        "      pred = y_preds[i]\n",
        "      if (label == pred):\n",
        "        n_class_correct[label] += 1\n",
        "      n_class_samples[label] += 1\n",
        "\n",
        "  acc = 100.0 * n_correct / n_samples\n",
        "  print(f'Test Accuracy of the WHOLE CNN = {acc} %')\n",
        "\n",
        "  for i in range(len(classes)):\n",
        "    acc = 100.0 * n_class_correct[i] / n_class_samples[i]\n",
        "    print(f'Accuracy of {classes[i]}: {acc} %')\n"
      ],
      "execution_count": null,
      "outputs": []
    },
    {
      "cell_type": "markdown",
      "metadata": {
        "id": "SfwZcP730BW2"
      },
      "source": [
        "# Part 2: Image download and transform (20 marks)\n"
      ]
    },
    {
      "cell_type": "markdown",
      "metadata": {
        "id": "dwdNuvgjKomE"
      },
      "source": [
        "**IMPORTANT**\n",
        "- **TIP!** If your model in Part 1 is still training, you are strongly urged to open a new Notebook with only CPU enabled, copy the code cells below and paste them on to the new Notebook, and work there. Once done, copy the code cells from the other notebook back here. It is ok if the output is not visible, we can run and verify them.\n",
        "- In this section, you are going to download two images from the internet and perform simple tranformations on them\n",
        "- The first image's URL is https://cdn.pixabay.com/photo/2020/04/27/09/21/cat-5098930_1280.jpg (right click, Copy Link Address) \n",
        "- The second image's URL is https://cdn.pixabay.com/photo/2017/08/07/18/57/dog-2606759_1280.jpg\n",
        "\n"
      ]
    },
    {
      "cell_type": "code",
      "metadata": {
        "id": "6AKbU_CY2orE",
        "colab": {
          "base_uri": "https://localhost:8080/",
          "height": 487
        },
        "outputId": "a63d1976-85b7-4738-986b-b0e2481845cc"
      },
      "source": [
        "import torch\n",
        "import torchvision.transforms as T\n",
        "import matplotlib.pyplot as plt\n",
        "from PIL import Image\n",
        "\n",
        "# Q13. \n",
        "# a. Download the image in the URL below and save it as \"img1.jpg\" (3)\n",
        "# https://cdn.pixabay.com/photo/2020/04/27/09/21/cat-5098930_1280.jpg\n",
        "\n",
        "!wget https://cdn.pixabay.com/photo/2020/04/27/09/21/cat-5098930_1280.jpg -O img1.jpg\n",
        "\n",
        "# b.  Call this PIL image img1 and view it (2)\n",
        "img1 = Image.open(\"./img1.jpg\")\n",
        "plt.imshow(img)  \n"
      ],
      "execution_count": 67,
      "outputs": [
        {
          "output_type": "stream",
          "name": "stdout",
          "text": [
            "--2022-05-04 09:56:54--  https://cdn.pixabay.com/photo/2020/04/27/09/21/cat-5098930_1280.jpg\n",
            "Resolving cdn.pixabay.com (cdn.pixabay.com)... 104.18.37.244, 172.64.150.12, 2606:4700:4400::6812:25f4, ...\n",
            "Connecting to cdn.pixabay.com (cdn.pixabay.com)|104.18.37.244|:443... connected.\n",
            "HTTP request sent, awaiting response... 200 OK\n",
            "Length: 102281 (100K) [image/jpeg]\n",
            "Saving to: ‘img1.jpg’\n",
            "\n",
            "\rimg1.jpg              0%[                    ]       0  --.-KB/s               \rimg1.jpg            100%[===================>]  99.88K  --.-KB/s    in 0.01s   \n",
            "\n",
            "2022-05-04 09:56:54 (6.90 MB/s) - ‘img1.jpg’ saved [102281/102281]\n",
            "\n"
          ]
        },
        {
          "output_type": "execute_result",
          "data": {
            "text/plain": [
              "<matplotlib.image.AxesImage at 0x7f2a02224490>"
            ]
          },
          "metadata": {},
          "execution_count": 67
        },
        {
          "output_type": "display_data",
          "data": {
            "text/plain": [
              "<Figure size 432x288 with 1 Axes>"
            ],
            "image/png": "[encoded data removed]"
          },
          "metadata": {
            "needs_background": "light"
          }
        }
      ]
    },
    {
      "cell_type": "code",
      "source": [
        "# Q14. \n",
        "# a. Download the image in the URL below and save it as \"img2.jpg\" (3)\n",
        "# https://cdn.pixabay.com/photo/2017/08/07/18/57/dog-2606759_1280.jpg\n",
        "\n",
        "\n",
        "!wget https://cdn.pixabay.com/photo/2017/08/07/18/57/dog-2606759_1280.jpg -O img2.jpg\n",
        "\n",
        "# b. Call this PIL image img2 and view it (2)\n",
        "img2 = Image.open(\"./img2.jpg\")\n",
        "plt.imshow(img2)  \n"
      ],
      "metadata": {
        "id": "_d68F7M71cDD",
        "colab": {
          "base_uri": "https://localhost:8080/",
          "height": 487
        },
        "outputId": "9015cdca-e81a-4a3f-89df-948bcf091c11"
      },
      "execution_count": 70,
      "outputs": [
        {
          "output_type": "stream",
          "name": "stdout",
          "text": [
            "--2022-05-04 09:57:07--  https://cdn.pixabay.com/photo/2017/08/07/18/57/dog-2606759_1280.jpg\n",
            "Resolving cdn.pixabay.com (cdn.pixabay.com)... 104.18.37.244, 172.64.150.12, 2606:4700:4400::6812:25f4, ...\n",
            "Connecting to cdn.pixabay.com (cdn.pixabay.com)|104.18.37.244|:443... connected.\n",
            "HTTP request sent, awaiting response... 200 OK\n",
            "Length: 238768 (233K) [image/jpeg]\n",
            "Saving to: ‘img2.jpg’\n",
            "\n",
            "\rimg2.jpg              0%[                    ]       0  --.-KB/s               \rimg2.jpg            100%[===================>] 233.17K  --.-KB/s    in 0.03s   \n",
            "\n",
            "2022-05-04 09:57:07 (9.00 MB/s) - ‘img2.jpg’ saved [238768/238768]\n",
            "\n"
          ]
        },
        {
          "output_type": "execute_result",
          "data": {
            "text/plain": [
              "<matplotlib.image.AxesImage at 0x7f2a020d7f90>"
            ]
          },
          "metadata": {},
          "execution_count": 70
        },
        {
          "output_type": "display_data",
          "data": {
            "text/plain": [
              "<Figure size 432x288 with 1 Axes>"
            ],
            "image/png": "[encoded data removed]"
          },
          "metadata": {
            "needs_background": "light"
          }
        }
      ]
    },
    {
      "cell_type": "markdown",
      "source": [
        "Based on these images, perform at least THREE transformations on them (apart from conversion to Tensors) so that each image retains as much information as possible and can be fed into a neural network as training data."
      ],
      "metadata": {
        "id": "Bej9k_xp4vov"
      }
    },
    {
      "cell_type": "code",
      "source": [
        "# Q15.\n",
        "preprocess = T.Compose([\n",
        "   T.ToTensor(),\n",
        "   T.Resize(256),\n",
        "   T.CenterCrop(200),\n",
        "   T.Normalize(\n",
        "       mean=[0.485, 0.456, 0.406],\n",
        "       std=[0.229, 0.224, 0.225]\n",
        "   )   \n",
        "])\n",
        "\n",
        "\n",
        "img_tensor1 = preprocess(img1)\n",
        "img_tensor2 = preprocess(img2)\n"
      ],
      "metadata": {
        "id": "XxQa-PII5NH6"
      },
      "execution_count": 71,
      "outputs": []
    },
    {
      "cell_type": "markdown",
      "source": [
        "### Plot the preprocessed images"
      ],
      "metadata": {
        "id": "FqLzaFNt-mBe"
      }
    },
    {
      "cell_type": "code",
      "source": [
        "# Q16. View the preprocessed tensor image of img1 (1)\n",
        "plt.imshow(img_tensor1.permute(1, 2, 0)  )"
      ],
      "metadata": {
        "id": "__poVDOJ-Iqz",
        "colab": {
          "base_uri": "https://localhost:8080/",
          "height": 306
        },
        "outputId": "6955f4e9-a21c-4b04-adc7-2daf589b121f"
      },
      "execution_count": 72,
      "outputs": [
        {
          "output_type": "stream",
          "name": "stderr",
          "text": [
            "Clipping input data to the valid range for imshow with RGB data ([0..1] for floats or [0..255] for integers).\n"
          ]
        },
        {
          "output_type": "execute_result",
          "data": {
            "text/plain": [
              "<matplotlib.image.AxesImage at 0x7f2a02055490>"
            ]
          },
          "metadata": {},
          "execution_count": 72
        },
        {
          "output_type": "display_data",
          "data": {
            "text/plain": [
              "<Figure size 432x288 with 1 Axes>"
            ],
            "image/png": "[encoded data removed]"
          },
          "metadata": {
            "needs_background": "light"
          }
        }
      ]
    },
    {
      "cell_type": "code",
      "source": [
        "# Q17. View the preprocessed tensor image of img2 (1)\n",
        "plt.imshow(img_tensor2.permute(1, 2, 0)  )"
      ],
      "metadata": {
        "id": "0EyRVxHX-7-k",
        "colab": {
          "base_uri": "https://localhost:8080/",
          "height": 306
        },
        "outputId": "f14058eb-24e4-4ea3-faad-b9f1eb336fe5"
      },
      "execution_count": 73,
      "outputs": [
        {
          "output_type": "stream",
          "name": "stderr",
          "text": [
            "Clipping input data to the valid range for imshow with RGB data ([0..1] for floats or [0..255] for integers).\n"
          ]
        },
        {
          "output_type": "execute_result",
          "data": {
            "text/plain": [
              "<matplotlib.image.AxesImage at 0x7f2a0203aa10>"
            ]
          },
          "metadata": {},
          "execution_count": 73
        },
        {
          "output_type": "display_data",
          "data": {
            "text/plain": [
              "<Figure size 432x288 with 1 Axes>"
            ],
            "image/png": "[encoded data removed]"
          },
          "metadata": {
            "needs_background": "light"
          }
        }
      ]
    },
    {
      "cell_type": "markdown",
      "source": [
        "### Classification Design"
      ],
      "metadata": {
        "id": "CeqFXyx5BnPc"
      }
    },
    {
      "cell_type": "code",
      "source": [
        "# Q18.\n",
        "# Suppose you want to build a NN classifier that can figure out if an input image contains a cat, a dog or both, \n",
        "# how many units would you have in your output layer and what output layer activation function would you use? \n",
        "# Given a short justification for your answers. (2)\n",
        "\n",
        "print('The final output should have 3 classes, cat only/dog only/both.', '\\n',\n",
        "'The activation function can be any non-linear function but it should finally be got through softmax function before calculating the loss.')"
      ],
      "metadata": {
        "id": "ppHX8A6fBPM_",
        "colab": {
          "base_uri": "https://localhost:8080/"
        },
        "outputId": "894a3087-c263-49dd-8862-d3618f71e739"
      },
      "execution_count": 81,
      "outputs": [
        {
          "output_type": "stream",
          "name": "stdout",
          "text": [
            "The final output should have 3 classes, cat only/dog only/both. \n",
            " The activation function can be any non-linear function but it should finally be got through softmax function before calculating the loss.\n"
          ]
        }
      ]
    },
    {
      "cell_type": "code",
      "source": [
        ""
      ],
      "metadata": {
        "id": "7oJZTR3YhBfS"
      },
      "execution_count": null,
      "outputs": []
    }
  ]
}