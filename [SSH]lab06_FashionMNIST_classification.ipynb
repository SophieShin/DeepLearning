{
  "nbformat": 4,
  "nbformat_minor": 0,
  "metadata": {
    "colab": {
      "name": "[SSH]lab06-FashionMNIST-classification.ipynb",
      "provenance": [],
      "collapsed_sections": [],
      "include_colab_link": true
    },
    "kernelspec": {
      "name": "python3",
      "display_name": "Python 3"
    },
    "language_info": {
      "name": "python"
    },
    "widgets": {
      "application/vnd.jupyter.widget-state+json": {
        "a9e55596541c4873bffef9c7f332fb89": {
          "model_module": "@jupyter-widgets/controls",
          "model_name": "HBoxModel",
          "model_module_version": "1.5.0",
          "state": {
            "_dom_classes": [],
            "_model_module": "@jupyter-widgets/controls",
            "_model_module_version": "1.5.0",
            "_model_name": "HBoxModel",
            "_view_count": null,
            "_view_module": "@jupyter-widgets/controls",
            "_view_module_version": "1.5.0",
            "_view_name": "HBoxView",
            "box_style": "",
            "children": [
              "IPY_MODEL_1c1b60cdc3ad4f35b9c5345505f087f9",
              "IPY_MODEL_2348cbb6ce0849e380e5d80e4aa90128",
              "IPY_MODEL_d5b0b7f69e824b09b00200c0bfe7be63"
            ],
            "layout": "IPY_MODEL_a717de914e2f417ca4839a6606f03750"
          }
        },
        "1c1b60cdc3ad4f35b9c5345505f087f9": {
          "model_module": "@jupyter-widgets/controls",
          "model_name": "HTMLModel",
          "model_module_version": "1.5.0",
          "state": {
            "_dom_classes": [],
            "_model_module": "@jupyter-widgets/controls",
            "_model_module_version": "1.5.0",
            "_model_name": "HTMLModel",
            "_view_count": null,
            "_view_module": "@jupyter-widgets/controls",
            "_view_module_version": "1.5.0",
            "_view_name": "HTMLView",
            "description": "",
            "description_tooltip": null,
            "layout": "IPY_MODEL_7301a34525c64ebeaddf0714ac86e263",
            "placeholder": "​",
            "style": "IPY_MODEL_aff2a70b4cad47e58749bb1974855c29",
            "value": ""
          }
        },
        "2348cbb6ce0849e380e5d80e4aa90128": {
          "model_module": "@jupyter-widgets/controls",
          "model_name": "FloatProgressModel",
          "model_module_version": "1.5.0",
          "state": {
            "_dom_classes": [],
            "_model_module": "@jupyter-widgets/controls",
            "_model_module_version": "1.5.0",
            "_model_name": "FloatProgressModel",
            "_view_count": null,
            "_view_module": "@jupyter-widgets/controls",
            "_view_module_version": "1.5.0",
            "_view_name": "ProgressView",
            "bar_style": "success",
            "description": "",
            "description_tooltip": null,
            "layout": "IPY_MODEL_abcafb9789a244cba499c9825779ed6d",
            "max": 26421880,
            "min": 0,
            "orientation": "horizontal",
            "style": "IPY_MODEL_c9b3142b52464d58b361c3fce8476f30",
            "value": 26421880
          }
        },
        "d5b0b7f69e824b09b00200c0bfe7be63": {
          "model_module": "@jupyter-widgets/controls",
          "model_name": "HTMLModel",
          "model_module_version": "1.5.0",
          "state": {
            "_dom_classes": [],
            "_model_module": "@jupyter-widgets/controls",
            "_model_module_version": "1.5.0",
            "_model_name": "HTMLModel",
            "_view_count": null,
            "_view_module": "@jupyter-widgets/controls",
            "_view_module_version": "1.5.0",
            "_view_name": "HTMLView",
            "description": "",
            "description_tooltip": null,
            "layout": "IPY_MODEL_229755b539744ef0b152f49261e74e00",
            "placeholder": "​",
            "style": "IPY_MODEL_32ca16b787bb40ddba56cf0987283849",
            "value": " 26422272/? [00:00&lt;00:00, 49673915.50it/s]"
          }
        },
        "a717de914e2f417ca4839a6606f03750": {
          "model_module": "@jupyter-widgets/base",
          "model_name": "LayoutModel",
          "model_module_version": "1.2.0",
          "state": {
            "_model_module": "@jupyter-widgets/base",
            "_model_module_version": "1.2.0",
            "_model_name": "LayoutModel",
            "_view_count": null,
            "_view_module": "@jupyter-widgets/base",
            "_view_module_version": "1.2.0",
            "_view_name": "LayoutView",
            "align_content": null,
            "align_items": null,
            "align_self": null,
            "border": null,
            "bottom": null,
            "display": null,
            "flex": null,
            "flex_flow": null,
            "grid_area": null,
            "grid_auto_columns": null,
            "grid_auto_flow": null,
            "grid_auto_rows": null,
            "grid_column": null,
            "grid_gap": null,
            "grid_row": null,
            "grid_template_areas": null,
            "grid_template_columns": null,
            "grid_template_rows": null,
            "height": null,
            "justify_content": null,
            "justify_items": null,
            "left": null,
            "margin": null,
            "max_height": null,
            "max_width": null,
            "min_height": null,
            "min_width": null,
            "object_fit": null,
            "object_position": null,
            "order": null,
            "overflow": null,
            "overflow_x": null,
            "overflow_y": null,
            "padding": null,
            "right": null,
            "top": null,
            "visibility": null,
            "width": null
          }
        },
        "7301a34525c64ebeaddf0714ac86e263": {
          "model_module": "@jupyter-widgets/base",
          "model_name": "LayoutModel",
          "model_module_version": "1.2.0",
          "state": {
            "_model_module": "@jupyter-widgets/base",
            "_model_module_version": "1.2.0",
            "_model_name": "LayoutModel",
            "_view_count": null,
            "_view_module": "@jupyter-widgets/base",
            "_view_module_version": "1.2.0",
            "_view_name": "LayoutView",
            "align_content": null,
            "align_items": null,
            "align_self": null,
            "border": null,
            "bottom": null,
            "display": null,
            "flex": null,
            "flex_flow": null,
            "grid_area": null,
            "grid_auto_columns": null,
            "grid_auto_flow": null,
            "grid_auto_rows": null,
            "grid_column": null,
            "grid_gap": null,
            "grid_row": null,
            "grid_template_areas": null,
            "grid_template_columns": null,
            "grid_template_rows": null,
            "height": null,
            "justify_content": null,
            "justify_items": null,
            "left": null,
            "margin": null,
            "max_height": null,
            "max_width": null,
            "min_height": null,
            "min_width": null,
            "object_fit": null,
            "object_position": null,
            "order": null,
            "overflow": null,
            "overflow_x": null,
            "overflow_y": null,
            "padding": null,
            "right": null,
            "top": null,
            "visibility": null,
            "width": null
          }
        },
        "aff2a70b4cad47e58749bb1974855c29": {
          "model_module": "@jupyter-widgets/controls",
          "model_name": "DescriptionStyleModel",
          "model_module_version": "1.5.0",
          "state": {
            "_model_module": "@jupyter-widgets/controls",
            "_model_module_version": "1.5.0",
            "_model_name": "DescriptionStyleModel",
            "_view_count": null,
            "_view_module": "@jupyter-widgets/base",
            "_view_module_version": "1.2.0",
            "_view_name": "StyleView",
            "description_width": ""
          }
        },
        "abcafb9789a244cba499c9825779ed6d": {
          "model_module": "@jupyter-widgets/base",
          "model_name": "LayoutModel",
          "model_module_version": "1.2.0",
          "state": {
            "_model_module": "@jupyter-widgets/base",
            "_model_module_version": "1.2.0",
            "_model_name": "LayoutModel",
            "_view_count": null,
            "_view_module": "@jupyter-widgets/base",
            "_view_module_version": "1.2.0",
            "_view_name": "LayoutView",
            "align_content": null,
            "align_items": null,
            "align_self": null,
            "border": null,
            "bottom": null,
            "display": null,
            "flex": null,
            "flex_flow": null,
            "grid_area": null,
            "grid_auto_columns": null,
            "grid_auto_flow": null,
            "grid_auto_rows": null,
            "grid_column": null,
            "grid_gap": null,
            "grid_row": null,
            "grid_template_areas": null,
            "grid_template_columns": null,
            "grid_template_rows": null,
            "height": null,
            "justify_content": null,
            "justify_items": null,
            "left": null,
            "margin": null,
            "max_height": null,
            "max_width": null,
            "min_height": null,
            "min_width": null,
            "object_fit": null,
            "object_position": null,
            "order": null,
            "overflow": null,
            "overflow_x": null,
            "overflow_y": null,
            "padding": null,
            "right": null,
            "top": null,
            "visibility": null,
            "width": null
          }
        },
        "c9b3142b52464d58b361c3fce8476f30": {
          "model_module": "@jupyter-widgets/controls",
          "model_name": "ProgressStyleModel",
          "model_module_version": "1.5.0",
          "state": {
            "_model_module": "@jupyter-widgets/controls",
            "_model_module_version": "1.5.0",
            "_model_name": "ProgressStyleModel",
            "_view_count": null,
            "_view_module": "@jupyter-widgets/base",
            "_view_module_version": "1.2.0",
            "_view_name": "StyleView",
            "bar_color": null,
            "description_width": ""
          }
        },
        "229755b539744ef0b152f49261e74e00": {
          "model_module": "@jupyter-widgets/base",
          "model_name": "LayoutModel",
          "model_module_version": "1.2.0",
          "state": {
            "_model_module": "@jupyter-widgets/base",
            "_model_module_version": "1.2.0",
            "_model_name": "LayoutModel",
            "_view_count": null,
            "_view_module": "@jupyter-widgets/base",
            "_view_module_version": "1.2.0",
            "_view_name": "LayoutView",
            "align_content": null,
            "align_items": null,
            "align_self": null,
            "border": null,
            "bottom": null,
            "display": null,
            "flex": null,
            "flex_flow": null,
            "grid_area": null,
            "grid_auto_columns": null,
            "grid_auto_flow": null,
            "grid_auto_rows": null,
            "grid_column": null,
            "grid_gap": null,
            "grid_row": null,
            "grid_template_areas": null,
            "grid_template_columns": null,
            "grid_template_rows": null,
            "height": null,
            "justify_content": null,
            "justify_items": null,
            "left": null,
            "margin": null,
            "max_height": null,
            "max_width": null,
            "min_height": null,
            "min_width": null,
            "object_fit": null,
            "object_position": null,
            "order": null,
            "overflow": null,
            "overflow_x": null,
            "overflow_y": null,
            "padding": null,
            "right": null,
            "top": null,
            "visibility": null,
            "width": null
          }
        },
        "32ca16b787bb40ddba56cf0987283849": {
          "model_module": "@jupyter-widgets/controls",
          "model_name": "DescriptionStyleModel",
          "model_module_version": "1.5.0",
          "state": {
            "_model_module": "@jupyter-widgets/controls",
            "_model_module_version": "1.5.0",
            "_model_name": "DescriptionStyleModel",
            "_view_count": null,
            "_view_module": "@jupyter-widgets/base",
            "_view_module_version": "1.2.0",
            "_view_name": "StyleView",
            "description_width": ""
          }
        },
        "5ff913a305db4ba7bcf48994235b8d5d": {
          "model_module": "@jupyter-widgets/controls",
          "model_name": "HBoxModel",
          "model_module_version": "1.5.0",
          "state": {
            "_dom_classes": [],
            "_model_module": "@jupyter-widgets/controls",
            "_model_module_version": "1.5.0",
            "_model_name": "HBoxModel",
            "_view_count": null,
            "_view_module": "@jupyter-widgets/controls",
            "_view_module_version": "1.5.0",
            "_view_name": "HBoxView",
            "box_style": "",
            "children": [
              "IPY_MODEL_70c18d44db0e41e8832ebd7d705fbf7d",
              "IPY_MODEL_3d77c1b9a5dc485e86eed39d05857147",
              "IPY_MODEL_8b332915f5494264909bd34ec6d0ca95"
            ],
            "layout": "IPY_MODEL_d76c30eb83634765951a4c759b6e83e3"
          }
        },
        "70c18d44db0e41e8832ebd7d705fbf7d": {
          "model_module": "@jupyter-widgets/controls",
          "model_name": "HTMLModel",
          "model_module_version": "1.5.0",
          "state": {
            "_dom_classes": [],
            "_model_module": "@jupyter-widgets/controls",
            "_model_module_version": "1.5.0",
            "_model_name": "HTMLModel",
            "_view_count": null,
            "_view_module": "@jupyter-widgets/controls",
            "_view_module_version": "1.5.0",
            "_view_name": "HTMLView",
            "description": "",
            "description_tooltip": null,
            "layout": "IPY_MODEL_c4291752e0c4419f83e51e1f19405eb5",
            "placeholder": "​",
            "style": "IPY_MODEL_8b11e6b734594cca8cf8cbde2f1519b7",
            "value": ""
          }
        },
        "3d77c1b9a5dc485e86eed39d05857147": {
          "model_module": "@jupyter-widgets/controls",
          "model_name": "FloatProgressModel",
          "model_module_version": "1.5.0",
          "state": {
            "_dom_classes": [],
            "_model_module": "@jupyter-widgets/controls",
            "_model_module_version": "1.5.0",
            "_model_name": "FloatProgressModel",
            "_view_count": null,
            "_view_module": "@jupyter-widgets/controls",
            "_view_module_version": "1.5.0",
            "_view_name": "ProgressView",
            "bar_style": "success",
            "description": "",
            "description_tooltip": null,
            "layout": "IPY_MODEL_a9d46e84ad6f42f0a36650e34fafe438",
            "max": 29515,
            "min": 0,
            "orientation": "horizontal",
            "style": "IPY_MODEL_05fffca1cc754f499e3e6e595c5419a5",
            "value": 29515
          }
        },
        "8b332915f5494264909bd34ec6d0ca95": {
          "model_module": "@jupyter-widgets/controls",
          "model_name": "HTMLModel",
          "model_module_version": "1.5.0",
          "state": {
            "_dom_classes": [],
            "_model_module": "@jupyter-widgets/controls",
            "_model_module_version": "1.5.0",
            "_model_name": "HTMLModel",
            "_view_count": null,
            "_view_module": "@jupyter-widgets/controls",
            "_view_module_version": "1.5.0",
            "_view_name": "HTMLView",
            "description": "",
            "description_tooltip": null,
            "layout": "IPY_MODEL_340966669c744080856a4e829500e6dc",
            "placeholder": "​",
            "style": "IPY_MODEL_36142d4f11c04c9abc21a42e39aba6f9",
            "value": " 29696/? [00:00&lt;00:00, 7163.89it/s]"
          }
        },
        "d76c30eb83634765951a4c759b6e83e3": {
          "model_module": "@jupyter-widgets/base",
          "model_name": "LayoutModel",
          "model_module_version": "1.2.0",
          "state": {
            "_model_module": "@jupyter-widgets/base",
            "_model_module_version": "1.2.0",
            "_model_name": "LayoutModel",
            "_view_count": null,
            "_view_module": "@jupyter-widgets/base",
            "_view_module_version": "1.2.0",
            "_view_name": "LayoutView",
            "align_content": null,
            "align_items": null,
            "align_self": null,
            "border": null,
            "bottom": null,
            "display": null,
            "flex": null,
            "flex_flow": null,
            "grid_area": null,
            "grid_auto_columns": null,
            "grid_auto_flow": null,
            "grid_auto_rows": null,
            "grid_column": null,
            "grid_gap": null,
            "grid_row": null,
            "grid_template_areas": null,
            "grid_template_columns": null,
            "grid_template_rows": null,
            "height": null,
            "justify_content": null,
            "justify_items": null,
            "left": null,
            "margin": null,
            "max_height": null,
            "max_width": null,
            "min_height": null,
            "min_width": null,
            "object_fit": null,
            "object_position": null,
            "order": null,
            "overflow": null,
            "overflow_x": null,
            "overflow_y": null,
            "padding": null,
            "right": null,
            "top": null,
            "visibility": null,
            "width": null
          }
        },
        "c4291752e0c4419f83e51e1f19405eb5": {
          "model_module": "@jupyter-widgets/base",
          "model_name": "LayoutModel",
          "model_module_version": "1.2.0",
          "state": {
            "_model_module": "@jupyter-widgets/base",
            "_model_module_version": "1.2.0",
            "_model_name": "LayoutModel",
            "_view_count": null,
            "_view_module": "@jupyter-widgets/base",
            "_view_module_version": "1.2.0",
            "_view_name": "LayoutView",
            "align_content": null,
            "align_items": null,
            "align_self": null,
            "border": null,
            "bottom": null,
            "display": null,
            "flex": null,
            "flex_flow": null,
            "grid_area": null,
            "grid_auto_columns": null,
            "grid_auto_flow": null,
            "grid_auto_rows": null,
            "grid_column": null,
            "grid_gap": null,
            "grid_row": null,
            "grid_template_areas": null,
            "grid_template_columns": null,
            "grid_template_rows": null,
            "height": null,
            "justify_content": null,
            "justify_items": null,
            "left": null,
            "margin": null,
            "max_height": null,
            "max_width": null,
            "min_height": null,
            "min_width": null,
            "object_fit": null,
            "object_position": null,
            "order": null,
            "overflow": null,
            "overflow_x": null,
            "overflow_y": null,
            "padding": null,
            "right": null,
            "top": null,
            "visibility": null,
            "width": null
          }
        },
        "8b11e6b734594cca8cf8cbde2f1519b7": {
          "model_module": "@jupyter-widgets/controls",
          "model_name": "DescriptionStyleModel",
          "model_module_version": "1.5.0",
          "state": {
            "_model_module": "@jupyter-widgets/controls",
            "_model_module_version": "1.5.0",
            "_model_name": "DescriptionStyleModel",
            "_view_count": null,
            "_view_module": "@jupyter-widgets/base",
            "_view_module_version": "1.2.0",
            "_view_name": "StyleView",
            "description_width": ""
          }
        },
        "a9d46e84ad6f42f0a36650e34fafe438": {
          "model_module": "@jupyter-widgets/base",
          "model_name": "LayoutModel",
          "model_module_version": "1.2.0",
          "state": {
            "_model_module": "@jupyter-widgets/base",
            "_model_module_version": "1.2.0",
            "_model_name": "LayoutModel",
            "_view_count": null,
            "_view_module": "@jupyter-widgets/base",
            "_view_module_version": "1.2.0",
            "_view_name": "LayoutView",
            "align_content": null,
            "align_items": null,
            "align_self": null,
            "border": null,
            "bottom": null,
            "display": null,
            "flex": null,
            "flex_flow": null,
            "grid_area": null,
            "grid_auto_columns": null,
            "grid_auto_flow": null,
            "grid_auto_rows": null,
            "grid_column": null,
            "grid_gap": null,
            "grid_row": null,
            "grid_template_areas": null,
            "grid_template_columns": null,
            "grid_template_rows": null,
            "height": null,
            "justify_content": null,
            "justify_items": null,
            "left": null,
            "margin": null,
            "max_height": null,
            "max_width": null,
            "min_height": null,
            "min_width": null,
            "object_fit": null,
            "object_position": null,
            "order": null,
            "overflow": null,
            "overflow_x": null,
            "overflow_y": null,
            "padding": null,
            "right": null,
            "top": null,
            "visibility": null,
            "width": null
          }
        },
        "05fffca1cc754f499e3e6e595c5419a5": {
          "model_module": "@jupyter-widgets/controls",
          "model_name": "ProgressStyleModel",
          "model_module_version": "1.5.0",
          "state": {
            "_model_module": "@jupyter-widgets/controls",
            "_model_module_version": "1.5.0",
            "_model_name": "ProgressStyleModel",
            "_view_count": null,
            "_view_module": "@jupyter-widgets/base",
            "_view_module_version": "1.2.0",
            "_view_name": "StyleView",
            "bar_color": null,
            "description_width": ""
          }
        },
        "340966669c744080856a4e829500e6dc": {
          "model_module": "@jupyter-widgets/base",
          "model_name": "LayoutModel",
          "model_module_version": "1.2.0",
          "state": {
            "_model_module": "@jupyter-widgets/base",
            "_model_module_version": "1.2.0",
            "_model_name": "LayoutModel",
            "_view_count": null,
            "_view_module": "@jupyter-widgets/base",
            "_view_module_version": "1.2.0",
            "_view_name": "LayoutView",
            "align_content": null,
            "align_items": null,
            "align_self": null,
            "border": null,
            "bottom": null,
            "display": null,
            "flex": null,
            "flex_flow": null,
            "grid_area": null,
            "grid_auto_columns": null,
            "grid_auto_flow": null,
            "grid_auto_rows": null,
            "grid_column": null,
            "grid_gap": null,
            "grid_row": null,
            "grid_template_areas": null,
            "grid_template_columns": null,
            "grid_template_rows": null,
            "height": null,
            "justify_content": null,
            "justify_items": null,
            "left": null,
            "margin": null,
            "max_height": null,
            "max_width": null,
            "min_height": null,
            "min_width": null,
            "object_fit": null,
            "object_position": null,
            "order": null,
            "overflow": null,
            "overflow_x": null,
            "overflow_y": null,
            "padding": null,
            "right": null,
            "top": null,
            "visibility": null,
            "width": null
          }
        },
        "36142d4f11c04c9abc21a42e39aba6f9": {
          "model_module": "@jupyter-widgets/controls",
          "model_name": "DescriptionStyleModel",
          "model_module_version": "1.5.0",
          "state": {
            "_model_module": "@jupyter-widgets/controls",
            "_model_module_version": "1.5.0",
            "_model_name": "DescriptionStyleModel",
            "_view_count": null,
            "_view_module": "@jupyter-widgets/base",
            "_view_module_version": "1.2.0",
            "_view_name": "StyleView",
            "description_width": ""
          }
        },
        "e2efb04f562e4eca8abed32eadd13a7c": {
          "model_module": "@jupyter-widgets/controls",
          "model_name": "HBoxModel",
          "model_module_version": "1.5.0",
          "state": {
            "_dom_classes": [],
            "_model_module": "@jupyter-widgets/controls",
            "_model_module_version": "1.5.0",
            "_model_name": "HBoxModel",
            "_view_count": null,
            "_view_module": "@jupyter-widgets/controls",
            "_view_module_version": "1.5.0",
            "_view_name": "HBoxView",
            "box_style": "",
            "children": [
              "IPY_MODEL_0586d8d268664bc6b880d06a2de85007",
              "IPY_MODEL_f95a4353c6594773ab14e16be32b4886",
              "IPY_MODEL_1474bd03424f42ec9f6bd553b61bd960"
            ],
            "layout": "IPY_MODEL_b67f14b7fa2d45d7b8e97b99e3fa157a"
          }
        },
        "0586d8d268664bc6b880d06a2de85007": {
          "model_module": "@jupyter-widgets/controls",
          "model_name": "HTMLModel",
          "model_module_version": "1.5.0",
          "state": {
            "_dom_classes": [],
            "_model_module": "@jupyter-widgets/controls",
            "_model_module_version": "1.5.0",
            "_model_name": "HTMLModel",
            "_view_count": null,
            "_view_module": "@jupyter-widgets/controls",
            "_view_module_version": "1.5.0",
            "_view_name": "HTMLView",
            "description": "",
            "description_tooltip": null,
            "layout": "IPY_MODEL_f20b6adabcbc4ad89731898a8265ffe1",
            "placeholder": "​",
            "style": "IPY_MODEL_8bdd0beb66dd45cfbe81afeeb55d72b6",
            "value": ""
          }
        },
        "f95a4353c6594773ab14e16be32b4886": {
          "model_module": "@jupyter-widgets/controls",
          "model_name": "FloatProgressModel",
          "model_module_version": "1.5.0",
          "state": {
            "_dom_classes": [],
            "_model_module": "@jupyter-widgets/controls",
            "_model_module_version": "1.5.0",
            "_model_name": "FloatProgressModel",
            "_view_count": null,
            "_view_module": "@jupyter-widgets/controls",
            "_view_module_version": "1.5.0",
            "_view_name": "ProgressView",
            "bar_style": "success",
            "description": "",
            "description_tooltip": null,
            "layout": "IPY_MODEL_f1f0a41fb32740d9b1178f092a228e96",
            "max": 4422102,
            "min": 0,
            "orientation": "horizontal",
            "style": "IPY_MODEL_31ea23d796754c0f8bb8e472624bec55",
            "value": 4422102
          }
        },
        "1474bd03424f42ec9f6bd553b61bd960": {
          "model_module": "@jupyter-widgets/controls",
          "model_name": "HTMLModel",
          "model_module_version": "1.5.0",
          "state": {
            "_dom_classes": [],
            "_model_module": "@jupyter-widgets/controls",
            "_model_module_version": "1.5.0",
            "_model_name": "HTMLModel",
            "_view_count": null,
            "_view_module": "@jupyter-widgets/controls",
            "_view_module_version": "1.5.0",
            "_view_name": "HTMLView",
            "description": "",
            "description_tooltip": null,
            "layout": "IPY_MODEL_88a272ebeb3b4b4db2c77f6d5f55ca7b",
            "placeholder": "​",
            "style": "IPY_MODEL_a7db694f61a14426825372882333acb9",
            "value": " 4422656/? [00:00&lt;00:00, 13773415.16it/s]"
          }
        },
        "b67f14b7fa2d45d7b8e97b99e3fa157a": {
          "model_module": "@jupyter-widgets/base",
          "model_name": "LayoutModel",
          "model_module_version": "1.2.0",
          "state": {
            "_model_module": "@jupyter-widgets/base",
            "_model_module_version": "1.2.0",
            "_model_name": "LayoutModel",
            "_view_count": null,
            "_view_module": "@jupyter-widgets/base",
            "_view_module_version": "1.2.0",
            "_view_name": "LayoutView",
            "align_content": null,
            "align_items": null,
            "align_self": null,
            "border": null,
            "bottom": null,
            "display": null,
            "flex": null,
            "flex_flow": null,
            "grid_area": null,
            "grid_auto_columns": null,
            "grid_auto_flow": null,
            "grid_auto_rows": null,
            "grid_column": null,
            "grid_gap": null,
            "grid_row": null,
            "grid_template_areas": null,
            "grid_template_columns": null,
            "grid_template_rows": null,
            "height": null,
            "justify_content": null,
            "justify_items": null,
            "left": null,
            "margin": null,
            "max_height": null,
            "max_width": null,
            "min_height": null,
            "min_width": null,
            "object_fit": null,
            "object_position": null,
            "order": null,
            "overflow": null,
            "overflow_x": null,
            "overflow_y": null,
            "padding": null,
            "right": null,
            "top": null,
            "visibility": null,
            "width": null
          }
        },
        "f20b6adabcbc4ad89731898a8265ffe1": {
          "model_module": "@jupyter-widgets/base",
          "model_name": "LayoutModel",
          "model_module_version": "1.2.0",
          "state": {
            "_model_module": "@jupyter-widgets/base",
            "_model_module_version": "1.2.0",
            "_model_name": "LayoutModel",
            "_view_count": null,
            "_view_module": "@jupyter-widgets/base",
            "_view_module_version": "1.2.0",
            "_view_name": "LayoutView",
            "align_content": null,
            "align_items": null,
            "align_self": null,
            "border": null,
            "bottom": null,
            "display": null,
            "flex": null,
            "flex_flow": null,
            "grid_area": null,
            "grid_auto_columns": null,
            "grid_auto_flow": null,
            "grid_auto_rows": null,
            "grid_column": null,
            "grid_gap": null,
            "grid_row": null,
            "grid_template_areas": null,
            "grid_template_columns": null,
            "grid_template_rows": null,
            "height": null,
            "justify_content": null,
            "justify_items": null,
            "left": null,
            "margin": null,
            "max_height": null,
            "max_width": null,
            "min_height": null,
            "min_width": null,
            "object_fit": null,
            "object_position": null,
            "order": null,
            "overflow": null,
            "overflow_x": null,
            "overflow_y": null,
            "padding": null,
            "right": null,
            "top": null,
            "visibility": null,
            "width": null
          }
        },
        "8bdd0beb66dd45cfbe81afeeb55d72b6": {
          "model_module": "@jupyter-widgets/controls",
          "model_name": "DescriptionStyleModel",
          "model_module_version": "1.5.0",
          "state": {
            "_model_module": "@jupyter-widgets/controls",
            "_model_module_version": "1.5.0",
            "_model_name": "DescriptionStyleModel",
            "_view_count": null,
            "_view_module": "@jupyter-widgets/base",
            "_view_module_version": "1.2.0",
            "_view_name": "StyleView",
            "description_width": ""
          }
        },
        "f1f0a41fb32740d9b1178f092a228e96": {
          "model_module": "@jupyter-widgets/base",
          "model_name": "LayoutModel",
          "model_module_version": "1.2.0",
          "state": {
            "_model_module": "@jupyter-widgets/base",
            "_model_module_version": "1.2.0",
            "_model_name": "LayoutModel",
            "_view_count": null,
            "_view_module": "@jupyter-widgets/base",
            "_view_module_version": "1.2.0",
            "_view_name": "LayoutView",
            "align_content": null,
            "align_items": null,
            "align_self": null,
            "border": null,
            "bottom": null,
            "display": null,
            "flex": null,
            "flex_flow": null,
            "grid_area": null,
            "grid_auto_columns": null,
            "grid_auto_flow": null,
            "grid_auto_rows": null,
            "grid_column": null,
            "grid_gap": null,
            "grid_row": null,
            "grid_template_areas": null,
            "grid_template_columns": null,
            "grid_template_rows": null,
            "height": null,
            "justify_content": null,
            "justify_items": null,
            "left": null,
            "margin": null,
            "max_height": null,
            "max_width": null,
            "min_height": null,
            "min_width": null,
            "object_fit": null,
            "object_position": null,
            "order": null,
            "overflow": null,
            "overflow_x": null,
            "overflow_y": null,
            "padding": null,
            "right": null,
            "top": null,
            "visibility": null,
            "width": null
          }
        },
        "31ea23d796754c0f8bb8e472624bec55": {
          "model_module": "@jupyter-widgets/controls",
          "model_name": "ProgressStyleModel",
          "model_module_version": "1.5.0",
          "state": {
            "_model_module": "@jupyter-widgets/controls",
            "_model_module_version": "1.5.0",
            "_model_name": "ProgressStyleModel",
            "_view_count": null,
            "_view_module": "@jupyter-widgets/base",
            "_view_module_version": "1.2.0",
            "_view_name": "StyleView",
            "bar_color": null,
            "description_width": ""
          }
        },
        "88a272ebeb3b4b4db2c77f6d5f55ca7b": {
          "model_module": "@jupyter-widgets/base",
          "model_name": "LayoutModel",
          "model_module_version": "1.2.0",
          "state": {
            "_model_module": "@jupyter-widgets/base",
            "_model_module_version": "1.2.0",
            "_model_name": "LayoutModel",
            "_view_count": null,
            "_view_module": "@jupyter-widgets/base",
            "_view_module_version": "1.2.0",
            "_view_name": "LayoutView",
            "align_content": null,
            "align_items": null,
            "align_self": null,
            "border": null,
            "bottom": null,
            "display": null,
            "flex": null,
            "flex_flow": null,
            "grid_area": null,
            "grid_auto_columns": null,
            "grid_auto_flow": null,
            "grid_auto_rows": null,
            "grid_column": null,
            "grid_gap": null,
            "grid_row": null,
            "grid_template_areas": null,
            "grid_template_columns": null,
            "grid_template_rows": null,
            "height": null,
            "justify_content": null,
            "justify_items": null,
            "left": null,
            "margin": null,
            "max_height": null,
            "max_width": null,
            "min_height": null,
            "min_width": null,
            "object_fit": null,
            "object_position": null,
            "order": null,
            "overflow": null,
            "overflow_x": null,
            "overflow_y": null,
            "padding": null,
            "right": null,
            "top": null,
            "visibility": null,
            "width": null
          }
        },
        "a7db694f61a14426825372882333acb9": {
          "model_module": "@jupyter-widgets/controls",
          "model_name": "DescriptionStyleModel",
          "model_module_version": "1.5.0",
          "state": {
            "_model_module": "@jupyter-widgets/controls",
            "_model_module_version": "1.5.0",
            "_model_name": "DescriptionStyleModel",
            "_view_count": null,
            "_view_module": "@jupyter-widgets/base",
            "_view_module_version": "1.2.0",
            "_view_name": "StyleView",
            "description_width": ""
          }
        },
        "685393ebfd4f4a9a8f350f41a4b7167d": {
          "model_module": "@jupyter-widgets/controls",
          "model_name": "HBoxModel",
          "model_module_version": "1.5.0",
          "state": {
            "_dom_classes": [],
            "_model_module": "@jupyter-widgets/controls",
            "_model_module_version": "1.5.0",
            "_model_name": "HBoxModel",
            "_view_count": null,
            "_view_module": "@jupyter-widgets/controls",
            "_view_module_version": "1.5.0",
            "_view_name": "HBoxView",
            "box_style": "",
            "children": [
              "IPY_MODEL_7c8f49727b454300ab330ab0fd0e7041",
              "IPY_MODEL_20b38e94ed6745a8b1860ec0bb523c4f",
              "IPY_MODEL_2a15252f2bae4b47b6590dbbea4c2b1f"
            ],
            "layout": "IPY_MODEL_728b0e8f0b5f41c9b355dd1f8df319ba"
          }
        },
        "7c8f49727b454300ab330ab0fd0e7041": {
          "model_module": "@jupyter-widgets/controls",
          "model_name": "HTMLModel",
          "model_module_version": "1.5.0",
          "state": {
            "_dom_classes": [],
            "_model_module": "@jupyter-widgets/controls",
            "_model_module_version": "1.5.0",
            "_model_name": "HTMLModel",
            "_view_count": null,
            "_view_module": "@jupyter-widgets/controls",
            "_view_module_version": "1.5.0",
            "_view_name": "HTMLView",
            "description": "",
            "description_tooltip": null,
            "layout": "IPY_MODEL_7bb48e500332486e9e89ec4d8b05c063",
            "placeholder": "​",
            "style": "IPY_MODEL_60aaca52efba41bbb5f5b44beb159b0f",
            "value": ""
          }
        },
        "20b38e94ed6745a8b1860ec0bb523c4f": {
          "model_module": "@jupyter-widgets/controls",
          "model_name": "FloatProgressModel",
          "model_module_version": "1.5.0",
          "state": {
            "_dom_classes": [],
            "_model_module": "@jupyter-widgets/controls",
            "_model_module_version": "1.5.0",
            "_model_name": "FloatProgressModel",
            "_view_count": null,
            "_view_module": "@jupyter-widgets/controls",
            "_view_module_version": "1.5.0",
            "_view_name": "ProgressView",
            "bar_style": "success",
            "description": "",
            "description_tooltip": null,
            "layout": "IPY_MODEL_67438651af42490abad693c96c2ee086",
            "max": 5148,
            "min": 0,
            "orientation": "horizontal",
            "style": "IPY_MODEL_20d21d3510264fb290261d542d0cb71a",
            "value": 5148
          }
        },
        "2a15252f2bae4b47b6590dbbea4c2b1f": {
          "model_module": "@jupyter-widgets/controls",
          "model_name": "HTMLModel",
          "model_module_version": "1.5.0",
          "state": {
            "_dom_classes": [],
            "_model_module": "@jupyter-widgets/controls",
            "_model_module_version": "1.5.0",
            "_model_name": "HTMLModel",
            "_view_count": null,
            "_view_module": "@jupyter-widgets/controls",
            "_view_module_version": "1.5.0",
            "_view_name": "HTMLView",
            "description": "",
            "description_tooltip": null,
            "layout": "IPY_MODEL_a01401163ad3486eb05e5b0f955595b5",
            "placeholder": "​",
            "style": "IPY_MODEL_69ed19a7e7ce467c9cbfe69383621841",
            "value": " 6144/? [00:00&lt;00:00, 7700.62it/s]"
          }
        },
        "728b0e8f0b5f41c9b355dd1f8df319ba": {
          "model_module": "@jupyter-widgets/base",
          "model_name": "LayoutModel",
          "model_module_version": "1.2.0",
          "state": {
            "_model_module": "@jupyter-widgets/base",
            "_model_module_version": "1.2.0",
            "_model_name": "LayoutModel",
            "_view_count": null,
            "_view_module": "@jupyter-widgets/base",
            "_view_module_version": "1.2.0",
            "_view_name": "LayoutView",
            "align_content": null,
            "align_items": null,
            "align_self": null,
            "border": null,
            "bottom": null,
            "display": null,
            "flex": null,
            "flex_flow": null,
            "grid_area": null,
            "grid_auto_columns": null,
            "grid_auto_flow": null,
            "grid_auto_rows": null,
            "grid_column": null,
            "grid_gap": null,
            "grid_row": null,
            "grid_template_areas": null,
            "grid_template_columns": null,
            "grid_template_rows": null,
            "height": null,
            "justify_content": null,
            "justify_items": null,
            "left": null,
            "margin": null,
            "max_height": null,
            "max_width": null,
            "min_height": null,
            "min_width": null,
            "object_fit": null,
            "object_position": null,
            "order": null,
            "overflow": null,
            "overflow_x": null,
            "overflow_y": null,
            "padding": null,
            "right": null,
            "top": null,
            "visibility": null,
            "width": null
          }
        },
        "7bb48e500332486e9e89ec4d8b05c063": {
          "model_module": "@jupyter-widgets/base",
          "model_name": "LayoutModel",
          "model_module_version": "1.2.0",
          "state": {
            "_model_module": "@jupyter-widgets/base",
            "_model_module_version": "1.2.0",
            "_model_name": "LayoutModel",
            "_view_count": null,
            "_view_module": "@jupyter-widgets/base",
            "_view_module_version": "1.2.0",
            "_view_name": "LayoutView",
            "align_content": null,
            "align_items": null,
            "align_self": null,
            "border": null,
            "bottom": null,
            "display": null,
            "flex": null,
            "flex_flow": null,
            "grid_area": null,
            "grid_auto_columns": null,
            "grid_auto_flow": null,
            "grid_auto_rows": null,
            "grid_column": null,
            "grid_gap": null,
            "grid_row": null,
            "grid_template_areas": null,
            "grid_template_columns": null,
            "grid_template_rows": null,
            "height": null,
            "justify_content": null,
            "justify_items": null,
            "left": null,
            "margin": null,
            "max_height": null,
            "max_width": null,
            "min_height": null,
            "min_width": null,
            "object_fit": null,
            "object_position": null,
            "order": null,
            "overflow": null,
            "overflow_x": null,
            "overflow_y": null,
            "padding": null,
            "right": null,
            "top": null,
            "visibility": null,
            "width": null
          }
        },
        "60aaca52efba41bbb5f5b44beb159b0f": {
          "model_module": "@jupyter-widgets/controls",
          "model_name": "DescriptionStyleModel",
          "model_module_version": "1.5.0",
          "state": {
            "_model_module": "@jupyter-widgets/controls",
            "_model_module_version": "1.5.0",
            "_model_name": "DescriptionStyleModel",
            "_view_count": null,
            "_view_module": "@jupyter-widgets/base",
            "_view_module_version": "1.2.0",
            "_view_name": "StyleView",
            "description_width": ""
          }
        },
        "67438651af42490abad693c96c2ee086": {
          "model_module": "@jupyter-widgets/base",
          "model_name": "LayoutModel",
          "model_module_version": "1.2.0",
          "state": {
            "_model_module": "@jupyter-widgets/base",
            "_model_module_version": "1.2.0",
            "_model_name": "LayoutModel",
            "_view_count": null,
            "_view_module": "@jupyter-widgets/base",
            "_view_module_version": "1.2.0",
            "_view_name": "LayoutView",
            "align_content": null,
            "align_items": null,
            "align_self": null,
            "border": null,
            "bottom": null,
            "display": null,
            "flex": null,
            "flex_flow": null,
            "grid_area": null,
            "grid_auto_columns": null,
            "grid_auto_flow": null,
            "grid_auto_rows": null,
            "grid_column": null,
            "grid_gap": null,
            "grid_row": null,
            "grid_template_areas": null,
            "grid_template_columns": null,
            "grid_template_rows": null,
            "height": null,
            "justify_content": null,
            "justify_items": null,
            "left": null,
            "margin": null,
            "max_height": null,
            "max_width": null,
            "min_height": null,
            "min_width": null,
            "object_fit": null,
            "object_position": null,
            "order": null,
            "overflow": null,
            "overflow_x": null,
            "overflow_y": null,
            "padding": null,
            "right": null,
            "top": null,
            "visibility": null,
            "width": null
          }
        },
        "20d21d3510264fb290261d542d0cb71a": {
          "model_module": "@jupyter-widgets/controls",
          "model_name": "ProgressStyleModel",
          "model_module_version": "1.5.0",
          "state": {
            "_model_module": "@jupyter-widgets/controls",
            "_model_module_version": "1.5.0",
            "_model_name": "ProgressStyleModel",
            "_view_count": null,
            "_view_module": "@jupyter-widgets/base",
            "_view_module_version": "1.2.0",
            "_view_name": "StyleView",
            "bar_color": null,
            "description_width": ""
          }
        },
        "a01401163ad3486eb05e5b0f955595b5": {
          "model_module": "@jupyter-widgets/base",
          "model_name": "LayoutModel",
          "model_module_version": "1.2.0",
          "state": {
            "_model_module": "@jupyter-widgets/base",
            "_model_module_version": "1.2.0",
            "_model_name": "LayoutModel",
            "_view_count": null,
            "_view_module": "@jupyter-widgets/base",
            "_view_module_version": "1.2.0",
            "_view_name": "LayoutView",
            "align_content": null,
            "align_items": null,
            "align_self": null,
            "border": null,
            "bottom": null,
            "display": null,
            "flex": null,
            "flex_flow": null,
            "grid_area": null,
            "grid_auto_columns": null,
            "grid_auto_flow": null,
            "grid_auto_rows": null,
            "grid_column": null,
            "grid_gap": null,
            "grid_row": null,
            "grid_template_areas": null,
            "grid_template_columns": null,
            "grid_template_rows": null,
            "height": null,
            "justify_content": null,
            "justify_items": null,
            "left": null,
            "margin": null,
            "max_height": null,
            "max_width": null,
            "min_height": null,
            "min_width": null,
            "object_fit": null,
            "object_position": null,
            "order": null,
            "overflow": null,
            "overflow_x": null,
            "overflow_y": null,
            "padding": null,
            "right": null,
            "top": null,
            "visibility": null,
            "width": null
          }
        },
        "69ed19a7e7ce467c9cbfe69383621841": {
          "model_module": "@jupyter-widgets/controls",
          "model_name": "DescriptionStyleModel",
          "model_module_version": "1.5.0",
          "state": {
            "_model_module": "@jupyter-widgets/controls",
            "_model_module_version": "1.5.0",
            "_model_name": "DescriptionStyleModel",
            "_view_count": null,
            "_view_module": "@jupyter-widgets/base",
            "_view_module_version": "1.2.0",
            "_view_name": "StyleView",
            "description_width": ""
          }
        }
      }
    }
  },
  "cells": [
    {
      "cell_type": "markdown",
      "metadata": {
        "id": "view-in-github",
        "colab_type": "text"
      },
      "source": [
        "<a href=\"https://colab.research.google.com/github/SophieShin/DeepLearning/blob/main/%5BSSH%5Dlab06_FashionMNIST_classification.ipynb\" target=\"_parent\"><img src=\"https://colab.research.google.com/assets/colab-badge.svg\" alt=\"Open In Colab\"/></a>"
      ]
    },
    {
      "cell_type": "markdown",
      "metadata": {
        "id": "hKpob9_wDf-c"
      },
      "source": [
        "# Lab 6 Multi-class Classification on FashionMNIST\n",
        "You will \n",
        "- start doing image processing\n",
        "- run our models on GPUs\n",
        "- use the `DataLoader()` class to iterate over dataset\n",
        "- visualise images in the dataset\n",
        "- train the model in batches\n",
        "- print training and test accuracies\n",
        "- perform some transformations on the dataset\n",
        "- tweak the hyper parameters to help with model performance\n",
        "\n",
        "**IMPORTANT: Change your runtime type to GPU before continuining.**\n",
        "\n"
      ]
    },
    {
      "cell_type": "code",
      "metadata": {
        "id": "eFNeaZyUtpXZ"
      },
      "source": [
        "import torch\n",
        "import torchvision\n",
        "import torchvision.transforms as transforms\n",
        "\n",
        "import matplotlib.pyplot as plt\n",
        "\n",
        "import torch.optim as optim\n",
        "import torch.nn as nn"
      ],
      "execution_count": 1,
      "outputs": []
    },
    {
      "cell_type": "markdown",
      "metadata": {
        "id": "UMmpnqJgocup"
      },
      "source": [
        "### 0. Set up the device and hyper parameters"
      ]
    },
    {
      "cell_type": "code",
      "source": [
        "# Device configuration\n",
        "device = torch.device('cuda' if torch.cuda.is_available() else 'cpu')\n",
        "print(device)"
      ],
      "metadata": {
        "colab": {
          "base_uri": "https://localhost:8080/"
        },
        "id": "ln5JV8I6VJm3",
        "outputId": "a9fe4aa5-ef02-43ce-ae95-fefb7fd12503"
      },
      "execution_count": 2,
      "outputs": [
        {
          "output_type": "stream",
          "name": "stdout",
          "text": [
            "cpu\n"
          ]
        }
      ]
    },
    {
      "cell_type": "code",
      "source": [
        "# Hyperparameters setting\n",
        "input_size = 784 # 28*28\n",
        "hidden_size = 32 # can be removed if you prefer to specify this in the model's class itself\n",
        "num_classes = 10\n",
        "num_epochs = 5\n",
        "batch_size = 32\n",
        "learning_rate = 0.001"
      ],
      "metadata": {
        "id": "XtbxSGJ4VQoB"
      },
      "execution_count": 3,
      "outputs": []
    },
    {
      "cell_type": "markdown",
      "metadata": {
        "id": "VXVv7RQit4cL"
      },
      "source": [
        "### 1. Load the dataset"
      ]
    },
    {
      "cell_type": "code",
      "metadata": {
        "id": "6CP32BKYt6II",
        "colab": {
          "base_uri": "https://localhost:8080/",
          "height": 435,
          "referenced_widgets": [
            "a9e55596541c4873bffef9c7f332fb89",
            "1c1b60cdc3ad4f35b9c5345505f087f9",
            "2348cbb6ce0849e380e5d80e4aa90128",
            "d5b0b7f69e824b09b00200c0bfe7be63",
            "a717de914e2f417ca4839a6606f03750",
            "7301a34525c64ebeaddf0714ac86e263",
            "aff2a70b4cad47e58749bb1974855c29",
            "abcafb9789a244cba499c9825779ed6d",
            "c9b3142b52464d58b361c3fce8476f30",
            "229755b539744ef0b152f49261e74e00",
            "32ca16b787bb40ddba56cf0987283849",
            "5ff913a305db4ba7bcf48994235b8d5d",
            "70c18d44db0e41e8832ebd7d705fbf7d",
            "3d77c1b9a5dc485e86eed39d05857147",
            "8b332915f5494264909bd34ec6d0ca95",
            "d76c30eb83634765951a4c759b6e83e3",
            "c4291752e0c4419f83e51e1f19405eb5",
            "8b11e6b734594cca8cf8cbde2f1519b7",
            "a9d46e84ad6f42f0a36650e34fafe438",
            "05fffca1cc754f499e3e6e595c5419a5",
            "340966669c744080856a4e829500e6dc",
            "36142d4f11c04c9abc21a42e39aba6f9",
            "e2efb04f562e4eca8abed32eadd13a7c",
            "0586d8d268664bc6b880d06a2de85007",
            "f95a4353c6594773ab14e16be32b4886",
            "1474bd03424f42ec9f6bd553b61bd960",
            "b67f14b7fa2d45d7b8e97b99e3fa157a",
            "f20b6adabcbc4ad89731898a8265ffe1",
            "8bdd0beb66dd45cfbe81afeeb55d72b6",
            "f1f0a41fb32740d9b1178f092a228e96",
            "31ea23d796754c0f8bb8e472624bec55",
            "88a272ebeb3b4b4db2c77f6d5f55ca7b",
            "a7db694f61a14426825372882333acb9",
            "685393ebfd4f4a9a8f350f41a4b7167d",
            "7c8f49727b454300ab330ab0fd0e7041",
            "20b38e94ed6745a8b1860ec0bb523c4f",
            "2a15252f2bae4b47b6590dbbea4c2b1f",
            "728b0e8f0b5f41c9b355dd1f8df319ba",
            "7bb48e500332486e9e89ec4d8b05c063",
            "60aaca52efba41bbb5f5b44beb159b0f",
            "67438651af42490abad693c96c2ee086",
            "20d21d3510264fb290261d542d0cb71a",
            "a01401163ad3486eb05e5b0f955595b5",
            "69ed19a7e7ce467c9cbfe69383621841"
          ]
        },
        "outputId": "2f782b8e-401d-40bd-fca8-0415c5d40a3e"
      },
      "source": [
        "# import data\n",
        "train_set = torchvision.datasets.FashionMNIST(root=\"./\", download=True, \n",
        "                                              train=True,\n",
        "                                              transform=transforms.Compose([transforms.ToTensor()]))\n",
        "\n",
        "test_set = torchvision.datasets.FashionMNIST(root=\"./\", download=False, \n",
        "                                              train=False,\n",
        "                                              transform=transforms.Compose([transforms.ToTensor()]))\n",
        "\n",
        "# TODO: after downloading, locate the data within your hosted runtime machine in the folder on the left\n",
        "# Q0. Type 'OK' below if you see a folder called 'FashionMNIST'\n",
        "# 'OK'"
      ],
      "execution_count": 4,
      "outputs": [
        {
          "output_type": "stream",
          "name": "stdout",
          "text": [
            "Downloading http://fashion-mnist.s3-website.eu-central-1.amazonaws.com/train-images-idx3-ubyte.gz\n",
            "Downloading http://fashion-mnist.s3-website.eu-central-1.amazonaws.com/train-images-idx3-ubyte.gz to ./FashionMNIST/raw/train-images-idx3-ubyte.gz\n"
          ]
        },
        {
          "output_type": "display_data",
          "data": {
            "text/plain": [
              "  0%|          | 0/26421880 [00:00<?, ?it/s]"
            ],
            "application/vnd.jupyter.widget-view+json": {
              "version_major": 2,
              "version_minor": 0,
              "model_id": "a9e55596541c4873bffef9c7f332fb89"
            }
          },
          "metadata": {}
        },
        {
          "output_type": "stream",
          "name": "stdout",
          "text": [
            "Extracting ./FashionMNIST/raw/train-images-idx3-ubyte.gz to ./FashionMNIST/raw\n",
            "\n",
            "Downloading http://fashion-mnist.s3-website.eu-central-1.amazonaws.com/train-labels-idx1-ubyte.gz\n",
            "Downloading http://fashion-mnist.s3-website.eu-central-1.amazonaws.com/train-labels-idx1-ubyte.gz to ./FashionMNIST/raw/train-labels-idx1-ubyte.gz\n"
          ]
        },
        {
          "output_type": "display_data",
          "data": {
            "text/plain": [
              "  0%|          | 0/29515 [00:00<?, ?it/s]"
            ],
            "application/vnd.jupyter.widget-view+json": {
              "version_major": 2,
              "version_minor": 0,
              "model_id": "5ff913a305db4ba7bcf48994235b8d5d"
            }
          },
          "metadata": {}
        },
        {
          "output_type": "stream",
          "name": "stdout",
          "text": [
            "Extracting ./FashionMNIST/raw/train-labels-idx1-ubyte.gz to ./FashionMNIST/raw\n",
            "\n",
            "Downloading http://fashion-mnist.s3-website.eu-central-1.amazonaws.com/t10k-images-idx3-ubyte.gz\n",
            "Downloading http://fashion-mnist.s3-website.eu-central-1.amazonaws.com/t10k-images-idx3-ubyte.gz to ./FashionMNIST/raw/t10k-images-idx3-ubyte.gz\n"
          ]
        },
        {
          "output_type": "display_data",
          "data": {
            "text/plain": [
              "  0%|          | 0/4422102 [00:00<?, ?it/s]"
            ],
            "application/vnd.jupyter.widget-view+json": {
              "version_major": 2,
              "version_minor": 0,
              "model_id": "e2efb04f562e4eca8abed32eadd13a7c"
            }
          },
          "metadata": {}
        },
        {
          "output_type": "stream",
          "name": "stdout",
          "text": [
            "Extracting ./FashionMNIST/raw/t10k-images-idx3-ubyte.gz to ./FashionMNIST/raw\n",
            "\n",
            "Downloading http://fashion-mnist.s3-website.eu-central-1.amazonaws.com/t10k-labels-idx1-ubyte.gz\n",
            "Downloading http://fashion-mnist.s3-website.eu-central-1.amazonaws.com/t10k-labels-idx1-ubyte.gz to ./FashionMNIST/raw/t10k-labels-idx1-ubyte.gz\n"
          ]
        },
        {
          "output_type": "display_data",
          "data": {
            "text/plain": [
              "  0%|          | 0/5148 [00:00<?, ?it/s]"
            ],
            "application/vnd.jupyter.widget-view+json": {
              "version_major": 2,
              "version_minor": 0,
              "model_id": "685393ebfd4f4a9a8f350f41a4b7167d"
            }
          },
          "metadata": {}
        },
        {
          "output_type": "stream",
          "name": "stdout",
          "text": [
            "Extracting ./FashionMNIST/raw/t10k-labels-idx1-ubyte.gz to ./FashionMNIST/raw\n",
            "\n"
          ]
        }
      ]
    },
    {
      "cell_type": "markdown",
      "metadata": {
        "id": "T_mpiaP92Gv3"
      },
      "source": [
        "### View basic info on training data"
      ]
    },
    {
      "cell_type": "code",
      "metadata": {
        "id": "Y8nfqRaAwxZw",
        "colab": {
          "base_uri": "https://localhost:8080/"
        },
        "outputId": "8f60e732-1742-4919-ec36-13c0b6e1377e"
      },
      "source": [
        "print(f'Train set size: {len(train_set)}') # number of samples in training set\n",
        "print(f'Labels: {train_set.targets}') # displays targets labels for the training data\n",
        "print(f'Count of each class: {train_set.targets.bincount()}') \n",
        "\n",
        "# Q1. Considering the size of the training set and the batch size, how many iterations will there be in each epoch?\n",
        "# Training set size is 60,000. Therefore there will be 60000/32(1,875) iteration sin each epoch\n",
        "# Ceilling division(-(-len(train_set//batch_size)) 몫 + 1\n",
        "\n",
        "# Q2. Is the dataset balanced? Why?\n",
        "# Yes, all of the 10 classes have equal number of 6000 items. "
      ],
      "execution_count": 5,
      "outputs": [
        {
          "output_type": "stream",
          "name": "stdout",
          "text": [
            "Train set size: 60000\n",
            "Labels: tensor([9, 0, 0,  ..., 3, 0, 5])\n",
            "Count of each class: tensor([6000, 6000, 6000, 6000, 6000, 6000, 6000, 6000, 6000, 6000])\n"
          ]
        }
      ]
    },
    {
      "cell_type": "code",
      "source": [
        "60000/32"
      ],
      "metadata": {
        "colab": {
          "base_uri": "https://localhost:8080/"
        },
        "id": "7fGjpQErWU1V",
        "outputId": "4e3b47ca-cf24-4691-eebb-ece94adf8dc4"
      },
      "execution_count": 6,
      "outputs": [
        {
          "output_type": "execute_result",
          "data": {
            "text/plain": [
              "1875.0"
            ]
          },
          "metadata": {},
          "execution_count": 6
        }
      ]
    },
    {
      "cell_type": "markdown",
      "metadata": {
        "id": "-Uv676yivunH"
      },
      "source": [
        "### 2. Use DataLoader to load the datasets\n",
        "If you get an error when you (re-)run the next code cell, then `restart the runtime` and run all code cells again."
      ]
    },
    {
      "cell_type": "code",
      "source": [
        "train_loader = torch.utils.data.DataLoader(train_set, batch_size = batch_size)\n",
        "test_loader = torch.utils.data.DataLoader(test_set, batch_size = batch_size)"
      ],
      "metadata": {
        "id": "R9L4Da4OW_BK"
      },
      "execution_count": 7,
      "outputs": []
    },
    {
      "cell_type": "code",
      "source": [
        "# Access the first data sample in the train_set using next(iter())\n",
        "sample = next(iter(train_set))\n",
        "print(f'Length: {len(sample)}')\n",
        "print(f'Type: {type(sample)}')"
      ],
      "metadata": {
        "colab": {
          "base_uri": "https://localhost:8080/"
        },
        "id": "54IRoIgIXM85",
        "outputId": "82ce5586-acec-4053-c0f8-903b5f715c40"
      },
      "execution_count": 8,
      "outputs": [
        {
          "output_type": "stream",
          "name": "stdout",
          "text": [
            "Length: 2\n",
            "Type: <class 'tuple'>\n"
          ]
        }
      ]
    },
    {
      "cell_type": "code",
      "source": [
        "temp= iter(train_set)"
      ],
      "metadata": {
        "id": "a48_LUHTbkSG"
      },
      "execution_count": 9,
      "outputs": []
    },
    {
      "cell_type": "code",
      "source": [
        "sample2 = next(temp)\n",
        "image2, label2 = sample2\n",
        "plt.imshow(image2.squeeze(), cmap = 'gray')"
      ],
      "metadata": {
        "colab": {
          "base_uri": "https://localhost:8080/",
          "height": 283
        },
        "id": "Omq3YvVuZ3vG",
        "outputId": "1fd2a625-5262-43dc-b249-2c9a3ecde749"
      },
      "execution_count": 10,
      "outputs": [
        {
          "output_type": "execute_result",
          "data": {
            "text/plain": [
              "<matplotlib.image.AxesImage at 0x7f30fdbdfdd0>"
            ]
          },
          "metadata": {},
          "execution_count": 10
        },
        {
          "output_type": "display_data",
          "data": {
            "text/plain": [
              "<Figure size 432x288 with 1 Axes>"
            ],
            "image/png": "[encoded data removed]"
          },
          "metadata": {
            "needs_background": "light"
          }
        }
      ]
    },
    {
      "cell_type": "code",
      "source": [
        "sample3 = next(temp)\n",
        "image3, label3 = sample3\n",
        "plt.imshow(image3.squeeze(), cmap = 'gray')"
      ],
      "metadata": {
        "colab": {
          "base_uri": "https://localhost:8080/",
          "height": 283
        },
        "id": "1T4MTIzMaO81",
        "outputId": "397f43d2-e4e9-406a-d220-fd7f7054d520"
      },
      "execution_count": 11,
      "outputs": [
        {
          "output_type": "execute_result",
          "data": {
            "text/plain": [
              "<matplotlib.image.AxesImage at 0x7f30fd692ad0>"
            ]
          },
          "metadata": {},
          "execution_count": 11
        },
        {
          "output_type": "display_data",
          "data": {
            "text/plain": [
              "<Figure size 432x288 with 1 Axes>"
            ],
            "image/png": "[encoded data removed]"
          },
          "metadata": {
            "needs_background": "light"
          }
        }
      ]
    },
    {
      "cell_type": "code",
      "source": [
        "# The above means that the data contains image(pixel-values) and label pairs\n",
        "# Let's unpack them\n",
        "image, label = sample\n",
        "\n",
        "# Same as these two lines:\n",
        "# image = sample[0]\n",
        "# label = sample[1]\n"
      ],
      "metadata": {
        "id": "7fR3TGteX7ls"
      },
      "execution_count": 12,
      "outputs": []
    },
    {
      "cell_type": "code",
      "source": [
        "print(image.shape)"
      ],
      "metadata": {
        "colab": {
          "base_uri": "https://localhost:8080/"
        },
        "id": "drCL2OxYYU8W",
        "outputId": "c35d5569-df08-4970-ab46-c170b8bff7fe"
      },
      "execution_count": 13,
      "outputs": [
        {
          "output_type": "stream",
          "name": "stdout",
          "text": [
            "torch.Size([1, 28, 28])\n"
          ]
        }
      ]
    },
    {
      "cell_type": "code",
      "source": [
        "print(label)"
      ],
      "metadata": {
        "colab": {
          "base_uri": "https://localhost:8080/"
        },
        "id": "X0zyzk2TYWp9",
        "outputId": "1a54bab6-5797-4539-c6f1-c08a31d3916d"
      },
      "execution_count": 14,
      "outputs": [
        {
          "output_type": "stream",
          "name": "stdout",
          "text": [
            "9\n"
          ]
        }
      ]
    },
    {
      "cell_type": "code",
      "metadata": {
        "id": "9MYCt5iXtiHc"
      },
      "source": [
        "# Q3. What does the shape of the image tell you about the number of channels and dimensions of the images?\n",
        "# A3.It has only 1 channel(grey scale picture) and its size(width*height) is 28*28\n",
        "\n",
        "# Q4. What does the label value represent?\n",
        "# A3. It is the 10th class among 10 classes.(Ankle Boot)"
      ],
      "execution_count": 15,
      "outputs": []
    },
    {
      "cell_type": "markdown",
      "metadata": {
        "id": "SkUSs38F4fTv"
      },
      "source": [
        "### 3. Visualisation\n",
        "View the first image"
      ]
    },
    {
      "cell_type": "code",
      "source": [
        "plt.imshow(image.squeeze(), cmap = 'gray')"
      ],
      "metadata": {
        "colab": {
          "base_uri": "https://localhost:8080/",
          "height": 283
        },
        "id": "OKSSHfTxYu_s",
        "outputId": "e8df3e1b-1bb5-41ea-a7ba-7ac66afac1d6"
      },
      "execution_count": 16,
      "outputs": [
        {
          "output_type": "execute_result",
          "data": {
            "text/plain": [
              "<matplotlib.image.AxesImage at 0x7f30fd612690>"
            ]
          },
          "metadata": {},
          "execution_count": 16
        },
        {
          "output_type": "display_data",
          "data": {
            "text/plain": [
              "<Figure size 432x288 with 1 Axes>"
            ],
            "image/png": "[encoded data removed]"
          },
          "metadata": {
            "needs_background": "light"
          }
        }
      ]
    },
    {
      "cell_type": "code",
      "source": [
        "# Get the first BATCH from train_loader\n",
        "batch = next(iter(train_loader))\n",
        "print(len(batch)) # tuple\n",
        "print(type(batch))"
      ],
      "metadata": {
        "colab": {
          "base_uri": "https://localhost:8080/"
        },
        "id": "NWKfYeQyY0DM",
        "outputId": "822da5ab-28a0-4619-eee1-b6a2fd595987"
      },
      "execution_count": 17,
      "outputs": [
        {
          "output_type": "stream",
          "name": "stdout",
          "text": [
            "2\n",
            "<class 'list'>\n"
          ]
        }
      ]
    },
    {
      "cell_type": "code",
      "source": [
        "# Unpack the images and labels\n",
        "images, labels = batch"
      ],
      "metadata": {
        "id": "d0vMuiqZZNxR"
      },
      "execution_count": 19,
      "outputs": []
    },
    {
      "cell_type": "code",
      "source": [
        "labels"
      ],
      "metadata": {
        "colab": {
          "base_uri": "https://localhost:8080/"
        },
        "id": "PszYGAj8ZTL7",
        "outputId": "8b96e83b-577c-4123-ae4d-17ffbd56a52b"
      },
      "execution_count": 20,
      "outputs": [
        {
          "output_type": "execute_result",
          "data": {
            "text/plain": [
              "tensor([9, 0, 0, 3, 0, 2, 7, 2, 5, 5, 0, 9, 5, 5, 7, 9, 1, 0, 6, 4, 3, 1, 4, 8,\n",
              "        4, 3, 0, 2, 4, 4, 5, 3])"
            ]
          },
          "metadata": {},
          "execution_count": 20
        }
      ]
    },
    {
      "cell_type": "code",
      "source": [
        "print(f'Image shape: {images.shape}')\n",
        "print(f'Label shape: {labels.shape}') # label은 1d tensor"
      ],
      "metadata": {
        "colab": {
          "base_uri": "https://localhost:8080/"
        },
        "id": "1ZuWfhJuZZJf",
        "outputId": "aaaaf4f3-d9d5-4d43-ceb8-7d8138058e5c"
      },
      "execution_count": 21,
      "outputs": [
        {
          "output_type": "stream",
          "name": "stdout",
          "text": [
            "Image shape: torch.Size([32, 1, 28, 28])\n",
            "Label shape: torch.Size([32])\n"
          ]
        }
      ]
    },
    {
      "cell_type": "code",
      "metadata": {
        "id": "ewlJW3F7uA2s"
      },
      "source": [
        "# Q5. What does each number in the shape of the images represent?\n",
        "# As we define batch size is 32, it has 32 images.\n",
        "\n",
        "# Q6. What about the shape of the labels?\n",
        "# Since the batch size is 32, it surely has 32 labels."
      ],
      "execution_count": null,
      "outputs": []
    },
    {
      "cell_type": "markdown",
      "metadata": {
        "id": "hQrK9-gRuHJm"
      },
      "source": [
        "### View some sample images\n",
        "- The table for the label index and description is available [HERE](https://github.com/zalandoresearch/fashion-mnist#labels)"
      ]
    },
    {
      "cell_type": "markdown",
      "source": [
        "![image.png](data:image/png;base64,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)"
      ],
      "metadata": {
        "id": "cZ41wG6HdJNQ"
      }
    },
    {
      "cell_type": "code",
      "source": [
        "print(f'class labels : {labels}')"
      ],
      "metadata": {
        "colab": {
          "base_uri": "https://localhost:8080/"
        },
        "id": "MzMLOU55bdlo",
        "outputId": "9244d9a3-4915-49a1-a90d-6a9872c574c3"
      },
      "execution_count": 22,
      "outputs": [
        {
          "output_type": "stream",
          "name": "stdout",
          "text": [
            "class labels : tensor([9, 0, 0, 3, 0, 2, 7, 2, 5, 5, 0, 9, 5, 5, 7, 9, 1, 0, 6, 4, 3, 1, 4, 8,\n",
            "        4, 3, 0, 2, 4, 4, 5, 3])\n"
          ]
        }
      ]
    },
    {
      "cell_type": "code",
      "source": [
        "\n",
        "# Create a grid\n",
        "plt.figure(figsize = (15,15))\n",
        "grid = torchvision.utils.make_grid(tensor=images, nrow = 4)\n",
        "# nrow = number of imanges displayed in each row\n",
        "\n",
        "# Use grid.permute() to transpose the grid so that the axes meet the specifications required by\n",
        "# plt.imshow(), which are [height, width, channels]. Pytorch dimenstions are [channels, height, width]/\n",
        "plt.imshow(grid.permute(1,2,0), cmap = 'gray')\n",
        "\n",
        "#grid.permute?? (1,2,0) -> changing the order!!"
      ],
      "metadata": {
        "colab": {
          "base_uri": "https://localhost:8080/",
          "height": 884
        },
        "id": "3x7Iuu1KcKDu",
        "outputId": "43a98f17-980c-4177-a3e6-af93b1c93115"
      },
      "execution_count": 23,
      "outputs": [
        {
          "output_type": "execute_result",
          "data": {
            "text/plain": [
              "<matplotlib.image.AxesImage at 0x7f30fd544f50>"
            ]
          },
          "metadata": {},
          "execution_count": 23
        },
        {
          "output_type": "display_data",
          "data": {
            "text/plain": [
              "<Figure size 1080x1080 with 1 Axes>"
            ],
            "image/png": "[encoded data removed]"
          },
          "metadata": {
            "needs_background": "light"
          }
        }
      ]
    },
    {
      "cell_type": "code",
      "metadata": {
        "id": "Zwz0kGvfuL6d"
      },
      "source": [
        "# Note that the images are grayscale (black and white) and have 28x28 pixels\n",
        "# Grayscale images only have one channel\n",
        "# TODO: Check that the image labels for each image corresponds to the correct label provided above\n",
        "# Yes, it matches!\n",
        "\n",
        "# Q7. How many images are displayed in total here and why? \n",
        "# A7. 32 images, because of the batch size is 32.\n",
        "\n",
        "# Q8. How do you increase or decrease the TOTAL number of images displayed?\n",
        "# A8. By increasing or decreasing batch size, we can increase/decrease the total number of images displayed."
      ],
      "execution_count": null,
      "outputs": []
    },
    {
      "cell_type": "markdown",
      "metadata": {
        "id": "GEqum0gywlAr"
      },
      "source": [
        "### 4. Define the Neural Network, Loss and Optimiser"
      ]
    },
    {
      "cell_type": "code",
      "metadata": {
        "id": "EomhDykuKgcf"
      },
      "source": [
        "# 4. NN model\n",
        "class FashionNN(nn.Module):\n",
        "  def __init__(self, input_size, hidden_size, num_classes):\n",
        "    super().__init__()\n",
        "    self.layer1 = nn.Linear(input_size, hidden_size)\n",
        "    self.relu = nn.ReLU()\n",
        "    self.layer2 = nn.Linear(hidden_size, num_classes)\n",
        "    # NOTE: softmax not added here because of CrossEntropyLoss later\n",
        "\n",
        "  def forward(self, x):\n",
        "    out = self.layer1(x)\n",
        "    out = self.relu(out)\n",
        "    out = self.layer2(out)\n",
        "    return out\n",
        "\n",
        "# 4.1 Create NN model instance\n",
        "model = FashionNN(input_size, hidden_size, num_classes).to(device)\n",
        "\n",
        "# 4.2 Loss and Optimiser\n",
        "criterion = nn.CrossEntropyLoss() # will apply softmax\n",
        "opt = optim.Adam(model.parameters(), lr=learning_rate)"
      ],
      "execution_count": 28,
      "outputs": []
    },
    {
      "cell_type": "markdown",
      "metadata": {
        "id": "-ad4xBEypUEQ"
      },
      "source": [
        "### 5. Training Loop"
      ]
    },
    {
      "cell_type": "code",
      "source": [
        "# 5. Training loop\n",
        "n_total_steps = len(train_set)\n",
        "n_iterations = -(-n_total_steps // batch_size)\n",
        "n_iterations"
      ],
      "metadata": {
        "colab": {
          "base_uri": "https://localhost:8080/"
        },
        "id": "6Vaz_97Vd8a5",
        "outputId": "de651902-10fe-4f9d-a1e9-46fd13275f6e"
      },
      "execution_count": 24,
      "outputs": [
        {
          "output_type": "execute_result",
          "data": {
            "text/plain": [
              "1875"
            ]
          },
          "metadata": {},
          "execution_count": 24
        }
      ]
    },
    {
      "cell_type": "code",
      "source": [
        "n_correct = 0\n",
        "n_samples = 0"
      ],
      "metadata": {
        "id": "jVSbOh9LfnK1"
      },
      "execution_count": 25,
      "outputs": []
    },
    {
      "cell_type": "code",
      "source": [
        "# images[0].reshape(1, 784) == images[0].reshape(-1, 784)"
      ],
      "metadata": {
        "id": "waq4krZbgx0E"
      },
      "execution_count": 26,
      "outputs": []
    },
    {
      "cell_type": "code",
      "source": [
        "for epoch in range(num_epochs):\n",
        "  print('\\n')\n",
        "\n",
        "  # 5.1 loop over all the batches, i is index, (images, labels) is data\n",
        "  for i, (images, labels) in enumerate(train_loader):   ## 이 부분 코드 이해해보기! enumerate\n",
        "      # 5.2 Reshape images first [batch_size, 1, 28, 28] --> [batch_size, 784]\n",
        "      # 5.3 Push images to GPU\n",
        "      images = images.reshape(-1, 28*28).to(device)\n",
        "      labels = labels.to(device)\n",
        "\n",
        "      # Forward pass\n",
        "      outputs = model(images)\n",
        "      loss = criterion(outputs, labels)\n",
        "\n",
        "      # 5.5 Backward pass\n",
        "      opt.zero_grad() # 5.6 Empty the values in the gradient attribute, or model.zero_grad()\n",
        "      loss.backward() # 5.7 Backprop\n",
        "      opt.step() # 5.8 Update params\n",
        "\n",
        "      # 5.9 Print loss\n",
        "      if (i+1) % 200 == 0:\n",
        "        print(f'(Epoch {epoch+1}/{num_epochs}, iteration {i+1}/{n_iterations}, Loss = {loss.item():.4f}')\n",
        "\n",
        "      # 5.10 Get Accuracy\n",
        "      # torch.max() returns actual probability value (ignored) and index or class label (selected)\n",
        "      _, y_preds = torch.max(outputs,1) # 왜 1이 들어가지? --> dimension이 여러개면 1+1번째 dimension만 바라본다!\n",
        "      n_samples += labels.shape[0]\n",
        "      n_correct += (y_preds == labels).sum().item()\n"
      ],
      "metadata": {
        "colab": {
          "base_uri": "https://localhost:8080/"
        },
        "id": "6mOR8DeUfuse",
        "outputId": "55678163-1f0a-4a1d-d299-3735a346cc26"
      },
      "execution_count": 29,
      "outputs": [
        {
          "output_type": "stream",
          "name": "stdout",
          "text": [
            "\n",
            "\n",
            "(Epoch 1/5, iteration 200/1875, Loss = 0.7617\n",
            "(Epoch 1/5, iteration 400/1875, Loss = 0.5154\n",
            "(Epoch 1/5, iteration 600/1875, Loss = 0.4494\n",
            "(Epoch 1/5, iteration 800/1875, Loss = 0.6882\n",
            "(Epoch 1/5, iteration 1000/1875, Loss = 0.3607\n",
            "(Epoch 1/5, iteration 1200/1875, Loss = 0.3535\n",
            "(Epoch 1/5, iteration 1400/1875, Loss = 0.7484\n",
            "(Epoch 1/5, iteration 1600/1875, Loss = 0.4497\n",
            "(Epoch 1/5, iteration 1800/1875, Loss = 0.4188\n",
            "\n",
            "\n",
            "(Epoch 2/5, iteration 200/1875, Loss = 0.4627\n",
            "(Epoch 2/5, iteration 400/1875, Loss = 0.3904\n",
            "(Epoch 2/5, iteration 600/1875, Loss = 0.4021\n",
            "(Epoch 2/5, iteration 800/1875, Loss = 0.5609\n",
            "(Epoch 2/5, iteration 1000/1875, Loss = 0.2828\n",
            "(Epoch 2/5, iteration 1200/1875, Loss = 0.2818\n",
            "(Epoch 2/5, iteration 1400/1875, Loss = 0.6742\n",
            "(Epoch 2/5, iteration 1600/1875, Loss = 0.3469\n",
            "(Epoch 2/5, iteration 1800/1875, Loss = 0.4050\n",
            "\n",
            "\n",
            "(Epoch 3/5, iteration 200/1875, Loss = 0.3823\n",
            "(Epoch 3/5, iteration 400/1875, Loss = 0.3620\n",
            "(Epoch 3/5, iteration 600/1875, Loss = 0.3744\n",
            "(Epoch 3/5, iteration 800/1875, Loss = 0.5333\n",
            "(Epoch 3/5, iteration 1000/1875, Loss = 0.2376\n",
            "(Epoch 3/5, iteration 1200/1875, Loss = 0.2476\n",
            "(Epoch 3/5, iteration 1400/1875, Loss = 0.6624\n",
            "(Epoch 3/5, iteration 1600/1875, Loss = 0.3056\n",
            "(Epoch 3/5, iteration 1800/1875, Loss = 0.3612\n",
            "\n",
            "\n",
            "(Epoch 4/5, iteration 200/1875, Loss = 0.3615\n",
            "(Epoch 4/5, iteration 400/1875, Loss = 0.3481\n",
            "(Epoch 4/5, iteration 600/1875, Loss = 0.3355\n",
            "(Epoch 4/5, iteration 800/1875, Loss = 0.5073\n",
            "(Epoch 4/5, iteration 1000/1875, Loss = 0.2200\n",
            "(Epoch 4/5, iteration 1200/1875, Loss = 0.1917\n",
            "(Epoch 4/5, iteration 1400/1875, Loss = 0.6586\n",
            "(Epoch 4/5, iteration 1600/1875, Loss = 0.2932\n",
            "(Epoch 4/5, iteration 1800/1875, Loss = 0.3265\n",
            "\n",
            "\n",
            "(Epoch 5/5, iteration 200/1875, Loss = 0.3439\n",
            "(Epoch 5/5, iteration 400/1875, Loss = 0.3678\n",
            "(Epoch 5/5, iteration 600/1875, Loss = 0.3276\n",
            "(Epoch 5/5, iteration 800/1875, Loss = 0.4760\n",
            "(Epoch 5/5, iteration 1000/1875, Loss = 0.2013\n",
            "(Epoch 5/5, iteration 1200/1875, Loss = 0.1635\n",
            "(Epoch 5/5, iteration 1400/1875, Loss = 0.6631\n",
            "(Epoch 5/5, iteration 1600/1875, Loss = 0.2859\n",
            "(Epoch 5/5, iteration 1800/1875, Loss = 0.3105\n"
          ]
        }
      ]
    },
    {
      "cell_type": "code",
      "metadata": {
        "id": "qG5SZmR3OLUX",
        "colab": {
          "base_uri": "https://localhost:8080/"
        },
        "outputId": "e5117a0d-48f1-452a-a4f6-b0fabba27934"
      },
      "source": [
        "# 5.11 Print Accuracy\n",
        "acc = 100.0 * n_correct / n_samples\n",
        "print(f'\\nTrain Accuracy = {acc:.4f}')"
      ],
      "execution_count": 30,
      "outputs": [
        {
          "output_type": "stream",
          "name": "stdout",
          "text": [
            "\n",
            "Train Accuracy = 85.0187\n"
          ]
        }
      ]
    },
    {
      "cell_type": "markdown",
      "metadata": {
        "id": "2h_mGIz8phs_"
      },
      "source": [
        "### 6. Evaluation"
      ]
    },
    {
      "cell_type": "code",
      "metadata": {
        "id": "1OycQhxjSD78",
        "colab": {
          "base_uri": "https://localhost:8080/"
        },
        "outputId": "ba3d6ccd-92c4-4875-f9d3-3efafea5cb07"
      },
      "source": [
        "# 6. Deactivate the autograd engine to reduce memory usage and speed up computations (backprop disabled).\n",
        "with torch.no_grad():\n",
        "  n_correct = 0\n",
        "  n_samples = 0\n",
        "\n",
        "  # 6.1 Loop through test set\n",
        "  for images, labels in test_loader:\n",
        "    # 6.2 \n",
        "    images = images.reshape(-1, 28*28).to(device)\n",
        "    labels = labels.to(device)\n",
        "    # 6.3 Run on trained model\n",
        "    outputs = model(images) \n",
        "\n",
        "    # 6.4. Get predictions\n",
        "    # torch.max() returns actual probability value (ignored) and index or class label (selected)\n",
        "    _, y_preds = torch.max(outputs, 1)\n",
        "    n_samples += labels.shape[0]\n",
        "    n_correct += (y_preds == labels).sum().item()\n",
        "\n",
        "  # 6.5 Print accuracy\n",
        "  acc = 100.0 * n_correct / n_samples\n",
        "  print(f'Test Accuracy = {acc:.4f}')"
      ],
      "execution_count": 31,
      "outputs": [
        {
          "output_type": "stream",
          "name": "stdout",
          "text": [
            "Test Accuracy = 85.2100\n"
          ]
        }
      ]
    },
    {
      "cell_type": "code",
      "source": [
        "loss"
      ],
      "metadata": {
        "colab": {
          "base_uri": "https://localhost:8080/"
        },
        "id": "iChuNYn9kaEi",
        "outputId": "446c9e18-adcb-4666-d988-9017f34e19c3"
      },
      "execution_count": 32,
      "outputs": [
        {
          "output_type": "execute_result",
          "data": {
            "text/plain": [
              "tensor(0.3167, grad_fn=<NllLossBackward0>)"
            ]
          },
          "metadata": {},
          "execution_count": 32
        }
      ]
    },
    {
      "cell_type": "code",
      "metadata": {
        "id": "H3XPHhJOyk1I"
      },
      "source": [
        "# Q9. What is the final loss of this model on the training set?\n",
        "# A9. The final loss is 0.4205\n",
        "\n",
        "# Q10. What is the accuracy of this model on the training set?\n",
        "# A10. Train Accuracy is 82.8450.\n",
        " \n",
        "# Q11. What is the accuracy of the trained model on the test set?\n",
        "# A11. Test Accuracy is 84.3000. (Luckly and surprisingly, test accuracy is better.)\n"
      ],
      "execution_count": 33,
      "outputs": []
    },
    {
      "cell_type": "markdown",
      "metadata": {
        "id": "7uA-MQhkvLYm"
      },
      "source": [
        "### TASK: Increase `num_epochs` & redo\n",
        "- Keep track of the loss and test set accuracy\n",
        "- Set `num_epochs=5` in code cell 0 (hyper parameters)\n",
        "- Rebuild and retrain the model by **running code cells 0, 4, and 5 ONLY**\n",
        "- Evaluate the model on the test data by running **code cell 6**\n",
        "- Answer the questions below"
      ]
    },
    {
      "cell_type": "code",
      "source": [
        "loss"
      ],
      "metadata": {
        "colab": {
          "base_uri": "https://localhost:8080/"
        },
        "id": "FmhfJIM8veoY",
        "outputId": "e86beb05-8f5b-4932-d4f1-6b8ffee89f6d"
      },
      "execution_count": 34,
      "outputs": [
        {
          "output_type": "execute_result",
          "data": {
            "text/plain": [
              "tensor(0.3167, grad_fn=<NllLossBackward0>)"
            ]
          },
          "metadata": {},
          "execution_count": 34
        }
      ]
    },
    {
      "cell_type": "code",
      "metadata": {
        "id": "0K3EjH8avaxl"
      },
      "source": [
        "# Q12. What is the final loss now and is it less than the previous loss?\n",
        "# A12. The final loss is 0.2931 and it is less than the one with number of epoch 2.\n",
        "\n",
        "# Q13. Are the training and test set accuracies higher now?\n",
        "# A13. Train Accuracy is 85.25, and test accuracy is 85.43. Training accuracy got better and test accuracy got also better.\n",
        "\n",
        "# Q14. After changing the num_epochs, why should code cell 4 (NN, Loss, Optimiser) be run before code cell 5 (training)?\n",
        "# A14. We need to recreate the new model. Without running cell 4, then the weights were the old one. \n"
      ],
      "execution_count": 35,
      "outputs": []
    },
    {
      "cell_type": "markdown",
      "metadata": {
        "id": "-eXwmWVGwCPC"
      },
      "source": [
        "## 6. Let's add some improvements\n",
        "\n",
        "We are going to add ONE improvement at a time\n",
        "- First the training data is **normalised and shuffled** (code provided). Use the same number of epochs as the the previous case to make a fair comparison.\n",
        "- Build and train the model and get the loss, train and test set accuracies.\n",
        "- Then change ONE hyper parameter, e.g. `num_epochs`, `hidden_size`, `batch_size`, `learning_rate` OR add layers.\n",
        "- Run code cells 7-11 to train and test the model and take note of its loss, train and test accuracies.\n",
        "\n",
        "**IMPORTANT!** If you have trouble running any of the code cells below, restart the runtime, via `Runtime-->Restart runtime` before continuing (or `Ctrl/Cmd + M + .`)\n"
      ]
    },
    {
      "cell_type": "code",
      "metadata": {
        "id": "4QfzTvO8Nx8g"
      },
      "source": [
        "# You DO NOT have to run this cell code unless you restarted the runtime.\n",
        "\n",
        "import torch\n",
        "import torchvision\n",
        "import torchvision.transforms as transforms\n",
        "\n",
        "import matplotlib.pyplot as plt\n",
        "\n",
        "import torch.optim as optim\n",
        "import torch.nn as nn"
      ],
      "execution_count": null,
      "outputs": []
    },
    {
      "cell_type": "markdown",
      "metadata": {
        "id": "30aufWiM3Naq"
      },
      "source": [
        "### 7. Normalise and Shuffle the Traning Data"
      ]
    },
    {
      "cell_type": "code",
      "source": [
        "# Add Normalization to transform data\n",
        "\n",
        "transform = transforms.Compose([transforms.ToTensor(),\n",
        "                               transforms.Normalize((0.0,), (0.5,),)]) # 이부분 숫자가 의미하는 것이 무엇인지?\n",
        "\n",
        "train_set = torchvision.datasets.FashionMNIST(root = './', download = True,\n",
        "                                             train= True,\n",
        "                                             transform = transform)\n",
        "\n",
        "test_set = torchvision.datasets.FashionMNIST(root = './', download = True,\n",
        "                                            train = False,\n",
        "                                            transform = transform)"
      ],
      "metadata": {
        "id": "73MYJs0zsqaX"
      },
      "execution_count": 36,
      "outputs": []
    },
    {
      "cell_type": "markdown",
      "metadata": {
        "id": "aWVj9JNOQGaU"
      },
      "source": [
        "### 8a. Hyper-parameters"
      ]
    },
    {
      "cell_type": "code",
      "source": [
        "device = torch.device('cuda' if torch.cuda.is_available() else 'cpu')\n",
        "print(device)"
      ],
      "metadata": {
        "colab": {
          "base_uri": "https://localhost:8080/"
        },
        "id": "MJAa1-TFt04O",
        "outputId": "825439a7-9264-4c9a-aa6f-a843266d7729"
      },
      "execution_count": null,
      "outputs": [
        {
          "output_type": "stream",
          "name": "stdout",
          "text": [
            "cuda\n"
          ]
        }
      ]
    },
    {
      "cell_type": "code",
      "metadata": {
        "id": "70oa_pmlvSu2"
      },
      "source": [
        "# Hyper parameters\n",
        "input_size = 784 # 28x28\n",
        "hidden_size1 = 32\n",
        "hidden_size2 = 128\n",
        "num_classes = 10 \n",
        "num_epochs = 10\n",
        "batch_size = 64\n",
        "learning_rate = 0.01"
      ],
      "execution_count": null,
      "outputs": []
    },
    {
      "cell_type": "markdown",
      "metadata": {
        "id": "oRTslkm-wZbE"
      },
      "source": [
        "### 8b. Shuffle the training data\n",
        "\n",
        "This reshuffles the data at every epoch\n"
      ]
    },
    {
      "cell_type": "code",
      "source": [
        "train_loader = torch.utils.data.DataLoader(train_set, batch_size = batch_size, shuffle = True)\n",
        "test_loader = torch.utils.data.DataLoader(test_set, batch_size = batch_size, shuffle = False)"
      ],
      "metadata": {
        "id": "elP7EMwjuIJh"
      },
      "execution_count": null,
      "outputs": []
    },
    {
      "cell_type": "markdown",
      "metadata": {
        "id": "d8ciaWDeVnm2"
      },
      "source": [
        "### 9. NN Model, Loss, Optimiser"
      ]
    },
    {
      "cell_type": "code",
      "metadata": {
        "id": "eglzc-j5AD8S"
      },
      "source": [
        "# 9. NN model\n",
        "class FashionNN2(nn.Module):\n",
        "  def __init__(self, input_size, hidden_size1, hidden_size2, num_classes):\n",
        "    super().__init__()\n",
        "    self.layer1 = nn.Linear(input_size, hidden_size1)\n",
        "    self.relu = nn.ReLU()\n",
        "    self.layer2 = nn.Linear(hidden_size1, hidden_size2)\n",
        "    self.layer3 = nn.Linear(hidden_size2, num_classes)\n",
        "    # NOTE: softmax not added here because of CrossEntropyLoss later\n",
        "\n",
        "  def forward(self, x):\n",
        "    out = self.layer1(x)\n",
        "    out = self.relu(out)\n",
        "    out = self.layer2(out)\n",
        "    out = self.relu(out)\n",
        "    out = self.layer3(out)\n",
        "    return out\n",
        "\n",
        "# 9.1 Create NN model instance\n",
        "model = FashionNN2(input_size, hidden_size1, hidden_size2, num_classes).to(device)\n",
        "\n",
        "# 9.2 Loss and Optimiser\n",
        "criterion = nn.CrossEntropyLoss() # will apply softmax\n",
        "opt = optim.Adam(model.parameters(), lr=learning_rate)"
      ],
      "execution_count": null,
      "outputs": []
    },
    {
      "cell_type": "markdown",
      "metadata": {
        "id": "xJe5KODuWpf0"
      },
      "source": [
        "### 10. Training Loop"
      ]
    },
    {
      "cell_type": "code",
      "metadata": {
        "id": "cXvpA1zyAXTl",
        "colab": {
          "base_uri": "https://localhost:8080/"
        },
        "outputId": "5d4fd52a-6f19-493b-f0c5-8d7bdf0ee9ea"
      },
      "source": [
        "# 10. Training loop\n",
        "n_total_steps = len(train_set)\n",
        "n_iterations = -(-n_total_steps // batch_size) # ceiling division\n",
        "\n",
        "n_correct = 0\n",
        "n_samples = 0\n",
        "\n",
        "for epoch in range(num_epochs):\n",
        "  print('\\n')\n",
        "  # 10.1 loop over all the batches, i is index, (images, labels) is data\n",
        "  for i, (images, labels) in enumerate(train_loader):\n",
        "    # 10.2 Reshape images first [batch_size, 1, 28, 28] --> [batch_size, 784]\n",
        "    # 10.3 Push images to GPU\n",
        "    images = images.reshape(-1, 28*28).to(device)\n",
        "    labels = labels.to(device)\n",
        "\n",
        "    # 10.4 Forward pass\n",
        "    outputs = model(images)\n",
        "    loss = criterion(outputs, labels)\n",
        "\n",
        "    # 10.5 Backward pass\n",
        "    opt.zero_grad() \n",
        "    loss.backward() \n",
        "    opt.step() \n",
        "\n",
        "    # 10.6 Print loss\n",
        "    if (i+1) % 200 == 0:\n",
        "      print(f'Epoch {epoch+1}/{num_epochs}, Iteration {i+1}/{n_iterations}, Loss={loss.item():.4f} ')\n",
        "\n",
        "    # 10.7 Get model Accuracy\n",
        "    # torch.max() returns actual probability value (ignored) and index of class label (selected)\n",
        "    _, y_preds = torch.max(outputs, 1)\n",
        "    n_samples += labels.shape[0]\n",
        "    n_correct += (y_preds == labels).sum().item()\n",
        "\n",
        "# 10.8 Print accuracy\n",
        "acc = 100.0 * n_correct / n_samples\n",
        "print(f'Finished training \\nTrain Accuracy = {acc:.4f}')\n"
      ],
      "execution_count": null,
      "outputs": [
        {
          "output_type": "stream",
          "name": "stdout",
          "text": [
            "\n",
            "\n",
            "Epoch 1/10, Iteration 200/938, Loss=0.3708 \n",
            "Epoch 1/10, Iteration 400/938, Loss=0.5930 \n",
            "Epoch 1/10, Iteration 600/938, Loss=0.4340 \n",
            "Epoch 1/10, Iteration 800/938, Loss=0.5850 \n",
            "\n",
            "\n",
            "Epoch 2/10, Iteration 200/938, Loss=0.2694 \n",
            "Epoch 2/10, Iteration 400/938, Loss=0.3211 \n",
            "Epoch 2/10, Iteration 600/938, Loss=0.5933 \n",
            "Epoch 2/10, Iteration 800/938, Loss=0.3106 \n",
            "\n",
            "\n",
            "Epoch 3/10, Iteration 200/938, Loss=0.2394 \n",
            "Epoch 3/10, Iteration 400/938, Loss=0.4891 \n",
            "Epoch 3/10, Iteration 600/938, Loss=0.4672 \n",
            "Epoch 3/10, Iteration 800/938, Loss=0.5807 \n",
            "\n",
            "\n",
            "Epoch 4/10, Iteration 200/938, Loss=0.5138 \n",
            "Epoch 4/10, Iteration 400/938, Loss=0.6554 \n",
            "Epoch 4/10, Iteration 600/938, Loss=0.4163 \n",
            "Epoch 4/10, Iteration 800/938, Loss=0.3500 \n",
            "\n",
            "\n",
            "Epoch 5/10, Iteration 200/938, Loss=0.3213 \n",
            "Epoch 5/10, Iteration 400/938, Loss=0.2446 \n",
            "Epoch 5/10, Iteration 600/938, Loss=0.4534 \n",
            "Epoch 5/10, Iteration 800/938, Loss=0.4457 \n",
            "\n",
            "\n",
            "Epoch 6/10, Iteration 200/938, Loss=0.4980 \n",
            "Epoch 6/10, Iteration 400/938, Loss=0.5947 \n",
            "Epoch 6/10, Iteration 600/938, Loss=0.2113 \n",
            "Epoch 6/10, Iteration 800/938, Loss=0.3541 \n",
            "\n",
            "\n",
            "Epoch 7/10, Iteration 200/938, Loss=0.3968 \n",
            "Epoch 7/10, Iteration 400/938, Loss=0.4960 \n",
            "Epoch 7/10, Iteration 600/938, Loss=0.4369 \n",
            "Epoch 7/10, Iteration 800/938, Loss=0.3706 \n",
            "\n",
            "\n",
            "Epoch 8/10, Iteration 200/938, Loss=0.3549 \n",
            "Epoch 8/10, Iteration 400/938, Loss=0.3035 \n",
            "Epoch 8/10, Iteration 600/938, Loss=0.2257 \n",
            "Epoch 8/10, Iteration 800/938, Loss=0.4625 \n",
            "\n",
            "\n",
            "Epoch 9/10, Iteration 200/938, Loss=0.4070 \n",
            "Epoch 9/10, Iteration 400/938, Loss=0.4271 \n",
            "Epoch 9/10, Iteration 600/938, Loss=0.3419 \n",
            "Epoch 9/10, Iteration 800/938, Loss=0.2226 \n",
            "\n",
            "\n",
            "Epoch 10/10, Iteration 200/938, Loss=0.3906 \n",
            "Epoch 10/10, Iteration 400/938, Loss=0.3413 \n",
            "Epoch 10/10, Iteration 600/938, Loss=0.4320 \n",
            "Epoch 10/10, Iteration 800/938, Loss=0.3536 \n",
            "Finished training \n",
            "Train Accuracy = 85.1120\n"
          ]
        }
      ]
    },
    {
      "cell_type": "markdown",
      "metadata": {
        "id": "vh3kJa0gWvSn"
      },
      "source": [
        "### 11. Evaluation on Test Set"
      ]
    },
    {
      "cell_type": "code",
      "metadata": {
        "id": "bEHiGUlGxgx2",
        "colab": {
          "base_uri": "https://localhost:8080/"
        },
        "outputId": "9ae42dbd-0cc1-4ded-b389-ffbb77ebb304"
      },
      "source": [
        "# 11. Deactivate the autograd engine to reduce memory usage and speed up computations (backprop disabled).\n",
        "with torch.no_grad():\n",
        "  n_correct = 0\n",
        "  n_samples = 0\n",
        "\n",
        "  # 11.1 Loop through test set\n",
        "  for images, labels in test_loader:\n",
        "    images = images.reshape(-1, 28*28).to(device)\n",
        "    labels = labels.to(device)\n",
        "    outputs = model(images) \n",
        "\n",
        "    # 11.2 Get predictions\n",
        "    # torch.max() returns actual probability value (ignored) and index or class label (selected)\n",
        "    _, y_preds = torch.max(outputs, 1)\n",
        "    n_samples += labels.shape[0]\n",
        "    n_correct += (y_preds == labels).sum().item()\n",
        "\n",
        "  # 11.3 Print accuracy\n",
        "  acc = 100.0 * n_correct / n_samples\n",
        "  print(f'Test Accuracy = {acc:.4f}')\n"
      ],
      "execution_count": null,
      "outputs": [
        {
          "output_type": "stream",
          "name": "stdout",
          "text": [
            "Test Accuracy = 84.8100\n"
          ]
        }
      ]
    },
    {
      "cell_type": "code",
      "source": [
        "loss"
      ],
      "metadata": {
        "id": "DxVrdfF3usu0",
        "colab": {
          "base_uri": "https://localhost:8080/"
        },
        "outputId": "13d60665-25f1-4f25-b99e-1de0e0f1f007"
      },
      "execution_count": null,
      "outputs": [
        {
          "output_type": "execute_result",
          "data": {
            "text/plain": [
              "tensor(0.3079, device='cuda:0', grad_fn=<NllLossBackward0>)"
            ]
          },
          "metadata": {},
          "execution_count": 73
        }
      ]
    },
    {
      "cell_type": "code",
      "metadata": {
        "id": "9JEY07vqTLR_"
      },
      "source": [
        "# Q15. What is the final loss of this model on the training set?\n",
        "# A15. In this case, the final loss was 0.4665 which is slightly higher than the first try without normalization and shuffling.\n",
        "\n",
        "# Q16. What is the accuracy of this model on the training set?\n",
        "# A16. It is 83.62.\n",
        "\n",
        "# Q17. What is the accuracy of the trained model on the test set?\n",
        "# A17. It is 84.47.\n",
        "\n",
        "# Q18. Did shuffling and normalisation help to build a better model?\n",
        "# A.18 I assume it would help and the accuracy got a little bit better than the model without normalizaion and shuffling.\n",
        "# I think the reason why it did not show obvious improvement is that the number of epoch is too small so the model have not trained enough yet.\n",
        "\n",
        "# Q19. How many training samples were seen by the model during each epoch of training?\n",
        "# A19. Batch size is 32 so every iteration, 32 samples were seen by the model. But one epoch means that the model sees the whole training data,\n",
        "# therefore, each epoch, the model will see 60,000 samples(the whole sample)."
      ],
      "execution_count": null,
      "outputs": []
    },
    {
      "cell_type": "markdown",
      "metadata": {
        "id": "5Fffl5eTtYWj"
      },
      "source": [
        "### Further Improvement\n",
        "\n",
        "- Try changing other hyper parameters, ONE at a time while keeping everything else the same\n",
        "- **KEEP shuffling and normalisation**, i.e. do not change code cells 7 and 8b.\n",
        "- Example changes:\n",
        "  - Increase `num_epochs` (max 20)\n",
        "  - Change number neurons in hidden layers (keep it within 128 max per layer)\n",
        "  - Add ONE extra hidden layer at a time (start with 32 units). You only need to run code cells 9-11.\n",
        "  - Change `batch_size` (to powers of 2s), try 64.\n",
        "  - Change loss to NLLLoss(), you need to add softmax activation in the output layer\n",
        "  - Change the learning rate\n",
        "\n",
        "- Rerun **code cells 8a-11**(except when adding layers, where you would rerun just cells 9-11).\n",
        "- If the change improves the model, KEEP this improvement and change something else and redo to see if it can be further improved.\n",
        "- Keep a record of the final loss, train and test set accuracies for each test run.\n",
        "- Make at LEAST THREE changes that help improve the model's performance on the test set.\n"
      ]
    },
    {
      "cell_type": "code",
      "source": [
        "loss"
      ],
      "metadata": {
        "colab": {
          "base_uri": "https://localhost:8080/"
        },
        "id": "Kb-UZxp_Dkff",
        "outputId": "3e2198a2-c04e-4797-98bc-676717b0c1ea"
      },
      "execution_count": null,
      "outputs": [
        {
          "output_type": "execute_result",
          "data": {
            "text/plain": [
              "tensor(0.4472, device='cuda:0', grad_fn=<NllLossBackward0>)"
            ]
          },
          "metadata": {},
          "execution_count": 88
        }
      ]
    },
    {
      "cell_type": "code",
      "metadata": {
        "id": "uX-qh72JdzOJ"
      },
      "source": [
        "# Test 1 \n",
        "# Change : Number of epochs 5 --> 20\n",
        "# Loss: 0.2004\n",
        "# Train acc: 91.6067\n",
        "# Test acc: 86.7700(better than the previous model)"
      ],
      "execution_count": null,
      "outputs": []
    },
    {
      "cell_type": "code",
      "metadata": {
        "id": "X8YH49fHeH6x"
      },
      "source": [
        "# Test 2 \n",
        "# Change: Add one more hidden layer. and increase the number of neurons in second hidden layer(first hidden layer : 32, second hidden layer 128)\n",
        "# Loss: 0.1008\n",
        "# Train acc: 87.5172\n",
        "# Test acc: 87.3300(better than the previous model)"
      ],
      "execution_count": null,
      "outputs": []
    },
    {
      "cell_type": "code",
      "metadata": {
        "id": "EYSPW1aeeIwi"
      },
      "source": [
        "# Test 3\n",
        "# Change: Change the learning rate from 0.001 to 0.01\n",
        "# Loss: 0.1553\n",
        "# Train acc: 90.7872\n",
        "# Test acc: 86.5300(worse than the previous model)"
      ],
      "execution_count": null,
      "outputs": []
    },
    {
      "cell_type": "code",
      "source": [
        "# Test 4\n",
        "# Change: Increase batch size to 64\n",
        "# Loss: 0.4472\n",
        "# Train acc: 85.1120\n",
        "# Test acc: 84.8100(worse than the previous model)"
      ],
      "metadata": {
        "id": "MykuaaLNGu1B"
      },
      "execution_count": null,
      "outputs": []
    },
    {
      "cell_type": "code",
      "metadata": {
        "id": "M0cnlcn3kXL2"
      },
      "source": [
        "# Q20. State any insights you gained from this exercise.\n",
        "# A20. At first, I assumed that the number of epochs(original model) 2 or 5 was too small, so I increased it to see if the model can run over epochs.\n",
        "# It shows better performance with higher number of epochs. I learned that we need to be sure if the number of epochs are large enough for the model to learn.\n",
        "# After training the model, we can draw the error curve and if we think the epoch number is too large, then we can decrease it then.\n",
        "# Also, complicated model can learn better. It cannot be applied everytime, but the higher layers with more nodes led performance improvement in this case.\n",
        "# There is no need to construct too complicated model for a simple task, so we need to find the right structure by redoing it over time.\n",
        "# The loss is gradually decreasing but sometimes there were small jumps. \n",
        "# Also, it seems that loss and training accuracy does not go to the same direction. I assumed the opposite way, so I will ask this one to professor next time.\n"
      ],
      "execution_count": null,
      "outputs": []
    }
  ]
}