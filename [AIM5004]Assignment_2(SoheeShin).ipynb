{
  "nbformat": 4,
  "nbformat_minor": 0,
  "metadata": {
    "colab": {
      "name": "[AIM5004]Assignment#2(SoheeShin)",
      "provenance": [],
      "collapsed_sections": [],
      "authorship_tag": "ABX9TyND+1dpaMDelfuLCzCJdOwS",
      "include_colab_link": true
    },
    "kernelspec": {
      "name": "python3",
      "display_name": "Python 3"
    },
    "language_info": {
      "name": "python"
    },
    "accelerator": "GPU",
    "widgets": {
      "application/vnd.jupyter.widget-state+json": {
        "78fb2d4cdc6847968d09a872a7c363ba": {
          "model_module": "@jupyter-widgets/controls",
          "model_name": "HBoxModel",
          "model_module_version": "1.5.0",
          "state": {
            "_dom_classes": [],
            "_model_module": "@jupyter-widgets/controls",
            "_model_module_version": "1.5.0",
            "_model_name": "HBoxModel",
            "_view_count": null,
            "_view_module": "@jupyter-widgets/controls",
            "_view_module_version": "1.5.0",
            "_view_name": "HBoxView",
            "box_style": "",
            "children": [
              "IPY_MODEL_847df5f8ec96472d953e0b8514835a33",
              "IPY_MODEL_33ed41617c4547789f4614dc8f218e54",
              "IPY_MODEL_6d0f80ce31eb4fbfa1c3c7441c165538"
            ],
            "layout": "IPY_MODEL_0d51ec1ba79e40a8ac956d579e0486af"
          }
        },
        "847df5f8ec96472d953e0b8514835a33": {
          "model_module": "@jupyter-widgets/controls",
          "model_name": "HTMLModel",
          "model_module_version": "1.5.0",
          "state": {
            "_dom_classes": [],
            "_model_module": "@jupyter-widgets/controls",
            "_model_module_version": "1.5.0",
            "_model_name": "HTMLModel",
            "_view_count": null,
            "_view_module": "@jupyter-widgets/controls",
            "_view_module_version": "1.5.0",
            "_view_name": "HTMLView",
            "description": "",
            "description_tooltip": null,
            "layout": "IPY_MODEL_0f20078db3804e72bf1734c4daf22126",
            "placeholder": "​",
            "style": "IPY_MODEL_c7cd5ebd138b484b80a4d41e2ca5f4f3",
            "value": ""
          }
        },
        "33ed41617c4547789f4614dc8f218e54": {
          "model_module": "@jupyter-widgets/controls",
          "model_name": "FloatProgressModel",
          "model_module_version": "1.5.0",
          "state": {
            "_dom_classes": [],
            "_model_module": "@jupyter-widgets/controls",
            "_model_module_version": "1.5.0",
            "_model_name": "FloatProgressModel",
            "_view_count": null,
            "_view_module": "@jupyter-widgets/controls",
            "_view_module_version": "1.5.0",
            "_view_name": "ProgressView",
            "bar_style": "success",
            "description": "",
            "description_tooltip": null,
            "layout": "IPY_MODEL_3ae1b41f96c24b6f8c55050e909bcd1f",
            "max": 170498071,
            "min": 0,
            "orientation": "horizontal",
            "style": "IPY_MODEL_af1476bfce7b44c8894e21cc047e28e6",
            "value": 170498071
          }
        },
        "6d0f80ce31eb4fbfa1c3c7441c165538": {
          "model_module": "@jupyter-widgets/controls",
          "model_name": "HTMLModel",
          "model_module_version": "1.5.0",
          "state": {
            "_dom_classes": [],
            "_model_module": "@jupyter-widgets/controls",
            "_model_module_version": "1.5.0",
            "_model_name": "HTMLModel",
            "_view_count": null,
            "_view_module": "@jupyter-widgets/controls",
            "_view_module_version": "1.5.0",
            "_view_name": "HTMLView",
            "description": "",
            "description_tooltip": null,
            "layout": "IPY_MODEL_4c41cdc9279e496dbfdd5879e13a5c70",
            "placeholder": "​",
            "style": "IPY_MODEL_c11cb70330164a1cac2bc1de19798030",
            "value": " 170499072/? [00:11&lt;00:00, 16378365.20it/s]"
          }
        },
        "0d51ec1ba79e40a8ac956d579e0486af": {
          "model_module": "@jupyter-widgets/base",
          "model_name": "LayoutModel",
          "model_module_version": "1.2.0",
          "state": {
            "_model_module": "@jupyter-widgets/base",
            "_model_module_version": "1.2.0",
            "_model_name": "LayoutModel",
            "_view_count": null,
            "_view_module": "@jupyter-widgets/base",
            "_view_module_version": "1.2.0",
            "_view_name": "LayoutView",
            "align_content": null,
            "align_items": null,
            "align_self": null,
            "border": null,
            "bottom": null,
            "display": null,
            "flex": null,
            "flex_flow": null,
            "grid_area": null,
            "grid_auto_columns": null,
            "grid_auto_flow": null,
            "grid_auto_rows": null,
            "grid_column": null,
            "grid_gap": null,
            "grid_row": null,
            "grid_template_areas": null,
            "grid_template_columns": null,
            "grid_template_rows": null,
            "height": null,
            "justify_content": null,
            "justify_items": null,
            "left": null,
            "margin": null,
            "max_height": null,
            "max_width": null,
            "min_height": null,
            "min_width": null,
            "object_fit": null,
            "object_position": null,
            "order": null,
            "overflow": null,
            "overflow_x": null,
            "overflow_y": null,
            "padding": null,
            "right": null,
            "top": null,
            "visibility": null,
            "width": null
          }
        },
        "0f20078db3804e72bf1734c4daf22126": {
          "model_module": "@jupyter-widgets/base",
          "model_name": "LayoutModel",
          "model_module_version": "1.2.0",
          "state": {
            "_model_module": "@jupyter-widgets/base",
            "_model_module_version": "1.2.0",
            "_model_name": "LayoutModel",
            "_view_count": null,
            "_view_module": "@jupyter-widgets/base",
            "_view_module_version": "1.2.0",
            "_view_name": "LayoutView",
            "align_content": null,
            "align_items": null,
            "align_self": null,
            "border": null,
            "bottom": null,
            "display": null,
            "flex": null,
            "flex_flow": null,
            "grid_area": null,
            "grid_auto_columns": null,
            "grid_auto_flow": null,
            "grid_auto_rows": null,
            "grid_column": null,
            "grid_gap": null,
            "grid_row": null,
            "grid_template_areas": null,
            "grid_template_columns": null,
            "grid_template_rows": null,
            "height": null,
            "justify_content": null,
            "justify_items": null,
            "left": null,
            "margin": null,
            "max_height": null,
            "max_width": null,
            "min_height": null,
            "min_width": null,
            "object_fit": null,
            "object_position": null,
            "order": null,
            "overflow": null,
            "overflow_x": null,
            "overflow_y": null,
            "padding": null,
            "right": null,
            "top": null,
            "visibility": null,
            "width": null
          }
        },
        "c7cd5ebd138b484b80a4d41e2ca5f4f3": {
          "model_module": "@jupyter-widgets/controls",
          "model_name": "DescriptionStyleModel",
          "model_module_version": "1.5.0",
          "state": {
            "_model_module": "@jupyter-widgets/controls",
            "_model_module_version": "1.5.0",
            "_model_name": "DescriptionStyleModel",
            "_view_count": null,
            "_view_module": "@jupyter-widgets/base",
            "_view_module_version": "1.2.0",
            "_view_name": "StyleView",
            "description_width": ""
          }
        },
        "3ae1b41f96c24b6f8c55050e909bcd1f": {
          "model_module": "@jupyter-widgets/base",
          "model_name": "LayoutModel",
          "model_module_version": "1.2.0",
          "state": {
            "_model_module": "@jupyter-widgets/base",
            "_model_module_version": "1.2.0",
            "_model_name": "LayoutModel",
            "_view_count": null,
            "_view_module": "@jupyter-widgets/base",
            "_view_module_version": "1.2.0",
            "_view_name": "LayoutView",
            "align_content": null,
            "align_items": null,
            "align_self": null,
            "border": null,
            "bottom": null,
            "display": null,
            "flex": null,
            "flex_flow": null,
            "grid_area": null,
            "grid_auto_columns": null,
            "grid_auto_flow": null,
            "grid_auto_rows": null,
            "grid_column": null,
            "grid_gap": null,
            "grid_row": null,
            "grid_template_areas": null,
            "grid_template_columns": null,
            "grid_template_rows": null,
            "height": null,
            "justify_content": null,
            "justify_items": null,
            "left": null,
            "margin": null,
            "max_height": null,
            "max_width": null,
            "min_height": null,
            "min_width": null,
            "object_fit": null,
            "object_position": null,
            "order": null,
            "overflow": null,
            "overflow_x": null,
            "overflow_y": null,
            "padding": null,
            "right": null,
            "top": null,
            "visibility": null,
            "width": null
          }
        },
        "af1476bfce7b44c8894e21cc047e28e6": {
          "model_module": "@jupyter-widgets/controls",
          "model_name": "ProgressStyleModel",
          "model_module_version": "1.5.0",
          "state": {
            "_model_module": "@jupyter-widgets/controls",
            "_model_module_version": "1.5.0",
            "_model_name": "ProgressStyleModel",
            "_view_count": null,
            "_view_module": "@jupyter-widgets/base",
            "_view_module_version": "1.2.0",
            "_view_name": "StyleView",
            "bar_color": null,
            "description_width": ""
          }
        },
        "4c41cdc9279e496dbfdd5879e13a5c70": {
          "model_module": "@jupyter-widgets/base",
          "model_name": "LayoutModel",
          "model_module_version": "1.2.0",
          "state": {
            "_model_module": "@jupyter-widgets/base",
            "_model_module_version": "1.2.0",
            "_model_name": "LayoutModel",
            "_view_count": null,
            "_view_module": "@jupyter-widgets/base",
            "_view_module_version": "1.2.0",
            "_view_name": "LayoutView",
            "align_content": null,
            "align_items": null,
            "align_self": null,
            "border": null,
            "bottom": null,
            "display": null,
            "flex": null,
            "flex_flow": null,
            "grid_area": null,
            "grid_auto_columns": null,
            "grid_auto_flow": null,
            "grid_auto_rows": null,
            "grid_column": null,
            "grid_gap": null,
            "grid_row": null,
            "grid_template_areas": null,
            "grid_template_columns": null,
            "grid_template_rows": null,
            "height": null,
            "justify_content": null,
            "justify_items": null,
            "left": null,
            "margin": null,
            "max_height": null,
            "max_width": null,
            "min_height": null,
            "min_width": null,
            "object_fit": null,
            "object_position": null,
            "order": null,
            "overflow": null,
            "overflow_x": null,
            "overflow_y": null,
            "padding": null,
            "right": null,
            "top": null,
            "visibility": null,
            "width": null
          }
        },
        "c11cb70330164a1cac2bc1de19798030": {
          "model_module": "@jupyter-widgets/controls",
          "model_name": "DescriptionStyleModel",
          "model_module_version": "1.5.0",
          "state": {
            "_model_module": "@jupyter-widgets/controls",
            "_model_module_version": "1.5.0",
            "_model_name": "DescriptionStyleModel",
            "_view_count": null,
            "_view_module": "@jupyter-widgets/base",
            "_view_module_version": "1.2.0",
            "_view_name": "StyleView",
            "description_width": ""
          }
        }
      }
    }
  },
  "cells": [
    {
      "cell_type": "markdown",
      "metadata": {
        "id": "view-in-github",
        "colab_type": "text"
      },
      "source": [
        "<a href=\"https://colab.research.google.com/github/SophieShin/DeepLearning/blob/main/%5BAIM5004%5DAssignment_2(SoheeShin).ipynb\" target=\"_parent\"><img src=\"https://colab.research.google.com/assets/colab-badge.svg\" alt=\"Open In Colab\"/></a>"
      ]
    },
    {
      "cell_type": "markdown",
      "source": [
        "\n",
        "\n",
        "###1. Training Convolutional Neural Networks (CNN). You are going to write codes in python w/ whichever deep learning libraries you prefer to use, e.g. pytorch, tensorflow, keras, jax,mxnet, and so on.\n"
      ],
      "metadata": {
        "id": "vQEkIcMedd5f"
      }
    },
    {
      "cell_type": "markdown",
      "source": [
        "#### (a) Download CIFAR-10 dataset from https://www.cs.toronto.edu/~kriz/cifar.htmland report the statistics of the dataset, e.g. how many training (and testing) images,the size of each image, the number of class and the number of images per each classes.Also show random 5 images from each classes. Report the mean and standard deviation of the training datasets for each color channels (R,G,B). (1 pts)"
      ],
      "metadata": {
        "id": "AMd1Yldrdnmp"
      }
    },
    {
      "cell_type": "code",
      "execution_count": 1,
      "metadata": {
        "id": "prC-pyOVdVvB"
      },
      "outputs": [],
      "source": [
        "import torch\n",
        "import torchvision\n",
        "import torchvision.transforms as transforms\n",
        "from torch.utils.data import Dataset, DataLoader\n",
        "\n",
        "import torch.nn as nn\n",
        "import torch.optim as optim\n",
        "\n",
        "import matplotlib.pyplot as plt\n",
        "import numpy as np"
      ]
    },
    {
      "cell_type": "code",
      "source": [
        "# Use GPU\n",
        "device = torch.device('cuda' if torch.cuda.is_available() else 'cpu')\n",
        "print(device)"
      ],
      "metadata": {
        "colab": {
          "base_uri": "https://localhost:8080/"
        },
        "id": "iskD2_XUd-nP",
        "outputId": "22b31847-6a66-4f2f-d094-3558a31da8e4"
      },
      "execution_count": 2,
      "outputs": [
        {
          "output_type": "stream",
          "name": "stdout",
          "text": [
            "cuda\n"
          ]
        }
      ]
    },
    {
      "cell_type": "code",
      "source": [
        "# Load the data\n",
        "transform = transforms.Compose([transforms.ToTensor()])\n",
        "\n",
        "train_set = torchvision.datasets.CIFAR10('./', train = True, download = True, transform = transform)\n",
        "test_set = torchvision.datasets.CIFAR10('./', train = False, download = True, transform = transform)"
      ],
      "metadata": {
        "colab": {
          "base_uri": "https://localhost:8080/",
          "height": 103,
          "referenced_widgets": [
            "78fb2d4cdc6847968d09a872a7c363ba",
            "847df5f8ec96472d953e0b8514835a33",
            "33ed41617c4547789f4614dc8f218e54",
            "6d0f80ce31eb4fbfa1c3c7441c165538",
            "0d51ec1ba79e40a8ac956d579e0486af",
            "0f20078db3804e72bf1734c4daf22126",
            "c7cd5ebd138b484b80a4d41e2ca5f4f3",
            "3ae1b41f96c24b6f8c55050e909bcd1f",
            "af1476bfce7b44c8894e21cc047e28e6",
            "4c41cdc9279e496dbfdd5879e13a5c70",
            "c11cb70330164a1cac2bc1de19798030"
          ]
        },
        "id": "pmSZ_udIeFmH",
        "outputId": "4f1a9f16-b419-4aa8-b01e-704674a7b8b2"
      },
      "execution_count": 3,
      "outputs": [
        {
          "output_type": "stream",
          "name": "stdout",
          "text": [
            "Downloading https://www.cs.toronto.edu/~kriz/cifar-10-python.tar.gz to ./cifar-10-python.tar.gz\n"
          ]
        },
        {
          "output_type": "display_data",
          "data": {
            "text/plain": [
              "  0%|          | 0/170498071 [00:00<?, ?it/s]"
            ],
            "application/vnd.jupyter.widget-view+json": {
              "version_major": 2,
              "version_minor": 0,
              "model_id": "78fb2d4cdc6847968d09a872a7c363ba"
            }
          },
          "metadata": {}
        },
        {
          "output_type": "stream",
          "name": "stdout",
          "text": [
            "Extracting ./cifar-10-python.tar.gz to ./\n",
            "Files already downloaded and verified\n"
          ]
        }
      ]
    },
    {
      "cell_type": "code",
      "source": [
        "train_set"
      ],
      "metadata": {
        "colab": {
          "base_uri": "https://localhost:8080/"
        },
        "id": "1VrqsrQ9h5O3",
        "outputId": "60e472dc-b763-4823-975f-4da7525c09d4"
      },
      "execution_count": null,
      "outputs": [
        {
          "output_type": "execute_result",
          "data": {
            "text/plain": [
              "Dataset CIFAR10\n",
              "    Number of datapoints: 50000\n",
              "    Root location: ./\n",
              "    Split: Train\n",
              "    StandardTransform\n",
              "Transform: Compose(\n",
              "               ToTensor()\n",
              "           )"
            ]
          },
          "metadata": {},
          "execution_count": 4
        }
      ]
    },
    {
      "cell_type": "code",
      "source": [
        "# Hyperparameters\n",
        "# 교수님께서 epochs을 약간 달리 해도 된다고 하셔서 5로 했을 때 학습이 잘 안되어 10으로 하였습니다.\n",
        "\n",
        "batch_size = 4\n",
        "learning_rate = 0.001\n",
        "momentum = 0.9\n",
        "num_epochs = 10"
      ],
      "metadata": {
        "id": "t2I1iRjvgC1e"
      },
      "execution_count": 4,
      "outputs": []
    },
    {
      "cell_type": "code",
      "source": [
        "# Get batches by using dataloader\n",
        "train_loader = torch.utils.data.DataLoader(train_set, batch_size=batch_size, shuffle = True)\n",
        "test_loader = torch.utils.data.DataLoader(test_set, batch_size=batch_size, shuffle = False)\n",
        "\n",
        "classes = train_set.classes\n",
        "print(f'classes= {classes}')\n"
      ],
      "metadata": {
        "id": "0s6fpBYCesXt",
        "colab": {
          "base_uri": "https://localhost:8080/"
        },
        "outputId": "4cd964a3-d53c-40d9-8524-1b0b11127de5"
      },
      "execution_count": 5,
      "outputs": [
        {
          "output_type": "stream",
          "name": "stdout",
          "text": [
            "classes= ['airplane', 'automobile', 'bird', 'cat', 'deer', 'dog', 'frog', 'horse', 'ship', 'truck']\n"
          ]
        }
      ]
    },
    {
      "cell_type": "code",
      "source": [
        "# Statistics of the dataset\n",
        "batch = next(iter(train_loader))\n",
        "print(f'Number of Train data : {len(train_set)}')\n",
        "print(f'Number of Test data : {len(test_set)}')\n",
        "print(f'Image Size[batch, channel, width, height]: {batch[0].shape}')\n"
      ],
      "metadata": {
        "colab": {
          "base_uri": "https://localhost:8080/"
        },
        "id": "kI5xmYM-gGD1",
        "outputId": "cd2caefc-7c2d-4528-b2d2-f702f4eb9162"
      },
      "execution_count": 6,
      "outputs": [
        {
          "output_type": "stream",
          "name": "stdout",
          "text": [
            "Number of Train data : 50000\n",
            "Number of Test data : 10000\n",
            "Image Size[batch, channel, width, height]: torch.Size([4, 3, 32, 32])\n"
          ]
        }
      ]
    },
    {
      "cell_type": "code",
      "source": [
        "# the number of images per each classes in training set\n",
        "\n",
        "dataset_size = len(train_set)\n",
        "classes = train_set.classes\n",
        "num_classes = len(train_set.classes)\n",
        "img_dict = {}\n",
        "for i in range(num_classes):\n",
        "    img_dict[classes[i]] = 0\n",
        "\n",
        "for i in range(dataset_size):\n",
        "    img, label = train_set[i]\n",
        "    img_dict[classes[label]] += 1\n",
        "\n",
        "img_dict"
      ],
      "metadata": {
        "colab": {
          "base_uri": "https://localhost:8080/"
        },
        "id": "8smNlYV3lgys",
        "outputId": "eb0c8e20-6c4d-4cb9-b0c7-ec8755e87a46"
      },
      "execution_count": null,
      "outputs": [
        {
          "output_type": "execute_result",
          "data": {
            "text/plain": [
              "{'airplane': 5000,\n",
              " 'automobile': 5000,\n",
              " 'bird': 5000,\n",
              " 'cat': 5000,\n",
              " 'deer': 5000,\n",
              " 'dog': 5000,\n",
              " 'frog': 5000,\n",
              " 'horse': 5000,\n",
              " 'ship': 5000,\n",
              " 'truck': 5000}"
            ]
          },
          "metadata": {},
          "execution_count": 8
        }
      ]
    },
    {
      "cell_type": "code",
      "source": [
        "# view 5 images\n",
        "train_loader_5 = torch.utils.data.DataLoader(train_set, batch_size=5, shuffle = True)\n",
        "batch_5 = next(iter(train_loader_5))\n",
        "images_5, labels_5 = batch_5\n",
        "plt.figure(figsize = (12,12))\n",
        "grid = torchvision.utils.make_grid(tensor = images_5, nrow = 5)\n",
        "plt.imshow(grid.permute(1,2,0))\n"
      ],
      "metadata": {
        "colab": {
          "base_uri": "https://localhost:8080/",
          "height": 208
        },
        "id": "bJDnSDtrm0bK",
        "outputId": "ad551efc-111a-414c-ecc0-7ea20d0b7098"
      },
      "execution_count": null,
      "outputs": [
        {
          "output_type": "execute_result",
          "data": {
            "text/plain": [
              "<matplotlib.image.AxesImage at 0x7f6db6009690>"
            ]
          },
          "metadata": {},
          "execution_count": 9
        },
        {
          "output_type": "display_data",
          "data": {
            "text/plain": [
              "<Figure size 864x864 with 1 Axes>"
            ],
            "image/png": "[encoded data removed]"
          },
          "metadata": {
            "needs_background": "light"
          }
        }
      ]
    },
    {
      "cell_type": "code",
      "source": [
        "# the mean and standard deviation of the training datasets for each color channels\n",
        "\n",
        "R_channel, G_channel, B_channel = [], [], []\n",
        "\n",
        "for i in range(len(train_set)):\n",
        "  R_channel.append(train_set[i][0][0].reshape(1,-1).numpy())\n",
        "  G_channel.append(train_set[i][0][1].reshape(1,-1).numpy())\n",
        "  B_channel.append(train_set[i][0][2].reshape(1,-1).numpy())\n",
        "  i += 1\n",
        "\n",
        "print(f'The mean and std of R Channel : {np.mean(R_channel)}, {np.std(R_channel)} ')\n",
        "print(f'The mean and std of G Channel : {np.mean(G_channel)}, {np.std(G_channel)} ')\n",
        "print(f'The mean and std of B Channel : {np.mean(B_channel)}, {np.std(B_channel)} ')"
      ],
      "metadata": {
        "colab": {
          "base_uri": "https://localhost:8080/"
        },
        "id": "65qhIXAGoKgL",
        "outputId": "ab2bcc16-4127-4d2c-9f0f-8f263a782c3e"
      },
      "execution_count": 7,
      "outputs": [
        {
          "output_type": "stream",
          "name": "stdout",
          "text": [
            "The mean and std of R Channel : 0.4913996756076813, 0.24703232944011688 \n",
            "The mean and std of G Channel : 0.48215827345848083, 0.24348504841327667 \n",
            "The mean and std of B Channel : 0.4465312361717224, 0.2615876793861389 \n"
          ]
        }
      ]
    },
    {
      "cell_type": "markdown",
      "source": [
        "#### (b) Design a CNN architecture and write the training codes w/ the following hyperparameters. Provide a training loss curve (x-axis: the number of training iteration, y-axis: loss value) and a testing accuracy curve (x-axis: the number of training iteration, y-axis: classification accuracy on testing dataset)."
      ],
      "metadata": {
        "id": "Wz6a1MV6t4nz"
      }
    },
    {
      "cell_type": "markdown",
      "source": [
        "[conv1] → input channels: 3, output channels: 6, kernel size: 5, padding: 0, stride:\n",
        "1\n",
        "[max pooling] → kernel size: 2, stride: 2\n",
        "[conv2] → input channels: 6, output channels: 16, kernel size: 5, padding: 0,\n",
        "stride: 1\n",
        "[fully connected layer1] → output channels: 120\n",
        "[fully connected layer2] → output channels: 84\n",
        "[fully connected layer3] → output channels: 10"
      ],
      "metadata": {
        "id": "rBcBcg-cwXka"
      }
    },
    {
      "cell_type": "code",
      "source": [
        "# Compute number of nodes before feeding FC\n",
        "size = (32-4)/2 -4\n",
        "out_channel = 16\n",
        "num_nodes = int(size * size * out_channel)\n",
        "print(f'num_nodes: {num_nodes}')"
      ],
      "metadata": {
        "colab": {
          "base_uri": "https://localhost:8080/"
        },
        "id": "BfN1uGOCyFDn",
        "outputId": "49251e4a-2d9f-4c7e-89a8-f739565668fe"
      },
      "execution_count": 8,
      "outputs": [
        {
          "output_type": "stream",
          "name": "stdout",
          "text": [
            "num_nodes: 1600\n"
          ]
        }
      ]
    },
    {
      "cell_type": "code",
      "source": [
        "class CNN(nn.Module):\n",
        "  def __init__(self):\n",
        "    super().__init__()\n",
        "    self.conv1 = nn.Conv2d(in_channels = 3, out_channels=6, kernel_size = 5, stride = 1, padding = 0)\n",
        "    self.relu = nn.ReLU()\n",
        "    self.pool = nn.MaxPool2d(kernel_size = 2, stride = 2)\n",
        "    self.conv2 = nn.Conv2d(in_channels = 6, out_channels=16, kernel_size = 5, stride = 1, padding = 0)\n",
        "    self.fc1 = nn.Linear(num_nodes, 120) # Flatten 3d tensor to 1d tensor(1600)\n",
        "    self.fc2 = nn.Linear(120,84)\n",
        "    self.fc3 = nn.Linear(84,10)\n",
        "\n",
        "  def forward(self, x):\n",
        "    out = self.conv1(x)\n",
        "    out = self.relu(out)\n",
        "    out = self.pool(out)\n",
        "    out = self.conv2(out)\n",
        "    out = self.relu(out)\n",
        "    out = out.reshape(-1, num_nodes)\n",
        "    out = self.fc1(out)\n",
        "    out = self.relu(out)\n",
        "    out = self.fc2(out)\n",
        "    out = self.relu(out)\n",
        "    out = self.fc3(out)\n",
        "    return out\n",
        "    # No softmax as it will be includ in Cross Entropy Loss"
      ],
      "metadata": {
        "id": "LafwAoBOouKu"
      },
      "execution_count": 9,
      "outputs": []
    },
    {
      "cell_type": "code",
      "source": [
        "model = CNN().to(device)"
      ],
      "metadata": {
        "id": "I30YRr9l0hmF"
      },
      "execution_count": 10,
      "outputs": []
    },
    {
      "cell_type": "code",
      "source": [
        "model.eval()"
      ],
      "metadata": {
        "colab": {
          "base_uri": "https://localhost:8080/"
        },
        "id": "HCPw5ui8RZdh",
        "outputId": "ebce9ff6-aac8-49cf-ee37-f997970f4580"
      },
      "execution_count": 11,
      "outputs": [
        {
          "output_type": "execute_result",
          "data": {
            "text/plain": [
              "CNN(\n",
              "  (conv1): Conv2d(3, 6, kernel_size=(5, 5), stride=(1, 1))\n",
              "  (relu): ReLU()\n",
              "  (pool): MaxPool2d(kernel_size=2, stride=2, padding=0, dilation=1, ceil_mode=False)\n",
              "  (conv2): Conv2d(6, 16, kernel_size=(5, 5), stride=(1, 1))\n",
              "  (fc1): Linear(in_features=1600, out_features=120, bias=True)\n",
              "  (fc2): Linear(in_features=120, out_features=84, bias=True)\n",
              "  (fc3): Linear(in_features=84, out_features=10, bias=True)\n",
              ")"
            ]
          },
          "metadata": {},
          "execution_count": 11
        }
      ]
    },
    {
      "cell_type": "code",
      "source": [
        "# Loss Function and optimizer\n",
        "\n",
        "criterion = nn.CrossEntropyLoss()\n",
        "opt = optim.SGD(model.parameters(), lr = learning_rate, momentum = momentum)"
      ],
      "metadata": {
        "id": "zK7cVLZvbtcO"
      },
      "execution_count": 12,
      "outputs": []
    },
    {
      "cell_type": "code",
      "source": [
        "# accuracy function\n",
        "\n",
        "def get_accuracy(model, data):\n",
        "  correct = 0\n",
        "  total = 0\n",
        "  model.eval()\n",
        "  for images, labels in data:\n",
        "    images = images.to(device)\n",
        "    output = model(images)\n",
        "    pred = output.max(1, keepdim = True)[1].item()\n",
        "    if pred == labels:\n",
        "      correct += 1\n",
        "    total += 1\n",
        "  return 100.0 * correct / total\n"
      ],
      "metadata": {
        "id": "0w1iQaIDL-t8"
      },
      "execution_count": 13,
      "outputs": []
    },
    {
      "cell_type": "code",
      "source": [
        "# training\n",
        "\n",
        "n_total_steps = len(train_set)\n",
        "n_iterations = -(-n_total_steps//batch_size )\n",
        "losses = []\n",
        "train_acc = []\n",
        "test_acc = []\n",
        "\n",
        "for epoch in range(num_epochs):\n",
        "  for i, (images, labels) in enumerate(train_loader):\n",
        "    images = images.to(device)\n",
        "    labels = labels.to(device)\n",
        "\n",
        "    output = model(images)\n",
        "    loss = criterion(output, labels)\n",
        "\n",
        "    opt.zero_grad()\n",
        "    loss.backward()\n",
        "    opt.step()\n",
        "\n",
        "    if (i+1) % 2500 == 0:\n",
        "        print(f'Epoch {epoch+1}/{num_epochs}, iteration {i+1}/{n_iterations}, loss = {loss.item():.4f}')\n",
        "\n",
        "  losses.append(float(loss)/batch_size)\n",
        "  train_acc.append(get_accuracy(model, train_set))\n",
        "  test_acc.append(get_accuracy(model, test_set))\n",
        "\n",
        "    "
      ],
      "metadata": {
        "colab": {
          "base_uri": "https://localhost:8080/"
        },
        "id": "y9I1excULO7N",
        "outputId": "377bf3a0-f43f-482d-ea78-982b2762ff1c"
      },
      "execution_count": 14,
      "outputs": [
        {
          "output_type": "stream",
          "name": "stdout",
          "text": [
            "Epoch 1/10, iteration 2500/12500, loss = 1.8431\n",
            "Epoch 1/10, iteration 5000/12500, loss = 1.6632\n",
            "Epoch 1/10, iteration 7500/12500, loss = 1.8465\n",
            "Epoch 1/10, iteration 10000/12500, loss = 1.9679\n",
            "Epoch 1/10, iteration 12500/12500, loss = 1.0729\n",
            "Epoch 2/10, iteration 2500/12500, loss = 0.8190\n",
            "Epoch 2/10, iteration 5000/12500, loss = 1.3858\n",
            "Epoch 2/10, iteration 7500/12500, loss = 1.5222\n",
            "Epoch 2/10, iteration 10000/12500, loss = 1.0035\n",
            "Epoch 2/10, iteration 12500/12500, loss = 1.3485\n",
            "Epoch 3/10, iteration 2500/12500, loss = 2.2997\n",
            "Epoch 3/10, iteration 5000/12500, loss = 1.6169\n",
            "Epoch 3/10, iteration 7500/12500, loss = 1.6534\n",
            "Epoch 3/10, iteration 10000/12500, loss = 0.6308\n",
            "Epoch 3/10, iteration 12500/12500, loss = 1.2285\n",
            "Epoch 4/10, iteration 2500/12500, loss = 1.8033\n",
            "Epoch 4/10, iteration 5000/12500, loss = 1.2823\n",
            "Epoch 4/10, iteration 7500/12500, loss = 2.4854\n",
            "Epoch 4/10, iteration 10000/12500, loss = 0.9499\n",
            "Epoch 4/10, iteration 12500/12500, loss = 2.9970\n",
            "Epoch 5/10, iteration 2500/12500, loss = 1.5983\n",
            "Epoch 5/10, iteration 5000/12500, loss = 0.9712\n",
            "Epoch 5/10, iteration 7500/12500, loss = 0.2482\n",
            "Epoch 5/10, iteration 10000/12500, loss = 1.7508\n",
            "Epoch 5/10, iteration 12500/12500, loss = 0.9076\n",
            "Epoch 6/10, iteration 2500/12500, loss = 1.4413\n",
            "Epoch 6/10, iteration 5000/12500, loss = 1.2111\n",
            "Epoch 6/10, iteration 7500/12500, loss = 1.4166\n",
            "Epoch 6/10, iteration 10000/12500, loss = 1.7994\n",
            "Epoch 6/10, iteration 12500/12500, loss = 1.3787\n",
            "Epoch 7/10, iteration 2500/12500, loss = 1.1106\n",
            "Epoch 7/10, iteration 5000/12500, loss = 0.3248\n",
            "Epoch 7/10, iteration 7500/12500, loss = 0.6734\n",
            "Epoch 7/10, iteration 10000/12500, loss = 2.6982\n",
            "Epoch 7/10, iteration 12500/12500, loss = 0.7732\n",
            "Epoch 8/10, iteration 2500/12500, loss = 1.5062\n",
            "Epoch 8/10, iteration 5000/12500, loss = 0.5740\n",
            "Epoch 8/10, iteration 7500/12500, loss = 1.8036\n",
            "Epoch 8/10, iteration 10000/12500, loss = 1.4352\n",
            "Epoch 8/10, iteration 12500/12500, loss = 0.9092\n",
            "Epoch 9/10, iteration 2500/12500, loss = 0.0183\n",
            "Epoch 9/10, iteration 5000/12500, loss = 0.6950\n",
            "Epoch 9/10, iteration 7500/12500, loss = 0.9618\n",
            "Epoch 9/10, iteration 10000/12500, loss = 0.9818\n",
            "Epoch 9/10, iteration 12500/12500, loss = 1.1542\n",
            "Epoch 10/10, iteration 2500/12500, loss = 2.8894\n",
            "Epoch 10/10, iteration 5000/12500, loss = 1.7375\n",
            "Epoch 10/10, iteration 7500/12500, loss = 0.8252\n",
            "Epoch 10/10, iteration 10000/12500, loss = 0.9055\n",
            "Epoch 10/10, iteration 12500/12500, loss = 0.4789\n"
          ]
        }
      ]
    },
    {
      "cell_type": "code",
      "source": [
        "plt.figure(figsize = (10, 5))\n",
        "plt.subplot(1,2,1)\n",
        "plt.title('Training Curve')\n",
        "plt.plot(losses, label = 'Training Loss')\n",
        "plt.xlabel('Epochs')\n",
        "plt.ylabel('Loss')\n",
        "\n",
        "plt.subplot(1,2,2)\n",
        "plt.title('Accuracy')\n",
        "plt.plot(train_acc, label = 'Training Accuracy')\n",
        "plt.plot(test_acc, label = 'Test Accuracy')\n",
        "plt.xlabel('Epochs')\n",
        "plt.ylabel('Accuracy')\n",
        "plt.legend()\n",
        "plt.show()\n",
        "\n",
        "print(f'Final Training Accuracy : {train_acc[-1]}')\n",
        "print(f'Final Test Accuracy : {test_acc[-1]}')\n",
        "print(f'Final Loss : {losses[-1]}')"
      ],
      "metadata": {
        "colab": {
          "base_uri": "https://localhost:8080/",
          "height": 405
        },
        "id": "PkXGKS11P_a-",
        "outputId": "7a33ab50-fcfc-4a16-b830-c2420764faf1"
      },
      "execution_count": 15,
      "outputs": [
        {
          "output_type": "display_data",
          "data": {
            "text/plain": [
              "<Figure size 720x360 with 2 Axes>"
            ],
            "image/png": "[encoded data removed]"
          },
          "metadata": {
            "needs_background": "light"
          }
        },
        {
          "output_type": "stream",
          "name": "stdout",
          "text": [
            "Final Training Accuracy : 75.2\n",
            "Final Test Accuracy : 56.04\n",
            "Final Loss : 0.11973629891872406\n"
          ]
        }
      ]
    },
    {
      "cell_type": "markdown",
      "source": [
        "#### (c) Normalize the inputs with mean and standard deviation computed in (1). Compare the training loss and testing accuracy curves by drawing two curves in a same plot. "
      ],
      "metadata": {
        "id": "Lv8B9t4BZTzD"
      }
    },
    {
      "cell_type": "code",
      "source": [
        "transform = transforms.Compose([transforms.ToTensor(),\n",
        "                                transforms.Normalize((np.mean(R_channel),np.mean(G_channel),np.mean(B_channel)), (np.std(R_channel),np.std(G_channel),np.std(B_channel)))])\n",
        "\n",
        "train_set = torchvision.datasets.CIFAR10('./', train = True, download = True, transform = transform)\n",
        "test_set = torchvision.datasets.CIFAR10('./', train = False, download = True, transform = transform)"
      ],
      "metadata": {
        "colab": {
          "base_uri": "https://localhost:8080/"
        },
        "id": "yEjT-CHmZWeD",
        "outputId": "61d87653-1ba5-434f-8d8b-bf73c8b0690d"
      },
      "execution_count": 16,
      "outputs": [
        {
          "output_type": "stream",
          "name": "stdout",
          "text": [
            "Files already downloaded and verified\n",
            "Files already downloaded and verified\n"
          ]
        }
      ]
    },
    {
      "cell_type": "code",
      "source": [
        "model.eval()"
      ],
      "metadata": {
        "id": "HvxM5ftjfIjm",
        "colab": {
          "base_uri": "https://localhost:8080/"
        },
        "outputId": "f91137da-7655-4f46-ddfe-b349a66139f0"
      },
      "execution_count": 17,
      "outputs": [
        {
          "output_type": "execute_result",
          "data": {
            "text/plain": [
              "CNN(\n",
              "  (conv1): Conv2d(3, 6, kernel_size=(5, 5), stride=(1, 1))\n",
              "  (relu): ReLU()\n",
              "  (pool): MaxPool2d(kernel_size=2, stride=2, padding=0, dilation=1, ceil_mode=False)\n",
              "  (conv2): Conv2d(6, 16, kernel_size=(5, 5), stride=(1, 1))\n",
              "  (fc1): Linear(in_features=1600, out_features=120, bias=True)\n",
              "  (fc2): Linear(in_features=120, out_features=84, bias=True)\n",
              "  (fc3): Linear(in_features=84, out_features=10, bias=True)\n",
              ")"
            ]
          },
          "metadata": {},
          "execution_count": 17
        }
      ]
    },
    {
      "cell_type": "code",
      "source": [
        "# Loss Function and optimizer\n",
        "\n",
        "criterion = nn.CrossEntropyLoss()\n",
        "opt = optim.SGD(model.parameters(), lr = learning_rate, momentum = momentum)"
      ],
      "metadata": {
        "id": "hBLVP2PdqlD-"
      },
      "execution_count": 18,
      "outputs": []
    },
    {
      "cell_type": "code",
      "source": [
        "n_total_steps = len(train_set)\n",
        "n_iterations = -(-n_total_steps//batch_size )\n",
        "losses = []\n",
        "train_acc = []\n",
        "test_acc = []\n",
        "\n",
        "\n",
        "for epoch in range(num_epochs):\n",
        "  for i, (images, labels) in enumerate(train_loader):\n",
        "    images = images.to(device)\n",
        "    labels = labels.to(device)\n",
        "\n",
        "    output = model(images)\n",
        "    loss = criterion(output, labels)\n",
        "\n",
        "    opt.zero_grad()\n",
        "    loss.backward()\n",
        "    opt.step()\n",
        "\n",
        "    if (i+1) % 2500 == 0:\n",
        "        print(f'Epoch {epoch+1}/{num_epochs}, iteration {i+1}/{n_iterations}, loss = {loss.item():.4f}')\n",
        "\n",
        "  losses.append(float(loss)/batch_size)\n",
        "  train_acc.append(get_accuracy(model, train_set))\n",
        "  test_acc.append(get_accuracy(model, test_set))\n",
        "\n",
        "    "
      ],
      "metadata": {
        "colab": {
          "base_uri": "https://localhost:8080/"
        },
        "id": "vY1sLZcuZ0RC",
        "outputId": "9104cd2c-6a08-435f-cad5-8db79858badb"
      },
      "execution_count": 19,
      "outputs": [
        {
          "output_type": "stream",
          "name": "stdout",
          "text": [
            "Epoch 1/10, iteration 2500/12500, loss = 0.4927\n",
            "Epoch 1/10, iteration 5000/12500, loss = 1.1523\n",
            "Epoch 1/10, iteration 7500/12500, loss = 0.0912\n",
            "Epoch 1/10, iteration 10000/12500, loss = 0.2465\n",
            "Epoch 1/10, iteration 12500/12500, loss = 0.3823\n",
            "Epoch 2/10, iteration 2500/12500, loss = 0.8034\n",
            "Epoch 2/10, iteration 5000/12500, loss = 0.7962\n",
            "Epoch 2/10, iteration 7500/12500, loss = 1.7935\n",
            "Epoch 2/10, iteration 10000/12500, loss = 0.4913\n",
            "Epoch 2/10, iteration 12500/12500, loss = 0.5120\n",
            "Epoch 3/10, iteration 2500/12500, loss = 1.9799\n",
            "Epoch 3/10, iteration 5000/12500, loss = 0.5306\n",
            "Epoch 3/10, iteration 7500/12500, loss = 0.7726\n",
            "Epoch 3/10, iteration 10000/12500, loss = 0.4413\n",
            "Epoch 3/10, iteration 12500/12500, loss = 0.6502\n",
            "Epoch 4/10, iteration 2500/12500, loss = 0.6296\n",
            "Epoch 4/10, iteration 5000/12500, loss = 0.8529\n",
            "Epoch 4/10, iteration 7500/12500, loss = 0.1623\n",
            "Epoch 4/10, iteration 10000/12500, loss = 1.5137\n",
            "Epoch 4/10, iteration 12500/12500, loss = 0.5216\n",
            "Epoch 5/10, iteration 2500/12500, loss = 0.1215\n",
            "Epoch 5/10, iteration 5000/12500, loss = 0.0431\n",
            "Epoch 5/10, iteration 7500/12500, loss = 1.1722\n",
            "Epoch 5/10, iteration 10000/12500, loss = 0.2400\n",
            "Epoch 5/10, iteration 12500/12500, loss = 0.1976\n",
            "Epoch 6/10, iteration 2500/12500, loss = 0.4445\n",
            "Epoch 6/10, iteration 5000/12500, loss = 0.8412\n",
            "Epoch 6/10, iteration 7500/12500, loss = 0.0941\n",
            "Epoch 6/10, iteration 10000/12500, loss = 1.5564\n",
            "Epoch 6/10, iteration 12500/12500, loss = 0.6477\n",
            "Epoch 7/10, iteration 2500/12500, loss = 1.3006\n",
            "Epoch 7/10, iteration 5000/12500, loss = 0.7931\n",
            "Epoch 7/10, iteration 7500/12500, loss = 1.1545\n",
            "Epoch 7/10, iteration 10000/12500, loss = 0.4996\n",
            "Epoch 7/10, iteration 12500/12500, loss = 0.0342\n",
            "Epoch 8/10, iteration 2500/12500, loss = 0.0412\n",
            "Epoch 8/10, iteration 5000/12500, loss = 0.1780\n",
            "Epoch 8/10, iteration 7500/12500, loss = 0.4963\n",
            "Epoch 8/10, iteration 10000/12500, loss = 0.4499\n",
            "Epoch 8/10, iteration 12500/12500, loss = 0.0977\n",
            "Epoch 9/10, iteration 2500/12500, loss = 1.1411\n",
            "Epoch 9/10, iteration 5000/12500, loss = 1.9155\n",
            "Epoch 9/10, iteration 7500/12500, loss = 0.2336\n",
            "Epoch 9/10, iteration 10000/12500, loss = 0.5688\n",
            "Epoch 9/10, iteration 12500/12500, loss = 1.3407\n",
            "Epoch 10/10, iteration 2500/12500, loss = 0.8856\n",
            "Epoch 10/10, iteration 5000/12500, loss = 0.5839\n",
            "Epoch 10/10, iteration 7500/12500, loss = 0.0052\n",
            "Epoch 10/10, iteration 10000/12500, loss = 0.5402\n",
            "Epoch 10/10, iteration 12500/12500, loss = 1.6930\n"
          ]
        }
      ]
    },
    {
      "cell_type": "code",
      "source": [
        "plt.figure(figsize= (10,5))\n",
        "plt.subplot(1,2,1)\n",
        "plt.title('Training Curve')\n",
        "plt.plot(losses, label = 'Training Loss')\n",
        "plt.xlabel('Epochs')\n",
        "plt.ylabel('Loss')\n",
        "\n",
        "plt.subplot(1,2,2)\n",
        "plt.title('Accuracy')\n",
        "plt.plot(train_acc, label = 'Training Accuracy')\n",
        "plt.plot(test_acc, label = 'Test Accuracy')\n",
        "plt.xlabel('Epochs')\n",
        "plt.ylabel('Accuracy')\n",
        "plt.legend()\n",
        "plt.show()\n",
        "\n",
        "print(f'Final Training Accuracy : {train_acc[-1]}')\n",
        "print(f'Final Test Accuracy : {test_acc[-1]}')\n",
        "print(f'Final Loss : {losses[-1]}')"
      ],
      "metadata": {
        "id": "uQ4GlFELZ9ue",
        "colab": {
          "base_uri": "https://localhost:8080/",
          "height": 405
        },
        "outputId": "6ab507b5-259d-4fe2-a548-d61cc5e0b346"
      },
      "execution_count": 20,
      "outputs": [
        {
          "output_type": "display_data",
          "data": {
            "text/plain": [
              "<Figure size 720x360 with 2 Axes>"
            ],
            "image/png": "[encoded data removed]"
          },
          "metadata": {
            "needs_background": "light"
          }
        },
        {
          "output_type": "stream",
          "name": "stdout",
          "text": [
            "Final Training Accuracy : 49.456\n",
            "Final Test Accuracy : 39.76\n",
            "Final Loss : 0.42325282096862793\n"
          ]
        }
      ]
    },
    {
      "cell_type": "markdown",
      "source": [
        "#### (d) Train with a MLP architecture that has the same number of layers (4 layers, each layers have 128 hidden units, ReLU activation function). Compare the training loss and testing accuracy by drawing two curves in a same plot."
      ],
      "metadata": {
        "id": "xXlyBbO4Z_wr"
      }
    },
    {
      "cell_type": "code",
      "source": [
        "train_loader = torch.utils.data.DataLoader(train_set, batch_size=1, shuffle = True)\n",
        "test_loader = torch.utils.data.DataLoader(test_set, batch_size=1, shuffle = False)"
      ],
      "metadata": {
        "id": "rcMQXmyo2A8Z"
      },
      "execution_count": 63,
      "outputs": []
    },
    {
      "cell_type": "code",
      "source": [
        "class MLP(nn.Module):\n",
        "  def __init__(self):\n",
        "    super().__init__()\n",
        "    self.layer1 = nn.Linear(3072, 128)\n",
        "    self.layer2 = nn.Linear(128, 128)\n",
        "    self.layer3 = nn.Linear(128, 128)\n",
        "    self.layer4 = nn.Linear(128, 10)\n",
        "    self.relu = nn.ReLU()\n",
        "\n",
        "  def forward(self, img):\n",
        "    out = img.reshape(1, 3072)\n",
        "    out = self.layer1(out)\n",
        "    out = self.relu(out)\n",
        "    out = self.layer2(out)\n",
        "    out = self.relu(out)\n",
        "    out = self.layer3(out)\n",
        "    out = self.relu(out)\n",
        "    out = self.layer4(out)\n",
        "    return out"
      ],
      "metadata": {
        "id": "fKEYWVlraE-F"
      },
      "execution_count": 64,
      "outputs": []
    },
    {
      "cell_type": "code",
      "source": [
        "model = MLP().to(device)"
      ],
      "metadata": {
        "id": "yKsjhCise_Xl"
      },
      "execution_count": 65,
      "outputs": []
    },
    {
      "cell_type": "code",
      "source": [
        "criterion = nn.CrossEntropyLoss()\n",
        "opt = optim.SGD(model.parameters(), lr = learning_rate, momentum = momentum, weight_decay = 0.001)"
      ],
      "metadata": {
        "id": "0QsdLvB5bYGk"
      },
      "execution_count": 66,
      "outputs": []
    },
    {
      "cell_type": "code",
      "source": [
        "model.eval()"
      ],
      "metadata": {
        "colab": {
          "base_uri": "https://localhost:8080/"
        },
        "id": "rSwpzdS3fFwt",
        "outputId": "d2176bc3-adaa-4c0d-ae15-8b254b4ad8c7"
      },
      "execution_count": 67,
      "outputs": [
        {
          "output_type": "execute_result",
          "data": {
            "text/plain": [
              "MLP(\n",
              "  (layer1): Linear(in_features=3072, out_features=128, bias=True)\n",
              "  (layer2): Linear(in_features=128, out_features=128, bias=True)\n",
              "  (layer3): Linear(in_features=128, out_features=128, bias=True)\n",
              "  (layer4): Linear(in_features=128, out_features=10, bias=True)\n",
              "  (relu): ReLU()\n",
              ")"
            ]
          },
          "metadata": {},
          "execution_count": 67
        }
      ]
    },
    {
      "cell_type": "code",
      "source": [
        "def get_accuracy(model, data):\n",
        "  correct = 0\n",
        "  total = 0\n",
        "  model.eval()\n",
        "  for images, labels in data:\n",
        "    images = images.to(device)\n",
        "    output = model(images)\n",
        "    pred = output.max(1, keepdim = True)[1].item()\n",
        "    if pred == labels:\n",
        "      correct += 1\n",
        "    total += 1\n",
        "  return 100.0 * correct / total\n"
      ],
      "metadata": {
        "id": "oOnMqSw-rnt5"
      },
      "execution_count": null,
      "outputs": []
    },
    {
      "cell_type": "code",
      "source": [
        ""
      ],
      "metadata": {
        "id": "vV9w5JqXrnbl"
      },
      "execution_count": null,
      "outputs": []
    },
    {
      "cell_type": "code",
      "source": [
        "n_iterations = len(train_set)\n",
        "losses = []\n",
        "train_acc = []\n",
        "test_acc = []\n",
        "\n",
        "for epoch in range(num_epochs):\n",
        "  for i, (images, labels) in enumerate(train_loader):\n",
        "    images = images.to(device)\n",
        "    labels = labels.to(device)\n",
        "\n",
        "    output = model(images)\n",
        "    loss = criterion(output, labels)\n",
        "\n",
        "    opt.zero_grad()\n",
        "    loss.backward()\n",
        "    opt.step()\n",
        "\n",
        "    if (i+1) % 2500 == 0:\n",
        "        print(f'Epoch {epoch+1}/{num_epochs}, iteration {i+1}/{n_iterations}, loss = {loss.item():.4f}')\n",
        "\n",
        "  losses.append(float(loss)/batch_size)\n",
        "  train_acc.append(get_accuracy(model, train_set))\n",
        "  test_acc.append(get_accuracy(model, test_set))"
      ],
      "metadata": {
        "colab": {
          "base_uri": "https://localhost:8080/"
        },
        "id": "4VIxTxnlcoOn",
        "outputId": "8dbe7198-d971-4058-a36f-0e84c6551a7c"
      },
      "execution_count": 68,
      "outputs": [
        {
          "output_type": "stream",
          "name": "stdout",
          "text": [
            "Epoch 1/10, iteration 2500/50000, loss = 1.0664\n",
            "Epoch 1/10, iteration 5000/50000, loss = 1.4463\n",
            "Epoch 1/10, iteration 7500/50000, loss = 1.6697\n",
            "Epoch 1/10, iteration 10000/50000, loss = 2.9537\n",
            "Epoch 1/10, iteration 12500/50000, loss = 1.4414\n",
            "Epoch 1/10, iteration 15000/50000, loss = 2.2029\n",
            "Epoch 1/10, iteration 17500/50000, loss = 1.4551\n",
            "Epoch 1/10, iteration 20000/50000, loss = 1.3173\n",
            "Epoch 1/10, iteration 22500/50000, loss = 1.3074\n",
            "Epoch 1/10, iteration 25000/50000, loss = 2.5915\n",
            "Epoch 1/10, iteration 27500/50000, loss = 1.2339\n",
            "Epoch 1/10, iteration 30000/50000, loss = 2.5958\n",
            "Epoch 1/10, iteration 32500/50000, loss = 1.1839\n",
            "Epoch 1/10, iteration 35000/50000, loss = 2.5900\n",
            "Epoch 1/10, iteration 37500/50000, loss = 3.1676\n",
            "Epoch 1/10, iteration 40000/50000, loss = 2.2470\n",
            "Epoch 1/10, iteration 42500/50000, loss = 1.7774\n",
            "Epoch 1/10, iteration 45000/50000, loss = 1.9094\n",
            "Epoch 1/10, iteration 47500/50000, loss = 1.9476\n",
            "Epoch 1/10, iteration 50000/50000, loss = 1.0480\n",
            "Epoch 2/10, iteration 2500/50000, loss = 0.8004\n",
            "Epoch 2/10, iteration 5000/50000, loss = 1.2707\n",
            "Epoch 2/10, iteration 7500/50000, loss = 0.6179\n",
            "Epoch 2/10, iteration 10000/50000, loss = 4.1321\n",
            "Epoch 2/10, iteration 12500/50000, loss = 0.7156\n",
            "Epoch 2/10, iteration 15000/50000, loss = 0.8453\n",
            "Epoch 2/10, iteration 17500/50000, loss = 2.1053\n",
            "Epoch 2/10, iteration 20000/50000, loss = 2.2795\n",
            "Epoch 2/10, iteration 22500/50000, loss = 1.6476\n",
            "Epoch 2/10, iteration 25000/50000, loss = 1.8260\n",
            "Epoch 2/10, iteration 27500/50000, loss = 1.6213\n",
            "Epoch 2/10, iteration 30000/50000, loss = 0.8888\n",
            "Epoch 2/10, iteration 32500/50000, loss = 3.3496\n",
            "Epoch 2/10, iteration 35000/50000, loss = 0.6202\n",
            "Epoch 2/10, iteration 37500/50000, loss = 0.7153\n",
            "Epoch 2/10, iteration 40000/50000, loss = 2.5076\n",
            "Epoch 2/10, iteration 42500/50000, loss = 0.4935\n",
            "Epoch 2/10, iteration 45000/50000, loss = 1.3070\n",
            "Epoch 2/10, iteration 47500/50000, loss = 1.1560\n",
            "Epoch 2/10, iteration 50000/50000, loss = 2.6851\n",
            "Epoch 3/10, iteration 2500/50000, loss = 1.7945\n",
            "Epoch 3/10, iteration 5000/50000, loss = 1.1261\n",
            "Epoch 3/10, iteration 7500/50000, loss = 1.6053\n",
            "Epoch 3/10, iteration 10000/50000, loss = 3.1403\n",
            "Epoch 3/10, iteration 12500/50000, loss = 1.4883\n",
            "Epoch 3/10, iteration 15000/50000, loss = 1.4908\n",
            "Epoch 3/10, iteration 17500/50000, loss = 1.0964\n",
            "Epoch 3/10, iteration 20000/50000, loss = 1.7969\n",
            "Epoch 3/10, iteration 22500/50000, loss = 1.4968\n",
            "Epoch 3/10, iteration 25000/50000, loss = 0.1887\n",
            "Epoch 3/10, iteration 27500/50000, loss = 2.7178\n",
            "Epoch 3/10, iteration 30000/50000, loss = 2.3733\n",
            "Epoch 3/10, iteration 32500/50000, loss = 0.3752\n",
            "Epoch 3/10, iteration 35000/50000, loss = 1.5616\n",
            "Epoch 3/10, iteration 37500/50000, loss = 1.2653\n",
            "Epoch 3/10, iteration 40000/50000, loss = 1.9162\n",
            "Epoch 3/10, iteration 42500/50000, loss = 1.8091\n",
            "Epoch 3/10, iteration 45000/50000, loss = 1.6094\n",
            "Epoch 3/10, iteration 47500/50000, loss = 0.6288\n",
            "Epoch 3/10, iteration 50000/50000, loss = 2.4898\n",
            "Epoch 4/10, iteration 2500/50000, loss = 3.6072\n",
            "Epoch 4/10, iteration 5000/50000, loss = 0.1079\n",
            "Epoch 4/10, iteration 7500/50000, loss = 2.8898\n",
            "Epoch 4/10, iteration 10000/50000, loss = 0.2603\n",
            "Epoch 4/10, iteration 12500/50000, loss = 1.1717\n",
            "Epoch 4/10, iteration 15000/50000, loss = 3.5457\n",
            "Epoch 4/10, iteration 17500/50000, loss = 0.4690\n",
            "Epoch 4/10, iteration 20000/50000, loss = 0.0355\n",
            "Epoch 4/10, iteration 22500/50000, loss = 1.2853\n",
            "Epoch 4/10, iteration 25000/50000, loss = 1.6465\n",
            "Epoch 4/10, iteration 27500/50000, loss = 1.6699\n",
            "Epoch 4/10, iteration 30000/50000, loss = 3.2149\n",
            "Epoch 4/10, iteration 32500/50000, loss = 0.9027\n",
            "Epoch 4/10, iteration 35000/50000, loss = 2.8417\n",
            "Epoch 4/10, iteration 37500/50000, loss = 0.9384\n",
            "Epoch 4/10, iteration 40000/50000, loss = 1.9265\n",
            "Epoch 4/10, iteration 42500/50000, loss = 2.6135\n",
            "Epoch 4/10, iteration 45000/50000, loss = 0.9614\n",
            "Epoch 4/10, iteration 47500/50000, loss = 2.6730\n",
            "Epoch 4/10, iteration 50000/50000, loss = 0.2610\n",
            "Epoch 5/10, iteration 2500/50000, loss = 0.9639\n",
            "Epoch 5/10, iteration 5000/50000, loss = 1.1540\n",
            "Epoch 5/10, iteration 7500/50000, loss = 1.8707\n",
            "Epoch 5/10, iteration 10000/50000, loss = 2.3899\n",
            "Epoch 5/10, iteration 12500/50000, loss = 0.6745\n",
            "Epoch 5/10, iteration 15000/50000, loss = 2.8652\n",
            "Epoch 5/10, iteration 17500/50000, loss = 2.2974\n",
            "Epoch 5/10, iteration 20000/50000, loss = 2.0491\n",
            "Epoch 5/10, iteration 22500/50000, loss = 1.1751\n",
            "Epoch 5/10, iteration 25000/50000, loss = 1.6830\n",
            "Epoch 5/10, iteration 27500/50000, loss = 1.8043\n",
            "Epoch 5/10, iteration 30000/50000, loss = 1.7180\n",
            "Epoch 5/10, iteration 32500/50000, loss = 0.7443\n",
            "Epoch 5/10, iteration 35000/50000, loss = 1.8595\n",
            "Epoch 5/10, iteration 37500/50000, loss = 2.4482\n",
            "Epoch 5/10, iteration 40000/50000, loss = 0.3900\n",
            "Epoch 5/10, iteration 42500/50000, loss = 2.7015\n",
            "Epoch 5/10, iteration 45000/50000, loss = 1.5872\n",
            "Epoch 5/10, iteration 47500/50000, loss = 0.6337\n",
            "Epoch 5/10, iteration 50000/50000, loss = 3.3590\n",
            "Epoch 6/10, iteration 2500/50000, loss = 2.0986\n",
            "Epoch 6/10, iteration 5000/50000, loss = 1.0546\n",
            "Epoch 6/10, iteration 7500/50000, loss = 0.1269\n",
            "Epoch 6/10, iteration 10000/50000, loss = 3.0691\n",
            "Epoch 6/10, iteration 12500/50000, loss = 2.1345\n",
            "Epoch 6/10, iteration 15000/50000, loss = 1.5772\n",
            "Epoch 6/10, iteration 17500/50000, loss = 1.3972\n",
            "Epoch 6/10, iteration 20000/50000, loss = 1.6057\n",
            "Epoch 6/10, iteration 22500/50000, loss = 2.9547\n",
            "Epoch 6/10, iteration 25000/50000, loss = 0.7741\n",
            "Epoch 6/10, iteration 27500/50000, loss = 1.0790\n",
            "Epoch 6/10, iteration 30000/50000, loss = 1.5835\n",
            "Epoch 6/10, iteration 32500/50000, loss = 2.1857\n",
            "Epoch 6/10, iteration 35000/50000, loss = 2.7268\n",
            "Epoch 6/10, iteration 37500/50000, loss = 0.0842\n",
            "Epoch 6/10, iteration 40000/50000, loss = 1.7901\n",
            "Epoch 6/10, iteration 42500/50000, loss = 3.6047\n",
            "Epoch 6/10, iteration 45000/50000, loss = 1.1288\n",
            "Epoch 6/10, iteration 47500/50000, loss = 1.9952\n",
            "Epoch 6/10, iteration 50000/50000, loss = 1.6185\n",
            "Epoch 7/10, iteration 2500/50000, loss = 1.2753\n",
            "Epoch 7/10, iteration 5000/50000, loss = 2.9330\n",
            "Epoch 7/10, iteration 7500/50000, loss = 2.1032\n",
            "Epoch 7/10, iteration 10000/50000, loss = 2.3181\n",
            "Epoch 7/10, iteration 12500/50000, loss = 0.9253\n",
            "Epoch 7/10, iteration 15000/50000, loss = 2.1672\n",
            "Epoch 7/10, iteration 17500/50000, loss = 0.0356\n",
            "Epoch 7/10, iteration 20000/50000, loss = 2.6906\n",
            "Epoch 7/10, iteration 22500/50000, loss = 2.7847\n",
            "Epoch 7/10, iteration 25000/50000, loss = 1.2931\n",
            "Epoch 7/10, iteration 27500/50000, loss = 2.3485\n",
            "Epoch 7/10, iteration 30000/50000, loss = 2.3273\n",
            "Epoch 7/10, iteration 32500/50000, loss = 1.9405\n",
            "Epoch 7/10, iteration 35000/50000, loss = 1.4451\n",
            "Epoch 7/10, iteration 37500/50000, loss = 1.8624\n",
            "Epoch 7/10, iteration 40000/50000, loss = 3.2338\n",
            "Epoch 7/10, iteration 42500/50000, loss = 3.1124\n",
            "Epoch 7/10, iteration 45000/50000, loss = 1.9376\n",
            "Epoch 7/10, iteration 47500/50000, loss = 2.4949\n",
            "Epoch 7/10, iteration 50000/50000, loss = 2.2074\n",
            "Epoch 8/10, iteration 2500/50000, loss = 1.4775\n",
            "Epoch 8/10, iteration 5000/50000, loss = 1.7248\n",
            "Epoch 8/10, iteration 7500/50000, loss = 1.6243\n",
            "Epoch 8/10, iteration 10000/50000, loss = 0.2826\n",
            "Epoch 8/10, iteration 12500/50000, loss = 0.4636\n",
            "Epoch 8/10, iteration 15000/50000, loss = 1.9394\n",
            "Epoch 8/10, iteration 17500/50000, loss = 1.3115\n",
            "Epoch 8/10, iteration 20000/50000, loss = 0.0767\n",
            "Epoch 8/10, iteration 22500/50000, loss = 0.2512\n",
            "Epoch 8/10, iteration 25000/50000, loss = 1.0557\n",
            "Epoch 8/10, iteration 27500/50000, loss = 0.8032\n",
            "Epoch 8/10, iteration 30000/50000, loss = 1.5330\n",
            "Epoch 8/10, iteration 32500/50000, loss = 1.5730\n",
            "Epoch 8/10, iteration 35000/50000, loss = 0.9592\n",
            "Epoch 8/10, iteration 37500/50000, loss = 1.5065\n",
            "Epoch 8/10, iteration 40000/50000, loss = 1.2103\n",
            "Epoch 8/10, iteration 42500/50000, loss = 1.5696\n",
            "Epoch 8/10, iteration 45000/50000, loss = 0.2733\n",
            "Epoch 8/10, iteration 47500/50000, loss = 2.0676\n",
            "Epoch 8/10, iteration 50000/50000, loss = 2.8328\n",
            "Epoch 9/10, iteration 2500/50000, loss = 2.6058\n",
            "Epoch 9/10, iteration 5000/50000, loss = 1.7506\n",
            "Epoch 9/10, iteration 7500/50000, loss = 0.5343\n",
            "Epoch 9/10, iteration 10000/50000, loss = 1.4481\n",
            "Epoch 9/10, iteration 12500/50000, loss = 0.4016\n",
            "Epoch 9/10, iteration 15000/50000, loss = 0.2322\n",
            "Epoch 9/10, iteration 17500/50000, loss = 2.1708\n",
            "Epoch 9/10, iteration 20000/50000, loss = 2.4434\n",
            "Epoch 9/10, iteration 22500/50000, loss = 3.6249\n",
            "Epoch 9/10, iteration 25000/50000, loss = 0.9681\n",
            "Epoch 9/10, iteration 27500/50000, loss = 0.3714\n",
            "Epoch 9/10, iteration 30000/50000, loss = 2.1532\n",
            "Epoch 9/10, iteration 32500/50000, loss = 2.2705\n",
            "Epoch 9/10, iteration 35000/50000, loss = 1.2281\n",
            "Epoch 9/10, iteration 37500/50000, loss = 0.3722\n",
            "Epoch 9/10, iteration 40000/50000, loss = 2.1524\n",
            "Epoch 9/10, iteration 42500/50000, loss = 1.5476\n",
            "Epoch 9/10, iteration 45000/50000, loss = 1.6729\n",
            "Epoch 9/10, iteration 47500/50000, loss = 0.8170\n",
            "Epoch 9/10, iteration 50000/50000, loss = 3.3789\n",
            "Epoch 10/10, iteration 2500/50000, loss = 0.6815\n",
            "Epoch 10/10, iteration 5000/50000, loss = 1.7731\n",
            "Epoch 10/10, iteration 7500/50000, loss = 0.8123\n",
            "Epoch 10/10, iteration 10000/50000, loss = 0.5922\n",
            "Epoch 10/10, iteration 12500/50000, loss = 3.4381\n",
            "Epoch 10/10, iteration 15000/50000, loss = 0.8171\n",
            "Epoch 10/10, iteration 17500/50000, loss = 1.6573\n",
            "Epoch 10/10, iteration 20000/50000, loss = 3.4791\n",
            "Epoch 10/10, iteration 22500/50000, loss = 1.5224\n",
            "Epoch 10/10, iteration 25000/50000, loss = 1.3499\n",
            "Epoch 10/10, iteration 27500/50000, loss = 4.9085\n",
            "Epoch 10/10, iteration 30000/50000, loss = 0.9136\n",
            "Epoch 10/10, iteration 32500/50000, loss = 0.9836\n",
            "Epoch 10/10, iteration 35000/50000, loss = 2.6884\n",
            "Epoch 10/10, iteration 37500/50000, loss = 0.5988\n",
            "Epoch 10/10, iteration 40000/50000, loss = 0.7656\n",
            "Epoch 10/10, iteration 42500/50000, loss = 5.8248\n",
            "Epoch 10/10, iteration 45000/50000, loss = 1.4469\n",
            "Epoch 10/10, iteration 47500/50000, loss = 1.1596\n",
            "Epoch 10/10, iteration 50000/50000, loss = 1.3065\n"
          ]
        }
      ]
    },
    {
      "cell_type": "code",
      "source": [
        "plt.figure(figsize = (10,5))\n",
        "plt.subplot(1,2,1)\n",
        "plt.title('Training Curve')\n",
        "plt.plot(losses, label = 'Training Loss')\n",
        "plt.xlabel('Epochs')\n",
        "plt.ylabel('Loss')\n",
        "\n",
        "plt.subplot(1,2,2)\n",
        "plt.title('Accuracy')\n",
        "plt.plot(train_acc, label = 'Training Accuracy')\n",
        "plt.plot(test_acc, label = 'Test Accuracy')\n",
        "plt.xlabel('Epochs')\n",
        "plt.ylabel('Accuracy')\n",
        "plt.legend()\n",
        "plt.show()\n",
        "\n",
        "print(f'Final Training Accuracy : {train_acc[-1]}')\n",
        "print(f'Final Test Accuracy : {test_acc[-1]}')\n",
        "print(f'Final Loss : {losses[-1]}')"
      ],
      "metadata": {
        "id": "mGPkglPYcsgG",
        "colab": {
          "base_uri": "https://localhost:8080/",
          "height": 405
        },
        "outputId": "d24f7e2d-9586-41c6-b4e8-ede028adb429"
      },
      "execution_count": 69,
      "outputs": [
        {
          "output_type": "display_data",
          "data": {
            "text/plain": [
              "<Figure size 720x360 with 2 Axes>"
            ],
            "image/png": "[encoded data removed]"
          },
          "metadata": {
            "needs_background": "light"
          }
        },
        {
          "output_type": "stream",
          "name": "stdout",
          "text": [
            "Final Training Accuracy : 39.378\n",
            "Final Test Accuracy : 37.42\n",
            "Final Loss : 0.3266226351261139\n"
          ]
        }
      ]
    },
    {
      "cell_type": "markdown",
      "source": [
        "####(e) Train with Adam optimizer and compare the training loss and testing accuracy by drawing two curves in a same plot."
      ],
      "metadata": {
        "id": "gbIJXYDosWG3"
      }
    },
    {
      "cell_type": "code",
      "source": [
        "criterion = nn.CrossEntropyLoss()\n",
        "opt = optim.Adam(model.parameters(), lr = learning_rate)"
      ],
      "metadata": {
        "id": "vHrAnDxhsVuu"
      },
      "execution_count": 21,
      "outputs": []
    },
    {
      "cell_type": "code",
      "source": [
        "n_total_steps = len(train_set)\n",
        "n_iterations = -(-n_total_steps//batch_size )\n",
        "losses_adam = []\n",
        "train_acc_adam = []\n",
        "test_acc_adam = []\n",
        "num_epochs = 10\n",
        "\n",
        "for epoch in range(num_epochs):\n",
        "  for i, (images, labels) in enumerate(train_loader):\n",
        "    images = images.to(device)\n",
        "    labels = labels.to(device)\n",
        "\n",
        "    output = model(images)\n",
        "    loss = criterion(output, labels)\n",
        "\n",
        "    opt.zero_grad()\n",
        "    loss.backward()\n",
        "    opt.step()\n",
        "\n",
        "    if (i+1) % 2500 == 0:\n",
        "        print(f'Epoch {epoch+1}/{num_epochs}, iteration {i+1}/{n_iterations}, loss = {loss.item():.4f}')\n",
        "\n",
        "  losses_adam.append(float(loss)/batch_size)\n",
        "  train_acc_adam.append(get_accuracy(model, train_set))\n",
        "  test_acc_adam.append(get_accuracy(model, test_set))"
      ],
      "metadata": {
        "colab": {
          "base_uri": "https://localhost:8080/"
        },
        "id": "OE1ldoLdsmyv",
        "outputId": "bc0e1874-5c98-4705-bad7-ed0575e15651"
      },
      "execution_count": 27,
      "outputs": [
        {
          "output_type": "stream",
          "name": "stdout",
          "text": [
            "Epoch 1/10, iteration 2500/12500, loss = 0.8103\n",
            "Epoch 1/10, iteration 5000/12500, loss = 0.0290\n",
            "Epoch 1/10, iteration 7500/12500, loss = 0.6211\n",
            "Epoch 1/10, iteration 10000/12500, loss = 0.6761\n",
            "Epoch 1/10, iteration 12500/12500, loss = 1.0768\n",
            "Epoch 2/10, iteration 2500/12500, loss = 0.3549\n",
            "Epoch 2/10, iteration 5000/12500, loss = 1.5045\n",
            "Epoch 2/10, iteration 7500/12500, loss = 0.0027\n",
            "Epoch 2/10, iteration 10000/12500, loss = 0.0030\n",
            "Epoch 2/10, iteration 12500/12500, loss = 2.4530\n",
            "Epoch 3/10, iteration 2500/12500, loss = 0.0232\n",
            "Epoch 3/10, iteration 5000/12500, loss = 0.1809\n",
            "Epoch 3/10, iteration 7500/12500, loss = 1.0030\n",
            "Epoch 3/10, iteration 10000/12500, loss = 0.7674\n",
            "Epoch 3/10, iteration 12500/12500, loss = 0.4057\n",
            "Epoch 4/10, iteration 2500/12500, loss = 0.4366\n",
            "Epoch 4/10, iteration 5000/12500, loss = 1.5482\n",
            "Epoch 4/10, iteration 7500/12500, loss = 0.2608\n",
            "Epoch 4/10, iteration 10000/12500, loss = 1.2125\n",
            "Epoch 4/10, iteration 12500/12500, loss = 0.2523\n",
            "Epoch 5/10, iteration 2500/12500, loss = 0.1539\n",
            "Epoch 5/10, iteration 5000/12500, loss = 0.1143\n",
            "Epoch 5/10, iteration 7500/12500, loss = 0.0230\n",
            "Epoch 5/10, iteration 10000/12500, loss = 0.5736\n",
            "Epoch 5/10, iteration 12500/12500, loss = 0.0516\n",
            "Epoch 6/10, iteration 2500/12500, loss = 0.8134\n",
            "Epoch 6/10, iteration 5000/12500, loss = 0.0424\n",
            "Epoch 6/10, iteration 7500/12500, loss = 1.8989\n",
            "Epoch 6/10, iteration 10000/12500, loss = 0.0781\n",
            "Epoch 6/10, iteration 12500/12500, loss = 0.1465\n",
            "Epoch 7/10, iteration 2500/12500, loss = 0.1297\n",
            "Epoch 7/10, iteration 5000/12500, loss = 0.0060\n",
            "Epoch 7/10, iteration 7500/12500, loss = 0.0227\n",
            "Epoch 7/10, iteration 10000/12500, loss = 0.0311\n",
            "Epoch 7/10, iteration 12500/12500, loss = 0.2050\n",
            "Epoch 8/10, iteration 2500/12500, loss = 0.0413\n",
            "Epoch 8/10, iteration 5000/12500, loss = 2.8706\n",
            "Epoch 8/10, iteration 7500/12500, loss = 0.2069\n",
            "Epoch 8/10, iteration 10000/12500, loss = 0.6935\n",
            "Epoch 8/10, iteration 12500/12500, loss = 0.2760\n",
            "Epoch 9/10, iteration 2500/12500, loss = 0.7589\n",
            "Epoch 9/10, iteration 5000/12500, loss = 0.0469\n",
            "Epoch 9/10, iteration 7500/12500, loss = 0.3602\n",
            "Epoch 9/10, iteration 10000/12500, loss = 0.7847\n",
            "Epoch 9/10, iteration 12500/12500, loss = 1.1446\n",
            "Epoch 10/10, iteration 2500/12500, loss = 0.0463\n",
            "Epoch 10/10, iteration 5000/12500, loss = 0.9795\n",
            "Epoch 10/10, iteration 7500/12500, loss = 0.1161\n",
            "Epoch 10/10, iteration 10000/12500, loss = 2.1062\n",
            "Epoch 10/10, iteration 12500/12500, loss = 0.0081\n"
          ]
        }
      ]
    },
    {
      "cell_type": "code",
      "source": [
        "plt.figure(figsize = (20,5))\n",
        "plt.subplot(1,2,1)\n",
        "plt.title('Training Curve')\n",
        "plt.plot(losses_adam, label = 'Training Loss with Adam')\n",
        "plt.plot(losses, label = 'Training Loss with SGD')\n",
        "plt.legend()\n",
        "plt.xlabel('Epochs')\n",
        "plt.ylabel('Loss')\n",
        "\n",
        "plt.subplot(1,2,2)\n",
        "plt.title('Accuracy')\n",
        "plt.plot(train_acc_adam, label = 'Training Accuracy with Adam')\n",
        "plt.plot(test_acc_adam, label = 'Test Accuracy with Adam')\n",
        "plt.plot(train_acc, label = 'Training Accuracy with SGD')\n",
        "plt.plot(test_acc, label = 'Test Accuracy with SGD')\n",
        "plt.xlabel('Epochs')\n",
        "plt.ylabel('Accuracy')\n",
        "plt.legend(loc = 'best')\n",
        "plt.show()\n",
        "\n",
        "print(f'Final Training Accuracy : {train_acc_adam[-1]}')\n",
        "print(f'Final Test Accuracy : {test_acc_adam[-1]}')\n",
        "print(f'Final Loss : {losses_adam[-1]}')"
      ],
      "metadata": {
        "colab": {
          "base_uri": "https://localhost:8080/",
          "height": 405
        },
        "id": "I4sr2L0Bsxd4",
        "outputId": "a7037fca-38f0-4340-81c9-802e4d2784df"
      },
      "execution_count": 32,
      "outputs": [
        {
          "output_type": "display_data",
          "data": {
            "text/plain": [
              "<Figure size 1440x360 with 2 Axes>"
            ],
            "image/png": "[encoded data removed]"
          },
          "metadata": {
            "needs_background": "light"
          }
        },
        {
          "output_type": "stream",
          "name": "stdout",
          "text": [
            "Final Training Accuracy : 46.95\n",
            "Final Test Accuracy : 35.79\n",
            "Final Loss : 0.0020364923402667046\n"
          ]
        }
      ]
    },
    {
      "cell_type": "markdown",
      "source": [
        "####(f) Change the hyperparameters and network architectures to achieve better training loss and testing accuracy curves. Provide the final architecture and hyperparameters that you used. "
      ],
      "metadata": {
        "id": "o3Lppw6ssx6S"
      }
    },
    {
      "cell_type": "code",
      "source": [
        "# Compute number of nodes before feeding FC\n",
        "conv1_pool = (32-4)/2\n",
        "conv2_pool = (conv1_pool-2)/2\n",
        "conv3_pool = (conv2_pool-2)/2\n",
        "out_channel = 32\n",
        "num_nodes = int(conv3_pool* conv3_pool * out_channel)\n",
        "print(f'conv1: {conv1_pool},conv2: {conv2_pool}, conv3: {conv3_pool}, num_nodes: {num_nodes}')"
      ],
      "metadata": {
        "colab": {
          "base_uri": "https://localhost:8080/"
        },
        "id": "3I_XCVmvtLy5",
        "outputId": "1e5d2033-2be4-4e11-a831-12510a9dfba3"
      },
      "execution_count": null,
      "outputs": [
        {
          "output_type": "stream",
          "name": "stdout",
          "text": [
            "conv1: 14.0,conv2: 6.0, conv3: 2.0, num_nodes: 128\n"
          ]
        }
      ]
    },
    {
      "cell_type": "code",
      "source": [
        "class MyModel(nn.Module):\n",
        "  def __init__(self):\n",
        "    super().__init__()\n",
        "    self.conv1 = nn.Conv2d(in_channels = 3, out_channels=6, kernel_size = 5, stride = 1, padding = 0)\n",
        "    self.bn1 = nn.BatchNorm2d(num_features = 6)    \n",
        "    self.relu = nn.ReLU()\n",
        "    self.pool = nn.MaxPool2d(kernel_size = 2, stride = 2)\n",
        "    self.conv2 = nn.Conv2d(in_channels = 6, out_channels=16, kernel_size = 3, stride = 1, padding = 0)\n",
        "    self.bn2 = nn.BatchNorm2d(num_features = 16)    \n",
        "    self.conv3 = nn.Conv2d(in_channels = 16, out_channels = 32, kernel_size = 3, stride = 1, padding = 0)\n",
        "    self.bn3 = nn.BatchNorm2d(num_features = 32)   \n",
        "    self.fc1 = nn.Linear(num_nodes, 128) # Flatten 3d tensor to 1d tensor(1600)\n",
        "    self.fc2 = nn.Linear(128,64)\n",
        "    self.fc3 = nn.Linear(64,10)\n",
        "\n",
        "  def forward(self, x):\n",
        "    out = self.conv1(x)\n",
        "    out = self.bn1(x)\n",
        "    out = self.relu(out)\n",
        "    out = self.pool(out)\n",
        "    out = self.conv2(out)\n",
        "    out = self.bn2(out)\n",
        "    out = self.relu(out)\n",
        "    out = self.pool(out)\n",
        "    out = self.conv3(out)\n",
        "    out = self.bn3(out)\n",
        "    out = self.relu(out)\n",
        "    out = self.pool(out)\n",
        "    out = out.reshape(-1, num_nodes)\n",
        "    out = self.fc1(out)\n",
        "    out = self.relu(out)\n",
        "    out = self.fc2(out)\n",
        "    out = self.relu(out)\n",
        "    out = self.fc3(out)\n",
        "    return out\n",
        "    # No softmax as it will be includ in Cross Entropy Loss"
      ],
      "metadata": {
        "id": "vzfCHzU3s0x1"
      },
      "execution_count": null,
      "outputs": []
    },
    {
      "cell_type": "code",
      "source": [
        "model = MyModel().to(device)"
      ],
      "metadata": {
        "id": "0KygXDG_Q7wf"
      },
      "execution_count": null,
      "outputs": []
    },
    {
      "cell_type": "code",
      "source": [
        "criterion = nn.CrossEntropyLoss()\n",
        "opt = optim.SGD(model.parameters(), lr = learning_rate, momentum = momentum, weight_decay = 0.001)"
      ],
      "metadata": {
        "id": "9f2l6EqSuuuf"
      },
      "execution_count": null,
      "outputs": []
    },
    {
      "cell_type": "code",
      "source": [
        "num_epochs = 30\n",
        "n_total_steps = len(train_set)\n",
        "n_iterations = -(-n_total_steps//batch_size )\n",
        "losses_adam = []\n",
        "train_acc_adam = []\n",
        "test_acc_adam = []\n",
        "\n",
        "for epoch in range(num_epochs):\n",
        "  for i, (images, labels) in enumerate(train_loader):\n",
        "    images = images.to(device)\n",
        "    labels = labels.to(device)\n",
        "\n",
        "    output = model(images)\n",
        "    loss = criterion(output, labels)\n",
        "\n",
        "    opt.zero_grad()\n",
        "    loss.backward()\n",
        "    opt.step()\n",
        "\n",
        "    if (i+1) % 2500 == 0:\n",
        "        print(f'Epoch {epoch+1}/{num_epochs}, iteration {i+1}/{n_iterations}, loss = {loss.item():.4f}')\n",
        "\n",
        "  losses_adam.append(float(loss)/batch_size)\n",
        "  train_acc_adam.append(get_accuracy(model, train_set))\n",
        "  test_acc_adam.append(get_accuracy(model, test_set))"
      ],
      "metadata": {
        "colab": {
          "base_uri": "https://localhost:8080/"
        },
        "id": "WW3U-09yuxuC",
        "outputId": "8a743928-f87d-4759-9c1c-0f739f5743aa"
      },
      "execution_count": null,
      "outputs": [
        {
          "output_type": "stream",
          "name": "stdout",
          "text": [
            "Epoch 1/30, iteration 2500/12500, loss = 1.6380\n",
            "Epoch 1/30, iteration 5000/12500, loss = 1.1146\n",
            "Epoch 1/30, iteration 7500/12500, loss = 2.5790\n",
            "Epoch 1/30, iteration 10000/12500, loss = 0.7531\n",
            "Epoch 1/30, iteration 12500/12500, loss = 1.7577\n",
            "Epoch 2/30, iteration 2500/12500, loss = 1.2021\n",
            "Epoch 2/30, iteration 5000/12500, loss = 1.5364\n",
            "Epoch 2/30, iteration 7500/12500, loss = 1.2329\n",
            "Epoch 2/30, iteration 10000/12500, loss = 1.6756\n",
            "Epoch 2/30, iteration 12500/12500, loss = 1.4155\n",
            "Epoch 3/30, iteration 2500/12500, loss = 1.2809\n",
            "Epoch 3/30, iteration 5000/12500, loss = 2.0641\n",
            "Epoch 3/30, iteration 7500/12500, loss = 1.1765\n",
            "Epoch 3/30, iteration 10000/12500, loss = 1.7104\n",
            "Epoch 3/30, iteration 12500/12500, loss = 0.7250\n",
            "Epoch 4/30, iteration 2500/12500, loss = 1.1782\n",
            "Epoch 4/30, iteration 5000/12500, loss = 0.9284\n",
            "Epoch 4/30, iteration 7500/12500, loss = 1.4074\n",
            "Epoch 4/30, iteration 10000/12500, loss = 1.4678\n",
            "Epoch 4/30, iteration 12500/12500, loss = 1.5033\n",
            "Epoch 5/30, iteration 2500/12500, loss = 1.3011\n",
            "Epoch 5/30, iteration 5000/12500, loss = 1.4854\n",
            "Epoch 5/30, iteration 7500/12500, loss = 1.2255\n",
            "Epoch 5/30, iteration 10000/12500, loss = 1.3322\n",
            "Epoch 5/30, iteration 12500/12500, loss = 0.7597\n",
            "Epoch 6/30, iteration 2500/12500, loss = 1.2261\n",
            "Epoch 6/30, iteration 5000/12500, loss = 2.0000\n",
            "Epoch 6/30, iteration 7500/12500, loss = 0.8351\n",
            "Epoch 6/30, iteration 10000/12500, loss = 1.1620\n",
            "Epoch 6/30, iteration 12500/12500, loss = 2.7920\n",
            "Epoch 7/30, iteration 2500/12500, loss = 1.1867\n",
            "Epoch 7/30, iteration 5000/12500, loss = 1.9318\n",
            "Epoch 7/30, iteration 7500/12500, loss = 1.4727\n",
            "Epoch 7/30, iteration 10000/12500, loss = 1.2120\n",
            "Epoch 7/30, iteration 12500/12500, loss = 1.2084\n",
            "Epoch 8/30, iteration 2500/12500, loss = 0.7487\n",
            "Epoch 8/30, iteration 5000/12500, loss = 1.4538\n",
            "Epoch 8/30, iteration 7500/12500, loss = 1.6616\n",
            "Epoch 8/30, iteration 10000/12500, loss = 1.3414\n",
            "Epoch 8/30, iteration 12500/12500, loss = 1.3392\n",
            "Epoch 9/30, iteration 2500/12500, loss = 0.8613\n",
            "Epoch 9/30, iteration 5000/12500, loss = 1.0767\n",
            "Epoch 9/30, iteration 7500/12500, loss = 2.1770\n",
            "Epoch 9/30, iteration 10000/12500, loss = 1.5518\n",
            "Epoch 9/30, iteration 12500/12500, loss = 0.3923\n",
            "Epoch 10/30, iteration 2500/12500, loss = 0.6383\n",
            "Epoch 10/30, iteration 5000/12500, loss = 0.8824\n",
            "Epoch 10/30, iteration 7500/12500, loss = 1.1800\n",
            "Epoch 10/30, iteration 10000/12500, loss = 0.6179\n",
            "Epoch 10/30, iteration 12500/12500, loss = 0.5651\n",
            "Epoch 11/30, iteration 2500/12500, loss = 1.5766\n",
            "Epoch 11/30, iteration 5000/12500, loss = 1.0750\n",
            "Epoch 11/30, iteration 7500/12500, loss = 0.3517\n",
            "Epoch 11/30, iteration 10000/12500, loss = 1.0672\n",
            "Epoch 11/30, iteration 12500/12500, loss = 1.6917\n",
            "Epoch 12/30, iteration 2500/12500, loss = 1.2678\n",
            "Epoch 12/30, iteration 5000/12500, loss = 1.0310\n",
            "Epoch 12/30, iteration 7500/12500, loss = 0.8925\n",
            "Epoch 12/30, iteration 10000/12500, loss = 1.0392\n",
            "Epoch 12/30, iteration 12500/12500, loss = 2.5213\n",
            "Epoch 13/30, iteration 2500/12500, loss = 1.5323\n",
            "Epoch 13/30, iteration 5000/12500, loss = 1.8215\n",
            "Epoch 13/30, iteration 7500/12500, loss = 0.9346\n",
            "Epoch 13/30, iteration 10000/12500, loss = 0.4583\n",
            "Epoch 13/30, iteration 12500/12500, loss = 1.0539\n",
            "Epoch 14/30, iteration 2500/12500, loss = 0.8089\n",
            "Epoch 14/30, iteration 5000/12500, loss = 0.7006\n",
            "Epoch 14/30, iteration 7500/12500, loss = 1.1624\n",
            "Epoch 14/30, iteration 10000/12500, loss = 0.6120\n",
            "Epoch 14/30, iteration 12500/12500, loss = 2.7893\n",
            "Epoch 15/30, iteration 2500/12500, loss = 0.4907\n",
            "Epoch 15/30, iteration 5000/12500, loss = 2.2171\n",
            "Epoch 15/30, iteration 7500/12500, loss = 1.0733\n",
            "Epoch 15/30, iteration 10000/12500, loss = 0.5126\n",
            "Epoch 15/30, iteration 12500/12500, loss = 1.2966\n",
            "Epoch 16/30, iteration 2500/12500, loss = 0.3357\n",
            "Epoch 16/30, iteration 5000/12500, loss = 1.7755\n",
            "Epoch 16/30, iteration 7500/12500, loss = 2.5454\n",
            "Epoch 16/30, iteration 10000/12500, loss = 0.8477\n",
            "Epoch 16/30, iteration 12500/12500, loss = 0.7192\n",
            "Epoch 17/30, iteration 2500/12500, loss = 1.7488\n",
            "Epoch 17/30, iteration 5000/12500, loss = 3.2091\n",
            "Epoch 17/30, iteration 7500/12500, loss = 0.4276\n",
            "Epoch 17/30, iteration 10000/12500, loss = 0.2604\n",
            "Epoch 17/30, iteration 12500/12500, loss = 1.1124\n",
            "Epoch 18/30, iteration 2500/12500, loss = 2.3434\n",
            "Epoch 18/30, iteration 5000/12500, loss = 1.2661\n",
            "Epoch 18/30, iteration 7500/12500, loss = 0.8142\n",
            "Epoch 18/30, iteration 10000/12500, loss = 0.8058\n",
            "Epoch 18/30, iteration 12500/12500, loss = 0.8326\n",
            "Epoch 19/30, iteration 2500/12500, loss = 0.1975\n",
            "Epoch 19/30, iteration 5000/12500, loss = 1.1737\n",
            "Epoch 19/30, iteration 7500/12500, loss = 0.7894\n",
            "Epoch 19/30, iteration 10000/12500, loss = 1.0827\n",
            "Epoch 19/30, iteration 12500/12500, loss = 0.8421\n",
            "Epoch 20/30, iteration 2500/12500, loss = 1.6086\n",
            "Epoch 20/30, iteration 5000/12500, loss = 1.0776\n",
            "Epoch 20/30, iteration 7500/12500, loss = 0.4746\n",
            "Epoch 20/30, iteration 10000/12500, loss = 0.6724\n",
            "Epoch 20/30, iteration 12500/12500, loss = 0.6879\n",
            "Epoch 21/30, iteration 2500/12500, loss = 0.5494\n",
            "Epoch 21/30, iteration 5000/12500, loss = 0.7169\n",
            "Epoch 21/30, iteration 7500/12500, loss = 3.5012\n",
            "Epoch 21/30, iteration 10000/12500, loss = 0.7878\n",
            "Epoch 21/30, iteration 12500/12500, loss = 1.0006\n",
            "Epoch 22/30, iteration 2500/12500, loss = 0.9947\n",
            "Epoch 22/30, iteration 5000/12500, loss = 0.4649\n",
            "Epoch 22/30, iteration 7500/12500, loss = 1.6007\n",
            "Epoch 22/30, iteration 10000/12500, loss = 1.4092\n",
            "Epoch 22/30, iteration 12500/12500, loss = 1.0483\n",
            "Epoch 23/30, iteration 2500/12500, loss = 0.2754\n",
            "Epoch 23/30, iteration 5000/12500, loss = 0.9069\n",
            "Epoch 23/30, iteration 7500/12500, loss = 0.2355\n",
            "Epoch 23/30, iteration 10000/12500, loss = 0.1713\n",
            "Epoch 23/30, iteration 12500/12500, loss = 0.5362\n",
            "Epoch 24/30, iteration 2500/12500, loss = 1.4951\n",
            "Epoch 24/30, iteration 5000/12500, loss = 0.7850\n",
            "Epoch 24/30, iteration 7500/12500, loss = 0.9344\n",
            "Epoch 24/30, iteration 10000/12500, loss = 0.5208\n",
            "Epoch 24/30, iteration 12500/12500, loss = 0.3933\n",
            "Epoch 25/30, iteration 2500/12500, loss = 0.7515\n",
            "Epoch 25/30, iteration 5000/12500, loss = 0.9406\n",
            "Epoch 25/30, iteration 7500/12500, loss = 1.5504\n",
            "Epoch 25/30, iteration 10000/12500, loss = 0.7872\n",
            "Epoch 25/30, iteration 12500/12500, loss = 0.3716\n",
            "Epoch 26/30, iteration 2500/12500, loss = 0.4797\n",
            "Epoch 26/30, iteration 5000/12500, loss = 2.1465\n",
            "Epoch 26/30, iteration 7500/12500, loss = 1.0067\n",
            "Epoch 26/30, iteration 10000/12500, loss = 0.6583\n",
            "Epoch 26/30, iteration 12500/12500, loss = 1.4818\n",
            "Epoch 27/30, iteration 2500/12500, loss = 0.2724\n",
            "Epoch 27/30, iteration 5000/12500, loss = 2.0510\n",
            "Epoch 27/30, iteration 7500/12500, loss = 1.5555\n",
            "Epoch 27/30, iteration 10000/12500, loss = 0.1755\n",
            "Epoch 27/30, iteration 12500/12500, loss = 0.9884\n",
            "Epoch 28/30, iteration 2500/12500, loss = 0.3801\n",
            "Epoch 28/30, iteration 5000/12500, loss = 0.5223\n",
            "Epoch 28/30, iteration 7500/12500, loss = 1.3224\n",
            "Epoch 28/30, iteration 10000/12500, loss = 0.5661\n",
            "Epoch 28/30, iteration 12500/12500, loss = 0.1114\n",
            "Epoch 29/30, iteration 2500/12500, loss = 1.4186\n",
            "Epoch 29/30, iteration 5000/12500, loss = 0.8763\n",
            "Epoch 29/30, iteration 7500/12500, loss = 0.9586\n",
            "Epoch 29/30, iteration 10000/12500, loss = 0.9698\n",
            "Epoch 29/30, iteration 12500/12500, loss = 1.1676\n",
            "Epoch 30/30, iteration 2500/12500, loss = 1.1464\n",
            "Epoch 30/30, iteration 5000/12500, loss = 0.1708\n",
            "Epoch 30/30, iteration 7500/12500, loss = 1.0474\n",
            "Epoch 30/30, iteration 10000/12500, loss = 0.7028\n",
            "Epoch 30/30, iteration 12500/12500, loss = 0.6406\n"
          ]
        }
      ]
    },
    {
      "cell_type": "code",
      "source": [
        "plt.figure(figsize = (10,5))\n",
        "plt.subplot(1,2,1)\n",
        "plt.title('Training Curve')\n",
        "plt.plot(losses_adam, label = 'Training Loss with Adam')\n",
        "plt.xlabel('Epochs')\n",
        "plt.ylabel('Loss')\n",
        "\n",
        "plt.subplot(1,2,2)\n",
        "plt.title('Accuracy')\n",
        "plt.plot(train_acc_adam, label = 'Training Accuracy with Adam')\n",
        "plt.plot(test_acc_adam, label = 'Test Accuracy with Adam')\n",
        "plt.xlabel('Epochs')\n",
        "plt.ylabel('Accuracy')\n",
        "plt.legend()\n",
        "plt.show()\n",
        "\n",
        "print(f'Final Training Accuracy : {train_acc_adam[-1]}')\n",
        "print(f'Final Test Accuracy : {test_acc_adam[-1]}')\n",
        "print(f'Final Loss : {losses_adam[-1]}')"
      ],
      "metadata": {
        "id": "WjxO_hlju48F",
        "colab": {
          "base_uri": "https://localhost:8080/",
          "height": 405
        },
        "outputId": "9b1801a8-9350-4040-a5a1-15dff50543ca"
      },
      "execution_count": null,
      "outputs": [
        {
          "output_type": "display_data",
          "data": {
            "text/plain": [
              "<Figure size 720x360 with 2 Axes>"
            ],
            "image/png": "[encoded data removed]"
          },
          "metadata": {
            "needs_background": "light"
          }
        },
        {
          "output_type": "stream",
          "name": "stdout",
          "text": [
            "Final Training Accuracy : 63.848\n",
            "Final Test Accuracy : 58.46\n",
            "Final Loss : 0.160150408744812\n"
          ]
        }
      ]
    },
    {
      "cell_type": "code",
      "source": [
        "# Hyper parameters\n",
        "model.eval()"
      ],
      "metadata": {
        "colab": {
          "base_uri": "https://localhost:8080/"
        },
        "id": "vKj_HuItufo5",
        "outputId": "5e58561b-d323-4e8b-ab33-611462354741"
      },
      "execution_count": null,
      "outputs": [
        {
          "output_type": "execute_result",
          "data": {
            "text/plain": [
              "MyModel(\n",
              "  (conv1): Conv2d(3, 6, kernel_size=(5, 5), stride=(1, 1))\n",
              "  (relu): ReLU()\n",
              "  (pool): MaxPool2d(kernel_size=2, stride=2, padding=0, dilation=1, ceil_mode=False)\n",
              "  (conv2): Conv2d(6, 16, kernel_size=(3, 3), stride=(1, 1))\n",
              "  (conv3): Conv2d(16, 32, kernel_size=(3, 3), stride=(1, 1))\n",
              "  (fc1): Linear(in_features=128, out_features=120, bias=True)\n",
              "  (fc2): Linear(in_features=120, out_features=84, bias=True)\n",
              "  (fc3): Linear(in_features=84, out_features=10, bias=True)\n",
              ")"
            ]
          },
          "metadata": {},
          "execution_count": 52
        }
      ]
    },
    {
      "cell_type": "code",
      "source": [
        "print(f'num_epochs: {num_epochs}')"
      ],
      "metadata": {
        "colab": {
          "base_uri": "https://localhost:8080/"
        },
        "id": "R-kKF66bmqjh",
        "outputId": "6867ab9d-a79e-40c1-f836-f2511ca51620"
      },
      "execution_count": null,
      "outputs": [
        {
          "output_type": "stream",
          "name": "stdout",
          "text": [
            "num_epochs: 30\n"
          ]
        }
      ]
    }
  ]
}