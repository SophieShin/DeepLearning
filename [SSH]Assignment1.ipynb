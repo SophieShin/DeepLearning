{
  "nbformat": 4,
  "nbformat_minor": 0,
  "metadata": {
    "colab": {
      "name": "[SSH]Assignment1.ipynb",
      "provenance": [],
      "collapsed_sections": [],
      "include_colab_link": true
    },
    "kernelspec": {
      "name": "python3",
      "display_name": "Python 3"
    }
  },
  "cells": [
    {
      "cell_type": "markdown",
      "metadata": {
        "id": "view-in-github",
        "colab_type": "text"
      },
      "source": [
        "<a href=\"https://colab.research.google.com/github/SophieShin/DeepLearning/blob/main/%5BSSH%5DAssignment1.ipynb\" target=\"_parent\"><img src=\"https://colab.research.google.com/assets/colab-badge.svg\" alt=\"Open In Colab\"/></a>"
      ]
    },
    {
      "cell_type": "markdown",
      "metadata": {
        "id": "42CRdtcCRTuc"
      },
      "source": [
        "# Assignment 1 – Polynomial Regression using ``torch.nn.Module``\n",
        "\n",
        "- Please create a copy of this notebook onto your own Drive before working on it: `File-->Save a copy in Drive`\n",
        "- Please submit your ipynb file named with your initials, e.g. `YGM-Assignment1.ipynb` with **the CODE cells output visible** to support your answers and **TEXTUAL answers given as comments** in the code cells.\n",
        "- Deadline for submission is **midnight, Friday, March 18th.**"
      ]
    },
    {
      "cell_type": "markdown",
      "metadata": {
        "id": "0KvsIo2UfwO3"
      },
      "source": [
        "## Neural Network Model for Polynomial Regression\n",
        "Your task is to build a neural network for the function $y = x^2 + 3x$\n",
        "\n",
        "Requirements:\n",
        "- You MUST use `torch.nn.Module` to define your neural network class.\n",
        "- The training data should have **10 input values, $x$, and the correct corresponding output values, $y$,** for the function $y = x^2 + 3x$\n",
        "- The NN may have **maximum TWO hidden layers**.\n",
        "- You may use a **maximum of 500 neuron units in each hidden layer**.\n",
        "- You may train over a **maximum of 1000 epochs**.\n",
        "- Use suitable activation functions that have been covered in class.\n",
        "- You MUST use the **Adam optimiser, `torch.optim.Adam()`** and the **MSE loss function**.\n",
        "- **IMPORTANT:** Your model must have a **LOSS OF LESS THAN 0.01** at the end of training.\n",
        "- **Train your model at least 3 times** to see that the final loss value is stable across all three runs.\n",
        "- Print the loss at every 25th iteration.\n",
        "- Test the model on $x=10$.\n",
        "- **Save your training loss** at every iteration.\n",
        "\n",
        "Note:\n",
        "- If your model does not achieve a loss of less than 0.01, you will still be awarded marks for `Q7 – Q10` as long as you can explain your answers accordingly."
      ]
    },
    {
      "cell_type": "code",
      "source": [
        "import torch\n",
        "import torch.nn as nn"
      ],
      "metadata": {
        "id": "87Abo5V880G9"
      },
      "execution_count": null,
      "outputs": []
    },
    {
      "cell_type": "code",
      "source": [
        "# 1. Define training data for a the mathematical formula y = x^2 + 3x (3)\n",
        "\n",
        "x = torch.tensor([\n",
        "                  [0], [1], [2], [3], [4], [5], [6], [7], [8], [9]\n",
        "], dtype = torch.float32)\n",
        "\n",
        "y = torch.tensor([\n",
        "                  [0], [1**2 + 3*1], [2**2 + 3*2], [3**2 + 3*3], [4**2 + 3*4], [5**2 + 3*5], [6**2 + 3*6], [7**2 + 3*7], [8**2 + 3*8], [9**2 + 3*9]\n",
        "], dtype = torch.float32)\n",
        "\n",
        "print(x, '\\n', y)\n",
        "print(x.shape, y.shape)"
      ],
      "metadata": {
        "colab": {
          "base_uri": "https://localhost:8080/"
        },
        "id": "_3Bs6dZ687tU",
        "outputId": "e2bd4be1-2420-4c00-b557-caef691d742d"
      },
      "execution_count": null,
      "outputs": [
        {
          "output_type": "stream",
          "name": "stdout",
          "text": [
            "tensor([[0.],\n",
            "        [1.],\n",
            "        [2.],\n",
            "        [3.],\n",
            "        [4.],\n",
            "        [5.],\n",
            "        [6.],\n",
            "        [7.],\n",
            "        [8.],\n",
            "        [9.]]) \n",
            " tensor([[  0.],\n",
            "        [  4.],\n",
            "        [ 10.],\n",
            "        [ 18.],\n",
            "        [ 28.],\n",
            "        [ 40.],\n",
            "        [ 54.],\n",
            "        [ 70.],\n",
            "        [ 88.],\n",
            "        [108.]])\n",
            "torch.Size([10, 1]) torch.Size([10, 1])\n"
          ]
        }
      ]
    },
    {
      "cell_type": "code",
      "source": [
        "# 2. Define NN class (10)\n",
        "\n",
        "class MyNN(nn.Module) :\n",
        "\n",
        "  def __init__(self):\n",
        "    super().__init__()\n",
        "    self.linear1 = nn.Linear(1, 300)\n",
        "    self.activation1 = nn.ReLU()\n",
        "    self.linear2 = nn.Linear(300, 300)\n",
        "    self.activation2 = nn.ReLU()\n",
        "    self.linear3 = nn.Linear(300,1)\n",
        "\n",
        "  def forward(self, x):\n",
        "    x = self.linear1(x)\n",
        "    x = self.activation1(x)\n",
        "    x = self.linear2(x)\n",
        "    x = self.activation2(x)\n",
        "    x = self.linear3(x)\n",
        "    return x"
      ],
      "metadata": {
        "id": "bSiANE8o-S26"
      },
      "execution_count": null,
      "outputs": []
    },
    {
      "cell_type": "code",
      "source": [
        "# 3. Create an instance of NN model (2)\n",
        "model = MyNN() "
      ],
      "metadata": {
        "id": "uGyWXtVM_DbO"
      },
      "execution_count": null,
      "outputs": []
    },
    {
      "cell_type": "code",
      "source": [
        "# 4. Loss and Optimiser (2)\n",
        "\n",
        "learning_rate = 0.01\n",
        "loss_fn = nn.MSELoss() \n",
        "opt = torch.optim.Adam(model.parameters(), lr = learning_rate)"
      ],
      "metadata": {
        "id": "yCZbLE0M_LYO"
      },
      "execution_count": null,
      "outputs": []
    },
    {
      "cell_type": "code",
      "source": [
        "\n",
        "# 5. Training loop\n",
        "# 5.1 Forward pass (2)\n",
        "# 5.2 Backward pass (3)\n",
        "# 5.3 Print loss every 25th epoch (1)\n",
        "# 5.4 Save training loss at every epoch (2)\n",
        "  \n",
        "# Ensure that loss is less than 0.01 at the end if training consistently (3)\n",
        "\n",
        "training_loss=[]\n",
        "\n",
        "for epoch in range(1000):\n",
        "  y_pred = model(x)\n",
        "  loss = loss_fn(y_pred, y) \n",
        "  training_loss.append(loss.item())\n",
        "\n",
        "  opt.zero_grad()  \n",
        "  loss.backward()\n",
        "  opt.step() \n",
        "\n",
        "  if (epoch+1) % 25 == 0:\n",
        "    print(f'Epoch {epoch+1}/1000, Loss={loss.item():.4f} ')\n",
        "\n"
      ],
      "metadata": {
        "colab": {
          "base_uri": "https://localhost:8080/"
        },
        "id": "nSM4vLxk_hSq",
        "outputId": "1854290b-293d-4f6c-aaff-5e50948bf8c4"
      },
      "execution_count": null,
      "outputs": [
        {
          "output_type": "stream",
          "name": "stdout",
          "text": [
            "Epoch 25/1000, Loss=132.4842 \n",
            "Epoch 50/1000, Loss=18.4808 \n",
            "Epoch 75/1000, Loss=4.6117 \n",
            "Epoch 100/1000, Loss=0.9534 \n",
            "Epoch 125/1000, Loss=0.3130 \n",
            "Epoch 150/1000, Loss=0.1087 \n",
            "Epoch 175/1000, Loss=0.0487 \n",
            "Epoch 200/1000, Loss=0.0468 \n",
            "Epoch 225/1000, Loss=0.0172 \n",
            "Epoch 250/1000, Loss=0.0328 \n",
            "Epoch 275/1000, Loss=0.0155 \n",
            "Epoch 300/1000, Loss=0.0042 \n",
            "Epoch 325/1000, Loss=0.0021 \n",
            "Epoch 350/1000, Loss=0.0132 \n",
            "Epoch 375/1000, Loss=0.0187 \n",
            "Epoch 400/1000, Loss=0.0152 \n",
            "Epoch 425/1000, Loss=0.0027 \n",
            "Epoch 450/1000, Loss=0.0022 \n",
            "Epoch 475/1000, Loss=0.0156 \n",
            "Epoch 500/1000, Loss=0.0142 \n",
            "Epoch 525/1000, Loss=0.0786 \n",
            "Epoch 550/1000, Loss=0.0192 \n",
            "Epoch 575/1000, Loss=0.0391 \n",
            "Epoch 600/1000, Loss=0.0225 \n",
            "Epoch 625/1000, Loss=0.0117 \n",
            "Epoch 650/1000, Loss=0.0057 \n",
            "Epoch 675/1000, Loss=0.0024 \n",
            "Epoch 700/1000, Loss=0.0010 \n",
            "Epoch 725/1000, Loss=0.0004 \n",
            "Epoch 750/1000, Loss=0.0002 \n",
            "Epoch 775/1000, Loss=0.0001 \n",
            "Epoch 800/1000, Loss=0.0013 \n",
            "Epoch 825/1000, Loss=0.0604 \n",
            "Epoch 850/1000, Loss=0.0076 \n",
            "Epoch 875/1000, Loss=0.0141 \n",
            "Epoch 900/1000, Loss=0.0678 \n",
            "Epoch 925/1000, Loss=0.0073 \n",
            "Epoch 950/1000, Loss=0.0075 \n",
            "Epoch 975/1000, Loss=0.0347 \n",
            "Epoch 1000/1000, Loss=0.0008 \n"
          ]
        }
      ]
    },
    {
      "cell_type": "code",
      "source": [
        "training_loss[:4]"
      ],
      "metadata": {
        "colab": {
          "base_uri": "https://localhost:8080/"
        },
        "id": "_f9cNvmCC6JT",
        "outputId": "594cb10c-1866-4063-8ff3-50dfd6c4c2b6"
      },
      "execution_count": null,
      "outputs": [
        {
          "output_type": "execute_result",
          "data": {
            "text/plain": [
              "[2971.97412109375, 1495.0894775390625, 314.3625183105469, 321.93585205078125]"
            ]
          },
          "metadata": {},
          "execution_count": 56
        }
      ]
    },
    {
      "cell_type": "code",
      "source": [
        "# 6. Visualize (3)\n",
        "# Plot the landscape of your training loss (MSE loss) saved for every epoch.\n",
        "# y-axis would mean MSE loss and x-axis would mean the epoch of your training.\n",
        "# Hint: you should plot (1,first MSE loss), ... ,(last epoch number,last MSE loss)\n",
        "\n",
        "import matplotlib.pyplot as plt\n",
        "import numpy as np\n",
        "\n",
        "x_range = np.linspace(1,1000,1000)\n",
        "plt.title('MSE Loss over epoch')\n",
        "plt.plot(x_range.tolist(), training_loss)\n",
        "plt.xlabel('Number of Epoch')\n",
        "plt.ylabel('MSE Loss')\n"
      ],
      "metadata": {
        "id": "xXWhlxrmLBSl",
        "colab": {
          "base_uri": "https://localhost:8080/",
          "height": 313
        },
        "outputId": "0823f635-ba02-4241-c24c-1e553d322cba"
      },
      "execution_count": null,
      "outputs": [
        {
          "output_type": "execute_result",
          "data": {
            "text/plain": [
              "Text(0, 0.5, 'MSE Loss')"
            ]
          },
          "metadata": {},
          "execution_count": 57
        },
        {
          "output_type": "display_data",
          "data": {
            "text/plain": [
              "<Figure size 432x288 with 1 Axes>"
            ],
            "image/png": "[encoded data removed]"
          },
          "metadata": {
            "needs_background": "light"
          }
        }
      ]
    },
    {
      "cell_type": "code",
      "metadata": {
        "id": "zatxfhYejeB8",
        "colab": {
          "base_uri": "https://localhost:8080/"
        },
        "outputId": "45b06c99-8a03-4843-9ca0-3bade182b1b4"
      },
      "source": [
        "# 7. Prediction (2)\n",
        "# Let's use the model on a new number x, defined as a tensor\n",
        "\n",
        "# Get the model's prediction for this new x\n",
        "\n",
        "test = torch.tensor([10], dtype = torch.float32)\n",
        "print(model(test).item())\n",
        "print(10**2 + 10*3)"
      ],
      "execution_count": null,
      "outputs": [
        {
          "output_type": "stream",
          "name": "stdout",
          "text": [
            "127.96083068847656\n",
            "130\n"
          ]
        }
      ]
    },
    {
      "cell_type": "code",
      "metadata": {
        "id": "RvmHgY1oDLiB"
      },
      "source": [
        "# Make sure the output of your code cells support your answers below:\n",
        "\n",
        "# Q8. Describe how the loss changed over time during training. (2)\n",
        "# A8. MSE Loss decreses over time as the number of epoch increases.\n",
        "\n",
        "# Q9. Is the prediction for x=10 close enough to the ideal value of 130? \n",
        "# Why do you think the prediction is or isn't close enough to the ideal value? (2)\n",
        "# A09. The predicted value is not quite close to the actual value. I think the trained model is over-fitted. \n",
        "\n"
      ],
      "execution_count": null,
      "outputs": []
    },
    {
      "cell_type": "code",
      "source": [
        "# Q10. What are the predictions for x=20 and x=100? Based on these predictions, \n",
        "# comment on whether the model has captured the relationship between the training inputs and outputs. (2)\n",
        "\n",
        "test = torch.tensor([20], dtype = torch.float32)\n",
        "print(model(test).item())\n",
        "print(20**2 + 20*3)\n",
        "print('\\n')\n",
        "\n",
        "test = torch.tensor([100], dtype = torch.float32)\n",
        "print(model(test).item())\n",
        "print(100**2 + 100*3)\n",
        "\n",
        "# A10. The model seems over-fitted since it does not capture out-of-sample relationship,\n",
        "# because if I test with bigger number, the loss gets bigger."
      ],
      "metadata": {
        "colab": {
          "base_uri": "https://localhost:8080/"
        },
        "id": "1JDKWZW7E4j9",
        "outputId": "3027ce65-3770-420c-c1ad-6ef885ea52e2"
      },
      "execution_count": null,
      "outputs": [
        {
          "output_type": "stream",
          "name": "stdout",
          "text": [
            "322.8564758300781\n",
            "460\n",
            "\n",
            "\n",
            "1770.12158203125\n",
            "10300\n"
          ]
        }
      ]
    },
    {
      "cell_type": "code",
      "source": [
        "# Q11. Apart from tweaking the number of epochs and the number of neuron units in the hidden layer, think\n",
        "# of AT LEAST ONE more thing you would do to try to improve the model. You do NOT have to follow the \n",
        "# requirements nor to implement anything. (1)\n",
        "\n",
        "# A.11. I think providing wide range of inputs would increase the test accuracy.\n",
        "# The original training data were so dense ranging from 0 to 9.\n",
        "# Also, decreasing the number of epoch would be another way of improving the model.\n"
      ],
      "metadata": {
        "id": "falsoyRnFEwK"
      },
      "execution_count": null,
      "outputs": []
    }
  ]
}